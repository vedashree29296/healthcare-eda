{
 "cells": [
  {
   "cell_type": "code",
   "execution_count": 2,
   "metadata": {},
   "outputs": [],
   "source": [
    "import pandas as pd\n",
    "from pathlib import os\n",
    "import numpy as np\n",
    "import plotly.graph_objects as go\n",
    "import plotly.express as px\n",
    "from plotly.subplots import make_subplots"
   ]
  },
  {
   "cell_type": "markdown",
   "metadata": {},
   "source": [
    "### BASIC DATA CLEANING"
   ]
  },
  {
   "cell_type": "markdown",
   "metadata": {},
   "source": [
    "- Try Understanding the meaning of each file and creating a scenario out of it\n",
    "- Its simple, a patient goes to a hospital and is attended by a healthcare provider. The patient is then treated for some given ailment. Certain medications and procedures are prescribed to the patient and most of the cost is covered by the patient's Insurance agency \n",
    "\n",
    "- Now try relating this to each of the csv files\n",
    "\n",
    "- Patient.csv  ---> the patient details\n",
    "\n",
    "- Organisation.csv ---> the hospital details\n",
    "\n",
    "- Providers.csv ---> healthcare professional details\n",
    "\n",
    "- payers.csv ---> Insurance agency details\n",
    "\n",
    "- medications.csv ---> medicines and drug details\n",
    "\n",
    "- procedures.csv ---> procedures / medical tests \n",
    "\n",
    "- devices.csv ---> devices used\n",
    "\n",
    "- encounters.csv ---> the entire event itself"
   ]
  },
  {
   "cell_type": "markdown",
   "metadata": {},
   "source": [
    "#### The encounter data is the crux for all the other data. Let's take a look at it"
   ]
  },
  {
   "cell_type": "code",
   "execution_count": 5,
   "metadata": {},
   "outputs": [
    {
     "data": {
      "text/html": [
       "<div>\n",
       "<style scoped>\n",
       "    .dataframe tbody tr th:only-of-type {\n",
       "        vertical-align: middle;\n",
       "    }\n",
       "\n",
       "    .dataframe tbody tr th {\n",
       "        vertical-align: top;\n",
       "    }\n",
       "\n",
       "    .dataframe thead th {\n",
       "        text-align: right;\n",
       "    }\n",
       "</style>\n",
       "<table border=\"1\" class=\"dataframe\">\n",
       "  <thead>\n",
       "    <tr style=\"text-align: right;\">\n",
       "      <th></th>\n",
       "      <th>Id</th>\n",
       "      <th>START</th>\n",
       "      <th>STOP</th>\n",
       "      <th>PATIENT</th>\n",
       "      <th>ORGANIZATION</th>\n",
       "      <th>PROVIDER</th>\n",
       "      <th>PAYER</th>\n",
       "      <th>ENCOUNTERCLASS</th>\n",
       "      <th>CODE</th>\n",
       "      <th>DESCRIPTION</th>\n",
       "      <th>BASE_ENCOUNTER_COST</th>\n",
       "      <th>TOTAL_CLAIM_COST</th>\n",
       "      <th>PAYER_COVERAGE</th>\n",
       "      <th>REASONCODE</th>\n",
       "      <th>REASONDESCRIPTION</th>\n",
       "    </tr>\n",
       "  </thead>\n",
       "  <tbody>\n",
       "    <tr>\n",
       "      <th>39555</th>\n",
       "      <td>cc40d248-15b0-45e2-9eb5-40cdf536c6db</td>\n",
       "      <td>2020-03-06T04:54:49Z</td>\n",
       "      <td>2020-03-06T05:24:49Z</td>\n",
       "      <td>8bd293c5-cde8-4ab0-b96c-9591f372de4e</td>\n",
       "      <td>5aa98f16-c832-3ec5-b52a-2691978cc235</td>\n",
       "      <td>7a9bf835-c4e3-35cd-89c8-216837ff747b</td>\n",
       "      <td>7c4411ce-02f1-39b5-b9ec-dfbea9ad3c1a</td>\n",
       "      <td>wellness</td>\n",
       "      <td>410620009</td>\n",
       "      <td>Well child visit (procedure)</td>\n",
       "      <td>129.16</td>\n",
       "      <td>129.16</td>\n",
       "      <td>129.16</td>\n",
       "      <td>NaN</td>\n",
       "      <td>NaN</td>\n",
       "    </tr>\n",
       "    <tr>\n",
       "      <th>42335</th>\n",
       "      <td>11123558-3305-49e5-9bf3-210b4cb07404</td>\n",
       "      <td>2007-02-09T07:37:41Z</td>\n",
       "      <td>2007-02-09T08:07:41Z</td>\n",
       "      <td>d78faf3a-dfad-4b6b-a353-e688cd2b8568</td>\n",
       "      <td>42bab40f-8586-3ff2-820b-5f70251d3068</td>\n",
       "      <td>75ba00e1-f758-306d-872d-52a41f7c7dd6</td>\n",
       "      <td>7c4411ce-02f1-39b5-b9ec-dfbea9ad3c1a</td>\n",
       "      <td>wellness</td>\n",
       "      <td>162673000</td>\n",
       "      <td>General examination of patient (procedure)</td>\n",
       "      <td>129.16</td>\n",
       "      <td>129.16</td>\n",
       "      <td>129.16</td>\n",
       "      <td>NaN</td>\n",
       "      <td>NaN</td>\n",
       "    </tr>\n",
       "    <tr>\n",
       "      <th>31348</th>\n",
       "      <td>ae250109-b2c0-4821-a6cc-f1632e7d0451</td>\n",
       "      <td>2005-02-21T23:35:03Z</td>\n",
       "      <td>2005-02-21T23:50:03Z</td>\n",
       "      <td>cae10920-f977-48b4-a0d3-4d70ad561fd1</td>\n",
       "      <td>be4c63f3-8d38-3fa9-a183-62045b5c85f6</td>\n",
       "      <td>8f9aea5b-fd01-37c0-8931-18b6d64bdae6</td>\n",
       "      <td>7caa7254-5050-3b5e-9eae-bd5ea30e809c</td>\n",
       "      <td>ambulatory</td>\n",
       "      <td>185347001</td>\n",
       "      <td>Encounter for problem (procedure)</td>\n",
       "      <td>129.16</td>\n",
       "      <td>129.16</td>\n",
       "      <td>89.16</td>\n",
       "      <td>NaN</td>\n",
       "      <td>NaN</td>\n",
       "    </tr>\n",
       "  </tbody>\n",
       "</table>\n",
       "</div>"
      ],
      "text/plain": [
       "                                         Id                 START  \\\n",
       "39555  cc40d248-15b0-45e2-9eb5-40cdf536c6db  2020-03-06T04:54:49Z   \n",
       "42335  11123558-3305-49e5-9bf3-210b4cb07404  2007-02-09T07:37:41Z   \n",
       "31348  ae250109-b2c0-4821-a6cc-f1632e7d0451  2005-02-21T23:35:03Z   \n",
       "\n",
       "                       STOP                               PATIENT  \\\n",
       "39555  2020-03-06T05:24:49Z  8bd293c5-cde8-4ab0-b96c-9591f372de4e   \n",
       "42335  2007-02-09T08:07:41Z  d78faf3a-dfad-4b6b-a353-e688cd2b8568   \n",
       "31348  2005-02-21T23:50:03Z  cae10920-f977-48b4-a0d3-4d70ad561fd1   \n",
       "\n",
       "                               ORGANIZATION  \\\n",
       "39555  5aa98f16-c832-3ec5-b52a-2691978cc235   \n",
       "42335  42bab40f-8586-3ff2-820b-5f70251d3068   \n",
       "31348  be4c63f3-8d38-3fa9-a183-62045b5c85f6   \n",
       "\n",
       "                                   PROVIDER  \\\n",
       "39555  7a9bf835-c4e3-35cd-89c8-216837ff747b   \n",
       "42335  75ba00e1-f758-306d-872d-52a41f7c7dd6   \n",
       "31348  8f9aea5b-fd01-37c0-8931-18b6d64bdae6   \n",
       "\n",
       "                                      PAYER ENCOUNTERCLASS       CODE  \\\n",
       "39555  7c4411ce-02f1-39b5-b9ec-dfbea9ad3c1a       wellness  410620009   \n",
       "42335  7c4411ce-02f1-39b5-b9ec-dfbea9ad3c1a       wellness  162673000   \n",
       "31348  7caa7254-5050-3b5e-9eae-bd5ea30e809c     ambulatory  185347001   \n",
       "\n",
       "                                      DESCRIPTION  BASE_ENCOUNTER_COST  \\\n",
       "39555                Well child visit (procedure)               129.16   \n",
       "42335  General examination of patient (procedure)               129.16   \n",
       "31348           Encounter for problem (procedure)               129.16   \n",
       "\n",
       "       TOTAL_CLAIM_COST  PAYER_COVERAGE  REASONCODE REASONDESCRIPTION  \n",
       "39555            129.16          129.16         NaN               NaN  \n",
       "42335            129.16          129.16         NaN               NaN  \n",
       "31348            129.16           89.16         NaN               NaN  "
      ]
     },
     "execution_count": 5,
     "metadata": {},
     "output_type": "execute_result"
    }
   ],
   "source": [
    "encounter=pd.read_csv(\"../data/encounters.csv\")\n",
    "encounter.sample(3)"
   ]
  },
  {
   "cell_type": "markdown",
   "metadata": {},
   "source": [
    "#### We need only a select number of columns. Also how about renaming them to be a bit descriptive"
   ]
  },
  {
   "cell_type": "markdown",
   "metadata": {},
   "source": [
    "All column names in caps\n",
    "\n",
    "patient ---> patient_id\n",
    "\n",
    "organisation ---> org_id\n",
    "\n",
    "provider ---> provider_id\n",
    "\n",
    "payer ---> payer_id\n",
    "\n",
    "reasondescription --->reason\n",
    "\n",
    "\n",
    "include the columns\n",
    "[\"Id\",\"START\",\"STOP\",\"PATIENT_ID\",\"ORG_ID\",\"PROVIDER_ID\",\n",
    "\"PAYER_ID\",\"DESCRIPTION\",\"REASON\",\"BASE_ENCOUNTER_COST\",\n",
    "\"PAYER_COVERAGE\",\"ENCOUNTERCLASS\"]"
   ]
  },
  {
   "cell_type": "code",
   "execution_count": 7,
   "metadata": {},
   "outputs": [
    {
     "data": {
      "text/html": [
       "<div>\n",
       "<style scoped>\n",
       "    .dataframe tbody tr th:only-of-type {\n",
       "        vertical-align: middle;\n",
       "    }\n",
       "\n",
       "    .dataframe tbody tr th {\n",
       "        vertical-align: top;\n",
       "    }\n",
       "\n",
       "    .dataframe thead th {\n",
       "        text-align: right;\n",
       "    }\n",
       "</style>\n",
       "<table border=\"1\" class=\"dataframe\">\n",
       "  <thead>\n",
       "    <tr style=\"text-align: right;\">\n",
       "      <th></th>\n",
       "      <th>Id</th>\n",
       "      <th>START</th>\n",
       "      <th>STOP</th>\n",
       "      <th>PATIENT_ID</th>\n",
       "      <th>ORG_ID</th>\n",
       "      <th>PROVIDER_ID</th>\n",
       "      <th>PAYER_ID</th>\n",
       "      <th>DESCRIPTION</th>\n",
       "      <th>REASON</th>\n",
       "      <th>BASE_ENCOUNTER_COST</th>\n",
       "      <th>PAYER_COVERAGE</th>\n",
       "      <th>ENCOUNTERCLASS</th>\n",
       "    </tr>\n",
       "  </thead>\n",
       "  <tbody>\n",
       "    <tr>\n",
       "      <th>36700</th>\n",
       "      <td>cd93aed0-5d4e-4567-bd9c-2f4701d01b5a</td>\n",
       "      <td>2019-07-29T13:04:59Z</td>\n",
       "      <td>2019-07-29T13:19:59Z</td>\n",
       "      <td>e073858e-b506-4849-9cac-f764cd9218c2</td>\n",
       "      <td>240b2584-02de-3b5c-af58-4c0a84b248ca</td>\n",
       "      <td>a43b394d-7279-36fd-9856-c304ff67c754</td>\n",
       "      <td>5059a55e-5d6e-34d1-b6cb-d83d16e57bcf</td>\n",
       "      <td>General examination of patient (procedure)</td>\n",
       "      <td>NaN</td>\n",
       "      <td>129.16</td>\n",
       "      <td>129.16</td>\n",
       "      <td>wellness</td>\n",
       "    </tr>\n",
       "    <tr>\n",
       "      <th>33408</th>\n",
       "      <td>cc796301-20c1-4d74-8b1a-769d9e1a1319</td>\n",
       "      <td>2018-09-05T23:09:30Z</td>\n",
       "      <td>2018-09-05T23:24:30Z</td>\n",
       "      <td>0df7cd60-097e-4fba-90eb-f7e9d9de0b67</td>\n",
       "      <td>b81688f5-bd0e-3c99-963f-860d3e90ab5d</td>\n",
       "      <td>7572448e-118a-3102-84ac-a5e4281a5c2d</td>\n",
       "      <td>7c4411ce-02f1-39b5-b9ec-dfbea9ad3c1a</td>\n",
       "      <td>Urgent care clinic (procedure)</td>\n",
       "      <td>NaN</td>\n",
       "      <td>129.16</td>\n",
       "      <td>0.00</td>\n",
       "      <td>urgentcare</td>\n",
       "    </tr>\n",
       "    <tr>\n",
       "      <th>25642</th>\n",
       "      <td>49e0473f-c008-4dfd-802d-addd6a856ce7</td>\n",
       "      <td>1996-05-17T16:00:12Z</td>\n",
       "      <td>1996-05-17T16:15:12Z</td>\n",
       "      <td>6aa4b3c1-4b16-479e-a618-0fc47fb99f6e</td>\n",
       "      <td>7834877b-2072-3d79-9137-d5ee86c7503f</td>\n",
       "      <td>8daf994f-712d-3f7f-816a-71cb6766510e</td>\n",
       "      <td>6e2f1a2d-27bd-3701-8d08-dae202c58632</td>\n",
       "      <td>General examination of patient (procedure)</td>\n",
       "      <td>NaN</td>\n",
       "      <td>129.16</td>\n",
       "      <td>54.16</td>\n",
       "      <td>wellness</td>\n",
       "    </tr>\n",
       "  </tbody>\n",
       "</table>\n",
       "</div>"
      ],
      "text/plain": [
       "                                         Id                 START  \\\n",
       "36700  cd93aed0-5d4e-4567-bd9c-2f4701d01b5a  2019-07-29T13:04:59Z   \n",
       "33408  cc796301-20c1-4d74-8b1a-769d9e1a1319  2018-09-05T23:09:30Z   \n",
       "25642  49e0473f-c008-4dfd-802d-addd6a856ce7  1996-05-17T16:00:12Z   \n",
       "\n",
       "                       STOP                            PATIENT_ID  \\\n",
       "36700  2019-07-29T13:19:59Z  e073858e-b506-4849-9cac-f764cd9218c2   \n",
       "33408  2018-09-05T23:24:30Z  0df7cd60-097e-4fba-90eb-f7e9d9de0b67   \n",
       "25642  1996-05-17T16:15:12Z  6aa4b3c1-4b16-479e-a618-0fc47fb99f6e   \n",
       "\n",
       "                                     ORG_ID  \\\n",
       "36700  240b2584-02de-3b5c-af58-4c0a84b248ca   \n",
       "33408  b81688f5-bd0e-3c99-963f-860d3e90ab5d   \n",
       "25642  7834877b-2072-3d79-9137-d5ee86c7503f   \n",
       "\n",
       "                                PROVIDER_ID  \\\n",
       "36700  a43b394d-7279-36fd-9856-c304ff67c754   \n",
       "33408  7572448e-118a-3102-84ac-a5e4281a5c2d   \n",
       "25642  8daf994f-712d-3f7f-816a-71cb6766510e   \n",
       "\n",
       "                                   PAYER_ID  \\\n",
       "36700  5059a55e-5d6e-34d1-b6cb-d83d16e57bcf   \n",
       "33408  7c4411ce-02f1-39b5-b9ec-dfbea9ad3c1a   \n",
       "25642  6e2f1a2d-27bd-3701-8d08-dae202c58632   \n",
       "\n",
       "                                      DESCRIPTION REASON  BASE_ENCOUNTER_COST  \\\n",
       "36700  General examination of patient (procedure)    NaN               129.16   \n",
       "33408              Urgent care clinic (procedure)    NaN               129.16   \n",
       "25642  General examination of patient (procedure)    NaN               129.16   \n",
       "\n",
       "       PAYER_COVERAGE ENCOUNTERCLASS  \n",
       "36700          129.16       wellness  \n",
       "33408            0.00     urgentcare  \n",
       "25642           54.16       wellness  "
      ]
     },
     "execution_count": 7,
     "metadata": {},
     "output_type": "execute_result"
    }
   ],
   "source": [
    "encounter=encounter.rename(columns={\"PATIENT\":\"PATIENT_ID\",\"ORGANIZATION\":\"ORG_ID\",\"PROVIDER\":\"PROVIDER_ID\",\"PAYER\":\"PAYER_ID\",\"REASONDESCRIPTION\":\"REASON\"})\n",
    "encounter=encounter[[\"Id\",\"START\",\"STOP\",\"PATIENT_ID\",\"ORG_ID\",\"PROVIDER_ID\",\n",
    "\"PAYER_ID\",\"DESCRIPTION\",\"REASON\",\"BASE_ENCOUNTER_COST\",\n",
    "\"PAYER_COVERAGE\",\"ENCOUNTERCLASS\"]]\n",
    "encounter.sample(3)"
   ]
  },
  {
   "cell_type": "markdown",
   "metadata": {},
   "source": [
    "#### Now lets connect all the other elements and make one coherent data source"
   ]
  },
  {
   "cell_type": "markdown",
   "metadata": {},
   "source": [
    "### I -  PATIENTS"
   ]
  },
  {
   "cell_type": "code",
   "execution_count": 8,
   "metadata": {},
   "outputs": [
    {
     "data": {
      "text/html": [
       "<div>\n",
       "<style scoped>\n",
       "    .dataframe tbody tr th:only-of-type {\n",
       "        vertical-align: middle;\n",
       "    }\n",
       "\n",
       "    .dataframe tbody tr th {\n",
       "        vertical-align: top;\n",
       "    }\n",
       "\n",
       "    .dataframe thead th {\n",
       "        text-align: right;\n",
       "    }\n",
       "</style>\n",
       "<table border=\"1\" class=\"dataframe\">\n",
       "  <thead>\n",
       "    <tr style=\"text-align: right;\">\n",
       "      <th></th>\n",
       "      <th>Id</th>\n",
       "      <th>BIRTHDATE</th>\n",
       "      <th>DEATHDATE</th>\n",
       "      <th>SSN</th>\n",
       "      <th>DRIVERS</th>\n",
       "      <th>PASSPORT</th>\n",
       "      <th>PREFIX</th>\n",
       "      <th>FIRST</th>\n",
       "      <th>LAST</th>\n",
       "      <th>SUFFIX</th>\n",
       "      <th>...</th>\n",
       "      <th>BIRTHPLACE</th>\n",
       "      <th>ADDRESS</th>\n",
       "      <th>CITY</th>\n",
       "      <th>STATE</th>\n",
       "      <th>COUNTY</th>\n",
       "      <th>ZIP</th>\n",
       "      <th>LAT</th>\n",
       "      <th>LON</th>\n",
       "      <th>HEALTHCARE_EXPENSES</th>\n",
       "      <th>HEALTHCARE_COVERAGE</th>\n",
       "    </tr>\n",
       "  </thead>\n",
       "  <tbody>\n",
       "    <tr>\n",
       "      <th>927</th>\n",
       "      <td>dc811097-b472-4dbd-8ce9-bb0afca44d7e</td>\n",
       "      <td>1995-02-18</td>\n",
       "      <td>NaN</td>\n",
       "      <td>999-19-6566</td>\n",
       "      <td>S99934669</td>\n",
       "      <td>X79127078X</td>\n",
       "      <td>Mr.</td>\n",
       "      <td>Alan320</td>\n",
       "      <td>Tillman293</td>\n",
       "      <td>NaN</td>\n",
       "      <td>...</td>\n",
       "      <td>Plymouth  Massachusetts  US</td>\n",
       "      <td>563 Hansen Ranch</td>\n",
       "      <td>New Bedford</td>\n",
       "      <td>Massachusetts</td>\n",
       "      <td>Bristol County</td>\n",
       "      <td>2744.0</td>\n",
       "      <td>41.762338</td>\n",
       "      <td>-70.902124</td>\n",
       "      <td>610115.95</td>\n",
       "      <td>3293.89</td>\n",
       "    </tr>\n",
       "    <tr>\n",
       "      <th>724</th>\n",
       "      <td>81813194-e1ed-41c2-8f7a-122a60b06550</td>\n",
       "      <td>1971-04-30</td>\n",
       "      <td>NaN</td>\n",
       "      <td>999-75-5931</td>\n",
       "      <td>S99965713</td>\n",
       "      <td>X66224540X</td>\n",
       "      <td>Mrs.</td>\n",
       "      <td>Merideth332</td>\n",
       "      <td>Littel644</td>\n",
       "      <td>NaN</td>\n",
       "      <td>...</td>\n",
       "      <td>Milton  Massachusetts  US</td>\n",
       "      <td>744 Lehner Overpass Suite 71</td>\n",
       "      <td>Rockport</td>\n",
       "      <td>Massachusetts</td>\n",
       "      <td>Essex County</td>\n",
       "      <td>NaN</td>\n",
       "      <td>42.697827</td>\n",
       "      <td>-70.652358</td>\n",
       "      <td>1054359.51</td>\n",
       "      <td>9522.78</td>\n",
       "    </tr>\n",
       "    <tr>\n",
       "      <th>979</th>\n",
       "      <td>71257193-1eb5-45e4-9a86-37b8f5d56340</td>\n",
       "      <td>1963-01-06</td>\n",
       "      <td>NaN</td>\n",
       "      <td>999-93-7616</td>\n",
       "      <td>S99981961</td>\n",
       "      <td>X36701322X</td>\n",
       "      <td>Mrs.</td>\n",
       "      <td>Melinda114</td>\n",
       "      <td>Price929</td>\n",
       "      <td>NaN</td>\n",
       "      <td>...</td>\n",
       "      <td>Raynham  Massachusetts  US</td>\n",
       "      <td>214 Gulgowski Arcade</td>\n",
       "      <td>Arlington</td>\n",
       "      <td>Massachusetts</td>\n",
       "      <td>Middlesex County</td>\n",
       "      <td>2476.0</td>\n",
       "      <td>42.396815</td>\n",
       "      <td>-71.114405</td>\n",
       "      <td>1366522.35</td>\n",
       "      <td>12549.07</td>\n",
       "    </tr>\n",
       "  </tbody>\n",
       "</table>\n",
       "<p>3 rows × 25 columns</p>\n",
       "</div>"
      ],
      "text/plain": [
       "                                       Id   BIRTHDATE DEATHDATE          SSN  \\\n",
       "927  dc811097-b472-4dbd-8ce9-bb0afca44d7e  1995-02-18       NaN  999-19-6566   \n",
       "724  81813194-e1ed-41c2-8f7a-122a60b06550  1971-04-30       NaN  999-75-5931   \n",
       "979  71257193-1eb5-45e4-9a86-37b8f5d56340  1963-01-06       NaN  999-93-7616   \n",
       "\n",
       "       DRIVERS    PASSPORT PREFIX        FIRST        LAST SUFFIX  ...  \\\n",
       "927  S99934669  X79127078X    Mr.      Alan320  Tillman293    NaN  ...   \n",
       "724  S99965713  X66224540X   Mrs.  Merideth332   Littel644    NaN  ...   \n",
       "979  S99981961  X36701322X   Mrs.   Melinda114    Price929    NaN  ...   \n",
       "\n",
       "                      BIRTHPLACE                       ADDRESS         CITY  \\\n",
       "927  Plymouth  Massachusetts  US              563 Hansen Ranch  New Bedford   \n",
       "724    Milton  Massachusetts  US  744 Lehner Overpass Suite 71     Rockport   \n",
       "979   Raynham  Massachusetts  US          214 Gulgowski Arcade    Arlington   \n",
       "\n",
       "             STATE            COUNTY     ZIP        LAT        LON  \\\n",
       "927  Massachusetts    Bristol County  2744.0  41.762338 -70.902124   \n",
       "724  Massachusetts      Essex County     NaN  42.697827 -70.652358   \n",
       "979  Massachusetts  Middlesex County  2476.0  42.396815 -71.114405   \n",
       "\n",
       "    HEALTHCARE_EXPENSES HEALTHCARE_COVERAGE  \n",
       "927           610115.95             3293.89  \n",
       "724          1054359.51             9522.78  \n",
       "979          1366522.35            12549.07  \n",
       "\n",
       "[3 rows x 25 columns]"
      ]
     },
     "execution_count": 8,
     "metadata": {},
     "output_type": "execute_result"
    }
   ],
   "source": [
    "patients=pd.read_csv(\"../data/patients.csv\")\n",
    "patients.sample(3)"
   ]
  },
  {
   "cell_type": "markdown",
   "metadata": {},
   "source": [
    "#### Lets do some basic cleaning:\n",
    "\n",
    "- Select only a few important columns\n",
    "- Calculate the age of the patients\n",
    "- Remove outliers (Consider assumption that age is < 100)\n",
    "- Join the Patients first and last name"
   ]
  },
  {
   "cell_type": "markdown",
   "metadata": {},
   "source": [
    "#### columns needed : [\"Id\",\"BIRTHDATE\",\"FIRST\",\"LAST\",\"CITY\"]\n"
   ]
  },
  {
   "cell_type": "code",
   "execution_count": 9,
   "metadata": {},
   "outputs": [
    {
     "data": {
      "text/html": [
       "<div>\n",
       "<style scoped>\n",
       "    .dataframe tbody tr th:only-of-type {\n",
       "        vertical-align: middle;\n",
       "    }\n",
       "\n",
       "    .dataframe tbody tr th {\n",
       "        vertical-align: top;\n",
       "    }\n",
       "\n",
       "    .dataframe thead th {\n",
       "        text-align: right;\n",
       "    }\n",
       "</style>\n",
       "<table border=\"1\" class=\"dataframe\">\n",
       "  <thead>\n",
       "    <tr style=\"text-align: right;\">\n",
       "      <th></th>\n",
       "      <th>Id</th>\n",
       "      <th>BIRTHDATE</th>\n",
       "      <th>FIRST</th>\n",
       "      <th>LAST</th>\n",
       "      <th>CITY</th>\n",
       "    </tr>\n",
       "  </thead>\n",
       "  <tbody>\n",
       "    <tr>\n",
       "      <th>0</th>\n",
       "      <td>1d604da9-9a81-4ba9-80c2-de3375d59b40</td>\n",
       "      <td>1989-05-25</td>\n",
       "      <td>José Eduardo181</td>\n",
       "      <td>Gómez206</td>\n",
       "      <td>Chicopee</td>\n",
       "    </tr>\n",
       "    <tr>\n",
       "      <th>1</th>\n",
       "      <td>034e9e3b-2def-4559-bb2a-7850888ae060</td>\n",
       "      <td>1983-11-14</td>\n",
       "      <td>Milo271</td>\n",
       "      <td>Feil794</td>\n",
       "      <td>Somerville</td>\n",
       "    </tr>\n",
       "    <tr>\n",
       "      <th>2</th>\n",
       "      <td>10339b10-3cd1-4ac3-ac13-ec26728cb592</td>\n",
       "      <td>1992-06-02</td>\n",
       "      <td>Jayson808</td>\n",
       "      <td>Fadel536</td>\n",
       "      <td>Chicopee</td>\n",
       "    </tr>\n",
       "    <tr>\n",
       "      <th>3</th>\n",
       "      <td>8d4c4326-e9de-4f45-9a4c-f8c36bff89ae</td>\n",
       "      <td>1978-05-27</td>\n",
       "      <td>Mariana775</td>\n",
       "      <td>Rutherford999</td>\n",
       "      <td>Lowell</td>\n",
       "    </tr>\n",
       "    <tr>\n",
       "      <th>4</th>\n",
       "      <td>f5dcd418-09fe-4a2f-baa0-3da800bd8c3a</td>\n",
       "      <td>1996-10-18</td>\n",
       "      <td>Gregorio366</td>\n",
       "      <td>Auer97</td>\n",
       "      <td>Boston</td>\n",
       "    </tr>\n",
       "  </tbody>\n",
       "</table>\n",
       "</div>"
      ],
      "text/plain": [
       "                                     Id   BIRTHDATE            FIRST  \\\n",
       "0  1d604da9-9a81-4ba9-80c2-de3375d59b40  1989-05-25  José Eduardo181   \n",
       "1  034e9e3b-2def-4559-bb2a-7850888ae060  1983-11-14          Milo271   \n",
       "2  10339b10-3cd1-4ac3-ac13-ec26728cb592  1992-06-02        Jayson808   \n",
       "3  8d4c4326-e9de-4f45-9a4c-f8c36bff89ae  1978-05-27       Mariana775   \n",
       "4  f5dcd418-09fe-4a2f-baa0-3da800bd8c3a  1996-10-18      Gregorio366   \n",
       "\n",
       "            LAST        CITY  \n",
       "0       Gómez206    Chicopee  \n",
       "1        Feil794  Somerville  \n",
       "2       Fadel536    Chicopee  \n",
       "3  Rutherford999      Lowell  \n",
       "4         Auer97      Boston  "
      ]
     },
     "execution_count": 9,
     "metadata": {},
     "output_type": "execute_result"
    }
   ],
   "source": [
    "# SELECT ONLY REQUIRED COLUMNS\n",
    "patients=patients[[\"Id\",\"BIRTHDATE\",\"FIRST\",\"LAST\",\"CITY\"]]\n",
    "patients.head()"
   ]
  },
  {
   "cell_type": "code",
   "execution_count": 10,
   "metadata": {},
   "outputs": [
    {
     "data": {
      "text/html": [
       "<div>\n",
       "<style scoped>\n",
       "    .dataframe tbody tr th:only-of-type {\n",
       "        vertical-align: middle;\n",
       "    }\n",
       "\n",
       "    .dataframe tbody tr th {\n",
       "        vertical-align: top;\n",
       "    }\n",
       "\n",
       "    .dataframe thead th {\n",
       "        text-align: right;\n",
       "    }\n",
       "</style>\n",
       "<table border=\"1\" class=\"dataframe\">\n",
       "  <thead>\n",
       "    <tr style=\"text-align: right;\">\n",
       "      <th></th>\n",
       "      <th>BIRTHDATE</th>\n",
       "      <th>FIRST</th>\n",
       "      <th>LAST</th>\n",
       "      <th>CITY</th>\n",
       "      <th>AGE</th>\n",
       "    </tr>\n",
       "    <tr>\n",
       "      <th>PATIENT_ID</th>\n",
       "      <th></th>\n",
       "      <th></th>\n",
       "      <th></th>\n",
       "      <th></th>\n",
       "      <th></th>\n",
       "    </tr>\n",
       "  </thead>\n",
       "  <tbody>\n",
       "    <tr>\n",
       "      <th>ca8803ac-66ef-4895-a8c4-290313fcee6f</th>\n",
       "      <td>1980-05-06</td>\n",
       "      <td>Rowena386</td>\n",
       "      <td>Borer986</td>\n",
       "      <td>Somerville</td>\n",
       "      <td>40</td>\n",
       "    </tr>\n",
       "    <tr>\n",
       "      <th>4bbde047-119f-4a12-9b68-2a89b274364e</th>\n",
       "      <td>2012-09-09</td>\n",
       "      <td>Alia555</td>\n",
       "      <td>Rohan584</td>\n",
       "      <td>North Reading</td>\n",
       "      <td>8</td>\n",
       "    </tr>\n",
       "    <tr>\n",
       "      <th>9c69f2d5-b7de-4634-84c5-bf3efd551f5e</th>\n",
       "      <td>1962-05-15</td>\n",
       "      <td>Danial835</td>\n",
       "      <td>D'Amore443</td>\n",
       "      <td>Peabody</td>\n",
       "      <td>58</td>\n",
       "    </tr>\n",
       "  </tbody>\n",
       "</table>\n",
       "</div>"
      ],
      "text/plain": [
       "                                      BIRTHDATE      FIRST        LAST  \\\n",
       "PATIENT_ID                                                               \n",
       "ca8803ac-66ef-4895-a8c4-290313fcee6f 1980-05-06  Rowena386    Borer986   \n",
       "4bbde047-119f-4a12-9b68-2a89b274364e 2012-09-09    Alia555    Rohan584   \n",
       "9c69f2d5-b7de-4634-84c5-bf3efd551f5e 1962-05-15  Danial835  D'Amore443   \n",
       "\n",
       "                                               CITY  AGE  \n",
       "PATIENT_ID                                                \n",
       "ca8803ac-66ef-4895-a8c4-290313fcee6f     Somerville   40  \n",
       "4bbde047-119f-4a12-9b68-2a89b274364e  North Reading    8  \n",
       "9c69f2d5-b7de-4634-84c5-bf3efd551f5e        Peabody   58  "
      ]
     },
     "execution_count": 10,
     "metadata": {},
     "output_type": "execute_result"
    }
   ],
   "source": [
    "# CREATE A COLUMN AGE THAT CAN BE CALCULATED USING BIRTHDATE\n",
    "\n",
    "from datetime import datetime\n",
    "\n",
    "current_year= datetime.today().year\n",
    "\n",
    "patients[\"BIRTHDATE\"]=pd.to_datetime(patients[\"BIRTHDATE\"],format= \"%Y-%m-%d\")\n",
    "\n",
    "patients[\"AGE\"]=patients[\"BIRTHDATE\"].apply(lambda x: current_year - x.year)\n",
    "\n",
    "\n",
    "# SELECT ROWS WHERE AGE < 100 AND DROP BIRTHDATE COLUMN\n",
    "\n",
    "patients = patients.loc[patients[\"AGE\"]<100]\n",
    "\n",
    "patients = patients.rename(columns={\"Id\":\"PATIENT_ID\"})\n",
    "\n",
    "patients = patients.set_index(\"PATIENT_ID\")\n",
    "\n",
    "patients.sample(3)"
   ]
  },
  {
   "cell_type": "code",
   "execution_count": 11,
   "metadata": {},
   "outputs": [
    {
     "data": {
      "text/html": [
       "<div>\n",
       "<style scoped>\n",
       "    .dataframe tbody tr th:only-of-type {\n",
       "        vertical-align: middle;\n",
       "    }\n",
       "\n",
       "    .dataframe tbody tr th {\n",
       "        vertical-align: top;\n",
       "    }\n",
       "\n",
       "    .dataframe thead th {\n",
       "        text-align: right;\n",
       "    }\n",
       "</style>\n",
       "<table border=\"1\" class=\"dataframe\">\n",
       "  <thead>\n",
       "    <tr style=\"text-align: right;\">\n",
       "      <th></th>\n",
       "      <th>BIRTHDATE</th>\n",
       "      <th>CITY</th>\n",
       "      <th>AGE</th>\n",
       "      <th>PATIENT_NAME</th>\n",
       "    </tr>\n",
       "    <tr>\n",
       "      <th>PATIENT_ID</th>\n",
       "      <th></th>\n",
       "      <th></th>\n",
       "      <th></th>\n",
       "      <th></th>\n",
       "    </tr>\n",
       "  </thead>\n",
       "  <tbody>\n",
       "    <tr>\n",
       "      <th>09fc03c4-aef7-47e1-941a-618f437dfbe2</th>\n",
       "      <td>1991-06-18</td>\n",
       "      <td>Lawrence</td>\n",
       "      <td>29</td>\n",
       "      <td>Elijah719 Zboncak558</td>\n",
       "    </tr>\n",
       "    <tr>\n",
       "      <th>532696f2-0b76-4eb0-9aea-a74e2fb1bed2</th>\n",
       "      <td>1967-05-18</td>\n",
       "      <td>Natick</td>\n",
       "      <td>53</td>\n",
       "      <td>Takisha161 Kunze215</td>\n",
       "    </tr>\n",
       "    <tr>\n",
       "      <th>65fdd955-9b96-4faa-8b71-c29b8807f709</th>\n",
       "      <td>1986-02-01</td>\n",
       "      <td>Boston</td>\n",
       "      <td>34</td>\n",
       "      <td>Esteban536 Gorczany269</td>\n",
       "    </tr>\n",
       "  </tbody>\n",
       "</table>\n",
       "</div>"
      ],
      "text/plain": [
       "                                      BIRTHDATE      CITY  AGE  \\\n",
       "PATIENT_ID                                                       \n",
       "09fc03c4-aef7-47e1-941a-618f437dfbe2 1991-06-18  Lawrence   29   \n",
       "532696f2-0b76-4eb0-9aea-a74e2fb1bed2 1967-05-18    Natick   53   \n",
       "65fdd955-9b96-4faa-8b71-c29b8807f709 1986-02-01    Boston   34   \n",
       "\n",
       "                                                PATIENT_NAME  \n",
       "PATIENT_ID                                                    \n",
       "09fc03c4-aef7-47e1-941a-618f437dfbe2    Elijah719 Zboncak558  \n",
       "532696f2-0b76-4eb0-9aea-a74e2fb1bed2     Takisha161 Kunze215  \n",
       "65fdd955-9b96-4faa-8b71-c29b8807f709  Esteban536 Gorczany269  "
      ]
     },
     "execution_count": 11,
     "metadata": {},
     "output_type": "execute_result"
    }
   ],
   "source": [
    "\n",
    "# CREATE A COLUMN CALLED 'PATIENT_NAME' THAT CONCATS THE FIRST AND LAST NAME\n",
    "\n",
    "patients[\"PATIENT_NAME\"]=patients[\"FIRST\"].str.cat(patients[\"LAST\"],sep=\" \")\n",
    "\n",
    "#DROP FIRST AND LAST NAME COLUMNS\n",
    "\n",
    "patients = patients.drop([\"FIRST\",\"LAST\"],axis=1)\n",
    "\n",
    "patients.sample(3)"
   ]
  },
  {
   "cell_type": "markdown",
   "metadata": {},
   "source": [
    "### Now let's integrate this with the encounter data\n",
    "\n",
    "- We're Using 'join' in the this. By the way do you know whats the difference between join and merge ??"
   ]
  },
  {
   "cell_type": "code",
   "execution_count": 12,
   "metadata": {},
   "outputs": [
    {
     "data": {
      "text/html": [
       "<div>\n",
       "<style scoped>\n",
       "    .dataframe tbody tr th:only-of-type {\n",
       "        vertical-align: middle;\n",
       "    }\n",
       "\n",
       "    .dataframe tbody tr th {\n",
       "        vertical-align: top;\n",
       "    }\n",
       "\n",
       "    .dataframe thead th {\n",
       "        text-align: right;\n",
       "    }\n",
       "</style>\n",
       "<table border=\"1\" class=\"dataframe\">\n",
       "  <thead>\n",
       "    <tr style=\"text-align: right;\">\n",
       "      <th></th>\n",
       "      <th>Id</th>\n",
       "      <th>START</th>\n",
       "      <th>STOP</th>\n",
       "      <th>PATIENT_ID</th>\n",
       "      <th>ORG_ID</th>\n",
       "      <th>PROVIDER_ID</th>\n",
       "      <th>PAYER_ID</th>\n",
       "      <th>DESCRIPTION</th>\n",
       "      <th>REASON</th>\n",
       "      <th>BASE_ENCOUNTER_COST</th>\n",
       "      <th>PAYER_COVERAGE</th>\n",
       "      <th>ENCOUNTERCLASS</th>\n",
       "      <th>BIRTHDATE</th>\n",
       "      <th>CITY</th>\n",
       "      <th>AGE</th>\n",
       "      <th>PATIENT_NAME</th>\n",
       "    </tr>\n",
       "  </thead>\n",
       "  <tbody>\n",
       "    <tr>\n",
       "      <th>48752</th>\n",
       "      <td>cdb24781-ee3c-4a6e-8953-4c42ae71f9e5</td>\n",
       "      <td>2012-03-03T10:53:35Z</td>\n",
       "      <td>2012-03-03T11:38:35Z</td>\n",
       "      <td>ebee7497-67ea-4a51-ade2-59d7dfca8fcf</td>\n",
       "      <td>5103c940-0c08-392f-95cd-446e0cea042a</td>\n",
       "      <td>d78462d1-3e5d-3a93-961e-6df1df9e285a</td>\n",
       "      <td>5059a55e-5d6e-34d1-b6cb-d83d16e57bcf</td>\n",
       "      <td>Patient-initiated encounter</td>\n",
       "      <td>Normal pregnancy</td>\n",
       "      <td>129.16</td>\n",
       "      <td>59.16</td>\n",
       "      <td>ambulatory</td>\n",
       "      <td>1981-08-08</td>\n",
       "      <td>Springfield</td>\n",
       "      <td>39.0</td>\n",
       "      <td>Latoyia537 Schaden604</td>\n",
       "    </tr>\n",
       "    <tr>\n",
       "      <th>21546</th>\n",
       "      <td>f13c9b0a-fb71-47ed-a499-1e8f679a4450</td>\n",
       "      <td>2014-02-26T01:48:55Z</td>\n",
       "      <td>2014-02-26T02:03:55Z</td>\n",
       "      <td>7148eb24-d1f0-4a5c-93c0-3d2a632f25da</td>\n",
       "      <td>a311cff8-ee06-3573-ba5a-42e96e52b0fb</td>\n",
       "      <td>a72dbca3-20ca-357e-a7be-6f09ff833a9a</td>\n",
       "      <td>4d71f845-a6a9-3c39-b242-14d25ef86a8d</td>\n",
       "      <td>General examination of patient (procedure)</td>\n",
       "      <td>NaN</td>\n",
       "      <td>129.16</td>\n",
       "      <td>129.16</td>\n",
       "      <td>wellness</td>\n",
       "      <td>1962-02-13</td>\n",
       "      <td>Boston</td>\n",
       "      <td>58.0</td>\n",
       "      <td>Orval846 Gaylord332</td>\n",
       "    </tr>\n",
       "    <tr>\n",
       "      <th>1041</th>\n",
       "      <td>32190289-1002-483d-bc02-f75c9eacb93a</td>\n",
       "      <td>2016-06-07T20:46:46Z</td>\n",
       "      <td>2016-06-07T21:34:46Z</td>\n",
       "      <td>bf35e4fa-ea4f-40a4-8fe6-1f2f26e0aa45</td>\n",
       "      <td>24cb4eab-6166-3530-bddc-a5a8a14a4fc1</td>\n",
       "      <td>7bd4e666-a82d-3ad1-bc7c-b49eb726577b</td>\n",
       "      <td>047f6ec3-6215-35eb-9608-f9dda363a44c</td>\n",
       "      <td>Outpatient procedure</td>\n",
       "      <td>NaN</td>\n",
       "      <td>129.16</td>\n",
       "      <td>69.16</td>\n",
       "      <td>ambulatory</td>\n",
       "      <td>2000-11-21</td>\n",
       "      <td>Ashland</td>\n",
       "      <td>20.0</td>\n",
       "      <td>Cecila397 Feil794</td>\n",
       "    </tr>\n",
       "  </tbody>\n",
       "</table>\n",
       "</div>"
      ],
      "text/plain": [
       "                                         Id                 START  \\\n",
       "48752  cdb24781-ee3c-4a6e-8953-4c42ae71f9e5  2012-03-03T10:53:35Z   \n",
       "21546  f13c9b0a-fb71-47ed-a499-1e8f679a4450  2014-02-26T01:48:55Z   \n",
       "1041   32190289-1002-483d-bc02-f75c9eacb93a  2016-06-07T20:46:46Z   \n",
       "\n",
       "                       STOP                            PATIENT_ID  \\\n",
       "48752  2012-03-03T11:38:35Z  ebee7497-67ea-4a51-ade2-59d7dfca8fcf   \n",
       "21546  2014-02-26T02:03:55Z  7148eb24-d1f0-4a5c-93c0-3d2a632f25da   \n",
       "1041   2016-06-07T21:34:46Z  bf35e4fa-ea4f-40a4-8fe6-1f2f26e0aa45   \n",
       "\n",
       "                                     ORG_ID  \\\n",
       "48752  5103c940-0c08-392f-95cd-446e0cea042a   \n",
       "21546  a311cff8-ee06-3573-ba5a-42e96e52b0fb   \n",
       "1041   24cb4eab-6166-3530-bddc-a5a8a14a4fc1   \n",
       "\n",
       "                                PROVIDER_ID  \\\n",
       "48752  d78462d1-3e5d-3a93-961e-6df1df9e285a   \n",
       "21546  a72dbca3-20ca-357e-a7be-6f09ff833a9a   \n",
       "1041   7bd4e666-a82d-3ad1-bc7c-b49eb726577b   \n",
       "\n",
       "                                   PAYER_ID  \\\n",
       "48752  5059a55e-5d6e-34d1-b6cb-d83d16e57bcf   \n",
       "21546  4d71f845-a6a9-3c39-b242-14d25ef86a8d   \n",
       "1041   047f6ec3-6215-35eb-9608-f9dda363a44c   \n",
       "\n",
       "                                      DESCRIPTION            REASON  \\\n",
       "48752                 Patient-initiated encounter  Normal pregnancy   \n",
       "21546  General examination of patient (procedure)               NaN   \n",
       "1041                         Outpatient procedure               NaN   \n",
       "\n",
       "       BASE_ENCOUNTER_COST  PAYER_COVERAGE ENCOUNTERCLASS  BIRTHDATE  \\\n",
       "48752               129.16           59.16     ambulatory 1981-08-08   \n",
       "21546               129.16          129.16       wellness 1962-02-13   \n",
       "1041                129.16           69.16     ambulatory 2000-11-21   \n",
       "\n",
       "              CITY   AGE           PATIENT_NAME  \n",
       "48752  Springfield  39.0  Latoyia537 Schaden604  \n",
       "21546       Boston  58.0    Orval846 Gaylord332  \n",
       "1041       Ashland  20.0      Cecila397 Feil794  "
      ]
     },
     "execution_count": 12,
     "metadata": {},
     "output_type": "execute_result"
    }
   ],
   "source": [
    "encounter=encounter.join(patients, on = \"PATIENT_ID\")\n",
    "encounter.sample(3)"
   ]
  },
  {
   "cell_type": "markdown",
   "metadata": {},
   "source": [
    "####  II HOSPITALS"
   ]
  },
  {
   "cell_type": "code",
   "execution_count": 13,
   "metadata": {},
   "outputs": [
    {
     "data": {
      "text/html": [
       "<div>\n",
       "<style scoped>\n",
       "    .dataframe tbody tr th:only-of-type {\n",
       "        vertical-align: middle;\n",
       "    }\n",
       "\n",
       "    .dataframe tbody tr th {\n",
       "        vertical-align: top;\n",
       "    }\n",
       "\n",
       "    .dataframe thead th {\n",
       "        text-align: right;\n",
       "    }\n",
       "</style>\n",
       "<table border=\"1\" class=\"dataframe\">\n",
       "  <thead>\n",
       "    <tr style=\"text-align: right;\">\n",
       "      <th></th>\n",
       "      <th>Id</th>\n",
       "      <th>NAME</th>\n",
       "      <th>ADDRESS</th>\n",
       "      <th>CITY</th>\n",
       "      <th>STATE</th>\n",
       "      <th>ZIP</th>\n",
       "      <th>LAT</th>\n",
       "      <th>LON</th>\n",
       "      <th>PHONE</th>\n",
       "      <th>REVENUE</th>\n",
       "      <th>UTILIZATION</th>\n",
       "    </tr>\n",
       "  </thead>\n",
       "  <tbody>\n",
       "    <tr>\n",
       "      <th>993</th>\n",
       "      <td>903c4e22-78f4-36e7-b4f0-e4078fb8b63c</td>\n",
       "      <td>PERFORMANCE REHABILITATION OF WESTERN NEW ENGL...</td>\n",
       "      <td>11 CABOT RD</td>\n",
       "      <td>WOBURN</td>\n",
       "      <td>MA</td>\n",
       "      <td>01801-1003</td>\n",
       "      <td>42.488769</td>\n",
       "      <td>-71.154438</td>\n",
       "      <td>NaN</td>\n",
       "      <td>3229.0</td>\n",
       "      <td>25</td>\n",
       "    </tr>\n",
       "    <tr>\n",
       "      <th>306</th>\n",
       "      <td>2f09e5c4-f013-3b8e-aa9d-6564542502a0</td>\n",
       "      <td>PCP31724</td>\n",
       "      <td>300 NEWBURYPORT TRUNPIKE</td>\n",
       "      <td>ROWLEY</td>\n",
       "      <td>MA</td>\n",
       "      <td>01969</td>\n",
       "      <td>42.721495</td>\n",
       "      <td>-70.886637</td>\n",
       "      <td>978-948-3900</td>\n",
       "      <td>3874.8</td>\n",
       "      <td>30</td>\n",
       "    </tr>\n",
       "    <tr>\n",
       "      <th>614</th>\n",
       "      <td>cd78e27b-c9fa-3144-80b5-c67a7bf4ceca</td>\n",
       "      <td>PCP139247</td>\n",
       "      <td>46 COLUMBIA RD</td>\n",
       "      <td>PEMBROKE</td>\n",
       "      <td>MA</td>\n",
       "      <td>02359-1862</td>\n",
       "      <td>42.067804</td>\n",
       "      <td>-70.805713</td>\n",
       "      <td>NaN</td>\n",
       "      <td>3229.0</td>\n",
       "      <td>25</td>\n",
       "    </tr>\n",
       "  </tbody>\n",
       "</table>\n",
       "</div>"
      ],
      "text/plain": [
       "                                       Id  \\\n",
       "993  903c4e22-78f4-36e7-b4f0-e4078fb8b63c   \n",
       "306  2f09e5c4-f013-3b8e-aa9d-6564542502a0   \n",
       "614  cd78e27b-c9fa-3144-80b5-c67a7bf4ceca   \n",
       "\n",
       "                                                  NAME  \\\n",
       "993  PERFORMANCE REHABILITATION OF WESTERN NEW ENGL...   \n",
       "306                                           PCP31724   \n",
       "614                                          PCP139247   \n",
       "\n",
       "                      ADDRESS      CITY STATE         ZIP        LAT  \\\n",
       "993               11 CABOT RD    WOBURN    MA  01801-1003  42.488769   \n",
       "306  300 NEWBURYPORT TRUNPIKE    ROWLEY    MA       01969  42.721495   \n",
       "614            46 COLUMBIA RD  PEMBROKE    MA  02359-1862  42.067804   \n",
       "\n",
       "           LON         PHONE  REVENUE  UTILIZATION  \n",
       "993 -71.154438           NaN   3229.0           25  \n",
       "306 -70.886637  978-948-3900   3874.8           30  \n",
       "614 -70.805713           NaN   3229.0           25  "
      ]
     },
     "execution_count": 13,
     "metadata": {},
     "output_type": "execute_result"
    }
   ],
   "source": [
    "# READ THE ORGANISATION FILES\n",
    "\n",
    "organisations=pd.read_csv(\"../data/organizations.csv\")\n",
    "organisations.sample(3)"
   ]
  },
  {
   "cell_type": "code",
   "execution_count": 16,
   "metadata": {},
   "outputs": [
    {
     "data": {
      "text/html": [
       "<div>\n",
       "<style scoped>\n",
       "    .dataframe tbody tr th:only-of-type {\n",
       "        vertical-align: middle;\n",
       "    }\n",
       "\n",
       "    .dataframe tbody tr th {\n",
       "        vertical-align: top;\n",
       "    }\n",
       "\n",
       "    .dataframe thead th {\n",
       "        text-align: right;\n",
       "    }\n",
       "</style>\n",
       "<table border=\"1\" class=\"dataframe\">\n",
       "  <thead>\n",
       "    <tr style=\"text-align: right;\">\n",
       "      <th></th>\n",
       "      <th>ORG_NAME</th>\n",
       "      <th>ORG_CITY</th>\n",
       "      <th>REVENUE</th>\n",
       "    </tr>\n",
       "    <tr>\n",
       "      <th>ORG_ID</th>\n",
       "      <th></th>\n",
       "      <th></th>\n",
       "      <th></th>\n",
       "    </tr>\n",
       "  </thead>\n",
       "  <tbody>\n",
       "    <tr>\n",
       "      <th>ea3c261b-50d8-30a0-917c-7a31f2862e97</th>\n",
       "      <td>PCP211168</td>\n",
       "      <td>JAMAICA PLAIN</td>\n",
       "      <td>11366.08</td>\n",
       "    </tr>\n",
       "    <tr>\n",
       "      <th>e9e2998f-97d3-3f88-8ee8-82660c5ddfce</th>\n",
       "      <td>PCP128586</td>\n",
       "      <td>W WAREHAM</td>\n",
       "      <td>9557.84</td>\n",
       "    </tr>\n",
       "    <tr>\n",
       "      <th>e613f5a1-7588-3efe-8701-fa9baf3241ff</th>\n",
       "      <td>PCP31073</td>\n",
       "      <td>REHOBOTH</td>\n",
       "      <td>15111.72</td>\n",
       "    </tr>\n",
       "  </tbody>\n",
       "</table>\n",
       "</div>"
      ],
      "text/plain": [
       "                                       ORG_NAME       ORG_CITY   REVENUE\n",
       "ORG_ID                                                                  \n",
       "ea3c261b-50d8-30a0-917c-7a31f2862e97  PCP211168  JAMAICA PLAIN  11366.08\n",
       "e9e2998f-97d3-3f88-8ee8-82660c5ddfce  PCP128586      W WAREHAM   9557.84\n",
       "e613f5a1-7588-3efe-8701-fa9baf3241ff   PCP31073       REHOBOTH  15111.72"
      ]
     },
     "execution_count": 16,
     "metadata": {},
     "output_type": "execute_result"
    }
   ],
   "source": [
    "# SELECT A FEW COLUMNS AND RENAME THEM\n",
    "# COLUMN NAMES : [\"Id\",\"NAME\",\"CITY\",\"REVENUE\"]\n",
    "\n",
    "organisations = organisations[[\"Id\",\"NAME\",\"CITY\",\"REVENUE\"]]\n",
    "\n",
    "# RENAME NAME --> ORG_NAME, Id --> ORG_ID , CITY ---> ORG_CITY\n",
    "\n",
    "organisations = organisations.rename(columns={\"NAME\":\"ORG_NAME\",\"Id\":\"ORG_ID\",\"CITY\":\"ORG_CITY\"})\n",
    "\n",
    "#SET INDEX AS ORG_ID\n",
    "\n",
    "organisations = organisations.set_index(\"ORG_ID\")\n",
    "\n",
    "organisations.sample(3) "
   ]
  },
  {
   "cell_type": "code",
   "execution_count": 17,
   "metadata": {},
   "outputs": [
    {
     "data": {
      "text/html": [
       "<div>\n",
       "<style scoped>\n",
       "    .dataframe tbody tr th:only-of-type {\n",
       "        vertical-align: middle;\n",
       "    }\n",
       "\n",
       "    .dataframe tbody tr th {\n",
       "        vertical-align: top;\n",
       "    }\n",
       "\n",
       "    .dataframe thead th {\n",
       "        text-align: right;\n",
       "    }\n",
       "</style>\n",
       "<table border=\"1\" class=\"dataframe\">\n",
       "  <thead>\n",
       "    <tr style=\"text-align: right;\">\n",
       "      <th></th>\n",
       "      <th>Id</th>\n",
       "      <th>START</th>\n",
       "      <th>STOP</th>\n",
       "      <th>PATIENT_ID</th>\n",
       "      <th>ORG_ID</th>\n",
       "      <th>PROVIDER_ID</th>\n",
       "      <th>PAYER_ID</th>\n",
       "      <th>DESCRIPTION</th>\n",
       "      <th>REASON</th>\n",
       "      <th>BASE_ENCOUNTER_COST</th>\n",
       "      <th>PAYER_COVERAGE</th>\n",
       "      <th>ENCOUNTERCLASS</th>\n",
       "      <th>BIRTHDATE</th>\n",
       "      <th>CITY</th>\n",
       "      <th>AGE</th>\n",
       "      <th>PATIENT_NAME</th>\n",
       "      <th>ORG_NAME</th>\n",
       "      <th>ORG_CITY</th>\n",
       "      <th>REVENUE</th>\n",
       "    </tr>\n",
       "  </thead>\n",
       "  <tbody>\n",
       "    <tr>\n",
       "      <th>0</th>\n",
       "      <td>d0c40d10-8d87-447e-836e-99d26ad52ea5</td>\n",
       "      <td>2010-01-23T17:45:28Z</td>\n",
       "      <td>2010-01-23T18:10:28Z</td>\n",
       "      <td>034e9e3b-2def-4559-bb2a-7850888ae060</td>\n",
       "      <td>e002090d-4e92-300e-b41e-7d1f21dee4c6</td>\n",
       "      <td>e6283e46-fd81-3611-9459-0edb1c3da357</td>\n",
       "      <td>6e2f1a2d-27bd-3701-8d08-dae202c58632</td>\n",
       "      <td>Encounter for symptom</td>\n",
       "      <td>Acute bronchitis (disorder)</td>\n",
       "      <td>129.16</td>\n",
       "      <td>54.16</td>\n",
       "      <td>ambulatory</td>\n",
       "      <td>1983-11-14</td>\n",
       "      <td>Somerville</td>\n",
       "      <td>37.0</td>\n",
       "      <td>Milo271 Feil794</td>\n",
       "      <td>CAMBRIDGE HEALTH ALLIANCE</td>\n",
       "      <td>CAMBRIDGE</td>\n",
       "      <td>406053.19</td>\n",
       "    </tr>\n",
       "    <tr>\n",
       "      <th>1</th>\n",
       "      <td>e88bc3a9-007c-405e-aabc-792a38f4aa2b</td>\n",
       "      <td>2012-01-23T17:45:28Z</td>\n",
       "      <td>2012-01-23T18:00:28Z</td>\n",
       "      <td>034e9e3b-2def-4559-bb2a-7850888ae060</td>\n",
       "      <td>772ee193-bb9f-30eb-9939-21e86c8e4da5</td>\n",
       "      <td>6f1d59a7-a5bd-3cf9-9671-5bad2f351c28</td>\n",
       "      <td>6e2f1a2d-27bd-3701-8d08-dae202c58632</td>\n",
       "      <td>General examination of patient (procedure)</td>\n",
       "      <td>NaN</td>\n",
       "      <td>129.16</td>\n",
       "      <td>129.16</td>\n",
       "      <td>wellness</td>\n",
       "      <td>1983-11-14</td>\n",
       "      <td>Somerville</td>\n",
       "      <td>37.0</td>\n",
       "      <td>Milo271 Feil794</td>\n",
       "      <td>PCP20565</td>\n",
       "      <td>CAMBRIDGE</td>\n",
       "      <td>4262.28</td>\n",
       "    </tr>\n",
       "    <tr>\n",
       "      <th>2</th>\n",
       "      <td>8f104aa7-4ca9-4473-885a-bba2437df588</td>\n",
       "      <td>2001-05-01T15:02:18Z</td>\n",
       "      <td>2001-05-01T15:17:18Z</td>\n",
       "      <td>1d604da9-9a81-4ba9-80c2-de3375d59b40</td>\n",
       "      <td>5d4b9df1-93ae-3bc9-b680-03249990e558</td>\n",
       "      <td>af01a385-31d3-3c77-8fdb-2867fe88df2f</td>\n",
       "      <td>b1c428d6-4f07-31e0-90f0-68ffa6ff8c76</td>\n",
       "      <td>Encounter for symptom</td>\n",
       "      <td>Sinusitis (disorder)</td>\n",
       "      <td>129.16</td>\n",
       "      <td>0.00</td>\n",
       "      <td>ambulatory</td>\n",
       "      <td>1989-05-25</td>\n",
       "      <td>Chicopee</td>\n",
       "      <td>31.0</td>\n",
       "      <td>José Eduardo181 Gómez206</td>\n",
       "      <td>HOLYOKE MEDICAL CENTER</td>\n",
       "      <td>HOLYOKE</td>\n",
       "      <td>327601.37</td>\n",
       "    </tr>\n",
       "    <tr>\n",
       "      <th>3</th>\n",
       "      <td>b85c339a-6076-43ed-b9d0-9cf013dec49d</td>\n",
       "      <td>2011-07-28T15:02:18Z</td>\n",
       "      <td>2011-07-28T15:17:18Z</td>\n",
       "      <td>1d604da9-9a81-4ba9-80c2-de3375d59b40</td>\n",
       "      <td>3dc9bb2d-5d66-3e61-bf9a-e234c6433577</td>\n",
       "      <td>bb17e691-262b-3546-93d5-d88e7de93246</td>\n",
       "      <td>b1c428d6-4f07-31e0-90f0-68ffa6ff8c76</td>\n",
       "      <td>General examination of patient (procedure)</td>\n",
       "      <td>NaN</td>\n",
       "      <td>129.16</td>\n",
       "      <td>0.00</td>\n",
       "      <td>wellness</td>\n",
       "      <td>1989-05-25</td>\n",
       "      <td>Chicopee</td>\n",
       "      <td>31.0</td>\n",
       "      <td>José Eduardo181 Gómez206</td>\n",
       "      <td>PCP12399</td>\n",
       "      <td>SOUTH HADLEY</td>\n",
       "      <td>7491.28</td>\n",
       "    </tr>\n",
       "    <tr>\n",
       "      <th>4</th>\n",
       "      <td>dae2b7cb-1316-4b78-954f-fa610a6c6d0e</td>\n",
       "      <td>2010-07-27T12:58:08Z</td>\n",
       "      <td>2010-07-27T13:28:08Z</td>\n",
       "      <td>10339b10-3cd1-4ac3-ac13-ec26728cb592</td>\n",
       "      <td>b03dba4f-892f-365c-bfd1-bfcfa7a98d5d</td>\n",
       "      <td>7ed6b84a-b847-3744-9d42-15c42297a0c2</td>\n",
       "      <td>d47b3510-2895-3b70-9897-342d681c769d</td>\n",
       "      <td>General examination of patient (procedure)</td>\n",
       "      <td>NaN</td>\n",
       "      <td>129.16</td>\n",
       "      <td>129.16</td>\n",
       "      <td>wellness</td>\n",
       "      <td>1992-06-02</td>\n",
       "      <td>Chicopee</td>\n",
       "      <td>28.0</td>\n",
       "      <td>Jayson808 Fadel536</td>\n",
       "      <td>WESTERN MASS PHYSICIAN ASSOCIATES INC</td>\n",
       "      <td>CHICOPEE</td>\n",
       "      <td>7620.44</td>\n",
       "    </tr>\n",
       "    <tr>\n",
       "      <th>...</th>\n",
       "      <td>...</td>\n",
       "      <td>...</td>\n",
       "      <td>...</td>\n",
       "      <td>...</td>\n",
       "      <td>...</td>\n",
       "      <td>...</td>\n",
       "      <td>...</td>\n",
       "      <td>...</td>\n",
       "      <td>...</td>\n",
       "      <td>...</td>\n",
       "      <td>...</td>\n",
       "      <td>...</td>\n",
       "      <td>...</td>\n",
       "      <td>...</td>\n",
       "      <td>...</td>\n",
       "      <td>...</td>\n",
       "      <td>...</td>\n",
       "      <td>...</td>\n",
       "      <td>...</td>\n",
       "    </tr>\n",
       "    <tr>\n",
       "      <th>53341</th>\n",
       "      <td>bd3bfc3c-4f52-4d9c-aa01-60a084b2ddcd</td>\n",
       "      <td>2015-06-20T17:27:52Z</td>\n",
       "      <td>2015-06-20T17:57:52Z</td>\n",
       "      <td>fc817953-cc8b-45db-9c85-7c0ced8fa90d</td>\n",
       "      <td>a44b37da-aa9b-37f0-993e-26e58974e086</td>\n",
       "      <td>ff678a28-0ee8-379c-80ab-2dc790cf67dd</td>\n",
       "      <td>7caa7254-5050-3b5e-9eae-bd5ea30e809c</td>\n",
       "      <td>General examination of patient (procedure)</td>\n",
       "      <td>NaN</td>\n",
       "      <td>129.16</td>\n",
       "      <td>129.16</td>\n",
       "      <td>wellness</td>\n",
       "      <td>NaT</td>\n",
       "      <td>NaN</td>\n",
       "      <td>NaN</td>\n",
       "      <td>NaN</td>\n",
       "      <td>PCP27951</td>\n",
       "      <td>WESTWOOD</td>\n",
       "      <td>12141.04</td>\n",
       "    </tr>\n",
       "    <tr>\n",
       "      <th>53342</th>\n",
       "      <td>59727285-d30f-44e2-bcda-eac21ce07269</td>\n",
       "      <td>2016-06-25T17:27:52Z</td>\n",
       "      <td>2016-06-25T17:42:52Z</td>\n",
       "      <td>fc817953-cc8b-45db-9c85-7c0ced8fa90d</td>\n",
       "      <td>a44b37da-aa9b-37f0-993e-26e58974e086</td>\n",
       "      <td>ff678a28-0ee8-379c-80ab-2dc790cf67dd</td>\n",
       "      <td>7caa7254-5050-3b5e-9eae-bd5ea30e809c</td>\n",
       "      <td>General examination of patient (procedure)</td>\n",
       "      <td>NaN</td>\n",
       "      <td>129.16</td>\n",
       "      <td>129.16</td>\n",
       "      <td>wellness</td>\n",
       "      <td>NaT</td>\n",
       "      <td>NaN</td>\n",
       "      <td>NaN</td>\n",
       "      <td>NaN</td>\n",
       "      <td>PCP27951</td>\n",
       "      <td>WESTWOOD</td>\n",
       "      <td>12141.04</td>\n",
       "    </tr>\n",
       "    <tr>\n",
       "      <th>53343</th>\n",
       "      <td>957b13d5-49fa-4518-8c25-6eaa45e6a7d1</td>\n",
       "      <td>2017-07-01T17:27:52Z</td>\n",
       "      <td>2017-07-01T17:57:52Z</td>\n",
       "      <td>fc817953-cc8b-45db-9c85-7c0ced8fa90d</td>\n",
       "      <td>a44b37da-aa9b-37f0-993e-26e58974e086</td>\n",
       "      <td>ff678a28-0ee8-379c-80ab-2dc790cf67dd</td>\n",
       "      <td>7caa7254-5050-3b5e-9eae-bd5ea30e809c</td>\n",
       "      <td>General examination of patient (procedure)</td>\n",
       "      <td>NaN</td>\n",
       "      <td>129.16</td>\n",
       "      <td>129.16</td>\n",
       "      <td>wellness</td>\n",
       "      <td>NaT</td>\n",
       "      <td>NaN</td>\n",
       "      <td>NaN</td>\n",
       "      <td>NaN</td>\n",
       "      <td>PCP27951</td>\n",
       "      <td>WESTWOOD</td>\n",
       "      <td>12141.04</td>\n",
       "    </tr>\n",
       "    <tr>\n",
       "      <th>53344</th>\n",
       "      <td>5529a0d5-a24c-42b4-a32a-729e4d1f19ef</td>\n",
       "      <td>2018-07-07T17:27:52Z</td>\n",
       "      <td>2018-07-07T17:42:52Z</td>\n",
       "      <td>fc817953-cc8b-45db-9c85-7c0ced8fa90d</td>\n",
       "      <td>a44b37da-aa9b-37f0-993e-26e58974e086</td>\n",
       "      <td>ff678a28-0ee8-379c-80ab-2dc790cf67dd</td>\n",
       "      <td>7caa7254-5050-3b5e-9eae-bd5ea30e809c</td>\n",
       "      <td>General examination of patient (procedure)</td>\n",
       "      <td>NaN</td>\n",
       "      <td>129.16</td>\n",
       "      <td>129.16</td>\n",
       "      <td>wellness</td>\n",
       "      <td>NaT</td>\n",
       "      <td>NaN</td>\n",
       "      <td>NaN</td>\n",
       "      <td>NaN</td>\n",
       "      <td>PCP27951</td>\n",
       "      <td>WESTWOOD</td>\n",
       "      <td>12141.04</td>\n",
       "    </tr>\n",
       "    <tr>\n",
       "      <th>53345</th>\n",
       "      <td>1306d180-d887-4286-b940-9a6a2425cf93</td>\n",
       "      <td>2019-07-13T17:27:52Z</td>\n",
       "      <td>2019-07-13T17:57:52Z</td>\n",
       "      <td>fc817953-cc8b-45db-9c85-7c0ced8fa90d</td>\n",
       "      <td>a44b37da-aa9b-37f0-993e-26e58974e086</td>\n",
       "      <td>ff678a28-0ee8-379c-80ab-2dc790cf67dd</td>\n",
       "      <td>7caa7254-5050-3b5e-9eae-bd5ea30e809c</td>\n",
       "      <td>General examination of patient (procedure)</td>\n",
       "      <td>NaN</td>\n",
       "      <td>129.16</td>\n",
       "      <td>129.16</td>\n",
       "      <td>wellness</td>\n",
       "      <td>NaT</td>\n",
       "      <td>NaN</td>\n",
       "      <td>NaN</td>\n",
       "      <td>NaN</td>\n",
       "      <td>PCP27951</td>\n",
       "      <td>WESTWOOD</td>\n",
       "      <td>12141.04</td>\n",
       "    </tr>\n",
       "  </tbody>\n",
       "</table>\n",
       "<p>53346 rows × 19 columns</p>\n",
       "</div>"
      ],
      "text/plain": [
       "                                         Id                 START  \\\n",
       "0      d0c40d10-8d87-447e-836e-99d26ad52ea5  2010-01-23T17:45:28Z   \n",
       "1      e88bc3a9-007c-405e-aabc-792a38f4aa2b  2012-01-23T17:45:28Z   \n",
       "2      8f104aa7-4ca9-4473-885a-bba2437df588  2001-05-01T15:02:18Z   \n",
       "3      b85c339a-6076-43ed-b9d0-9cf013dec49d  2011-07-28T15:02:18Z   \n",
       "4      dae2b7cb-1316-4b78-954f-fa610a6c6d0e  2010-07-27T12:58:08Z   \n",
       "...                                     ...                   ...   \n",
       "53341  bd3bfc3c-4f52-4d9c-aa01-60a084b2ddcd  2015-06-20T17:27:52Z   \n",
       "53342  59727285-d30f-44e2-bcda-eac21ce07269  2016-06-25T17:27:52Z   \n",
       "53343  957b13d5-49fa-4518-8c25-6eaa45e6a7d1  2017-07-01T17:27:52Z   \n",
       "53344  5529a0d5-a24c-42b4-a32a-729e4d1f19ef  2018-07-07T17:27:52Z   \n",
       "53345  1306d180-d887-4286-b940-9a6a2425cf93  2019-07-13T17:27:52Z   \n",
       "\n",
       "                       STOP                            PATIENT_ID  \\\n",
       "0      2010-01-23T18:10:28Z  034e9e3b-2def-4559-bb2a-7850888ae060   \n",
       "1      2012-01-23T18:00:28Z  034e9e3b-2def-4559-bb2a-7850888ae060   \n",
       "2      2001-05-01T15:17:18Z  1d604da9-9a81-4ba9-80c2-de3375d59b40   \n",
       "3      2011-07-28T15:17:18Z  1d604da9-9a81-4ba9-80c2-de3375d59b40   \n",
       "4      2010-07-27T13:28:08Z  10339b10-3cd1-4ac3-ac13-ec26728cb592   \n",
       "...                     ...                                   ...   \n",
       "53341  2015-06-20T17:57:52Z  fc817953-cc8b-45db-9c85-7c0ced8fa90d   \n",
       "53342  2016-06-25T17:42:52Z  fc817953-cc8b-45db-9c85-7c0ced8fa90d   \n",
       "53343  2017-07-01T17:57:52Z  fc817953-cc8b-45db-9c85-7c0ced8fa90d   \n",
       "53344  2018-07-07T17:42:52Z  fc817953-cc8b-45db-9c85-7c0ced8fa90d   \n",
       "53345  2019-07-13T17:57:52Z  fc817953-cc8b-45db-9c85-7c0ced8fa90d   \n",
       "\n",
       "                                     ORG_ID  \\\n",
       "0      e002090d-4e92-300e-b41e-7d1f21dee4c6   \n",
       "1      772ee193-bb9f-30eb-9939-21e86c8e4da5   \n",
       "2      5d4b9df1-93ae-3bc9-b680-03249990e558   \n",
       "3      3dc9bb2d-5d66-3e61-bf9a-e234c6433577   \n",
       "4      b03dba4f-892f-365c-bfd1-bfcfa7a98d5d   \n",
       "...                                     ...   \n",
       "53341  a44b37da-aa9b-37f0-993e-26e58974e086   \n",
       "53342  a44b37da-aa9b-37f0-993e-26e58974e086   \n",
       "53343  a44b37da-aa9b-37f0-993e-26e58974e086   \n",
       "53344  a44b37da-aa9b-37f0-993e-26e58974e086   \n",
       "53345  a44b37da-aa9b-37f0-993e-26e58974e086   \n",
       "\n",
       "                                PROVIDER_ID  \\\n",
       "0      e6283e46-fd81-3611-9459-0edb1c3da357   \n",
       "1      6f1d59a7-a5bd-3cf9-9671-5bad2f351c28   \n",
       "2      af01a385-31d3-3c77-8fdb-2867fe88df2f   \n",
       "3      bb17e691-262b-3546-93d5-d88e7de93246   \n",
       "4      7ed6b84a-b847-3744-9d42-15c42297a0c2   \n",
       "...                                     ...   \n",
       "53341  ff678a28-0ee8-379c-80ab-2dc790cf67dd   \n",
       "53342  ff678a28-0ee8-379c-80ab-2dc790cf67dd   \n",
       "53343  ff678a28-0ee8-379c-80ab-2dc790cf67dd   \n",
       "53344  ff678a28-0ee8-379c-80ab-2dc790cf67dd   \n",
       "53345  ff678a28-0ee8-379c-80ab-2dc790cf67dd   \n",
       "\n",
       "                                   PAYER_ID  \\\n",
       "0      6e2f1a2d-27bd-3701-8d08-dae202c58632   \n",
       "1      6e2f1a2d-27bd-3701-8d08-dae202c58632   \n",
       "2      b1c428d6-4f07-31e0-90f0-68ffa6ff8c76   \n",
       "3      b1c428d6-4f07-31e0-90f0-68ffa6ff8c76   \n",
       "4      d47b3510-2895-3b70-9897-342d681c769d   \n",
       "...                                     ...   \n",
       "53341  7caa7254-5050-3b5e-9eae-bd5ea30e809c   \n",
       "53342  7caa7254-5050-3b5e-9eae-bd5ea30e809c   \n",
       "53343  7caa7254-5050-3b5e-9eae-bd5ea30e809c   \n",
       "53344  7caa7254-5050-3b5e-9eae-bd5ea30e809c   \n",
       "53345  7caa7254-5050-3b5e-9eae-bd5ea30e809c   \n",
       "\n",
       "                                      DESCRIPTION  \\\n",
       "0                           Encounter for symptom   \n",
       "1      General examination of patient (procedure)   \n",
       "2                           Encounter for symptom   \n",
       "3      General examination of patient (procedure)   \n",
       "4      General examination of patient (procedure)   \n",
       "...                                           ...   \n",
       "53341  General examination of patient (procedure)   \n",
       "53342  General examination of patient (procedure)   \n",
       "53343  General examination of patient (procedure)   \n",
       "53344  General examination of patient (procedure)   \n",
       "53345  General examination of patient (procedure)   \n",
       "\n",
       "                            REASON  BASE_ENCOUNTER_COST  PAYER_COVERAGE  \\\n",
       "0      Acute bronchitis (disorder)               129.16           54.16   \n",
       "1                              NaN               129.16          129.16   \n",
       "2             Sinusitis (disorder)               129.16            0.00   \n",
       "3                              NaN               129.16            0.00   \n",
       "4                              NaN               129.16          129.16   \n",
       "...                            ...                  ...             ...   \n",
       "53341                          NaN               129.16          129.16   \n",
       "53342                          NaN               129.16          129.16   \n",
       "53343                          NaN               129.16          129.16   \n",
       "53344                          NaN               129.16          129.16   \n",
       "53345                          NaN               129.16          129.16   \n",
       "\n",
       "      ENCOUNTERCLASS  BIRTHDATE        CITY   AGE              PATIENT_NAME  \\\n",
       "0         ambulatory 1983-11-14  Somerville  37.0           Milo271 Feil794   \n",
       "1           wellness 1983-11-14  Somerville  37.0           Milo271 Feil794   \n",
       "2         ambulatory 1989-05-25    Chicopee  31.0  José Eduardo181 Gómez206   \n",
       "3           wellness 1989-05-25    Chicopee  31.0  José Eduardo181 Gómez206   \n",
       "4           wellness 1992-06-02    Chicopee  28.0        Jayson808 Fadel536   \n",
       "...              ...        ...         ...   ...                       ...   \n",
       "53341       wellness        NaT         NaN   NaN                       NaN   \n",
       "53342       wellness        NaT         NaN   NaN                       NaN   \n",
       "53343       wellness        NaT         NaN   NaN                       NaN   \n",
       "53344       wellness        NaT         NaN   NaN                       NaN   \n",
       "53345       wellness        NaT         NaN   NaN                       NaN   \n",
       "\n",
       "                                    ORG_NAME      ORG_CITY    REVENUE  \n",
       "0                  CAMBRIDGE HEALTH ALLIANCE     CAMBRIDGE  406053.19  \n",
       "1                                   PCP20565     CAMBRIDGE    4262.28  \n",
       "2                     HOLYOKE MEDICAL CENTER       HOLYOKE  327601.37  \n",
       "3                                   PCP12399  SOUTH HADLEY    7491.28  \n",
       "4      WESTERN MASS PHYSICIAN ASSOCIATES INC      CHICOPEE    7620.44  \n",
       "...                                      ...           ...        ...  \n",
       "53341                               PCP27951      WESTWOOD   12141.04  \n",
       "53342                               PCP27951      WESTWOOD   12141.04  \n",
       "53343                               PCP27951      WESTWOOD   12141.04  \n",
       "53344                               PCP27951      WESTWOOD   12141.04  \n",
       "53345                               PCP27951      WESTWOOD   12141.04  \n",
       "\n",
       "[53346 rows x 19 columns]"
      ]
     },
     "execution_count": 17,
     "metadata": {},
     "output_type": "execute_result"
    }
   ],
   "source": [
    "# JOIN TO  ENCOUNTERS\n",
    "encounter = encounter.join(organisations,on=\"ORG_ID\")\n",
    "encounter"
   ]
  },
  {
   "cell_type": "markdown",
   "metadata": {},
   "source": [
    "#### III HEALTHCARE PROFESSIONALS"
   ]
  },
  {
   "cell_type": "code",
   "execution_count": 18,
   "metadata": {},
   "outputs": [
    {
     "data": {
      "text/html": [
       "<div>\n",
       "<style scoped>\n",
       "    .dataframe tbody tr th:only-of-type {\n",
       "        vertical-align: middle;\n",
       "    }\n",
       "\n",
       "    .dataframe tbody tr th {\n",
       "        vertical-align: top;\n",
       "    }\n",
       "\n",
       "    .dataframe thead th {\n",
       "        text-align: right;\n",
       "    }\n",
       "</style>\n",
       "<table border=\"1\" class=\"dataframe\">\n",
       "  <thead>\n",
       "    <tr style=\"text-align: right;\">\n",
       "      <th></th>\n",
       "      <th>Id</th>\n",
       "      <th>ORGANIZATION</th>\n",
       "      <th>NAME</th>\n",
       "      <th>GENDER</th>\n",
       "      <th>SPECIALITY</th>\n",
       "      <th>ADDRESS</th>\n",
       "      <th>CITY</th>\n",
       "      <th>STATE</th>\n",
       "      <th>ZIP</th>\n",
       "      <th>LAT</th>\n",
       "      <th>LON</th>\n",
       "      <th>UTILIZATION</th>\n",
       "    </tr>\n",
       "  </thead>\n",
       "  <tbody>\n",
       "    <tr>\n",
       "      <th>2864</th>\n",
       "      <td>ea97de5f-f95b-3b46-b301-5bcb3ada24bf</td>\n",
       "      <td>e26e0483-1a6b-3357-b042-3cdf1d61c612</td>\n",
       "      <td>Nicky270 Roberts511</td>\n",
       "      <td>M</td>\n",
       "      <td>GENERAL PRACTICE</td>\n",
       "      <td>33 VILLAGE SQ</td>\n",
       "      <td>CHELMSFORD</td>\n",
       "      <td>MA</td>\n",
       "      <td>01824-2712</td>\n",
       "      <td>42.597055</td>\n",
       "      <td>-71.369700</td>\n",
       "      <td>28</td>\n",
       "    </tr>\n",
       "    <tr>\n",
       "      <th>3363</th>\n",
       "      <td>773e4349-ee3a-356c-a116-e76759e3a527</td>\n",
       "      <td>add376a3-c999-349e-809d-1b7424405321</td>\n",
       "      <td>Sofia418 Cantú190</td>\n",
       "      <td>F</td>\n",
       "      <td>PHYSICAL THERAPY</td>\n",
       "      <td>176 WALKER ST</td>\n",
       "      <td>LOWELL</td>\n",
       "      <td>MA</td>\n",
       "      <td>01854-3126</td>\n",
       "      <td>42.638980</td>\n",
       "      <td>-71.321141</td>\n",
       "      <td>0</td>\n",
       "    </tr>\n",
       "    <tr>\n",
       "      <th>3305</th>\n",
       "      <td>80748a7e-3170-3a5b-a8da-7def919079d3</td>\n",
       "      <td>d0b5fc59-28d4-3a54-aaca-c93a3f1d3007</td>\n",
       "      <td>Guillermo498 Llamas954</td>\n",
       "      <td>M</td>\n",
       "      <td>OPTOMETRY</td>\n",
       "      <td>479 OLD UNION TURNPIKE</td>\n",
       "      <td>LANCASTER</td>\n",
       "      <td>MA</td>\n",
       "      <td>01523-3029</td>\n",
       "      <td>42.483569</td>\n",
       "      <td>-71.675585</td>\n",
       "      <td>0</td>\n",
       "    </tr>\n",
       "  </tbody>\n",
       "</table>\n",
       "</div>"
      ],
      "text/plain": [
       "                                        Id  \\\n",
       "2864  ea97de5f-f95b-3b46-b301-5bcb3ada24bf   \n",
       "3363  773e4349-ee3a-356c-a116-e76759e3a527   \n",
       "3305  80748a7e-3170-3a5b-a8da-7def919079d3   \n",
       "\n",
       "                              ORGANIZATION                    NAME GENDER  \\\n",
       "2864  e26e0483-1a6b-3357-b042-3cdf1d61c612     Nicky270 Roberts511      M   \n",
       "3363  add376a3-c999-349e-809d-1b7424405321       Sofia418 Cantú190      F   \n",
       "3305  d0b5fc59-28d4-3a54-aaca-c93a3f1d3007  Guillermo498 Llamas954      M   \n",
       "\n",
       "            SPECIALITY                 ADDRESS        CITY STATE         ZIP  \\\n",
       "2864  GENERAL PRACTICE           33 VILLAGE SQ  CHELMSFORD    MA  01824-2712   \n",
       "3363  PHYSICAL THERAPY           176 WALKER ST      LOWELL    MA  01854-3126   \n",
       "3305         OPTOMETRY  479 OLD UNION TURNPIKE   LANCASTER    MA  01523-3029   \n",
       "\n",
       "            LAT        LON  UTILIZATION  \n",
       "2864  42.597055 -71.369700           28  \n",
       "3363  42.638980 -71.321141            0  \n",
       "3305  42.483569 -71.675585            0  "
      ]
     },
     "execution_count": 18,
     "metadata": {},
     "output_type": "execute_result"
    }
   ],
   "source": [
    "providers=pd.read_csv(\"../data/providers.csv\")\n",
    "providers.sample(3)"
   ]
  },
  {
   "cell_type": "code",
   "execution_count": 19,
   "metadata": {},
   "outputs": [
    {
     "data": {
      "text/html": [
       "<div>\n",
       "<style scoped>\n",
       "    .dataframe tbody tr th:only-of-type {\n",
       "        vertical-align: middle;\n",
       "    }\n",
       "\n",
       "    .dataframe tbody tr th {\n",
       "        vertical-align: top;\n",
       "    }\n",
       "\n",
       "    .dataframe thead th {\n",
       "        text-align: right;\n",
       "    }\n",
       "</style>\n",
       "<table border=\"1\" class=\"dataframe\">\n",
       "  <thead>\n",
       "    <tr style=\"text-align: right;\">\n",
       "      <th></th>\n",
       "      <th>PROVIDER_NAME</th>\n",
       "      <th>GENDER</th>\n",
       "      <th>SPECIALITY</th>\n",
       "    </tr>\n",
       "    <tr>\n",
       "      <th>PROVIDER_ID</th>\n",
       "      <th></th>\n",
       "      <th></th>\n",
       "      <th></th>\n",
       "    </tr>\n",
       "  </thead>\n",
       "  <tbody>\n",
       "    <tr>\n",
       "      <th>efebe8aa-ce46-3d28-a983-16180e7f8a06</th>\n",
       "      <td>Meri607 Lang846</td>\n",
       "      <td>F</td>\n",
       "      <td>ORTHOPEDIC SURGERY</td>\n",
       "    </tr>\n",
       "    <tr>\n",
       "      <th>6f0a80af-766f-315a-8804-277af9d23a8d</th>\n",
       "      <td>Israel728 Conn188</td>\n",
       "      <td>M</td>\n",
       "      <td>PSYCHIATRY</td>\n",
       "    </tr>\n",
       "    <tr>\n",
       "      <th>69f3f629-358b-3626-a647-ffd6f68a1b39</th>\n",
       "      <td>Vilma125 Becker968</td>\n",
       "      <td>F</td>\n",
       "      <td>CLINICAL SOCIAL WORKER</td>\n",
       "    </tr>\n",
       "  </tbody>\n",
       "</table>\n",
       "</div>"
      ],
      "text/plain": [
       "                                           PROVIDER_NAME GENDER  \\\n",
       "PROVIDER_ID                                                       \n",
       "efebe8aa-ce46-3d28-a983-16180e7f8a06     Meri607 Lang846      F   \n",
       "6f0a80af-766f-315a-8804-277af9d23a8d   Israel728 Conn188      M   \n",
       "69f3f629-358b-3626-a647-ffd6f68a1b39  Vilma125 Becker968      F   \n",
       "\n",
       "                                                  SPECIALITY  \n",
       "PROVIDER_ID                                                   \n",
       "efebe8aa-ce46-3d28-a983-16180e7f8a06      ORTHOPEDIC SURGERY  \n",
       "6f0a80af-766f-315a-8804-277af9d23a8d              PSYCHIATRY  \n",
       "69f3f629-358b-3626-a647-ffd6f68a1b39  CLINICAL SOCIAL WORKER  "
      ]
     },
     "execution_count": 19,
     "metadata": {},
     "output_type": "execute_result"
    }
   ],
   "source": [
    "# SELECT COLUMNS [\"Id\",\"NAME\",\"GENDER\",\"SPECIALITY\"]\n",
    "# RENAME COLUMNS NAME --> PROVIDER_NAME, Id --> PROVIDER_ID\n",
    "# SET INDEX AS PROVIDER ID\n",
    "providers = providers[[\"Id\",\"NAME\",\"GENDER\",\"SPECIALITY\"]]\n",
    "\n",
    "providers = providers.rename(columns={\"Id\":\"PROVIDER_ID\",\"NAME\":\"PROVIDER_NAME\"})\n",
    "\n",
    "providers = providers.set_index(\"PROVIDER_ID\")\n",
    "\n",
    "providers.sample(3)"
   ]
  },
  {
   "cell_type": "code",
   "execution_count": 20,
   "metadata": {},
   "outputs": [
    {
     "data": {
      "text/html": [
       "<div>\n",
       "<style scoped>\n",
       "    .dataframe tbody tr th:only-of-type {\n",
       "        vertical-align: middle;\n",
       "    }\n",
       "\n",
       "    .dataframe tbody tr th {\n",
       "        vertical-align: top;\n",
       "    }\n",
       "\n",
       "    .dataframe thead th {\n",
       "        text-align: right;\n",
       "    }\n",
       "</style>\n",
       "<table border=\"1\" class=\"dataframe\">\n",
       "  <thead>\n",
       "    <tr style=\"text-align: right;\">\n",
       "      <th></th>\n",
       "      <th>Id</th>\n",
       "      <th>START</th>\n",
       "      <th>STOP</th>\n",
       "      <th>PATIENT_ID</th>\n",
       "      <th>ORG_ID</th>\n",
       "      <th>PROVIDER_ID</th>\n",
       "      <th>PAYER_ID</th>\n",
       "      <th>DESCRIPTION</th>\n",
       "      <th>REASON</th>\n",
       "      <th>BASE_ENCOUNTER_COST</th>\n",
       "      <th>...</th>\n",
       "      <th>BIRTHDATE</th>\n",
       "      <th>CITY</th>\n",
       "      <th>AGE</th>\n",
       "      <th>PATIENT_NAME</th>\n",
       "      <th>ORG_NAME</th>\n",
       "      <th>ORG_CITY</th>\n",
       "      <th>REVENUE</th>\n",
       "      <th>PROVIDER_NAME</th>\n",
       "      <th>GENDER</th>\n",
       "      <th>SPECIALITY</th>\n",
       "    </tr>\n",
       "  </thead>\n",
       "  <tbody>\n",
       "    <tr>\n",
       "      <th>17353</th>\n",
       "      <td>afbf9fea-2c82-4614-91a9-f6ddf5398b62</td>\n",
       "      <td>1990-01-02T21:00:08Z</td>\n",
       "      <td>1990-01-02T21:30:08Z</td>\n",
       "      <td>70794fdc-0702-4e0f-9682-8ec5d7145436</td>\n",
       "      <td>0ad49cb1-6abc-34e1-a94c-ea3050595660</td>\n",
       "      <td>d4c730bc-c8f2-3428-8b90-9ac191bf2575</td>\n",
       "      <td>6e2f1a2d-27bd-3701-8d08-dae202c58632</td>\n",
       "      <td>General examination of patient (procedure)</td>\n",
       "      <td>NaN</td>\n",
       "      <td>129.16</td>\n",
       "      <td>...</td>\n",
       "      <td>1940-05-14</td>\n",
       "      <td>Newton</td>\n",
       "      <td>80.0</td>\n",
       "      <td>Cristobal567 Upton904</td>\n",
       "      <td>PCP64655</td>\n",
       "      <td>WATERTOWN</td>\n",
       "      <td>11236.92</td>\n",
       "      <td>Judie557 Bergstrom287</td>\n",
       "      <td>F</td>\n",
       "      <td>GENERAL PRACTICE</td>\n",
       "    </tr>\n",
       "    <tr>\n",
       "      <th>40969</th>\n",
       "      <td>488fb252-eab5-4080-a0a0-257ab7e1f121</td>\n",
       "      <td>2019-03-22T20:51:21Z</td>\n",
       "      <td>2019-03-22T21:06:21Z</td>\n",
       "      <td>2c71dd97-7085-416a-aa07-d675bbe3adf2</td>\n",
       "      <td>4e916854-3a59-3f17-bb16-7c406148d822</td>\n",
       "      <td>93f77048-5bfd-3a59-9ae4-4399fbd77398</td>\n",
       "      <td>7caa7254-5050-3b5e-9eae-bd5ea30e809c</td>\n",
       "      <td>Urgent care clinic (procedure)</td>\n",
       "      <td>NaN</td>\n",
       "      <td>129.16</td>\n",
       "      <td>...</td>\n",
       "      <td>1941-02-14</td>\n",
       "      <td>Hanover</td>\n",
       "      <td>79.0</td>\n",
       "      <td>Samatha845 Mueller846</td>\n",
       "      <td>HANOVER FAMILY HEALTH AND URGENT CARE</td>\n",
       "      <td>HANOVER</td>\n",
       "      <td>0.00</td>\n",
       "      <td>Tiana543 Blick895</td>\n",
       "      <td>F</td>\n",
       "      <td>GENERAL PRACTICE</td>\n",
       "    </tr>\n",
       "    <tr>\n",
       "      <th>39773</th>\n",
       "      <td>f304b206-6ba4-4053-b25c-b3ad513d79bf</td>\n",
       "      <td>2014-10-31T23:42:48Z</td>\n",
       "      <td>2014-11-01T00:12:48Z</td>\n",
       "      <td>f874e5d6-8e2e-453d-b054-a3b5770c4cdc</td>\n",
       "      <td>91a53589-2df1-3e27-a3eb-28970c71ae03</td>\n",
       "      <td>138f5f81-b364-3744-bfe5-6af816d1d266</td>\n",
       "      <td>4d71f845-a6a9-3c39-b242-14d25ef86a8d</td>\n",
       "      <td>Well child visit (procedure)</td>\n",
       "      <td>NaN</td>\n",
       "      <td>129.16</td>\n",
       "      <td>...</td>\n",
       "      <td>1997-09-12</td>\n",
       "      <td>New Bedford</td>\n",
       "      <td>23.0</td>\n",
       "      <td>Douglass930 Pollich983</td>\n",
       "      <td>PCP31320</td>\n",
       "      <td>NEW BEDFORD</td>\n",
       "      <td>3745.64</td>\n",
       "      <td>Carlton317 Spencer878</td>\n",
       "      <td>M</td>\n",
       "      <td>GENERAL PRACTICE</td>\n",
       "    </tr>\n",
       "  </tbody>\n",
       "</table>\n",
       "<p>3 rows × 22 columns</p>\n",
       "</div>"
      ],
      "text/plain": [
       "                                         Id                 START  \\\n",
       "17353  afbf9fea-2c82-4614-91a9-f6ddf5398b62  1990-01-02T21:00:08Z   \n",
       "40969  488fb252-eab5-4080-a0a0-257ab7e1f121  2019-03-22T20:51:21Z   \n",
       "39773  f304b206-6ba4-4053-b25c-b3ad513d79bf  2014-10-31T23:42:48Z   \n",
       "\n",
       "                       STOP                            PATIENT_ID  \\\n",
       "17353  1990-01-02T21:30:08Z  70794fdc-0702-4e0f-9682-8ec5d7145436   \n",
       "40969  2019-03-22T21:06:21Z  2c71dd97-7085-416a-aa07-d675bbe3adf2   \n",
       "39773  2014-11-01T00:12:48Z  f874e5d6-8e2e-453d-b054-a3b5770c4cdc   \n",
       "\n",
       "                                     ORG_ID  \\\n",
       "17353  0ad49cb1-6abc-34e1-a94c-ea3050595660   \n",
       "40969  4e916854-3a59-3f17-bb16-7c406148d822   \n",
       "39773  91a53589-2df1-3e27-a3eb-28970c71ae03   \n",
       "\n",
       "                                PROVIDER_ID  \\\n",
       "17353  d4c730bc-c8f2-3428-8b90-9ac191bf2575   \n",
       "40969  93f77048-5bfd-3a59-9ae4-4399fbd77398   \n",
       "39773  138f5f81-b364-3744-bfe5-6af816d1d266   \n",
       "\n",
       "                                   PAYER_ID  \\\n",
       "17353  6e2f1a2d-27bd-3701-8d08-dae202c58632   \n",
       "40969  7caa7254-5050-3b5e-9eae-bd5ea30e809c   \n",
       "39773  4d71f845-a6a9-3c39-b242-14d25ef86a8d   \n",
       "\n",
       "                                      DESCRIPTION REASON  BASE_ENCOUNTER_COST  \\\n",
       "17353  General examination of patient (procedure)    NaN               129.16   \n",
       "40969              Urgent care clinic (procedure)    NaN               129.16   \n",
       "39773                Well child visit (procedure)    NaN               129.16   \n",
       "\n",
       "       ...  BIRTHDATE         CITY   AGE            PATIENT_NAME  \\\n",
       "17353  ... 1940-05-14       Newton  80.0   Cristobal567 Upton904   \n",
       "40969  ... 1941-02-14      Hanover  79.0   Samatha845 Mueller846   \n",
       "39773  ... 1997-09-12  New Bedford  23.0  Douglass930 Pollich983   \n",
       "\n",
       "                                    ORG_NAME     ORG_CITY   REVENUE  \\\n",
       "17353                               PCP64655    WATERTOWN  11236.92   \n",
       "40969  HANOVER FAMILY HEALTH AND URGENT CARE      HANOVER      0.00   \n",
       "39773                               PCP31320  NEW BEDFORD   3745.64   \n",
       "\n",
       "               PROVIDER_NAME  GENDER        SPECIALITY  \n",
       "17353  Judie557 Bergstrom287       F  GENERAL PRACTICE  \n",
       "40969      Tiana543 Blick895       F  GENERAL PRACTICE  \n",
       "39773  Carlton317 Spencer878       M  GENERAL PRACTICE  \n",
       "\n",
       "[3 rows x 22 columns]"
      ]
     },
     "execution_count": 20,
     "metadata": {},
     "output_type": "execute_result"
    }
   ],
   "source": [
    "# join provider and hospitals\n",
    "encounter = encounter.join(providers,on=\"PROVIDER_ID\")\n",
    "encounter.sample(3)"
   ]
  },
  {
   "cell_type": "markdown",
   "metadata": {},
   "source": [
    "#### IV  - INSURANCE COMPANIES"
   ]
  },
  {
   "cell_type": "code",
   "execution_count": 22,
   "metadata": {},
   "outputs": [
    {
     "data": {
      "text/html": [
       "<div>\n",
       "<style scoped>\n",
       "    .dataframe tbody tr th:only-of-type {\n",
       "        vertical-align: middle;\n",
       "    }\n",
       "\n",
       "    .dataframe tbody tr th {\n",
       "        vertical-align: top;\n",
       "    }\n",
       "\n",
       "    .dataframe thead th {\n",
       "        text-align: right;\n",
       "    }\n",
       "</style>\n",
       "<table border=\"1\" class=\"dataframe\">\n",
       "  <thead>\n",
       "    <tr style=\"text-align: right;\">\n",
       "      <th></th>\n",
       "      <th>Id</th>\n",
       "      <th>NAME</th>\n",
       "      <th>ADDRESS</th>\n",
       "      <th>CITY</th>\n",
       "      <th>STATE_HEADQUARTERED</th>\n",
       "      <th>ZIP</th>\n",
       "      <th>PHONE</th>\n",
       "      <th>AMOUNT_COVERED</th>\n",
       "      <th>AMOUNT_UNCOVERED</th>\n",
       "      <th>REVENUE</th>\n",
       "      <th>...</th>\n",
       "      <th>UNCOVERED_ENCOUNTERS</th>\n",
       "      <th>COVERED_MEDICATIONS</th>\n",
       "      <th>UNCOVERED_MEDICATIONS</th>\n",
       "      <th>COVERED_PROCEDURES</th>\n",
       "      <th>UNCOVERED_PROCEDURES</th>\n",
       "      <th>COVERED_IMMUNIZATIONS</th>\n",
       "      <th>UNCOVERED_IMMUNIZATIONS</th>\n",
       "      <th>UNIQUE_CUSTOMERS</th>\n",
       "      <th>QOLS_AVG</th>\n",
       "      <th>MEMBER_MONTHS</th>\n",
       "    </tr>\n",
       "  </thead>\n",
       "  <tbody>\n",
       "    <tr>\n",
       "      <th>0</th>\n",
       "      <td>b3221cfc-24fb-339e-823d-bc4136cbc4ed</td>\n",
       "      <td>Dual Eligible</td>\n",
       "      <td>7500 Security Blvd</td>\n",
       "      <td>Baltimore</td>\n",
       "      <td>MD</td>\n",
       "      <td>21244.0</td>\n",
       "      <td>1-877-267-2323</td>\n",
       "      <td>141676.87</td>\n",
       "      <td>119449.83</td>\n",
       "      <td>1305000.0</td>\n",
       "      <td>...</td>\n",
       "      <td>0</td>\n",
       "      <td>556</td>\n",
       "      <td>0</td>\n",
       "      <td>280</td>\n",
       "      <td>0</td>\n",
       "      <td>223</td>\n",
       "      <td>0</td>\n",
       "      <td>25</td>\n",
       "      <td>0.362810</td>\n",
       "      <td>3348</td>\n",
       "    </tr>\n",
       "    <tr>\n",
       "      <th>1</th>\n",
       "      <td>7caa7254-5050-3b5e-9eae-bd5ea30e809c</td>\n",
       "      <td>Medicare</td>\n",
       "      <td>7500 Security Blvd</td>\n",
       "      <td>Baltimore</td>\n",
       "      <td>MD</td>\n",
       "      <td>21244.0</td>\n",
       "      <td>1-800-633-4227</td>\n",
       "      <td>4756720.13</td>\n",
       "      <td>890394.37</td>\n",
       "      <td>7122250.0</td>\n",
       "      <td>...</td>\n",
       "      <td>0</td>\n",
       "      <td>13471</td>\n",
       "      <td>0</td>\n",
       "      <td>7383</td>\n",
       "      <td>0</td>\n",
       "      <td>2557</td>\n",
       "      <td>0</td>\n",
       "      <td>198</td>\n",
       "      <td>0.786223</td>\n",
       "      <td>29760</td>\n",
       "    </tr>\n",
       "    <tr>\n",
       "      <th>8</th>\n",
       "      <td>42c4fca7-f8a9-3cd1-982a-dd9751bf3e2a</td>\n",
       "      <td>Anthem</td>\n",
       "      <td>220 Virginia Ave</td>\n",
       "      <td>Indianapolis</td>\n",
       "      <td>IN</td>\n",
       "      <td>46204.0</td>\n",
       "      <td>1-800-331-1476</td>\n",
       "      <td>526943.60</td>\n",
       "      <td>258995.00</td>\n",
       "      <td>152248800.0</td>\n",
       "      <td>...</td>\n",
       "      <td>7422</td>\n",
       "      <td>0</td>\n",
       "      <td>3912</td>\n",
       "      <td>2841</td>\n",
       "      <td>10142</td>\n",
       "      <td>6664</td>\n",
       "      <td>151</td>\n",
       "      <td>283</td>\n",
       "      <td>0.932301</td>\n",
       "      <td>69816</td>\n",
       "    </tr>\n",
       "  </tbody>\n",
       "</table>\n",
       "<p>3 rows × 21 columns</p>\n",
       "</div>"
      ],
      "text/plain": [
       "                                     Id           NAME             ADDRESS  \\\n",
       "0  b3221cfc-24fb-339e-823d-bc4136cbc4ed  Dual Eligible  7500 Security Blvd   \n",
       "1  7caa7254-5050-3b5e-9eae-bd5ea30e809c       Medicare  7500 Security Blvd   \n",
       "8  42c4fca7-f8a9-3cd1-982a-dd9751bf3e2a         Anthem    220 Virginia Ave   \n",
       "\n",
       "           CITY STATE_HEADQUARTERED      ZIP           PHONE  AMOUNT_COVERED  \\\n",
       "0     Baltimore                  MD  21244.0  1-877-267-2323       141676.87   \n",
       "1     Baltimore                  MD  21244.0  1-800-633-4227      4756720.13   \n",
       "8  Indianapolis                  IN  46204.0  1-800-331-1476       526943.60   \n",
       "\n",
       "   AMOUNT_UNCOVERED      REVENUE  ...  UNCOVERED_ENCOUNTERS  \\\n",
       "0         119449.83    1305000.0  ...                     0   \n",
       "1         890394.37    7122250.0  ...                     0   \n",
       "8         258995.00  152248800.0  ...                  7422   \n",
       "\n",
       "   COVERED_MEDICATIONS  UNCOVERED_MEDICATIONS  COVERED_PROCEDURES  \\\n",
       "0                  556                      0                 280   \n",
       "1                13471                      0                7383   \n",
       "8                    0                   3912                2841   \n",
       "\n",
       "   UNCOVERED_PROCEDURES  COVERED_IMMUNIZATIONS  UNCOVERED_IMMUNIZATIONS  \\\n",
       "0                     0                    223                        0   \n",
       "1                     0                   2557                        0   \n",
       "8                 10142                   6664                      151   \n",
       "\n",
       "   UNIQUE_CUSTOMERS  QOLS_AVG  MEMBER_MONTHS  \n",
       "0                25  0.362810           3348  \n",
       "1               198  0.786223          29760  \n",
       "8               283  0.932301          69816  \n",
       "\n",
       "[3 rows x 21 columns]"
      ]
     },
     "execution_count": 22,
     "metadata": {},
     "output_type": "execute_result"
    }
   ],
   "source": [
    "payers=pd.read_csv(\"../data/payers.csv\")\n",
    "payers.sample(3)"
   ]
  },
  {
   "cell_type": "code",
   "execution_count": 23,
   "metadata": {},
   "outputs": [
    {
     "data": {
      "text/html": [
       "<div>\n",
       "<style scoped>\n",
       "    .dataframe tbody tr th:only-of-type {\n",
       "        vertical-align: middle;\n",
       "    }\n",
       "\n",
       "    .dataframe tbody tr th {\n",
       "        vertical-align: top;\n",
       "    }\n",
       "\n",
       "    .dataframe thead th {\n",
       "        text-align: right;\n",
       "    }\n",
       "</style>\n",
       "<table border=\"1\" class=\"dataframe\">\n",
       "  <thead>\n",
       "    <tr style=\"text-align: right;\">\n",
       "      <th></th>\n",
       "      <th>PAYER_NAME</th>\n",
       "    </tr>\n",
       "    <tr>\n",
       "      <th>PAYER_ID</th>\n",
       "      <th></th>\n",
       "    </tr>\n",
       "  </thead>\n",
       "  <tbody>\n",
       "    <tr>\n",
       "      <th>b3221cfc-24fb-339e-823d-bc4136cbc4ed</th>\n",
       "      <td>Dual Eligible</td>\n",
       "    </tr>\n",
       "    <tr>\n",
       "      <th>7caa7254-5050-3b5e-9eae-bd5ea30e809c</th>\n",
       "      <td>Medicare</td>\n",
       "    </tr>\n",
       "    <tr>\n",
       "      <th>7c4411ce-02f1-39b5-b9ec-dfbea9ad3c1a</th>\n",
       "      <td>Medicaid</td>\n",
       "    </tr>\n",
       "    <tr>\n",
       "      <th>d47b3510-2895-3b70-9897-342d681c769d</th>\n",
       "      <td>Humana</td>\n",
       "    </tr>\n",
       "    <tr>\n",
       "      <th>6e2f1a2d-27bd-3701-8d08-dae202c58632</th>\n",
       "      <td>Blue Cross Blue Shield</td>\n",
       "    </tr>\n",
       "    <tr>\n",
       "      <th>5059a55e-5d6e-34d1-b6cb-d83d16e57bcf</th>\n",
       "      <td>UnitedHealthcare</td>\n",
       "    </tr>\n",
       "    <tr>\n",
       "      <th>4d71f845-a6a9-3c39-b242-14d25ef86a8d</th>\n",
       "      <td>Aetna</td>\n",
       "    </tr>\n",
       "    <tr>\n",
       "      <th>047f6ec3-6215-35eb-9608-f9dda363a44c</th>\n",
       "      <td>Cigna Health</td>\n",
       "    </tr>\n",
       "    <tr>\n",
       "      <th>42c4fca7-f8a9-3cd1-982a-dd9751bf3e2a</th>\n",
       "      <td>Anthem</td>\n",
       "    </tr>\n",
       "    <tr>\n",
       "      <th>b1c428d6-4f07-31e0-90f0-68ffa6ff8c76</th>\n",
       "      <td>NO_INSURANCE</td>\n",
       "    </tr>\n",
       "  </tbody>\n",
       "</table>\n",
       "</div>"
      ],
      "text/plain": [
       "                                                  PAYER_NAME\n",
       "PAYER_ID                                                    \n",
       "b3221cfc-24fb-339e-823d-bc4136cbc4ed           Dual Eligible\n",
       "7caa7254-5050-3b5e-9eae-bd5ea30e809c                Medicare\n",
       "7c4411ce-02f1-39b5-b9ec-dfbea9ad3c1a                Medicaid\n",
       "d47b3510-2895-3b70-9897-342d681c769d                  Humana\n",
       "6e2f1a2d-27bd-3701-8d08-dae202c58632  Blue Cross Blue Shield\n",
       "5059a55e-5d6e-34d1-b6cb-d83d16e57bcf        UnitedHealthcare\n",
       "4d71f845-a6a9-3c39-b242-14d25ef86a8d                   Aetna\n",
       "047f6ec3-6215-35eb-9608-f9dda363a44c            Cigna Health\n",
       "42c4fca7-f8a9-3cd1-982a-dd9751bf3e2a                  Anthem\n",
       "b1c428d6-4f07-31e0-90f0-68ffa6ff8c76            NO_INSURANCE"
      ]
     },
     "execution_count": 23,
     "metadata": {},
     "output_type": "execute_result"
    }
   ],
   "source": [
    "# COLUMNS NEEDED : NAME, Id\n",
    "# RENAME NAME --> PAYER_NAME, Id---> PAYER_ID\n",
    "# SET INDEX AS PAYER_ID\n",
    "\n",
    "payers=payers[[\"NAME\",'Id']]\n",
    "\n",
    "payers=payers.rename(columns={\"NAME\":\"PAYER_NAME\",\"Id\":\"PAYER_ID\"})\n",
    "\n",
    "payers=payers.set_index(\"PAYER_ID\")\n",
    "\n",
    "payers"
   ]
  },
  {
   "cell_type": "code",
   "execution_count": 25,
   "metadata": {},
   "outputs": [
    {
     "data": {
      "text/html": [
       "<div>\n",
       "<style scoped>\n",
       "    .dataframe tbody tr th:only-of-type {\n",
       "        vertical-align: middle;\n",
       "    }\n",
       "\n",
       "    .dataframe tbody tr th {\n",
       "        vertical-align: top;\n",
       "    }\n",
       "\n",
       "    .dataframe thead th {\n",
       "        text-align: right;\n",
       "    }\n",
       "</style>\n",
       "<table border=\"1\" class=\"dataframe\">\n",
       "  <thead>\n",
       "    <tr style=\"text-align: right;\">\n",
       "      <th></th>\n",
       "      <th>Id</th>\n",
       "      <th>START</th>\n",
       "      <th>STOP</th>\n",
       "      <th>PATIENT_ID</th>\n",
       "      <th>ORG_ID</th>\n",
       "      <th>PROVIDER_ID</th>\n",
       "      <th>PAYER_ID</th>\n",
       "      <th>DESCRIPTION</th>\n",
       "      <th>REASON</th>\n",
       "      <th>BASE_ENCOUNTER_COST</th>\n",
       "      <th>...</th>\n",
       "      <th>CITY</th>\n",
       "      <th>AGE</th>\n",
       "      <th>PATIENT_NAME</th>\n",
       "      <th>ORG_NAME</th>\n",
       "      <th>ORG_CITY</th>\n",
       "      <th>REVENUE</th>\n",
       "      <th>PROVIDER_NAME</th>\n",
       "      <th>GENDER</th>\n",
       "      <th>SPECIALITY</th>\n",
       "      <th>PAYER_NAME</th>\n",
       "    </tr>\n",
       "  </thead>\n",
       "  <tbody>\n",
       "    <tr>\n",
       "      <th>12938</th>\n",
       "      <td>78cda336-53df-41d6-a420-783907534933</td>\n",
       "      <td>2014-10-12T02:48:51Z</td>\n",
       "      <td>2014-10-12T03:03:51Z</td>\n",
       "      <td>0b6a83ae-fcb1-4b75-9ffa-d52898167d66</td>\n",
       "      <td>cd1de71e-98d1-3cba-8fd2-2b20331ff03f</td>\n",
       "      <td>ff06bdf1-8e9c-3c61-8b34-8bfa8712bed7</td>\n",
       "      <td>b1c428d6-4f07-31e0-90f0-68ffa6ff8c76</td>\n",
       "      <td>General examination of patient (procedure)</td>\n",
       "      <td>NaN</td>\n",
       "      <td>129.16</td>\n",
       "      <td>...</td>\n",
       "      <td>New Bedford</td>\n",
       "      <td>31.0</td>\n",
       "      <td>Shirley182 Wunsch504</td>\n",
       "      <td>PCP37542</td>\n",
       "      <td>S DARTMOUTH</td>\n",
       "      <td>4003.96</td>\n",
       "      <td>Gabriel934 Tejeda887</td>\n",
       "      <td>M</td>\n",
       "      <td>GENERAL PRACTICE</td>\n",
       "      <td>NO_INSURANCE</td>\n",
       "    </tr>\n",
       "    <tr>\n",
       "      <th>32626</th>\n",
       "      <td>48378ab5-e662-44c6-b199-bee936e4894a</td>\n",
       "      <td>2004-06-28T23:35:03Z</td>\n",
       "      <td>2004-06-28T23:50:03Z</td>\n",
       "      <td>475b2a8b-19a0-451a-b965-9c6bebf16434</td>\n",
       "      <td>12c9daf5-a29c-36c9-ac55-28972463e566</td>\n",
       "      <td>aa89beb2-7bc6-35fa-83f7-4b32039e84eb</td>\n",
       "      <td>7caa7254-5050-3b5e-9eae-bd5ea30e809c</td>\n",
       "      <td>Follow-up encounter</td>\n",
       "      <td>Hyperlipidemia</td>\n",
       "      <td>129.16</td>\n",
       "      <td>...</td>\n",
       "      <td>NaN</td>\n",
       "      <td>NaN</td>\n",
       "      <td>NaN</td>\n",
       "      <td>BETH ISRAEL DEACONESS HOSPITAL-MILTON INC</td>\n",
       "      <td>MILTON</td>\n",
       "      <td>253308.58</td>\n",
       "      <td>Sanford861 Gottlieb798</td>\n",
       "      <td>M</td>\n",
       "      <td>GENERAL PRACTICE</td>\n",
       "      <td>Medicare</td>\n",
       "    </tr>\n",
       "    <tr>\n",
       "      <th>39168</th>\n",
       "      <td>8df0e941-66e8-4561-b0d4-9d6b8d80b6d1</td>\n",
       "      <td>2011-04-01T12:13:45Z</td>\n",
       "      <td>2011-04-01T12:28:45Z</td>\n",
       "      <td>9384b3da-e034-46fe-bcca-dc19216662c2</td>\n",
       "      <td>24cb4eab-6166-3530-bddc-a5a8a14a4fc1</td>\n",
       "      <td>7bd4e666-a82d-3ad1-bc7c-b49eb726577b</td>\n",
       "      <td>4d71f845-a6a9-3c39-b242-14d25ef86a8d</td>\n",
       "      <td>Encounter for symptom</td>\n",
       "      <td>Viral sinusitis (disorder)</td>\n",
       "      <td>129.16</td>\n",
       "      <td>...</td>\n",
       "      <td>Bellingham</td>\n",
       "      <td>17.0</td>\n",
       "      <td>Wes853 Kessler503</td>\n",
       "      <td>MILFORD REGIONAL MEDICAL CENTER</td>\n",
       "      <td>MILFORD</td>\n",
       "      <td>336022.50</td>\n",
       "      <td>Lonna614 Dietrich576</td>\n",
       "      <td>F</td>\n",
       "      <td>GENERAL PRACTICE</td>\n",
       "      <td>Aetna</td>\n",
       "    </tr>\n",
       "  </tbody>\n",
       "</table>\n",
       "<p>3 rows × 23 columns</p>\n",
       "</div>"
      ],
      "text/plain": [
       "                                         Id                 START  \\\n",
       "12938  78cda336-53df-41d6-a420-783907534933  2014-10-12T02:48:51Z   \n",
       "32626  48378ab5-e662-44c6-b199-bee936e4894a  2004-06-28T23:35:03Z   \n",
       "39168  8df0e941-66e8-4561-b0d4-9d6b8d80b6d1  2011-04-01T12:13:45Z   \n",
       "\n",
       "                       STOP                            PATIENT_ID  \\\n",
       "12938  2014-10-12T03:03:51Z  0b6a83ae-fcb1-4b75-9ffa-d52898167d66   \n",
       "32626  2004-06-28T23:50:03Z  475b2a8b-19a0-451a-b965-9c6bebf16434   \n",
       "39168  2011-04-01T12:28:45Z  9384b3da-e034-46fe-bcca-dc19216662c2   \n",
       "\n",
       "                                     ORG_ID  \\\n",
       "12938  cd1de71e-98d1-3cba-8fd2-2b20331ff03f   \n",
       "32626  12c9daf5-a29c-36c9-ac55-28972463e566   \n",
       "39168  24cb4eab-6166-3530-bddc-a5a8a14a4fc1   \n",
       "\n",
       "                                PROVIDER_ID  \\\n",
       "12938  ff06bdf1-8e9c-3c61-8b34-8bfa8712bed7   \n",
       "32626  aa89beb2-7bc6-35fa-83f7-4b32039e84eb   \n",
       "39168  7bd4e666-a82d-3ad1-bc7c-b49eb726577b   \n",
       "\n",
       "                                   PAYER_ID  \\\n",
       "12938  b1c428d6-4f07-31e0-90f0-68ffa6ff8c76   \n",
       "32626  7caa7254-5050-3b5e-9eae-bd5ea30e809c   \n",
       "39168  4d71f845-a6a9-3c39-b242-14d25ef86a8d   \n",
       "\n",
       "                                      DESCRIPTION                      REASON  \\\n",
       "12938  General examination of patient (procedure)                         NaN   \n",
       "32626                         Follow-up encounter              Hyperlipidemia   \n",
       "39168                       Encounter for symptom  Viral sinusitis (disorder)   \n",
       "\n",
       "       BASE_ENCOUNTER_COST  ...         CITY   AGE          PATIENT_NAME  \\\n",
       "12938               129.16  ...  New Bedford  31.0  Shirley182 Wunsch504   \n",
       "32626               129.16  ...          NaN   NaN                   NaN   \n",
       "39168               129.16  ...   Bellingham  17.0     Wes853 Kessler503   \n",
       "\n",
       "                                        ORG_NAME     ORG_CITY    REVENUE  \\\n",
       "12938                                   PCP37542  S DARTMOUTH    4003.96   \n",
       "32626  BETH ISRAEL DEACONESS HOSPITAL-MILTON INC       MILTON  253308.58   \n",
       "39168            MILFORD REGIONAL MEDICAL CENTER      MILFORD  336022.50   \n",
       "\n",
       "                PROVIDER_NAME GENDER        SPECIALITY    PAYER_NAME  \n",
       "12938    Gabriel934 Tejeda887      M  GENERAL PRACTICE  NO_INSURANCE  \n",
       "32626  Sanford861 Gottlieb798      M  GENERAL PRACTICE      Medicare  \n",
       "39168    Lonna614 Dietrich576      F  GENERAL PRACTICE         Aetna  \n",
       "\n",
       "[3 rows x 23 columns]"
      ]
     },
     "execution_count": 25,
     "metadata": {},
     "output_type": "execute_result"
    }
   ],
   "source": [
    "# JOIN ON ENCOUNTERS\n",
    "encounter = encounter.join(payers,on=\"PAYER_ID\")\n",
    "\n",
    "encounter.sample(3)"
   ]
  },
  {
   "cell_type": "markdown",
   "metadata": {},
   "source": [
    "### Lets clean up the Encounter Table a little bit"
   ]
  },
  {
   "cell_type": "code",
   "execution_count": 26,
   "metadata": {},
   "outputs": [
    {
     "data": {
      "text/plain": [
       "Index(['Id', 'START', 'STOP', 'PATIENT_ID', 'ORG_ID', 'PROVIDER_ID',\n",
       "       'PAYER_ID', 'DESCRIPTION', 'REASON', 'BASE_ENCOUNTER_COST',\n",
       "       'PAYER_COVERAGE', 'ENCOUNTERCLASS', 'BIRTHDATE', 'CITY', 'AGE',\n",
       "       'PATIENT_NAME', 'ORG_NAME', 'ORG_CITY', 'REVENUE', 'PROVIDER_NAME',\n",
       "       'GENDER', 'SPECIALITY', 'PAYER_NAME'],\n",
       "      dtype='object')"
      ]
     },
     "execution_count": 26,
     "metadata": {},
     "output_type": "execute_result"
    }
   ],
   "source": [
    "#LIST THE COLUMNS IN ENCOUNTER\n",
    "encounter.columns"
   ]
  },
  {
   "cell_type": "code",
   "execution_count": 27,
   "metadata": {},
   "outputs": [
    {
     "data": {
      "text/html": [
       "<div>\n",
       "<style scoped>\n",
       "    .dataframe tbody tr th:only-of-type {\n",
       "        vertical-align: middle;\n",
       "    }\n",
       "\n",
       "    .dataframe tbody tr th {\n",
       "        vertical-align: top;\n",
       "    }\n",
       "\n",
       "    .dataframe thead th {\n",
       "        text-align: right;\n",
       "    }\n",
       "</style>\n",
       "<table border=\"1\" class=\"dataframe\">\n",
       "  <thead>\n",
       "    <tr style=\"text-align: right;\">\n",
       "      <th></th>\n",
       "      <th>Id</th>\n",
       "      <th>START</th>\n",
       "      <th>STOP</th>\n",
       "      <th>PATIENT_NAME</th>\n",
       "      <th>AGE</th>\n",
       "      <th>CITY</th>\n",
       "      <th>DESCRIPTION</th>\n",
       "      <th>REASON</th>\n",
       "      <th>ENCOUNTERCLASS</th>\n",
       "      <th>BASE_ENCOUNTER_COST</th>\n",
       "      <th>PAYER_COVERAGE</th>\n",
       "      <th>ORG_NAME</th>\n",
       "      <th>ORG_CITY</th>\n",
       "      <th>REVENUE</th>\n",
       "      <th>PROVIDER_NAME</th>\n",
       "      <th>SPECIALITY</th>\n",
       "      <th>PAYER_NAME</th>\n",
       "    </tr>\n",
       "  </thead>\n",
       "  <tbody>\n",
       "    <tr>\n",
       "      <th>42469</th>\n",
       "      <td>b80fdb41-9cf4-4287-951a-200c123d79da</td>\n",
       "      <td>2012-07-03T00:54:28Z</td>\n",
       "      <td>2012-07-03T01:24:28Z</td>\n",
       "      <td>Richard937 Rice937</td>\n",
       "      <td>76.0</td>\n",
       "      <td>Greenfield</td>\n",
       "      <td>Domiciliary or rest home patient evaluation an...</td>\n",
       "      <td>NaN</td>\n",
       "      <td>ambulatory</td>\n",
       "      <td>129.16</td>\n",
       "      <td>29.16</td>\n",
       "      <td>BAYSTATE FRANKLIN MEDICAL CENTER</td>\n",
       "      <td>GREENFIELD</td>\n",
       "      <td>137761.90</td>\n",
       "      <td>Von197 Mraz590</td>\n",
       "      <td>GENERAL PRACTICE</td>\n",
       "      <td>Dual Eligible</td>\n",
       "    </tr>\n",
       "    <tr>\n",
       "      <th>37997</th>\n",
       "      <td>101b1534-a86c-4c16-82b9-5c6c3f29bd8a</td>\n",
       "      <td>2018-05-14T19:46:25Z</td>\n",
       "      <td>2018-05-14T20:01:25Z</td>\n",
       "      <td>Stanford577 Stanton715</td>\n",
       "      <td>27.0</td>\n",
       "      <td>Holyoke</td>\n",
       "      <td>Encounter for check up (procedure)</td>\n",
       "      <td>NaN</td>\n",
       "      <td>outpatient</td>\n",
       "      <td>129.16</td>\n",
       "      <td>0.00</td>\n",
       "      <td>HOLYOKE MEDICAL CENTER</td>\n",
       "      <td>HOLYOKE</td>\n",
       "      <td>327601.37</td>\n",
       "      <td>Garth972 Wyman904</td>\n",
       "      <td>GENERAL PRACTICE</td>\n",
       "      <td>NO_INSURANCE</td>\n",
       "    </tr>\n",
       "    <tr>\n",
       "      <th>17197</th>\n",
       "      <td>6225b710-4ed6-479d-94b5-c709c1243d1a</td>\n",
       "      <td>2010-10-13T00:59:10Z</td>\n",
       "      <td>2010-10-13T01:14:10Z</td>\n",
       "      <td>Gale827 Reynolds644</td>\n",
       "      <td>80.0</td>\n",
       "      <td>Newburyport</td>\n",
       "      <td>General examination of patient (procedure)</td>\n",
       "      <td>NaN</td>\n",
       "      <td>wellness</td>\n",
       "      <td>129.16</td>\n",
       "      <td>129.16</td>\n",
       "      <td>PCP661</td>\n",
       "      <td>NEWBURY</td>\n",
       "      <td>14078.44</td>\n",
       "      <td>Phil587 Grimes165</td>\n",
       "      <td>GENERAL PRACTICE</td>\n",
       "      <td>Medicare</td>\n",
       "    </tr>\n",
       "  </tbody>\n",
       "</table>\n",
       "</div>"
      ],
      "text/plain": [
       "                                         Id                 START  \\\n",
       "42469  b80fdb41-9cf4-4287-951a-200c123d79da  2012-07-03T00:54:28Z   \n",
       "37997  101b1534-a86c-4c16-82b9-5c6c3f29bd8a  2018-05-14T19:46:25Z   \n",
       "17197  6225b710-4ed6-479d-94b5-c709c1243d1a  2010-10-13T00:59:10Z   \n",
       "\n",
       "                       STOP            PATIENT_NAME   AGE         CITY  \\\n",
       "42469  2012-07-03T01:24:28Z      Richard937 Rice937  76.0   Greenfield   \n",
       "37997  2018-05-14T20:01:25Z  Stanford577 Stanton715  27.0      Holyoke   \n",
       "17197  2010-10-13T01:14:10Z     Gale827 Reynolds644  80.0  Newburyport   \n",
       "\n",
       "                                             DESCRIPTION REASON  \\\n",
       "42469  Domiciliary or rest home patient evaluation an...    NaN   \n",
       "37997                 Encounter for check up (procedure)    NaN   \n",
       "17197         General examination of patient (procedure)    NaN   \n",
       "\n",
       "      ENCOUNTERCLASS  BASE_ENCOUNTER_COST  PAYER_COVERAGE  \\\n",
       "42469     ambulatory               129.16           29.16   \n",
       "37997     outpatient               129.16            0.00   \n",
       "17197       wellness               129.16          129.16   \n",
       "\n",
       "                               ORG_NAME    ORG_CITY    REVENUE  \\\n",
       "42469  BAYSTATE FRANKLIN MEDICAL CENTER  GREENFIELD  137761.90   \n",
       "37997            HOLYOKE MEDICAL CENTER     HOLYOKE  327601.37   \n",
       "17197                            PCP661     NEWBURY   14078.44   \n",
       "\n",
       "           PROVIDER_NAME        SPECIALITY     PAYER_NAME  \n",
       "42469     Von197 Mraz590  GENERAL PRACTICE  Dual Eligible  \n",
       "37997  Garth972 Wyman904  GENERAL PRACTICE   NO_INSURANCE  \n",
       "17197  Phil587 Grimes165  GENERAL PRACTICE       Medicare  "
      ]
     },
     "execution_count": 27,
     "metadata": {},
     "output_type": "execute_result"
    }
   ],
   "source": [
    "# only select a few columns in it\n",
    "\n",
    "\n",
    "\n",
    "encounter = encounter[[\"Id\",\"START\",\"STOP\",\"PATIENT_NAME\",\"AGE\",\"CITY\",\n",
    "                     \"DESCRIPTION\",\"REASON\",\"ENCOUNTERCLASS\",\n",
    "                     \"BASE_ENCOUNTER_COST\",\"PAYER_COVERAGE\",\n",
    "                     \"ORG_NAME\",\"ORG_CITY\",\"REVENUE\",\n",
    "                     \"PROVIDER_NAME\",\"SPECIALITY\",\"PAYER_NAME\"]]\n",
    "\n",
    "encounter.sample(3)"
   ]
  },
  {
   "cell_type": "code",
   "execution_count": null,
   "metadata": {},
   "outputs": [],
   "source": [
    "# LETS CREATE A COLUMN YEAR THAT CALCULATES THE YEAR FROM 'START'"
   ]
  },
  {
   "cell_type": "code",
   "execution_count": 28,
   "metadata": {},
   "outputs": [
    {
     "name": "stderr",
     "output_type": "stream",
     "text": [
      "/home/riz-ryu/miniconda3/envs/stm/lib/python3.7/site-packages/ipykernel_launcher.py:1: SettingWithCopyWarning:\n",
      "\n",
      "\n",
      "A value is trying to be set on a copy of a slice from a DataFrame.\n",
      "Try using .loc[row_indexer,col_indexer] = value instead\n",
      "\n",
      "See the caveats in the documentation: https://pandas.pydata.org/pandas-docs/stable/user_guide/indexing.html#returning-a-view-versus-a-copy\n",
      "\n",
      "/home/riz-ryu/miniconda3/envs/stm/lib/python3.7/site-packages/ipykernel_launcher.py:3: SettingWithCopyWarning:\n",
      "\n",
      "\n",
      "A value is trying to be set on a copy of a slice from a DataFrame.\n",
      "Try using .loc[row_indexer,col_indexer] = value instead\n",
      "\n",
      "See the caveats in the documentation: https://pandas.pydata.org/pandas-docs/stable/user_guide/indexing.html#returning-a-view-versus-a-copy\n",
      "\n"
     ]
    },
    {
     "data": {
      "text/html": [
       "<div>\n",
       "<style scoped>\n",
       "    .dataframe tbody tr th:only-of-type {\n",
       "        vertical-align: middle;\n",
       "    }\n",
       "\n",
       "    .dataframe tbody tr th {\n",
       "        vertical-align: top;\n",
       "    }\n",
       "\n",
       "    .dataframe thead th {\n",
       "        text-align: right;\n",
       "    }\n",
       "</style>\n",
       "<table border=\"1\" class=\"dataframe\">\n",
       "  <thead>\n",
       "    <tr style=\"text-align: right;\">\n",
       "      <th></th>\n",
       "      <th>Id</th>\n",
       "      <th>START</th>\n",
       "      <th>STOP</th>\n",
       "      <th>PATIENT_NAME</th>\n",
       "      <th>AGE</th>\n",
       "      <th>CITY</th>\n",
       "      <th>DESCRIPTION</th>\n",
       "      <th>REASON</th>\n",
       "      <th>ENCOUNTERCLASS</th>\n",
       "      <th>BASE_ENCOUNTER_COST</th>\n",
       "      <th>PAYER_COVERAGE</th>\n",
       "      <th>ORG_NAME</th>\n",
       "      <th>ORG_CITY</th>\n",
       "      <th>REVENUE</th>\n",
       "      <th>PROVIDER_NAME</th>\n",
       "      <th>SPECIALITY</th>\n",
       "      <th>PAYER_NAME</th>\n",
       "      <th>YEAR</th>\n",
       "    </tr>\n",
       "  </thead>\n",
       "  <tbody>\n",
       "    <tr>\n",
       "      <th>28656</th>\n",
       "      <td>7036679e-354d-4315-b982-3f8f1afd35fe</td>\n",
       "      <td>2011-10-24 17:42:20+00:00</td>\n",
       "      <td>2011-10-24T17:57:20Z</td>\n",
       "      <td>Wilber603 Schinner682</td>\n",
       "      <td>70.0</td>\n",
       "      <td>Lynn</td>\n",
       "      <td>Telemedicine consultation with patient</td>\n",
       "      <td>Chronic congestive heart failure (disorder)</td>\n",
       "      <td>ambulatory</td>\n",
       "      <td>129.16</td>\n",
       "      <td>54.16</td>\n",
       "      <td>HALLMARK HEALTH SYSTEM</td>\n",
       "      <td>MELROSE</td>\n",
       "      <td>561587.35</td>\n",
       "      <td>Vern731 Powlowski563</td>\n",
       "      <td>GENERAL PRACTICE</td>\n",
       "      <td>Blue Cross Blue Shield</td>\n",
       "      <td>2011</td>\n",
       "    </tr>\n",
       "    <tr>\n",
       "      <th>14034</th>\n",
       "      <td>91d4618e-69e8-45a9-8a9f-fe9f219548f6</td>\n",
       "      <td>1993-04-20 09:14:06+00:00</td>\n",
       "      <td>1993-04-20T09:29:06Z</td>\n",
       "      <td>Ellamae709 Bins636</td>\n",
       "      <td>58.0</td>\n",
       "      <td>Ware</td>\n",
       "      <td>General examination of patient (procedure)</td>\n",
       "      <td>NaN</td>\n",
       "      <td>wellness</td>\n",
       "      <td>129.16</td>\n",
       "      <td>69.16</td>\n",
       "      <td>RADIOLOGY AND IMAGING  INC.</td>\n",
       "      <td>WARE</td>\n",
       "      <td>8395.40</td>\n",
       "      <td>Lilla884 Marvin195</td>\n",
       "      <td>GENERAL PRACTICE</td>\n",
       "      <td>Cigna Health</td>\n",
       "      <td>1993</td>\n",
       "    </tr>\n",
       "    <tr>\n",
       "      <th>42944</th>\n",
       "      <td>5084589f-fdfa-4e23-9b99-3cde72586195</td>\n",
       "      <td>1994-02-17 07:21:57+00:00</td>\n",
       "      <td>1994-02-17T07:36:57Z</td>\n",
       "      <td>Sam879 Corkery305</td>\n",
       "      <td>66.0</td>\n",
       "      <td>Swansea</td>\n",
       "      <td>Encounter for check up (procedure)</td>\n",
       "      <td>NaN</td>\n",
       "      <td>outpatient</td>\n",
       "      <td>129.16</td>\n",
       "      <td>0.00</td>\n",
       "      <td>SOUTHCOAST HOSPITAL GROUP  INC</td>\n",
       "      <td>FALL RIVER</td>\n",
       "      <td>222412.59</td>\n",
       "      <td>Myong12 Heidenreich818</td>\n",
       "      <td>GENERAL PRACTICE</td>\n",
       "      <td>NO_INSURANCE</td>\n",
       "      <td>1994</td>\n",
       "    </tr>\n",
       "  </tbody>\n",
       "</table>\n",
       "</div>"
      ],
      "text/plain": [
       "                                         Id                     START  \\\n",
       "28656  7036679e-354d-4315-b982-3f8f1afd35fe 2011-10-24 17:42:20+00:00   \n",
       "14034  91d4618e-69e8-45a9-8a9f-fe9f219548f6 1993-04-20 09:14:06+00:00   \n",
       "42944  5084589f-fdfa-4e23-9b99-3cde72586195 1994-02-17 07:21:57+00:00   \n",
       "\n",
       "                       STOP           PATIENT_NAME   AGE     CITY  \\\n",
       "28656  2011-10-24T17:57:20Z  Wilber603 Schinner682  70.0     Lynn   \n",
       "14034  1993-04-20T09:29:06Z     Ellamae709 Bins636  58.0     Ware   \n",
       "42944  1994-02-17T07:36:57Z      Sam879 Corkery305  66.0  Swansea   \n",
       "\n",
       "                                      DESCRIPTION  \\\n",
       "28656      Telemedicine consultation with patient   \n",
       "14034  General examination of patient (procedure)   \n",
       "42944          Encounter for check up (procedure)   \n",
       "\n",
       "                                            REASON ENCOUNTERCLASS  \\\n",
       "28656  Chronic congestive heart failure (disorder)     ambulatory   \n",
       "14034                                          NaN       wellness   \n",
       "42944                                          NaN     outpatient   \n",
       "\n",
       "       BASE_ENCOUNTER_COST  PAYER_COVERAGE                        ORG_NAME  \\\n",
       "28656               129.16           54.16          HALLMARK HEALTH SYSTEM   \n",
       "14034               129.16           69.16     RADIOLOGY AND IMAGING  INC.   \n",
       "42944               129.16            0.00  SOUTHCOAST HOSPITAL GROUP  INC   \n",
       "\n",
       "         ORG_CITY    REVENUE           PROVIDER_NAME        SPECIALITY  \\\n",
       "28656     MELROSE  561587.35    Vern731 Powlowski563  GENERAL PRACTICE   \n",
       "14034        WARE    8395.40      Lilla884 Marvin195  GENERAL PRACTICE   \n",
       "42944  FALL RIVER  222412.59  Myong12 Heidenreich818  GENERAL PRACTICE   \n",
       "\n",
       "                   PAYER_NAME  YEAR  \n",
       "28656  Blue Cross Blue Shield  2011  \n",
       "14034            Cigna Health  1993  \n",
       "42944            NO_INSURANCE  1994  "
      ]
     },
     "execution_count": 28,
     "metadata": {},
     "output_type": "execute_result"
    }
   ],
   "source": [
    "encounter[\"START\"]=pd.to_datetime(encounter[\"START\"],format=\"%Y-%m-%d\")\n",
    "\n",
    "encounter[\"YEAR\"] = encounter[\"START\"].apply(lambda x:x.year)\n",
    "\n",
    "encounter.sample(3)"
   ]
  },
  {
   "cell_type": "code",
   "execution_count": 29,
   "metadata": {},
   "outputs": [
    {
     "data": {
      "text/plain": [
       "2014    3178\n",
       "2017    3153\n",
       "2016    3148\n",
       "2018    3090\n",
       "2015    3063\n",
       "        ... \n",
       "1929       2\n",
       "1918       2\n",
       "1919       2\n",
       "1922       2\n",
       "1913       1\n",
       "Name: YEAR, Length: 108, dtype: int64"
      ]
     },
     "execution_count": 29,
     "metadata": {},
     "output_type": "execute_result"
    }
   ],
   "source": [
    "encounter[\"YEAR\"].value_counts()"
   ]
  },
  {
   "cell_type": "code",
   "execution_count": 30,
   "metadata": {},
   "outputs": [],
   "source": [
    "# SELECT ROWS WHERE YEAR >= 2010\n",
    "encounter = encounter[encounter[\"YEAR\"]>=2010]"
   ]
  },
  {
   "cell_type": "code",
   "execution_count": 31,
   "metadata": {},
   "outputs": [],
   "source": [
    "encounter.to_csv(\"consolidated.csv\")"
   ]
  },
  {
   "cell_type": "code",
   "execution_count": null,
   "metadata": {},
   "outputs": [],
   "source": []
  },
  {
   "cell_type": "code",
   "execution_count": null,
   "metadata": {},
   "outputs": [],
   "source": []
  },
  {
   "cell_type": "code",
   "execution_count": 62,
   "metadata": {},
   "outputs": [],
   "source": [
    "encounter=pd.read_csv(\"https://raw.githubusercontent.com/vedashree29296/healthcare-eda/master/consolidated.csv\",index_col=0)"
   ]
  },
  {
   "cell_type": "code",
   "execution_count": 63,
   "metadata": {},
   "outputs": [
    {
     "data": {
      "text/html": [
       "<div>\n",
       "<style scoped>\n",
       "    .dataframe tbody tr th:only-of-type {\n",
       "        vertical-align: middle;\n",
       "    }\n",
       "\n",
       "    .dataframe tbody tr th {\n",
       "        vertical-align: top;\n",
       "    }\n",
       "\n",
       "    .dataframe thead th {\n",
       "        text-align: right;\n",
       "    }\n",
       "</style>\n",
       "<table border=\"1\" class=\"dataframe\">\n",
       "  <thead>\n",
       "    <tr style=\"text-align: right;\">\n",
       "      <th></th>\n",
       "      <th>Id</th>\n",
       "      <th>START</th>\n",
       "      <th>STOP</th>\n",
       "      <th>PATIENT_NAME</th>\n",
       "      <th>AGE</th>\n",
       "      <th>CITY</th>\n",
       "      <th>DESCRIPTION</th>\n",
       "      <th>REASON</th>\n",
       "      <th>ENCOUNTERCLASS</th>\n",
       "      <th>BASE_ENCOUNTER_COST</th>\n",
       "      <th>PAYER_COVERAGE</th>\n",
       "      <th>ORG_NAME</th>\n",
       "      <th>ORG_CITY</th>\n",
       "      <th>REVENUE</th>\n",
       "      <th>PROVIDER_NAME</th>\n",
       "      <th>SPECIALITY</th>\n",
       "      <th>PAYER_NAME</th>\n",
       "      <th>YEAR</th>\n",
       "    </tr>\n",
       "  </thead>\n",
       "  <tbody>\n",
       "    <tr>\n",
       "      <th>49941</th>\n",
       "      <td>01316031-e42b-40f2-ae10-f36b547d47b6</td>\n",
       "      <td>2016-08-24 13:40:53+00:00</td>\n",
       "      <td>2016-08-24T13:55:53Z</td>\n",
       "      <td>Ali918 Maggio310</td>\n",
       "      <td>43.0</td>\n",
       "      <td>Boston</td>\n",
       "      <td>Encounter for problem (procedure)</td>\n",
       "      <td>NaN</td>\n",
       "      <td>outpatient</td>\n",
       "      <td>129.16</td>\n",
       "      <td>69.16</td>\n",
       "      <td>CAMBRIDGE HEALTH ALLIANCE</td>\n",
       "      <td>CAMBRIDGE</td>\n",
       "      <td>406053.19</td>\n",
       "      <td>Jeanmarie510 Beatty507</td>\n",
       "      <td>GENERAL PRACTICE</td>\n",
       "      <td>Medicaid</td>\n",
       "      <td>2016</td>\n",
       "    </tr>\n",
       "    <tr>\n",
       "      <th>43374</th>\n",
       "      <td>8a96f27d-ddcb-4a0e-969a-1f1fab7a1e85</td>\n",
       "      <td>2014-10-12 13:46:06+00:00</td>\n",
       "      <td>2014-10-12T14:01:06Z</td>\n",
       "      <td>Virginia437 Calvillo618</td>\n",
       "      <td>29.0</td>\n",
       "      <td>Boston</td>\n",
       "      <td>Encounter for problem (procedure)</td>\n",
       "      <td>NaN</td>\n",
       "      <td>outpatient</td>\n",
       "      <td>129.16</td>\n",
       "      <td>69.16</td>\n",
       "      <td>BOSTON CHILDREN'S HOSPITAL</td>\n",
       "      <td>BOSTON</td>\n",
       "      <td>51793.16</td>\n",
       "      <td>Tisha655 Dickens475</td>\n",
       "      <td>GENERAL PRACTICE</td>\n",
       "      <td>Medicaid</td>\n",
       "      <td>2014</td>\n",
       "    </tr>\n",
       "    <tr>\n",
       "      <th>44156</th>\n",
       "      <td>f4d493e8-2a81-4ce1-a1b7-3728721e639f</td>\n",
       "      <td>2010-11-17 12:00:58+00:00</td>\n",
       "      <td>2010-11-17T12:30:58Z</td>\n",
       "      <td>Marica887 Casper496</td>\n",
       "      <td>54.0</td>\n",
       "      <td>Lynn</td>\n",
       "      <td>General examination of patient (procedure)</td>\n",
       "      <td>NaN</td>\n",
       "      <td>wellness</td>\n",
       "      <td>129.16</td>\n",
       "      <td>129.16</td>\n",
       "      <td>PCP131358</td>\n",
       "      <td>SAUGUS</td>\n",
       "      <td>5553.88</td>\n",
       "      <td>Stephenie799 Vandervort697</td>\n",
       "      <td>GENERAL PRACTICE</td>\n",
       "      <td>Medicaid</td>\n",
       "      <td>2010</td>\n",
       "    </tr>\n",
       "  </tbody>\n",
       "</table>\n",
       "</div>"
      ],
      "text/plain": [
       "                                         Id                      START  \\\n",
       "49941  01316031-e42b-40f2-ae10-f36b547d47b6  2016-08-24 13:40:53+00:00   \n",
       "43374  8a96f27d-ddcb-4a0e-969a-1f1fab7a1e85  2014-10-12 13:46:06+00:00   \n",
       "44156  f4d493e8-2a81-4ce1-a1b7-3728721e639f  2010-11-17 12:00:58+00:00   \n",
       "\n",
       "                       STOP             PATIENT_NAME   AGE    CITY  \\\n",
       "49941  2016-08-24T13:55:53Z         Ali918 Maggio310  43.0  Boston   \n",
       "43374  2014-10-12T14:01:06Z  Virginia437 Calvillo618  29.0  Boston   \n",
       "44156  2010-11-17T12:30:58Z      Marica887 Casper496  54.0    Lynn   \n",
       "\n",
       "                                      DESCRIPTION REASON ENCOUNTERCLASS  \\\n",
       "49941           Encounter for problem (procedure)    NaN     outpatient   \n",
       "43374           Encounter for problem (procedure)    NaN     outpatient   \n",
       "44156  General examination of patient (procedure)    NaN       wellness   \n",
       "\n",
       "       BASE_ENCOUNTER_COST  PAYER_COVERAGE                    ORG_NAME  \\\n",
       "49941               129.16           69.16   CAMBRIDGE HEALTH ALLIANCE   \n",
       "43374               129.16           69.16  BOSTON CHILDREN'S HOSPITAL   \n",
       "44156               129.16          129.16                   PCP131358   \n",
       "\n",
       "        ORG_CITY    REVENUE               PROVIDER_NAME        SPECIALITY  \\\n",
       "49941  CAMBRIDGE  406053.19      Jeanmarie510 Beatty507  GENERAL PRACTICE   \n",
       "43374     BOSTON   51793.16         Tisha655 Dickens475  GENERAL PRACTICE   \n",
       "44156     SAUGUS    5553.88  Stephenie799 Vandervort697  GENERAL PRACTICE   \n",
       "\n",
       "      PAYER_NAME  YEAR  \n",
       "49941   Medicaid  2016  \n",
       "43374   Medicaid  2014  \n",
       "44156   Medicaid  2010  "
      ]
     },
     "execution_count": 63,
     "metadata": {},
     "output_type": "execute_result"
    }
   ],
   "source": [
    "encounter.sample(3)"
   ]
  },
  {
   "cell_type": "markdown",
   "metadata": {},
   "source": [
    "#### Lets answer certain general questions for now"
   ]
  },
  {
   "cell_type": "markdown",
   "metadata": {},
   "source": [
    "### I - How has the year wise trend been with the Insurance companies ? \n",
    "\n",
    "We're going to use a simple animation using plotly"
   ]
  },
  {
   "cell_type": "code",
   "execution_count": 66,
   "metadata": {},
   "outputs": [
    {
     "data": {
      "application/vnd.plotly.v1+json": {
       "config": {
        "plotlyServerURL": "https://plot.ly"
       },
       "data": [
        {
         "alignmentgroup": "True",
         "hoverlabel": {
          "namelength": 0
         },
         "hovertemplate": "YEAR=2010<br>PAYER_NAME=%{x}<br>Id=%{y}",
         "legendgroup": "",
         "marker": {
          "color": "#636efa"
         },
         "name": "",
         "offsetgroup": "",
         "orientation": "v",
         "showlegend": false,
         "textposition": "auto",
         "type": "bar",
         "x": [
          "Aetna",
          "Anthem",
          "Blue Cross Blue Shield",
          "Cigna Health",
          "Dual Eligible",
          "Humana",
          "Medicaid",
          "Medicare",
          "NO_INSURANCE",
          "UnitedHealthcare"
         ],
         "xaxis": "x",
         "y": [
          169,
          76,
          255,
          180,
          32,
          173,
          338,
          278,
          391,
          191
         ],
         "yaxis": "y"
        }
       ],
       "frames": [
        {
         "data": [
          {
           "alignmentgroup": "True",
           "hoverlabel": {
            "namelength": 0
           },
           "hovertemplate": "YEAR=2010<br>PAYER_NAME=%{x}<br>Id=%{y}",
           "legendgroup": "",
           "marker": {
            "color": "#636efa"
           },
           "name": "",
           "offsetgroup": "",
           "orientation": "v",
           "showlegend": false,
           "textposition": "auto",
           "type": "bar",
           "x": [
            "Aetna",
            "Anthem",
            "Blue Cross Blue Shield",
            "Cigna Health",
            "Dual Eligible",
            "Humana",
            "Medicaid",
            "Medicare",
            "NO_INSURANCE",
            "UnitedHealthcare"
           ],
           "xaxis": "x",
           "y": [
            169,
            76,
            255,
            180,
            32,
            173,
            338,
            278,
            391,
            191
           ],
           "yaxis": "y"
          }
         ],
         "name": "2010"
        },
        {
         "data": [
          {
           "alignmentgroup": "True",
           "hoverlabel": {
            "namelength": 0
           },
           "hovertemplate": "YEAR=2011<br>PAYER_NAME=%{x}<br>Id=%{y}",
           "legendgroup": "",
           "marker": {
            "color": "#636efa"
           },
           "name": "",
           "offsetgroup": "",
           "orientation": "v",
           "showlegend": false,
           "textposition": "auto",
           "type": "bar",
           "x": [
            "Aetna",
            "Anthem",
            "Blue Cross Blue Shield",
            "Cigna Health",
            "Dual Eligible",
            "Humana",
            "Medicaid",
            "Medicare",
            "NO_INSURANCE",
            "UnitedHealthcare"
           ],
           "xaxis": "x",
           "y": [
            196,
            112,
            450,
            193,
            51,
            227,
            553,
            319,
            561,
            317
           ],
           "yaxis": "y"
          }
         ],
         "name": "2011"
        },
        {
         "data": [
          {
           "alignmentgroup": "True",
           "hoverlabel": {
            "namelength": 0
           },
           "hovertemplate": "YEAR=2012<br>PAYER_NAME=%{x}<br>Id=%{y}",
           "legendgroup": "",
           "marker": {
            "color": "#636efa"
           },
           "name": "",
           "offsetgroup": "",
           "orientation": "v",
           "showlegend": false,
           "textposition": "auto",
           "type": "bar",
           "x": [
            "Aetna",
            "Anthem",
            "Blue Cross Blue Shield",
            "Cigna Health",
            "Dual Eligible",
            "Humana",
            "Medicaid",
            "Medicare",
            "NO_INSURANCE",
            "UnitedHealthcare"
           ],
           "xaxis": "x",
           "y": [
            175,
            107,
            423,
            232,
            52,
            204,
            523,
            397,
            511,
            266
           ],
           "yaxis": "y"
          }
         ],
         "name": "2012"
        },
        {
         "data": [
          {
           "alignmentgroup": "True",
           "hoverlabel": {
            "namelength": 0
           },
           "hovertemplate": "YEAR=2013<br>PAYER_NAME=%{x}<br>Id=%{y}",
           "legendgroup": "",
           "marker": {
            "color": "#636efa"
           },
           "name": "",
           "offsetgroup": "",
           "orientation": "v",
           "showlegend": false,
           "textposition": "auto",
           "type": "bar",
           "x": [
            "Aetna",
            "Anthem",
            "Blue Cross Blue Shield",
            "Cigna Health",
            "Dual Eligible",
            "Humana",
            "Medicaid",
            "Medicare",
            "NO_INSURANCE",
            "UnitedHealthcare"
           ],
           "xaxis": "x",
           "y": [
            214,
            116,
            364,
            224,
            51,
            235,
            510,
            499,
            558,
            287
           ],
           "yaxis": "y"
          }
         ],
         "name": "2013"
        },
        {
         "data": [
          {
           "alignmentgroup": "True",
           "hoverlabel": {
            "namelength": 0
           },
           "hovertemplate": "YEAR=2014<br>PAYER_NAME=%{x}<br>Id=%{y}",
           "legendgroup": "",
           "marker": {
            "color": "#636efa"
           },
           "name": "",
           "offsetgroup": "",
           "orientation": "v",
           "showlegend": false,
           "textposition": "auto",
           "type": "bar",
           "x": [
            "Aetna",
            "Anthem",
            "Blue Cross Blue Shield",
            "Cigna Health",
            "Dual Eligible",
            "Humana",
            "Medicaid",
            "Medicare",
            "NO_INSURANCE",
            "UnitedHealthcare"
           ],
           "xaxis": "x",
           "y": [
            208,
            110,
            404,
            199,
            55,
            266,
            483,
            622,
            539,
            292
           ],
           "yaxis": "y"
          }
         ],
         "name": "2014"
        },
        {
         "data": [
          {
           "alignmentgroup": "True",
           "hoverlabel": {
            "namelength": 0
           },
           "hovertemplate": "YEAR=2015<br>PAYER_NAME=%{x}<br>Id=%{y}",
           "legendgroup": "",
           "marker": {
            "color": "#636efa"
           },
           "name": "",
           "offsetgroup": "",
           "orientation": "v",
           "showlegend": false,
           "textposition": "auto",
           "type": "bar",
           "x": [
            "Aetna",
            "Anthem",
            "Blue Cross Blue Shield",
            "Cigna Health",
            "Dual Eligible",
            "Humana",
            "Medicaid",
            "Medicare",
            "NO_INSURANCE",
            "UnitedHealthcare"
           ],
           "xaxis": "x",
           "y": [
            230,
            106,
            360,
            216,
            59,
            249,
            462,
            531,
            589,
            261
           ],
           "yaxis": "y"
          }
         ],
         "name": "2015"
        },
        {
         "data": [
          {
           "alignmentgroup": "True",
           "hoverlabel": {
            "namelength": 0
           },
           "hovertemplate": "YEAR=2016<br>PAYER_NAME=%{x}<br>Id=%{y}",
           "legendgroup": "",
           "marker": {
            "color": "#636efa"
           },
           "name": "",
           "offsetgroup": "",
           "orientation": "v",
           "showlegend": false,
           "textposition": "auto",
           "type": "bar",
           "x": [
            "Aetna",
            "Anthem",
            "Blue Cross Blue Shield",
            "Cigna Health",
            "Dual Eligible",
            "Humana",
            "Medicaid",
            "Medicare",
            "NO_INSURANCE",
            "UnitedHealthcare"
           ],
           "xaxis": "x",
           "y": [
            246,
            97,
            409,
            210,
            42,
            259,
            501,
            534,
            587,
            263
           ],
           "yaxis": "y"
          }
         ],
         "name": "2016"
        },
        {
         "data": [
          {
           "alignmentgroup": "True",
           "hoverlabel": {
            "namelength": 0
           },
           "hovertemplate": "YEAR=2017<br>PAYER_NAME=%{x}<br>Id=%{y}",
           "legendgroup": "",
           "marker": {
            "color": "#636efa"
           },
           "name": "",
           "offsetgroup": "",
           "orientation": "v",
           "showlegend": false,
           "textposition": "auto",
           "type": "bar",
           "x": [
            "Aetna",
            "Anthem",
            "Blue Cross Blue Shield",
            "Cigna Health",
            "Dual Eligible",
            "Humana",
            "Medicaid",
            "Medicare",
            "NO_INSURANCE",
            "UnitedHealthcare"
           ],
           "xaxis": "x",
           "y": [
            211,
            117,
            396,
            203,
            45,
            265,
            529,
            573,
            555,
            259
           ],
           "yaxis": "y"
          }
         ],
         "name": "2017"
        },
        {
         "data": [
          {
           "alignmentgroup": "True",
           "hoverlabel": {
            "namelength": 0
           },
           "hovertemplate": "YEAR=2018<br>PAYER_NAME=%{x}<br>Id=%{y}",
           "legendgroup": "",
           "marker": {
            "color": "#636efa"
           },
           "name": "",
           "offsetgroup": "",
           "orientation": "v",
           "showlegend": false,
           "textposition": "auto",
           "type": "bar",
           "x": [
            "Aetna",
            "Anthem",
            "Blue Cross Blue Shield",
            "Cigna Health",
            "Dual Eligible",
            "Humana",
            "Medicaid",
            "Medicare",
            "NO_INSURANCE",
            "UnitedHealthcare"
           ],
           "xaxis": "x",
           "y": [
            196,
            114,
            348,
            223,
            55,
            277,
            496,
            561,
            600,
            220
           ],
           "yaxis": "y"
          }
         ],
         "name": "2018"
        },
        {
         "data": [
          {
           "alignmentgroup": "True",
           "hoverlabel": {
            "namelength": 0
           },
           "hovertemplate": "YEAR=2019<br>PAYER_NAME=%{x}<br>Id=%{y}",
           "legendgroup": "",
           "marker": {
            "color": "#636efa"
           },
           "name": "",
           "offsetgroup": "",
           "orientation": "v",
           "showlegend": false,
           "textposition": "auto",
           "type": "bar",
           "x": [
            "Aetna",
            "Anthem",
            "Blue Cross Blue Shield",
            "Cigna Health",
            "Dual Eligible",
            "Humana",
            "Medicaid",
            "Medicare",
            "NO_INSURANCE",
            "UnitedHealthcare"
           ],
           "xaxis": "x",
           "y": [
            183,
            119,
            285,
            188,
            72,
            251,
            410,
            579,
            632,
            200
           ],
           "yaxis": "y"
          }
         ],
         "name": "2019"
        },
        {
         "data": [
          {
           "alignmentgroup": "True",
           "hoverlabel": {
            "namelength": 0
           },
           "hovertemplate": "YEAR=2020<br>PAYER_NAME=%{x}<br>Id=%{y}",
           "legendgroup": "",
           "marker": {
            "color": "#636efa"
           },
           "name": "",
           "offsetgroup": "",
           "orientation": "v",
           "showlegend": false,
           "textposition": "auto",
           "type": "bar",
           "x": [
            "Aetna",
            "Anthem",
            "Blue Cross Blue Shield",
            "Cigna Health",
            "Dual Eligible",
            "Humana",
            "Medicaid",
            "Medicare",
            "NO_INSURANCE",
            "UnitedHealthcare"
           ],
           "xaxis": "x",
           "y": [
            57,
            37,
            110,
            74,
            18,
            81,
            149,
            179,
            200,
            56
           ],
           "yaxis": "y"
          }
         ],
         "name": "2020"
        }
       ],
       "layout": {
        "barmode": "relative",
        "legend": {
         "tracegroupgap": 0
        },
        "margin": {
         "t": 60
        },
        "sliders": [
         {
          "active": 0,
          "currentvalue": {
           "prefix": "YEAR="
          },
          "len": 0.9,
          "pad": {
           "b": 10,
           "t": 60
          },
          "steps": [
           {
            "args": [
             [
              "2010"
             ],
             {
              "frame": {
               "duration": 0,
               "redraw": true
              },
              "fromcurrent": true,
              "mode": "immediate",
              "transition": {
               "duration": 0,
               "easing": "linear"
              }
             }
            ],
            "label": "2010",
            "method": "animate"
           },
           {
            "args": [
             [
              "2011"
             ],
             {
              "frame": {
               "duration": 0,
               "redraw": true
              },
              "fromcurrent": true,
              "mode": "immediate",
              "transition": {
               "duration": 0,
               "easing": "linear"
              }
             }
            ],
            "label": "2011",
            "method": "animate"
           },
           {
            "args": [
             [
              "2012"
             ],
             {
              "frame": {
               "duration": 0,
               "redraw": true
              },
              "fromcurrent": true,
              "mode": "immediate",
              "transition": {
               "duration": 0,
               "easing": "linear"
              }
             }
            ],
            "label": "2012",
            "method": "animate"
           },
           {
            "args": [
             [
              "2013"
             ],
             {
              "frame": {
               "duration": 0,
               "redraw": true
              },
              "fromcurrent": true,
              "mode": "immediate",
              "transition": {
               "duration": 0,
               "easing": "linear"
              }
             }
            ],
            "label": "2013",
            "method": "animate"
           },
           {
            "args": [
             [
              "2014"
             ],
             {
              "frame": {
               "duration": 0,
               "redraw": true
              },
              "fromcurrent": true,
              "mode": "immediate",
              "transition": {
               "duration": 0,
               "easing": "linear"
              }
             }
            ],
            "label": "2014",
            "method": "animate"
           },
           {
            "args": [
             [
              "2015"
             ],
             {
              "frame": {
               "duration": 0,
               "redraw": true
              },
              "fromcurrent": true,
              "mode": "immediate",
              "transition": {
               "duration": 0,
               "easing": "linear"
              }
             }
            ],
            "label": "2015",
            "method": "animate"
           },
           {
            "args": [
             [
              "2016"
             ],
             {
              "frame": {
               "duration": 0,
               "redraw": true
              },
              "fromcurrent": true,
              "mode": "immediate",
              "transition": {
               "duration": 0,
               "easing": "linear"
              }
             }
            ],
            "label": "2016",
            "method": "animate"
           },
           {
            "args": [
             [
              "2017"
             ],
             {
              "frame": {
               "duration": 0,
               "redraw": true
              },
              "fromcurrent": true,
              "mode": "immediate",
              "transition": {
               "duration": 0,
               "easing": "linear"
              }
             }
            ],
            "label": "2017",
            "method": "animate"
           },
           {
            "args": [
             [
              "2018"
             ],
             {
              "frame": {
               "duration": 0,
               "redraw": true
              },
              "fromcurrent": true,
              "mode": "immediate",
              "transition": {
               "duration": 0,
               "easing": "linear"
              }
             }
            ],
            "label": "2018",
            "method": "animate"
           },
           {
            "args": [
             [
              "2019"
             ],
             {
              "frame": {
               "duration": 0,
               "redraw": true
              },
              "fromcurrent": true,
              "mode": "immediate",
              "transition": {
               "duration": 0,
               "easing": "linear"
              }
             }
            ],
            "label": "2019",
            "method": "animate"
           },
           {
            "args": [
             [
              "2020"
             ],
             {
              "frame": {
               "duration": 0,
               "redraw": true
              },
              "fromcurrent": true,
              "mode": "immediate",
              "transition": {
               "duration": 0,
               "easing": "linear"
              }
             }
            ],
            "label": "2020",
            "method": "animate"
           }
          ],
          "x": 0.1,
          "xanchor": "left",
          "y": 0,
          "yanchor": "top"
         }
        ],
        "template": {
         "data": {
          "bar": [
           {
            "error_x": {
             "color": "#2a3f5f"
            },
            "error_y": {
             "color": "#2a3f5f"
            },
            "marker": {
             "line": {
              "color": "#E5ECF6",
              "width": 0.5
             }
            },
            "type": "bar"
           }
          ],
          "barpolar": [
           {
            "marker": {
             "line": {
              "color": "#E5ECF6",
              "width": 0.5
             }
            },
            "type": "barpolar"
           }
          ],
          "carpet": [
           {
            "aaxis": {
             "endlinecolor": "#2a3f5f",
             "gridcolor": "white",
             "linecolor": "white",
             "minorgridcolor": "white",
             "startlinecolor": "#2a3f5f"
            },
            "baxis": {
             "endlinecolor": "#2a3f5f",
             "gridcolor": "white",
             "linecolor": "white",
             "minorgridcolor": "white",
             "startlinecolor": "#2a3f5f"
            },
            "type": "carpet"
           }
          ],
          "choropleth": [
           {
            "colorbar": {
             "outlinewidth": 0,
             "ticks": ""
            },
            "type": "choropleth"
           }
          ],
          "contour": [
           {
            "colorbar": {
             "outlinewidth": 0,
             "ticks": ""
            },
            "colorscale": [
             [
              0,
              "#0d0887"
             ],
             [
              0.1111111111111111,
              "#46039f"
             ],
             [
              0.2222222222222222,
              "#7201a8"
             ],
             [
              0.3333333333333333,
              "#9c179e"
             ],
             [
              0.4444444444444444,
              "#bd3786"
             ],
             [
              0.5555555555555556,
              "#d8576b"
             ],
             [
              0.6666666666666666,
              "#ed7953"
             ],
             [
              0.7777777777777778,
              "#fb9f3a"
             ],
             [
              0.8888888888888888,
              "#fdca26"
             ],
             [
              1,
              "#f0f921"
             ]
            ],
            "type": "contour"
           }
          ],
          "contourcarpet": [
           {
            "colorbar": {
             "outlinewidth": 0,
             "ticks": ""
            },
            "type": "contourcarpet"
           }
          ],
          "heatmap": [
           {
            "colorbar": {
             "outlinewidth": 0,
             "ticks": ""
            },
            "colorscale": [
             [
              0,
              "#0d0887"
             ],
             [
              0.1111111111111111,
              "#46039f"
             ],
             [
              0.2222222222222222,
              "#7201a8"
             ],
             [
              0.3333333333333333,
              "#9c179e"
             ],
             [
              0.4444444444444444,
              "#bd3786"
             ],
             [
              0.5555555555555556,
              "#d8576b"
             ],
             [
              0.6666666666666666,
              "#ed7953"
             ],
             [
              0.7777777777777778,
              "#fb9f3a"
             ],
             [
              0.8888888888888888,
              "#fdca26"
             ],
             [
              1,
              "#f0f921"
             ]
            ],
            "type": "heatmap"
           }
          ],
          "heatmapgl": [
           {
            "colorbar": {
             "outlinewidth": 0,
             "ticks": ""
            },
            "colorscale": [
             [
              0,
              "#0d0887"
             ],
             [
              0.1111111111111111,
              "#46039f"
             ],
             [
              0.2222222222222222,
              "#7201a8"
             ],
             [
              0.3333333333333333,
              "#9c179e"
             ],
             [
              0.4444444444444444,
              "#bd3786"
             ],
             [
              0.5555555555555556,
              "#d8576b"
             ],
             [
              0.6666666666666666,
              "#ed7953"
             ],
             [
              0.7777777777777778,
              "#fb9f3a"
             ],
             [
              0.8888888888888888,
              "#fdca26"
             ],
             [
              1,
              "#f0f921"
             ]
            ],
            "type": "heatmapgl"
           }
          ],
          "histogram": [
           {
            "marker": {
             "colorbar": {
              "outlinewidth": 0,
              "ticks": ""
             }
            },
            "type": "histogram"
           }
          ],
          "histogram2d": [
           {
            "colorbar": {
             "outlinewidth": 0,
             "ticks": ""
            },
            "colorscale": [
             [
              0,
              "#0d0887"
             ],
             [
              0.1111111111111111,
              "#46039f"
             ],
             [
              0.2222222222222222,
              "#7201a8"
             ],
             [
              0.3333333333333333,
              "#9c179e"
             ],
             [
              0.4444444444444444,
              "#bd3786"
             ],
             [
              0.5555555555555556,
              "#d8576b"
             ],
             [
              0.6666666666666666,
              "#ed7953"
             ],
             [
              0.7777777777777778,
              "#fb9f3a"
             ],
             [
              0.8888888888888888,
              "#fdca26"
             ],
             [
              1,
              "#f0f921"
             ]
            ],
            "type": "histogram2d"
           }
          ],
          "histogram2dcontour": [
           {
            "colorbar": {
             "outlinewidth": 0,
             "ticks": ""
            },
            "colorscale": [
             [
              0,
              "#0d0887"
             ],
             [
              0.1111111111111111,
              "#46039f"
             ],
             [
              0.2222222222222222,
              "#7201a8"
             ],
             [
              0.3333333333333333,
              "#9c179e"
             ],
             [
              0.4444444444444444,
              "#bd3786"
             ],
             [
              0.5555555555555556,
              "#d8576b"
             ],
             [
              0.6666666666666666,
              "#ed7953"
             ],
             [
              0.7777777777777778,
              "#fb9f3a"
             ],
             [
              0.8888888888888888,
              "#fdca26"
             ],
             [
              1,
              "#f0f921"
             ]
            ],
            "type": "histogram2dcontour"
           }
          ],
          "mesh3d": [
           {
            "colorbar": {
             "outlinewidth": 0,
             "ticks": ""
            },
            "type": "mesh3d"
           }
          ],
          "parcoords": [
           {
            "line": {
             "colorbar": {
              "outlinewidth": 0,
              "ticks": ""
             }
            },
            "type": "parcoords"
           }
          ],
          "pie": [
           {
            "automargin": true,
            "type": "pie"
           }
          ],
          "scatter": [
           {
            "marker": {
             "colorbar": {
              "outlinewidth": 0,
              "ticks": ""
             }
            },
            "type": "scatter"
           }
          ],
          "scatter3d": [
           {
            "line": {
             "colorbar": {
              "outlinewidth": 0,
              "ticks": ""
             }
            },
            "marker": {
             "colorbar": {
              "outlinewidth": 0,
              "ticks": ""
             }
            },
            "type": "scatter3d"
           }
          ],
          "scattercarpet": [
           {
            "marker": {
             "colorbar": {
              "outlinewidth": 0,
              "ticks": ""
             }
            },
            "type": "scattercarpet"
           }
          ],
          "scattergeo": [
           {
            "marker": {
             "colorbar": {
              "outlinewidth": 0,
              "ticks": ""
             }
            },
            "type": "scattergeo"
           }
          ],
          "scattergl": [
           {
            "marker": {
             "colorbar": {
              "outlinewidth": 0,
              "ticks": ""
             }
            },
            "type": "scattergl"
           }
          ],
          "scattermapbox": [
           {
            "marker": {
             "colorbar": {
              "outlinewidth": 0,
              "ticks": ""
             }
            },
            "type": "scattermapbox"
           }
          ],
          "scatterpolar": [
           {
            "marker": {
             "colorbar": {
              "outlinewidth": 0,
              "ticks": ""
             }
            },
            "type": "scatterpolar"
           }
          ],
          "scatterpolargl": [
           {
            "marker": {
             "colorbar": {
              "outlinewidth": 0,
              "ticks": ""
             }
            },
            "type": "scatterpolargl"
           }
          ],
          "scatterternary": [
           {
            "marker": {
             "colorbar": {
              "outlinewidth": 0,
              "ticks": ""
             }
            },
            "type": "scatterternary"
           }
          ],
          "surface": [
           {
            "colorbar": {
             "outlinewidth": 0,
             "ticks": ""
            },
            "colorscale": [
             [
              0,
              "#0d0887"
             ],
             [
              0.1111111111111111,
              "#46039f"
             ],
             [
              0.2222222222222222,
              "#7201a8"
             ],
             [
              0.3333333333333333,
              "#9c179e"
             ],
             [
              0.4444444444444444,
              "#bd3786"
             ],
             [
              0.5555555555555556,
              "#d8576b"
             ],
             [
              0.6666666666666666,
              "#ed7953"
             ],
             [
              0.7777777777777778,
              "#fb9f3a"
             ],
             [
              0.8888888888888888,
              "#fdca26"
             ],
             [
              1,
              "#f0f921"
             ]
            ],
            "type": "surface"
           }
          ],
          "table": [
           {
            "cells": {
             "fill": {
              "color": "#EBF0F8"
             },
             "line": {
              "color": "white"
             }
            },
            "header": {
             "fill": {
              "color": "#C8D4E3"
             },
             "line": {
              "color": "white"
             }
            },
            "type": "table"
           }
          ]
         },
         "layout": {
          "annotationdefaults": {
           "arrowcolor": "#2a3f5f",
           "arrowhead": 0,
           "arrowwidth": 1
          },
          "coloraxis": {
           "colorbar": {
            "outlinewidth": 0,
            "ticks": ""
           }
          },
          "colorscale": {
           "diverging": [
            [
             0,
             "#8e0152"
            ],
            [
             0.1,
             "#c51b7d"
            ],
            [
             0.2,
             "#de77ae"
            ],
            [
             0.3,
             "#f1b6da"
            ],
            [
             0.4,
             "#fde0ef"
            ],
            [
             0.5,
             "#f7f7f7"
            ],
            [
             0.6,
             "#e6f5d0"
            ],
            [
             0.7,
             "#b8e186"
            ],
            [
             0.8,
             "#7fbc41"
            ],
            [
             0.9,
             "#4d9221"
            ],
            [
             1,
             "#276419"
            ]
           ],
           "sequential": [
            [
             0,
             "#0d0887"
            ],
            [
             0.1111111111111111,
             "#46039f"
            ],
            [
             0.2222222222222222,
             "#7201a8"
            ],
            [
             0.3333333333333333,
             "#9c179e"
            ],
            [
             0.4444444444444444,
             "#bd3786"
            ],
            [
             0.5555555555555556,
             "#d8576b"
            ],
            [
             0.6666666666666666,
             "#ed7953"
            ],
            [
             0.7777777777777778,
             "#fb9f3a"
            ],
            [
             0.8888888888888888,
             "#fdca26"
            ],
            [
             1,
             "#f0f921"
            ]
           ],
           "sequentialminus": [
            [
             0,
             "#0d0887"
            ],
            [
             0.1111111111111111,
             "#46039f"
            ],
            [
             0.2222222222222222,
             "#7201a8"
            ],
            [
             0.3333333333333333,
             "#9c179e"
            ],
            [
             0.4444444444444444,
             "#bd3786"
            ],
            [
             0.5555555555555556,
             "#d8576b"
            ],
            [
             0.6666666666666666,
             "#ed7953"
            ],
            [
             0.7777777777777778,
             "#fb9f3a"
            ],
            [
             0.8888888888888888,
             "#fdca26"
            ],
            [
             1,
             "#f0f921"
            ]
           ]
          },
          "colorway": [
           "#636efa",
           "#EF553B",
           "#00cc96",
           "#ab63fa",
           "#FFA15A",
           "#19d3f3",
           "#FF6692",
           "#B6E880",
           "#FF97FF",
           "#FECB52"
          ],
          "font": {
           "color": "#2a3f5f"
          },
          "geo": {
           "bgcolor": "white",
           "lakecolor": "white",
           "landcolor": "#E5ECF6",
           "showlakes": true,
           "showland": true,
           "subunitcolor": "white"
          },
          "hoverlabel": {
           "align": "left"
          },
          "hovermode": "closest",
          "mapbox": {
           "style": "light"
          },
          "paper_bgcolor": "white",
          "plot_bgcolor": "#E5ECF6",
          "polar": {
           "angularaxis": {
            "gridcolor": "white",
            "linecolor": "white",
            "ticks": ""
           },
           "bgcolor": "#E5ECF6",
           "radialaxis": {
            "gridcolor": "white",
            "linecolor": "white",
            "ticks": ""
           }
          },
          "scene": {
           "xaxis": {
            "backgroundcolor": "#E5ECF6",
            "gridcolor": "white",
            "gridwidth": 2,
            "linecolor": "white",
            "showbackground": true,
            "ticks": "",
            "zerolinecolor": "white"
           },
           "yaxis": {
            "backgroundcolor": "#E5ECF6",
            "gridcolor": "white",
            "gridwidth": 2,
            "linecolor": "white",
            "showbackground": true,
            "ticks": "",
            "zerolinecolor": "white"
           },
           "zaxis": {
            "backgroundcolor": "#E5ECF6",
            "gridcolor": "white",
            "gridwidth": 2,
            "linecolor": "white",
            "showbackground": true,
            "ticks": "",
            "zerolinecolor": "white"
           }
          },
          "shapedefaults": {
           "line": {
            "color": "#2a3f5f"
           }
          },
          "ternary": {
           "aaxis": {
            "gridcolor": "white",
            "linecolor": "white",
            "ticks": ""
           },
           "baxis": {
            "gridcolor": "white",
            "linecolor": "white",
            "ticks": ""
           },
           "bgcolor": "#E5ECF6",
           "caxis": {
            "gridcolor": "white",
            "linecolor": "white",
            "ticks": ""
           }
          },
          "title": {
           "x": 0.05
          },
          "xaxis": {
           "automargin": true,
           "gridcolor": "white",
           "linecolor": "white",
           "ticks": "",
           "title": {
            "standoff": 15
           },
           "zerolinecolor": "white",
           "zerolinewidth": 2
          },
          "yaxis": {
           "automargin": true,
           "gridcolor": "white",
           "linecolor": "white",
           "ticks": "",
           "title": {
            "standoff": 15
           },
           "zerolinecolor": "white",
           "zerolinewidth": 2
          }
         }
        },
        "updatemenus": [
         {
          "buttons": [
           {
            "args": [
             null,
             {
              "frame": {
               "duration": 500,
               "redraw": true
              },
              "fromcurrent": true,
              "mode": "immediate",
              "transition": {
               "duration": 500,
               "easing": "linear"
              }
             }
            ],
            "label": "&#9654;",
            "method": "animate"
           },
           {
            "args": [
             [
              null
             ],
             {
              "frame": {
               "duration": 0,
               "redraw": true
              },
              "fromcurrent": true,
              "mode": "immediate",
              "transition": {
               "duration": 0,
               "easing": "linear"
              }
             }
            ],
            "label": "&#9724;",
            "method": "animate"
           }
          ],
          "direction": "left",
          "pad": {
           "r": 10,
           "t": 70
          },
          "showactive": false,
          "type": "buttons",
          "x": 0.1,
          "xanchor": "right",
          "y": 0,
          "yanchor": "top"
         }
        ],
        "xaxis": {
         "anchor": "y",
         "domain": [
          0,
          1
         ],
         "title": {
          "text": "PAYER_NAME"
         }
        },
        "yaxis": {
         "anchor": "x",
         "domain": [
          0,
          1
         ],
         "title": {
          "text": "Id"
         }
        }
       }
      },
      "text/html": [
       "<div>\n",
       "        \n",
       "        \n",
       "            <div id=\"73198dd1-98e8-43b3-bbb4-58d1a60a2b1f\" class=\"plotly-graph-div\" style=\"height:525px; width:100%;\"></div>\n",
       "            <script type=\"text/javascript\">\n",
       "                require([\"plotly\"], function(Plotly) {\n",
       "                    window.PLOTLYENV=window.PLOTLYENV || {};\n",
       "                    \n",
       "                if (document.getElementById(\"73198dd1-98e8-43b3-bbb4-58d1a60a2b1f\")) {\n",
       "                    Plotly.newPlot(\n",
       "                        '73198dd1-98e8-43b3-bbb4-58d1a60a2b1f',\n",
       "                        [{\"alignmentgroup\": \"True\", \"hoverlabel\": {\"namelength\": 0}, \"hovertemplate\": \"YEAR=2010<br>PAYER_NAME=%{x}<br>Id=%{y}\", \"legendgroup\": \"\", \"marker\": {\"color\": \"#636efa\"}, \"name\": \"\", \"offsetgroup\": \"\", \"orientation\": \"v\", \"showlegend\": false, \"textposition\": \"auto\", \"type\": \"bar\", \"x\": [\"Aetna\", \"Anthem\", \"Blue Cross Blue Shield\", \"Cigna Health\", \"Dual Eligible\", \"Humana\", \"Medicaid\", \"Medicare\", \"NO_INSURANCE\", \"UnitedHealthcare\"], \"xaxis\": \"x\", \"y\": [169, 76, 255, 180, 32, 173, 338, 278, 391, 191], \"yaxis\": \"y\"}],\n",
       "                        {\"barmode\": \"relative\", \"legend\": {\"tracegroupgap\": 0}, \"margin\": {\"t\": 60}, \"sliders\": [{\"active\": 0, \"currentvalue\": {\"prefix\": \"YEAR=\"}, \"len\": 0.9, \"pad\": {\"b\": 10, \"t\": 60}, \"steps\": [{\"args\": [[\"2010\"], {\"frame\": {\"duration\": 0, \"redraw\": true}, \"fromcurrent\": true, \"mode\": \"immediate\", \"transition\": {\"duration\": 0, \"easing\": \"linear\"}}], \"label\": \"2010\", \"method\": \"animate\"}, {\"args\": [[\"2011\"], {\"frame\": {\"duration\": 0, \"redraw\": true}, \"fromcurrent\": true, \"mode\": \"immediate\", \"transition\": {\"duration\": 0, \"easing\": \"linear\"}}], \"label\": \"2011\", \"method\": \"animate\"}, {\"args\": [[\"2012\"], {\"frame\": {\"duration\": 0, \"redraw\": true}, \"fromcurrent\": true, \"mode\": \"immediate\", \"transition\": {\"duration\": 0, \"easing\": \"linear\"}}], \"label\": \"2012\", \"method\": \"animate\"}, {\"args\": [[\"2013\"], {\"frame\": {\"duration\": 0, \"redraw\": true}, \"fromcurrent\": true, \"mode\": \"immediate\", \"transition\": {\"duration\": 0, \"easing\": \"linear\"}}], \"label\": \"2013\", \"method\": \"animate\"}, {\"args\": [[\"2014\"], {\"frame\": {\"duration\": 0, \"redraw\": true}, \"fromcurrent\": true, \"mode\": \"immediate\", \"transition\": {\"duration\": 0, \"easing\": \"linear\"}}], \"label\": \"2014\", \"method\": \"animate\"}, {\"args\": [[\"2015\"], {\"frame\": {\"duration\": 0, \"redraw\": true}, \"fromcurrent\": true, \"mode\": \"immediate\", \"transition\": {\"duration\": 0, \"easing\": \"linear\"}}], \"label\": \"2015\", \"method\": \"animate\"}, {\"args\": [[\"2016\"], {\"frame\": {\"duration\": 0, \"redraw\": true}, \"fromcurrent\": true, \"mode\": \"immediate\", \"transition\": {\"duration\": 0, \"easing\": \"linear\"}}], \"label\": \"2016\", \"method\": \"animate\"}, {\"args\": [[\"2017\"], {\"frame\": {\"duration\": 0, \"redraw\": true}, \"fromcurrent\": true, \"mode\": \"immediate\", \"transition\": {\"duration\": 0, \"easing\": \"linear\"}}], \"label\": \"2017\", \"method\": \"animate\"}, {\"args\": [[\"2018\"], {\"frame\": {\"duration\": 0, \"redraw\": true}, \"fromcurrent\": true, \"mode\": \"immediate\", \"transition\": {\"duration\": 0, \"easing\": \"linear\"}}], \"label\": \"2018\", \"method\": \"animate\"}, {\"args\": [[\"2019\"], {\"frame\": {\"duration\": 0, \"redraw\": true}, \"fromcurrent\": true, \"mode\": \"immediate\", \"transition\": {\"duration\": 0, \"easing\": \"linear\"}}], \"label\": \"2019\", \"method\": \"animate\"}, {\"args\": [[\"2020\"], {\"frame\": {\"duration\": 0, \"redraw\": true}, \"fromcurrent\": true, \"mode\": \"immediate\", \"transition\": {\"duration\": 0, \"easing\": \"linear\"}}], \"label\": \"2020\", \"method\": \"animate\"}], \"x\": 0.1, \"xanchor\": \"left\", \"y\": 0, \"yanchor\": \"top\"}], \"template\": {\"data\": {\"bar\": [{\"error_x\": {\"color\": \"#2a3f5f\"}, \"error_y\": {\"color\": \"#2a3f5f\"}, \"marker\": {\"line\": {\"color\": \"#E5ECF6\", \"width\": 0.5}}, \"type\": \"bar\"}], \"barpolar\": [{\"marker\": {\"line\": {\"color\": \"#E5ECF6\", \"width\": 0.5}}, \"type\": \"barpolar\"}], \"carpet\": [{\"aaxis\": {\"endlinecolor\": \"#2a3f5f\", \"gridcolor\": \"white\", \"linecolor\": \"white\", \"minorgridcolor\": \"white\", \"startlinecolor\": \"#2a3f5f\"}, \"baxis\": {\"endlinecolor\": \"#2a3f5f\", \"gridcolor\": \"white\", \"linecolor\": \"white\", \"minorgridcolor\": \"white\", \"startlinecolor\": \"#2a3f5f\"}, \"type\": \"carpet\"}], \"choropleth\": [{\"colorbar\": {\"outlinewidth\": 0, \"ticks\": \"\"}, \"type\": \"choropleth\"}], \"contour\": [{\"colorbar\": {\"outlinewidth\": 0, \"ticks\": \"\"}, \"colorscale\": [[0.0, \"#0d0887\"], [0.1111111111111111, \"#46039f\"], [0.2222222222222222, \"#7201a8\"], [0.3333333333333333, \"#9c179e\"], [0.4444444444444444, \"#bd3786\"], [0.5555555555555556, \"#d8576b\"], [0.6666666666666666, \"#ed7953\"], [0.7777777777777778, \"#fb9f3a\"], [0.8888888888888888, \"#fdca26\"], [1.0, \"#f0f921\"]], \"type\": \"contour\"}], \"contourcarpet\": [{\"colorbar\": {\"outlinewidth\": 0, \"ticks\": \"\"}, \"type\": \"contourcarpet\"}], \"heatmap\": [{\"colorbar\": {\"outlinewidth\": 0, \"ticks\": \"\"}, \"colorscale\": [[0.0, \"#0d0887\"], [0.1111111111111111, \"#46039f\"], [0.2222222222222222, \"#7201a8\"], [0.3333333333333333, \"#9c179e\"], [0.4444444444444444, \"#bd3786\"], [0.5555555555555556, \"#d8576b\"], [0.6666666666666666, \"#ed7953\"], [0.7777777777777778, \"#fb9f3a\"], [0.8888888888888888, \"#fdca26\"], [1.0, \"#f0f921\"]], \"type\": \"heatmap\"}], \"heatmapgl\": [{\"colorbar\": {\"outlinewidth\": 0, \"ticks\": \"\"}, \"colorscale\": [[0.0, \"#0d0887\"], [0.1111111111111111, \"#46039f\"], [0.2222222222222222, \"#7201a8\"], [0.3333333333333333, \"#9c179e\"], [0.4444444444444444, \"#bd3786\"], [0.5555555555555556, \"#d8576b\"], [0.6666666666666666, \"#ed7953\"], [0.7777777777777778, \"#fb9f3a\"], [0.8888888888888888, \"#fdca26\"], [1.0, \"#f0f921\"]], \"type\": \"heatmapgl\"}], \"histogram\": [{\"marker\": {\"colorbar\": {\"outlinewidth\": 0, \"ticks\": \"\"}}, \"type\": \"histogram\"}], \"histogram2d\": [{\"colorbar\": {\"outlinewidth\": 0, \"ticks\": \"\"}, \"colorscale\": [[0.0, \"#0d0887\"], [0.1111111111111111, \"#46039f\"], [0.2222222222222222, \"#7201a8\"], [0.3333333333333333, \"#9c179e\"], [0.4444444444444444, \"#bd3786\"], [0.5555555555555556, \"#d8576b\"], [0.6666666666666666, \"#ed7953\"], [0.7777777777777778, \"#fb9f3a\"], [0.8888888888888888, \"#fdca26\"], [1.0, \"#f0f921\"]], \"type\": \"histogram2d\"}], \"histogram2dcontour\": [{\"colorbar\": {\"outlinewidth\": 0, \"ticks\": \"\"}, \"colorscale\": [[0.0, \"#0d0887\"], [0.1111111111111111, \"#46039f\"], [0.2222222222222222, \"#7201a8\"], [0.3333333333333333, \"#9c179e\"], [0.4444444444444444, \"#bd3786\"], [0.5555555555555556, \"#d8576b\"], [0.6666666666666666, \"#ed7953\"], [0.7777777777777778, \"#fb9f3a\"], [0.8888888888888888, \"#fdca26\"], [1.0, \"#f0f921\"]], \"type\": \"histogram2dcontour\"}], \"mesh3d\": [{\"colorbar\": {\"outlinewidth\": 0, \"ticks\": \"\"}, \"type\": \"mesh3d\"}], \"parcoords\": [{\"line\": {\"colorbar\": {\"outlinewidth\": 0, \"ticks\": \"\"}}, \"type\": \"parcoords\"}], \"pie\": [{\"automargin\": true, \"type\": \"pie\"}], \"scatter\": [{\"marker\": {\"colorbar\": {\"outlinewidth\": 0, \"ticks\": \"\"}}, \"type\": \"scatter\"}], \"scatter3d\": [{\"line\": {\"colorbar\": {\"outlinewidth\": 0, \"ticks\": \"\"}}, \"marker\": {\"colorbar\": {\"outlinewidth\": 0, \"ticks\": \"\"}}, \"type\": \"scatter3d\"}], \"scattercarpet\": [{\"marker\": {\"colorbar\": {\"outlinewidth\": 0, \"ticks\": \"\"}}, \"type\": \"scattercarpet\"}], \"scattergeo\": [{\"marker\": {\"colorbar\": {\"outlinewidth\": 0, \"ticks\": \"\"}}, \"type\": \"scattergeo\"}], \"scattergl\": [{\"marker\": {\"colorbar\": {\"outlinewidth\": 0, \"ticks\": \"\"}}, \"type\": \"scattergl\"}], \"scattermapbox\": [{\"marker\": {\"colorbar\": {\"outlinewidth\": 0, \"ticks\": \"\"}}, \"type\": \"scattermapbox\"}], \"scatterpolar\": [{\"marker\": {\"colorbar\": {\"outlinewidth\": 0, \"ticks\": \"\"}}, \"type\": \"scatterpolar\"}], \"scatterpolargl\": [{\"marker\": {\"colorbar\": {\"outlinewidth\": 0, \"ticks\": \"\"}}, \"type\": \"scatterpolargl\"}], \"scatterternary\": [{\"marker\": {\"colorbar\": {\"outlinewidth\": 0, \"ticks\": \"\"}}, \"type\": \"scatterternary\"}], \"surface\": [{\"colorbar\": {\"outlinewidth\": 0, \"ticks\": \"\"}, \"colorscale\": [[0.0, \"#0d0887\"], [0.1111111111111111, \"#46039f\"], [0.2222222222222222, \"#7201a8\"], [0.3333333333333333, \"#9c179e\"], [0.4444444444444444, \"#bd3786\"], [0.5555555555555556, \"#d8576b\"], [0.6666666666666666, \"#ed7953\"], [0.7777777777777778, \"#fb9f3a\"], [0.8888888888888888, \"#fdca26\"], [1.0, \"#f0f921\"]], \"type\": \"surface\"}], \"table\": [{\"cells\": {\"fill\": {\"color\": \"#EBF0F8\"}, \"line\": {\"color\": \"white\"}}, \"header\": {\"fill\": {\"color\": \"#C8D4E3\"}, \"line\": {\"color\": \"white\"}}, \"type\": \"table\"}]}, \"layout\": {\"annotationdefaults\": {\"arrowcolor\": \"#2a3f5f\", \"arrowhead\": 0, \"arrowwidth\": 1}, \"coloraxis\": {\"colorbar\": {\"outlinewidth\": 0, \"ticks\": \"\"}}, \"colorscale\": {\"diverging\": [[0, \"#8e0152\"], [0.1, \"#c51b7d\"], [0.2, \"#de77ae\"], [0.3, \"#f1b6da\"], [0.4, \"#fde0ef\"], [0.5, \"#f7f7f7\"], [0.6, \"#e6f5d0\"], [0.7, \"#b8e186\"], [0.8, \"#7fbc41\"], [0.9, \"#4d9221\"], [1, \"#276419\"]], \"sequential\": [[0.0, \"#0d0887\"], [0.1111111111111111, \"#46039f\"], [0.2222222222222222, \"#7201a8\"], [0.3333333333333333, \"#9c179e\"], [0.4444444444444444, \"#bd3786\"], [0.5555555555555556, \"#d8576b\"], [0.6666666666666666, \"#ed7953\"], [0.7777777777777778, \"#fb9f3a\"], [0.8888888888888888, \"#fdca26\"], [1.0, \"#f0f921\"]], \"sequentialminus\": [[0.0, \"#0d0887\"], [0.1111111111111111, \"#46039f\"], [0.2222222222222222, \"#7201a8\"], [0.3333333333333333, \"#9c179e\"], [0.4444444444444444, \"#bd3786\"], [0.5555555555555556, \"#d8576b\"], [0.6666666666666666, \"#ed7953\"], [0.7777777777777778, \"#fb9f3a\"], [0.8888888888888888, \"#fdca26\"], [1.0, \"#f0f921\"]]}, \"colorway\": [\"#636efa\", \"#EF553B\", \"#00cc96\", \"#ab63fa\", \"#FFA15A\", \"#19d3f3\", \"#FF6692\", \"#B6E880\", \"#FF97FF\", \"#FECB52\"], \"font\": {\"color\": \"#2a3f5f\"}, \"geo\": {\"bgcolor\": \"white\", \"lakecolor\": \"white\", \"landcolor\": \"#E5ECF6\", \"showlakes\": true, \"showland\": true, \"subunitcolor\": \"white\"}, \"hoverlabel\": {\"align\": \"left\"}, \"hovermode\": \"closest\", \"mapbox\": {\"style\": \"light\"}, \"paper_bgcolor\": \"white\", \"plot_bgcolor\": \"#E5ECF6\", \"polar\": {\"angularaxis\": {\"gridcolor\": \"white\", \"linecolor\": \"white\", \"ticks\": \"\"}, \"bgcolor\": \"#E5ECF6\", \"radialaxis\": {\"gridcolor\": \"white\", \"linecolor\": \"white\", \"ticks\": \"\"}}, \"scene\": {\"xaxis\": {\"backgroundcolor\": \"#E5ECF6\", \"gridcolor\": \"white\", \"gridwidth\": 2, \"linecolor\": \"white\", \"showbackground\": true, \"ticks\": \"\", \"zerolinecolor\": \"white\"}, \"yaxis\": {\"backgroundcolor\": \"#E5ECF6\", \"gridcolor\": \"white\", \"gridwidth\": 2, \"linecolor\": \"white\", \"showbackground\": true, \"ticks\": \"\", \"zerolinecolor\": \"white\"}, \"zaxis\": {\"backgroundcolor\": \"#E5ECF6\", \"gridcolor\": \"white\", \"gridwidth\": 2, \"linecolor\": \"white\", \"showbackground\": true, \"ticks\": \"\", \"zerolinecolor\": \"white\"}}, \"shapedefaults\": {\"line\": {\"color\": \"#2a3f5f\"}}, \"ternary\": {\"aaxis\": {\"gridcolor\": \"white\", \"linecolor\": \"white\", \"ticks\": \"\"}, \"baxis\": {\"gridcolor\": \"white\", \"linecolor\": \"white\", \"ticks\": \"\"}, \"bgcolor\": \"#E5ECF6\", \"caxis\": {\"gridcolor\": \"white\", \"linecolor\": \"white\", \"ticks\": \"\"}}, \"title\": {\"x\": 0.05}, \"xaxis\": {\"automargin\": true, \"gridcolor\": \"white\", \"linecolor\": \"white\", \"ticks\": \"\", \"title\": {\"standoff\": 15}, \"zerolinecolor\": \"white\", \"zerolinewidth\": 2}, \"yaxis\": {\"automargin\": true, \"gridcolor\": \"white\", \"linecolor\": \"white\", \"ticks\": \"\", \"title\": {\"standoff\": 15}, \"zerolinecolor\": \"white\", \"zerolinewidth\": 2}}}, \"updatemenus\": [{\"buttons\": [{\"args\": [null, {\"frame\": {\"duration\": 500, \"redraw\": true}, \"fromcurrent\": true, \"mode\": \"immediate\", \"transition\": {\"duration\": 500, \"easing\": \"linear\"}}], \"label\": \"&#9654;\", \"method\": \"animate\"}, {\"args\": [[null], {\"frame\": {\"duration\": 0, \"redraw\": true}, \"fromcurrent\": true, \"mode\": \"immediate\", \"transition\": {\"duration\": 0, \"easing\": \"linear\"}}], \"label\": \"&#9724;\", \"method\": \"animate\"}], \"direction\": \"left\", \"pad\": {\"r\": 10, \"t\": 70}, \"showactive\": false, \"type\": \"buttons\", \"x\": 0.1, \"xanchor\": \"right\", \"y\": 0, \"yanchor\": \"top\"}], \"xaxis\": {\"anchor\": \"y\", \"domain\": [0.0, 1.0], \"title\": {\"text\": \"PAYER_NAME\"}}, \"yaxis\": {\"anchor\": \"x\", \"domain\": [0.0, 1.0], \"title\": {\"text\": \"Id\"}}},\n",
       "                        {\"responsive\": true}\n",
       "                    ).then(function(){\n",
       "                            Plotly.addFrames('73198dd1-98e8-43b3-bbb4-58d1a60a2b1f', [{\"data\": [{\"alignmentgroup\": \"True\", \"hoverlabel\": {\"namelength\": 0}, \"hovertemplate\": \"YEAR=2010<br>PAYER_NAME=%{x}<br>Id=%{y}\", \"legendgroup\": \"\", \"marker\": {\"color\": \"#636efa\"}, \"name\": \"\", \"offsetgroup\": \"\", \"orientation\": \"v\", \"showlegend\": false, \"textposition\": \"auto\", \"x\": [\"Aetna\", \"Anthem\", \"Blue Cross Blue Shield\", \"Cigna Health\", \"Dual Eligible\", \"Humana\", \"Medicaid\", \"Medicare\", \"NO_INSURANCE\", \"UnitedHealthcare\"], \"xaxis\": \"x\", \"y\": [169, 76, 255, 180, 32, 173, 338, 278, 391, 191], \"yaxis\": \"y\", \"type\": \"bar\"}], \"name\": \"2010\"}, {\"data\": [{\"alignmentgroup\": \"True\", \"hoverlabel\": {\"namelength\": 0}, \"hovertemplate\": \"YEAR=2011<br>PAYER_NAME=%{x}<br>Id=%{y}\", \"legendgroup\": \"\", \"marker\": {\"color\": \"#636efa\"}, \"name\": \"\", \"offsetgroup\": \"\", \"orientation\": \"v\", \"showlegend\": false, \"textposition\": \"auto\", \"x\": [\"Aetna\", \"Anthem\", \"Blue Cross Blue Shield\", \"Cigna Health\", \"Dual Eligible\", \"Humana\", \"Medicaid\", \"Medicare\", \"NO_INSURANCE\", \"UnitedHealthcare\"], \"xaxis\": \"x\", \"y\": [196, 112, 450, 193, 51, 227, 553, 319, 561, 317], \"yaxis\": \"y\", \"type\": \"bar\"}], \"name\": \"2011\"}, {\"data\": [{\"alignmentgroup\": \"True\", \"hoverlabel\": {\"namelength\": 0}, \"hovertemplate\": \"YEAR=2012<br>PAYER_NAME=%{x}<br>Id=%{y}\", \"legendgroup\": \"\", \"marker\": {\"color\": \"#636efa\"}, \"name\": \"\", \"offsetgroup\": \"\", \"orientation\": \"v\", \"showlegend\": false, \"textposition\": \"auto\", \"x\": [\"Aetna\", \"Anthem\", \"Blue Cross Blue Shield\", \"Cigna Health\", \"Dual Eligible\", \"Humana\", \"Medicaid\", \"Medicare\", \"NO_INSURANCE\", \"UnitedHealthcare\"], \"xaxis\": \"x\", \"y\": [175, 107, 423, 232, 52, 204, 523, 397, 511, 266], \"yaxis\": \"y\", \"type\": \"bar\"}], \"name\": \"2012\"}, {\"data\": [{\"alignmentgroup\": \"True\", \"hoverlabel\": {\"namelength\": 0}, \"hovertemplate\": \"YEAR=2013<br>PAYER_NAME=%{x}<br>Id=%{y}\", \"legendgroup\": \"\", \"marker\": {\"color\": \"#636efa\"}, \"name\": \"\", \"offsetgroup\": \"\", \"orientation\": \"v\", \"showlegend\": false, \"textposition\": \"auto\", \"x\": [\"Aetna\", \"Anthem\", \"Blue Cross Blue Shield\", \"Cigna Health\", \"Dual Eligible\", \"Humana\", \"Medicaid\", \"Medicare\", \"NO_INSURANCE\", \"UnitedHealthcare\"], \"xaxis\": \"x\", \"y\": [214, 116, 364, 224, 51, 235, 510, 499, 558, 287], \"yaxis\": \"y\", \"type\": \"bar\"}], \"name\": \"2013\"}, {\"data\": [{\"alignmentgroup\": \"True\", \"hoverlabel\": {\"namelength\": 0}, \"hovertemplate\": \"YEAR=2014<br>PAYER_NAME=%{x}<br>Id=%{y}\", \"legendgroup\": \"\", \"marker\": {\"color\": \"#636efa\"}, \"name\": \"\", \"offsetgroup\": \"\", \"orientation\": \"v\", \"showlegend\": false, \"textposition\": \"auto\", \"x\": [\"Aetna\", \"Anthem\", \"Blue Cross Blue Shield\", \"Cigna Health\", \"Dual Eligible\", \"Humana\", \"Medicaid\", \"Medicare\", \"NO_INSURANCE\", \"UnitedHealthcare\"], \"xaxis\": \"x\", \"y\": [208, 110, 404, 199, 55, 266, 483, 622, 539, 292], \"yaxis\": \"y\", \"type\": \"bar\"}], \"name\": \"2014\"}, {\"data\": [{\"alignmentgroup\": \"True\", \"hoverlabel\": {\"namelength\": 0}, \"hovertemplate\": \"YEAR=2015<br>PAYER_NAME=%{x}<br>Id=%{y}\", \"legendgroup\": \"\", \"marker\": {\"color\": \"#636efa\"}, \"name\": \"\", \"offsetgroup\": \"\", \"orientation\": \"v\", \"showlegend\": false, \"textposition\": \"auto\", \"x\": [\"Aetna\", \"Anthem\", \"Blue Cross Blue Shield\", \"Cigna Health\", \"Dual Eligible\", \"Humana\", \"Medicaid\", \"Medicare\", \"NO_INSURANCE\", \"UnitedHealthcare\"], \"xaxis\": \"x\", \"y\": [230, 106, 360, 216, 59, 249, 462, 531, 589, 261], \"yaxis\": \"y\", \"type\": \"bar\"}], \"name\": \"2015\"}, {\"data\": [{\"alignmentgroup\": \"True\", \"hoverlabel\": {\"namelength\": 0}, \"hovertemplate\": \"YEAR=2016<br>PAYER_NAME=%{x}<br>Id=%{y}\", \"legendgroup\": \"\", \"marker\": {\"color\": \"#636efa\"}, \"name\": \"\", \"offsetgroup\": \"\", \"orientation\": \"v\", \"showlegend\": false, \"textposition\": \"auto\", \"x\": [\"Aetna\", \"Anthem\", \"Blue Cross Blue Shield\", \"Cigna Health\", \"Dual Eligible\", \"Humana\", \"Medicaid\", \"Medicare\", \"NO_INSURANCE\", \"UnitedHealthcare\"], \"xaxis\": \"x\", \"y\": [246, 97, 409, 210, 42, 259, 501, 534, 587, 263], \"yaxis\": \"y\", \"type\": \"bar\"}], \"name\": \"2016\"}, {\"data\": [{\"alignmentgroup\": \"True\", \"hoverlabel\": {\"namelength\": 0}, \"hovertemplate\": \"YEAR=2017<br>PAYER_NAME=%{x}<br>Id=%{y}\", \"legendgroup\": \"\", \"marker\": {\"color\": \"#636efa\"}, \"name\": \"\", \"offsetgroup\": \"\", \"orientation\": \"v\", \"showlegend\": false, \"textposition\": \"auto\", \"x\": [\"Aetna\", \"Anthem\", \"Blue Cross Blue Shield\", \"Cigna Health\", \"Dual Eligible\", \"Humana\", \"Medicaid\", \"Medicare\", \"NO_INSURANCE\", \"UnitedHealthcare\"], \"xaxis\": \"x\", \"y\": [211, 117, 396, 203, 45, 265, 529, 573, 555, 259], \"yaxis\": \"y\", \"type\": \"bar\"}], \"name\": \"2017\"}, {\"data\": [{\"alignmentgroup\": \"True\", \"hoverlabel\": {\"namelength\": 0}, \"hovertemplate\": \"YEAR=2018<br>PAYER_NAME=%{x}<br>Id=%{y}\", \"legendgroup\": \"\", \"marker\": {\"color\": \"#636efa\"}, \"name\": \"\", \"offsetgroup\": \"\", \"orientation\": \"v\", \"showlegend\": false, \"textposition\": \"auto\", \"x\": [\"Aetna\", \"Anthem\", \"Blue Cross Blue Shield\", \"Cigna Health\", \"Dual Eligible\", \"Humana\", \"Medicaid\", \"Medicare\", \"NO_INSURANCE\", \"UnitedHealthcare\"], \"xaxis\": \"x\", \"y\": [196, 114, 348, 223, 55, 277, 496, 561, 600, 220], \"yaxis\": \"y\", \"type\": \"bar\"}], \"name\": \"2018\"}, {\"data\": [{\"alignmentgroup\": \"True\", \"hoverlabel\": {\"namelength\": 0}, \"hovertemplate\": \"YEAR=2019<br>PAYER_NAME=%{x}<br>Id=%{y}\", \"legendgroup\": \"\", \"marker\": {\"color\": \"#636efa\"}, \"name\": \"\", \"offsetgroup\": \"\", \"orientation\": \"v\", \"showlegend\": false, \"textposition\": \"auto\", \"x\": [\"Aetna\", \"Anthem\", \"Blue Cross Blue Shield\", \"Cigna Health\", \"Dual Eligible\", \"Humana\", \"Medicaid\", \"Medicare\", \"NO_INSURANCE\", \"UnitedHealthcare\"], \"xaxis\": \"x\", \"y\": [183, 119, 285, 188, 72, 251, 410, 579, 632, 200], \"yaxis\": \"y\", \"type\": \"bar\"}], \"name\": \"2019\"}, {\"data\": [{\"alignmentgroup\": \"True\", \"hoverlabel\": {\"namelength\": 0}, \"hovertemplate\": \"YEAR=2020<br>PAYER_NAME=%{x}<br>Id=%{y}\", \"legendgroup\": \"\", \"marker\": {\"color\": \"#636efa\"}, \"name\": \"\", \"offsetgroup\": \"\", \"orientation\": \"v\", \"showlegend\": false, \"textposition\": \"auto\", \"x\": [\"Aetna\", \"Anthem\", \"Blue Cross Blue Shield\", \"Cigna Health\", \"Dual Eligible\", \"Humana\", \"Medicaid\", \"Medicare\", \"NO_INSURANCE\", \"UnitedHealthcare\"], \"xaxis\": \"x\", \"y\": [57, 37, 110, 74, 18, 81, 149, 179, 200, 56], \"yaxis\": \"y\", \"type\": \"bar\"}], \"name\": \"2020\"}]);\n",
       "                        }).then(function(){\n",
       "                            \n",
       "var gd = document.getElementById('73198dd1-98e8-43b3-bbb4-58d1a60a2b1f');\n",
       "var x = new MutationObserver(function (mutations, observer) {{\n",
       "        var display = window.getComputedStyle(gd).display;\n",
       "        if (!display || display === 'none') {{\n",
       "            console.log([gd, 'removed!']);\n",
       "            Plotly.purge(gd);\n",
       "            observer.disconnect();\n",
       "        }}\n",
       "}});\n",
       "\n",
       "// Listen for the removal of the full notebook cells\n",
       "var notebookContainer = gd.closest('#notebook-container');\n",
       "if (notebookContainer) {{\n",
       "    x.observe(notebookContainer, {childList: true});\n",
       "}}\n",
       "\n",
       "// Listen for the clearing of the current output cell\n",
       "var outputEl = gd.closest('.output');\n",
       "if (outputEl) {{\n",
       "    x.observe(outputEl, {childList: true});\n",
       "}}\n",
       "\n",
       "                        })\n",
       "                };\n",
       "                });\n",
       "            </script>\n",
       "        </div>"
      ]
     },
     "metadata": {},
     "output_type": "display_data"
    }
   ],
   "source": [
    "# GROUP BY PAYER NAME AND YEAR AND COUNT\n",
    "counts = ____________________________________\n",
    "\n",
    "# NOW X-AXIS = insurance companies , Y=AXIS = counts , FRAME BASED ON = year?\n",
    "\n",
    "px.bar(counts,x=_______________,y=_______________,animation_frame=____________)"
   ]
  },
  {
   "cell_type": "code",
   "execution_count": 70,
   "metadata": {},
   "outputs": [
    {
     "ename": "NameError",
     "evalue": "name '_____________________________' is not defined",
     "output_type": "error",
     "traceback": [
      "\u001b[0;31m---------------------------------------------------------------------------\u001b[0m",
      "\u001b[0;31mNameError\u001b[0m                                 Traceback (most recent call last)",
      "\u001b[0;32m<ipython-input-70-03ad20cf6be3>\u001b[0m in \u001b[0;36m<module>\u001b[0;34m\u001b[0m\n\u001b[1;32m      1\u001b[0m \u001b[0;31m# GROUP BY YEAR AND PAYER_NAME AND COUNT\u001b[0m\u001b[0;34m\u001b[0m\u001b[0;34m\u001b[0m\u001b[0m\n\u001b[0;32m----> 2\u001b[0;31m \u001b[0mcounts\u001b[0m \u001b[0;34m=\u001b[0m \u001b[0m_____________________________\u001b[0m\u001b[0;34m\u001b[0m\u001b[0m\n\u001b[0m\u001b[1;32m      3\u001b[0m \u001b[0;34m\u001b[0m\u001b[0m\n\u001b[1;32m      4\u001b[0m \u001b[0;31m# NOW X-AXIS = insurance companies , Y=AXIS = counts , FRAME BASED ON = year?\u001b[0m\u001b[0;34m\u001b[0m\u001b[0;34m\u001b[0m\u001b[0m\n\u001b[1;32m      5\u001b[0m \u001b[0;34m\u001b[0m\u001b[0m\n",
      "\u001b[0;31mNameError\u001b[0m: name '_____________________________' is not defined"
     ]
    }
   ],
   "source": [
    "# GROUP BY YEAR AND PAYER_NAME AND COUNT\n",
    "counts = _____________________________\n",
    "\n",
    "# NOW X-AXIS = insurance companies , Y=AXIS = counts , FRAME BASED ON = year?\n",
    "\n",
    "px.bar(counts,x=_____________,y=_____________,color=__________________,barmode=___________)"
   ]
  },
  {
   "cell_type": "code",
   "execution_count": null,
   "metadata": {},
   "outputs": [],
   "source": [
    "# Simple subplot of this\n",
    "# payers: \n",
    "rows=\n",
    "cols=\n",
    "specs=\n",
    "\n",
    "fig=make_subplots()"
   ]
  },
  {
   "cell_type": "code",
   "execution_count": null,
   "metadata": {},
   "outputs": [],
   "source": [
    "#grouping"
   ]
  },
  {
   "cell_type": "markdown",
   "metadata": {},
   "source": [
    "### II - How has the year wise trend been in the number of patient visits ?\n",
    "\n",
    "This is bit more complex animation with a play button"
   ]
  },
  {
   "cell_type": "code",
   "execution_count": 38,
   "metadata": {},
   "outputs": [
    {
     "data": {
      "text/html": [
       "<div>\n",
       "<style scoped>\n",
       "    .dataframe tbody tr th:only-of-type {\n",
       "        vertical-align: middle;\n",
       "    }\n",
       "\n",
       "    .dataframe tbody tr th {\n",
       "        vertical-align: top;\n",
       "    }\n",
       "\n",
       "    .dataframe thead th {\n",
       "        text-align: right;\n",
       "    }\n",
       "</style>\n",
       "<table border=\"1\" class=\"dataframe\">\n",
       "  <thead>\n",
       "    <tr style=\"text-align: right;\">\n",
       "      <th></th>\n",
       "      <th>YEAR</th>\n",
       "      <th>Id</th>\n",
       "      <th>START</th>\n",
       "      <th>STOP</th>\n",
       "      <th>PATIENT_NAME</th>\n",
       "      <th>AGE</th>\n",
       "      <th>CITY</th>\n",
       "      <th>DESCRIPTION</th>\n",
       "      <th>REASON</th>\n",
       "      <th>ENCOUNTERCLASS</th>\n",
       "      <th>BASE_ENCOUNTER_COST</th>\n",
       "      <th>PAYER_COVERAGE</th>\n",
       "      <th>ORG_NAME</th>\n",
       "      <th>ORG_CITY</th>\n",
       "      <th>REVENUE</th>\n",
       "      <th>PROVIDER_NAME</th>\n",
       "      <th>SPECIALITY</th>\n",
       "      <th>PAYER_NAME</th>\n",
       "    </tr>\n",
       "  </thead>\n",
       "  <tbody>\n",
       "    <tr>\n",
       "      <th>0</th>\n",
       "      <td>2010</td>\n",
       "      <td>2083</td>\n",
       "      <td>2083</td>\n",
       "      <td>2083</td>\n",
       "      <td>1999</td>\n",
       "      <td>1999</td>\n",
       "      <td>1999</td>\n",
       "      <td>2083</td>\n",
       "      <td>609</td>\n",
       "      <td>2083</td>\n",
       "      <td>2083</td>\n",
       "      <td>2083</td>\n",
       "      <td>2083</td>\n",
       "      <td>2083</td>\n",
       "      <td>2083</td>\n",
       "      <td>2083</td>\n",
       "      <td>2083</td>\n",
       "      <td>2083</td>\n",
       "    </tr>\n",
       "    <tr>\n",
       "      <th>1</th>\n",
       "      <td>2011</td>\n",
       "      <td>2979</td>\n",
       "      <td>2979</td>\n",
       "      <td>2979</td>\n",
       "      <td>2885</td>\n",
       "      <td>2885</td>\n",
       "      <td>2885</td>\n",
       "      <td>2979</td>\n",
       "      <td>1012</td>\n",
       "      <td>2979</td>\n",
       "      <td>2979</td>\n",
       "      <td>2979</td>\n",
       "      <td>2979</td>\n",
       "      <td>2979</td>\n",
       "      <td>2979</td>\n",
       "      <td>2979</td>\n",
       "      <td>2979</td>\n",
       "      <td>2979</td>\n",
       "    </tr>\n",
       "    <tr>\n",
       "      <th>2</th>\n",
       "      <td>2012</td>\n",
       "      <td>2890</td>\n",
       "      <td>2890</td>\n",
       "      <td>2890</td>\n",
       "      <td>2806</td>\n",
       "      <td>2806</td>\n",
       "      <td>2806</td>\n",
       "      <td>2890</td>\n",
       "      <td>947</td>\n",
       "      <td>2890</td>\n",
       "      <td>2890</td>\n",
       "      <td>2890</td>\n",
       "      <td>2890</td>\n",
       "      <td>2890</td>\n",
       "      <td>2890</td>\n",
       "      <td>2890</td>\n",
       "      <td>2890</td>\n",
       "      <td>2890</td>\n",
       "    </tr>\n",
       "    <tr>\n",
       "      <th>3</th>\n",
       "      <td>2013</td>\n",
       "      <td>3058</td>\n",
       "      <td>3058</td>\n",
       "      <td>3058</td>\n",
       "      <td>2966</td>\n",
       "      <td>2966</td>\n",
       "      <td>2966</td>\n",
       "      <td>3058</td>\n",
       "      <td>950</td>\n",
       "      <td>3058</td>\n",
       "      <td>3058</td>\n",
       "      <td>3058</td>\n",
       "      <td>3058</td>\n",
       "      <td>3058</td>\n",
       "      <td>3058</td>\n",
       "      <td>3058</td>\n",
       "      <td>3058</td>\n",
       "      <td>3058</td>\n",
       "    </tr>\n",
       "    <tr>\n",
       "      <th>4</th>\n",
       "      <td>2014</td>\n",
       "      <td>3178</td>\n",
       "      <td>3178</td>\n",
       "      <td>3178</td>\n",
       "      <td>2948</td>\n",
       "      <td>2948</td>\n",
       "      <td>2948</td>\n",
       "      <td>3178</td>\n",
       "      <td>1059</td>\n",
       "      <td>3178</td>\n",
       "      <td>3178</td>\n",
       "      <td>3178</td>\n",
       "      <td>3178</td>\n",
       "      <td>3178</td>\n",
       "      <td>3178</td>\n",
       "      <td>3178</td>\n",
       "      <td>3178</td>\n",
       "      <td>3178</td>\n",
       "    </tr>\n",
       "    <tr>\n",
       "      <th>5</th>\n",
       "      <td>2015</td>\n",
       "      <td>3063</td>\n",
       "      <td>3063</td>\n",
       "      <td>3063</td>\n",
       "      <td>2964</td>\n",
       "      <td>2964</td>\n",
       "      <td>2964</td>\n",
       "      <td>3063</td>\n",
       "      <td>943</td>\n",
       "      <td>3063</td>\n",
       "      <td>3063</td>\n",
       "      <td>3063</td>\n",
       "      <td>3063</td>\n",
       "      <td>3063</td>\n",
       "      <td>3063</td>\n",
       "      <td>3063</td>\n",
       "      <td>3063</td>\n",
       "      <td>3063</td>\n",
       "    </tr>\n",
       "    <tr>\n",
       "      <th>6</th>\n",
       "      <td>2016</td>\n",
       "      <td>3148</td>\n",
       "      <td>3148</td>\n",
       "      <td>3148</td>\n",
       "      <td>3064</td>\n",
       "      <td>3064</td>\n",
       "      <td>3064</td>\n",
       "      <td>3148</td>\n",
       "      <td>967</td>\n",
       "      <td>3148</td>\n",
       "      <td>3148</td>\n",
       "      <td>3148</td>\n",
       "      <td>3148</td>\n",
       "      <td>3148</td>\n",
       "      <td>3148</td>\n",
       "      <td>3148</td>\n",
       "      <td>3148</td>\n",
       "      <td>3148</td>\n",
       "    </tr>\n",
       "    <tr>\n",
       "      <th>7</th>\n",
       "      <td>2017</td>\n",
       "      <td>3153</td>\n",
       "      <td>3153</td>\n",
       "      <td>3153</td>\n",
       "      <td>3064</td>\n",
       "      <td>3064</td>\n",
       "      <td>3064</td>\n",
       "      <td>3153</td>\n",
       "      <td>991</td>\n",
       "      <td>3153</td>\n",
       "      <td>3153</td>\n",
       "      <td>3153</td>\n",
       "      <td>3153</td>\n",
       "      <td>3153</td>\n",
       "      <td>3153</td>\n",
       "      <td>3153</td>\n",
       "      <td>3153</td>\n",
       "      <td>3153</td>\n",
       "    </tr>\n",
       "    <tr>\n",
       "      <th>8</th>\n",
       "      <td>2018</td>\n",
       "      <td>3090</td>\n",
       "      <td>3090</td>\n",
       "      <td>3090</td>\n",
       "      <td>3040</td>\n",
       "      <td>3040</td>\n",
       "      <td>3040</td>\n",
       "      <td>3090</td>\n",
       "      <td>910</td>\n",
       "      <td>3090</td>\n",
       "      <td>3090</td>\n",
       "      <td>3090</td>\n",
       "      <td>3090</td>\n",
       "      <td>3090</td>\n",
       "      <td>3090</td>\n",
       "      <td>3090</td>\n",
       "      <td>3090</td>\n",
       "      <td>3090</td>\n",
       "    </tr>\n",
       "    <tr>\n",
       "      <th>9</th>\n",
       "      <td>2019</td>\n",
       "      <td>2919</td>\n",
       "      <td>2919</td>\n",
       "      <td>2919</td>\n",
       "      <td>2867</td>\n",
       "      <td>2867</td>\n",
       "      <td>2867</td>\n",
       "      <td>2919</td>\n",
       "      <td>774</td>\n",
       "      <td>2919</td>\n",
       "      <td>2919</td>\n",
       "      <td>2919</td>\n",
       "      <td>2919</td>\n",
       "      <td>2919</td>\n",
       "      <td>2919</td>\n",
       "      <td>2919</td>\n",
       "      <td>2919</td>\n",
       "      <td>2919</td>\n",
       "    </tr>\n",
       "    <tr>\n",
       "      <th>10</th>\n",
       "      <td>2020</td>\n",
       "      <td>961</td>\n",
       "      <td>961</td>\n",
       "      <td>961</td>\n",
       "      <td>946</td>\n",
       "      <td>946</td>\n",
       "      <td>946</td>\n",
       "      <td>961</td>\n",
       "      <td>323</td>\n",
       "      <td>961</td>\n",
       "      <td>961</td>\n",
       "      <td>961</td>\n",
       "      <td>961</td>\n",
       "      <td>961</td>\n",
       "      <td>961</td>\n",
       "      <td>961</td>\n",
       "      <td>961</td>\n",
       "      <td>961</td>\n",
       "    </tr>\n",
       "  </tbody>\n",
       "</table>\n",
       "</div>"
      ],
      "text/plain": [
       "    YEAR    Id  START  STOP  PATIENT_NAME   AGE  CITY  DESCRIPTION  REASON  \\\n",
       "0   2010  2083   2083  2083          1999  1999  1999         2083     609   \n",
       "1   2011  2979   2979  2979          2885  2885  2885         2979    1012   \n",
       "2   2012  2890   2890  2890          2806  2806  2806         2890     947   \n",
       "3   2013  3058   3058  3058          2966  2966  2966         3058     950   \n",
       "4   2014  3178   3178  3178          2948  2948  2948         3178    1059   \n",
       "5   2015  3063   3063  3063          2964  2964  2964         3063     943   \n",
       "6   2016  3148   3148  3148          3064  3064  3064         3148     967   \n",
       "7   2017  3153   3153  3153          3064  3064  3064         3153     991   \n",
       "8   2018  3090   3090  3090          3040  3040  3040         3090     910   \n",
       "9   2019  2919   2919  2919          2867  2867  2867         2919     774   \n",
       "10  2020   961    961   961           946   946   946          961     323   \n",
       "\n",
       "    ENCOUNTERCLASS  BASE_ENCOUNTER_COST  PAYER_COVERAGE  ORG_NAME  ORG_CITY  \\\n",
       "0             2083                 2083            2083      2083      2083   \n",
       "1             2979                 2979            2979      2979      2979   \n",
       "2             2890                 2890            2890      2890      2890   \n",
       "3             3058                 3058            3058      3058      3058   \n",
       "4             3178                 3178            3178      3178      3178   \n",
       "5             3063                 3063            3063      3063      3063   \n",
       "6             3148                 3148            3148      3148      3148   \n",
       "7             3153                 3153            3153      3153      3153   \n",
       "8             3090                 3090            3090      3090      3090   \n",
       "9             2919                 2919            2919      2919      2919   \n",
       "10             961                  961             961       961       961   \n",
       "\n",
       "    REVENUE  PROVIDER_NAME  SPECIALITY  PAYER_NAME  \n",
       "0      2083           2083        2083        2083  \n",
       "1      2979           2979        2979        2979  \n",
       "2      2890           2890        2890        2890  \n",
       "3      3058           3058        3058        3058  \n",
       "4      3178           3178        3178        3178  \n",
       "5      3063           3063        3063        3063  \n",
       "6      3148           3148        3148        3148  \n",
       "7      3153           3153        3153        3153  \n",
       "8      3090           3090        3090        3090  \n",
       "9      2919           2919        2919        2919  \n",
       "10      961            961         961         961  "
      ]
     },
     "execution_count": 38,
     "metadata": {},
     "output_type": "execute_result"
    }
   ],
   "source": [
    "# GROUP BY YEAR AND COUNT (ALSO RESET THE INDEX)\n",
    "no_cases=encounter.groupby(\"YEAR\").count().reset_index()\n",
    "no_cases"
   ]
  },
  {
   "cell_type": "markdown",
   "metadata": {},
   "source": [
    "#### We need to create a year wise trend line animation\n",
    "\n",
    "- x- axis: ?\n",
    "\n",
    "- y-axis : ?\n",
    "\n",
    "For this we need : \n",
    "- range of values on the x axis and y axis-/\n",
    "- starting values for x and y\n",
    "- x and y values for each year\n",
    "\n",
    "And for the plotly chart we need to define:\n",
    "- Layout (Buttons)\n",
    "- Frames (x and y value of each year) \n",
    "- data: starting and y values = /"
   ]
  },
  {
   "cell_type": "code",
   "execution_count": null,
   "metadata": {},
   "outputs": [],
   "source": []
  },
  {
   "cell_type": "code",
   "execution_count": 42,
   "metadata": {},
   "outputs": [],
   "source": [
    "# find the range of x values and y values\n",
    "\n",
    "x_range = [no_cases[\"YEAR\"].min(),no_cases[\"YEAR\"].max()]\n",
    "\n",
    "y_range = [no_cases[\"Id\"].min(),no_cases[\"Id\"].max()]"
   ]
  },
  {
   "cell_type": "code",
   "execution_count": 43,
   "metadata": {},
   "outputs": [],
   "source": [
    "# Starting x values and start y values\n",
    "start_x = no_cases[\"YEAR\"].min()\n",
    "\n",
    "start_y = no_cases[\"Id\"].min()\n",
    "\n",
    "data = go.Scatter(x=[start_x,start_x],y=[start_y,start_y])\n"
   ]
  },
  {
   "cell_type": "code",
   "execution_count": 55,
   "metadata": {},
   "outputs": [],
   "source": [
    "# individual x and y values\n",
    "\n",
    "frames = []\n",
    "\n",
    "for i in range(1,len(no_cases)+1):\n",
    "    #i = 2013\n",
    "    # : i upto 2013 (2010,2011,2012)\n",
    "    frame = go.Scatter(x=no_cases[\"YEAR\"].iloc[:i],y=no_cases[\"Id\"].iloc[:i])\n",
    "    frame = go.Frame(data=[frame])\n",
    "    frames.append(frame)\n",
    "    \n"
   ]
  },
  {
   "cell_type": "code",
   "execution_count": 56,
   "metadata": {},
   "outputs": [],
   "source": [
    "button = {\"label\":\"Play\",\n",
    "          \"method\":\"animate\",\n",
    "         \"args\":[None]\n",
    "         }\n",
    "\n",
    "update_menus = {\"type\":\"buttons\",\n",
    "         \"buttons\":[button],\n",
    "          }\n",
    "\n",
    "layout=go.Layout(xaxis=dict(range=x_range),yaxis=dict(range=y_range),updatemenus=[update_menus])\n"
   ]
  },
  {
   "cell_type": "code",
   "execution_count": 57,
   "metadata": {},
   "outputs": [
    {
     "data": {
      "application/vnd.plotly.v1+json": {
       "config": {
        "plotlyServerURL": "https://plot.ly"
       },
       "data": [
        {
         "type": "scatter",
         "x": [
          2010,
          2010
         ],
         "y": [
          961,
          961
         ]
        }
       ],
       "frames": [
        {
         "data": [
          {
           "type": "scatter",
           "x": [
            2010
           ],
           "y": [
            2083
           ]
          }
         ]
        },
        {
         "data": [
          {
           "type": "scatter",
           "x": [
            2010,
            2011
           ],
           "y": [
            2083,
            2979
           ]
          }
         ]
        },
        {
         "data": [
          {
           "type": "scatter",
           "x": [
            2010,
            2011,
            2012
           ],
           "y": [
            2083,
            2979,
            2890
           ]
          }
         ]
        },
        {
         "data": [
          {
           "type": "scatter",
           "x": [
            2010,
            2011,
            2012,
            2013
           ],
           "y": [
            2083,
            2979,
            2890,
            3058
           ]
          }
         ]
        },
        {
         "data": [
          {
           "type": "scatter",
           "x": [
            2010,
            2011,
            2012,
            2013,
            2014
           ],
           "y": [
            2083,
            2979,
            2890,
            3058,
            3178
           ]
          }
         ]
        },
        {
         "data": [
          {
           "type": "scatter",
           "x": [
            2010,
            2011,
            2012,
            2013,
            2014,
            2015
           ],
           "y": [
            2083,
            2979,
            2890,
            3058,
            3178,
            3063
           ]
          }
         ]
        },
        {
         "data": [
          {
           "type": "scatter",
           "x": [
            2010,
            2011,
            2012,
            2013,
            2014,
            2015,
            2016
           ],
           "y": [
            2083,
            2979,
            2890,
            3058,
            3178,
            3063,
            3148
           ]
          }
         ]
        },
        {
         "data": [
          {
           "type": "scatter",
           "x": [
            2010,
            2011,
            2012,
            2013,
            2014,
            2015,
            2016,
            2017
           ],
           "y": [
            2083,
            2979,
            2890,
            3058,
            3178,
            3063,
            3148,
            3153
           ]
          }
         ]
        },
        {
         "data": [
          {
           "type": "scatter",
           "x": [
            2010,
            2011,
            2012,
            2013,
            2014,
            2015,
            2016,
            2017,
            2018
           ],
           "y": [
            2083,
            2979,
            2890,
            3058,
            3178,
            3063,
            3148,
            3153,
            3090
           ]
          }
         ]
        },
        {
         "data": [
          {
           "type": "scatter",
           "x": [
            2010,
            2011,
            2012,
            2013,
            2014,
            2015,
            2016,
            2017,
            2018,
            2019
           ],
           "y": [
            2083,
            2979,
            2890,
            3058,
            3178,
            3063,
            3148,
            3153,
            3090,
            2919
           ]
          }
         ]
        },
        {
         "data": [
          {
           "type": "scatter",
           "x": [
            2010,
            2011,
            2012,
            2013,
            2014,
            2015,
            2016,
            2017,
            2018,
            2019,
            2020
           ],
           "y": [
            2083,
            2979,
            2890,
            3058,
            3178,
            3063,
            3148,
            3153,
            3090,
            2919,
            961
           ]
          }
         ]
        }
       ],
       "layout": {
        "template": {
         "data": {
          "bar": [
           {
            "error_x": {
             "color": "#2a3f5f"
            },
            "error_y": {
             "color": "#2a3f5f"
            },
            "marker": {
             "line": {
              "color": "#E5ECF6",
              "width": 0.5
             }
            },
            "type": "bar"
           }
          ],
          "barpolar": [
           {
            "marker": {
             "line": {
              "color": "#E5ECF6",
              "width": 0.5
             }
            },
            "type": "barpolar"
           }
          ],
          "carpet": [
           {
            "aaxis": {
             "endlinecolor": "#2a3f5f",
             "gridcolor": "white",
             "linecolor": "white",
             "minorgridcolor": "white",
             "startlinecolor": "#2a3f5f"
            },
            "baxis": {
             "endlinecolor": "#2a3f5f",
             "gridcolor": "white",
             "linecolor": "white",
             "minorgridcolor": "white",
             "startlinecolor": "#2a3f5f"
            },
            "type": "carpet"
           }
          ],
          "choropleth": [
           {
            "colorbar": {
             "outlinewidth": 0,
             "ticks": ""
            },
            "type": "choropleth"
           }
          ],
          "contour": [
           {
            "colorbar": {
             "outlinewidth": 0,
             "ticks": ""
            },
            "colorscale": [
             [
              0,
              "#0d0887"
             ],
             [
              0.1111111111111111,
              "#46039f"
             ],
             [
              0.2222222222222222,
              "#7201a8"
             ],
             [
              0.3333333333333333,
              "#9c179e"
             ],
             [
              0.4444444444444444,
              "#bd3786"
             ],
             [
              0.5555555555555556,
              "#d8576b"
             ],
             [
              0.6666666666666666,
              "#ed7953"
             ],
             [
              0.7777777777777778,
              "#fb9f3a"
             ],
             [
              0.8888888888888888,
              "#fdca26"
             ],
             [
              1,
              "#f0f921"
             ]
            ],
            "type": "contour"
           }
          ],
          "contourcarpet": [
           {
            "colorbar": {
             "outlinewidth": 0,
             "ticks": ""
            },
            "type": "contourcarpet"
           }
          ],
          "heatmap": [
           {
            "colorbar": {
             "outlinewidth": 0,
             "ticks": ""
            },
            "colorscale": [
             [
              0,
              "#0d0887"
             ],
             [
              0.1111111111111111,
              "#46039f"
             ],
             [
              0.2222222222222222,
              "#7201a8"
             ],
             [
              0.3333333333333333,
              "#9c179e"
             ],
             [
              0.4444444444444444,
              "#bd3786"
             ],
             [
              0.5555555555555556,
              "#d8576b"
             ],
             [
              0.6666666666666666,
              "#ed7953"
             ],
             [
              0.7777777777777778,
              "#fb9f3a"
             ],
             [
              0.8888888888888888,
              "#fdca26"
             ],
             [
              1,
              "#f0f921"
             ]
            ],
            "type": "heatmap"
           }
          ],
          "heatmapgl": [
           {
            "colorbar": {
             "outlinewidth": 0,
             "ticks": ""
            },
            "colorscale": [
             [
              0,
              "#0d0887"
             ],
             [
              0.1111111111111111,
              "#46039f"
             ],
             [
              0.2222222222222222,
              "#7201a8"
             ],
             [
              0.3333333333333333,
              "#9c179e"
             ],
             [
              0.4444444444444444,
              "#bd3786"
             ],
             [
              0.5555555555555556,
              "#d8576b"
             ],
             [
              0.6666666666666666,
              "#ed7953"
             ],
             [
              0.7777777777777778,
              "#fb9f3a"
             ],
             [
              0.8888888888888888,
              "#fdca26"
             ],
             [
              1,
              "#f0f921"
             ]
            ],
            "type": "heatmapgl"
           }
          ],
          "histogram": [
           {
            "marker": {
             "colorbar": {
              "outlinewidth": 0,
              "ticks": ""
             }
            },
            "type": "histogram"
           }
          ],
          "histogram2d": [
           {
            "colorbar": {
             "outlinewidth": 0,
             "ticks": ""
            },
            "colorscale": [
             [
              0,
              "#0d0887"
             ],
             [
              0.1111111111111111,
              "#46039f"
             ],
             [
              0.2222222222222222,
              "#7201a8"
             ],
             [
              0.3333333333333333,
              "#9c179e"
             ],
             [
              0.4444444444444444,
              "#bd3786"
             ],
             [
              0.5555555555555556,
              "#d8576b"
             ],
             [
              0.6666666666666666,
              "#ed7953"
             ],
             [
              0.7777777777777778,
              "#fb9f3a"
             ],
             [
              0.8888888888888888,
              "#fdca26"
             ],
             [
              1,
              "#f0f921"
             ]
            ],
            "type": "histogram2d"
           }
          ],
          "histogram2dcontour": [
           {
            "colorbar": {
             "outlinewidth": 0,
             "ticks": ""
            },
            "colorscale": [
             [
              0,
              "#0d0887"
             ],
             [
              0.1111111111111111,
              "#46039f"
             ],
             [
              0.2222222222222222,
              "#7201a8"
             ],
             [
              0.3333333333333333,
              "#9c179e"
             ],
             [
              0.4444444444444444,
              "#bd3786"
             ],
             [
              0.5555555555555556,
              "#d8576b"
             ],
             [
              0.6666666666666666,
              "#ed7953"
             ],
             [
              0.7777777777777778,
              "#fb9f3a"
             ],
             [
              0.8888888888888888,
              "#fdca26"
             ],
             [
              1,
              "#f0f921"
             ]
            ],
            "type": "histogram2dcontour"
           }
          ],
          "mesh3d": [
           {
            "colorbar": {
             "outlinewidth": 0,
             "ticks": ""
            },
            "type": "mesh3d"
           }
          ],
          "parcoords": [
           {
            "line": {
             "colorbar": {
              "outlinewidth": 0,
              "ticks": ""
             }
            },
            "type": "parcoords"
           }
          ],
          "pie": [
           {
            "automargin": true,
            "type": "pie"
           }
          ],
          "scatter": [
           {
            "marker": {
             "colorbar": {
              "outlinewidth": 0,
              "ticks": ""
             }
            },
            "type": "scatter"
           }
          ],
          "scatter3d": [
           {
            "line": {
             "colorbar": {
              "outlinewidth": 0,
              "ticks": ""
             }
            },
            "marker": {
             "colorbar": {
              "outlinewidth": 0,
              "ticks": ""
             }
            },
            "type": "scatter3d"
           }
          ],
          "scattercarpet": [
           {
            "marker": {
             "colorbar": {
              "outlinewidth": 0,
              "ticks": ""
             }
            },
            "type": "scattercarpet"
           }
          ],
          "scattergeo": [
           {
            "marker": {
             "colorbar": {
              "outlinewidth": 0,
              "ticks": ""
             }
            },
            "type": "scattergeo"
           }
          ],
          "scattergl": [
           {
            "marker": {
             "colorbar": {
              "outlinewidth": 0,
              "ticks": ""
             }
            },
            "type": "scattergl"
           }
          ],
          "scattermapbox": [
           {
            "marker": {
             "colorbar": {
              "outlinewidth": 0,
              "ticks": ""
             }
            },
            "type": "scattermapbox"
           }
          ],
          "scatterpolar": [
           {
            "marker": {
             "colorbar": {
              "outlinewidth": 0,
              "ticks": ""
             }
            },
            "type": "scatterpolar"
           }
          ],
          "scatterpolargl": [
           {
            "marker": {
             "colorbar": {
              "outlinewidth": 0,
              "ticks": ""
             }
            },
            "type": "scatterpolargl"
           }
          ],
          "scatterternary": [
           {
            "marker": {
             "colorbar": {
              "outlinewidth": 0,
              "ticks": ""
             }
            },
            "type": "scatterternary"
           }
          ],
          "surface": [
           {
            "colorbar": {
             "outlinewidth": 0,
             "ticks": ""
            },
            "colorscale": [
             [
              0,
              "#0d0887"
             ],
             [
              0.1111111111111111,
              "#46039f"
             ],
             [
              0.2222222222222222,
              "#7201a8"
             ],
             [
              0.3333333333333333,
              "#9c179e"
             ],
             [
              0.4444444444444444,
              "#bd3786"
             ],
             [
              0.5555555555555556,
              "#d8576b"
             ],
             [
              0.6666666666666666,
              "#ed7953"
             ],
             [
              0.7777777777777778,
              "#fb9f3a"
             ],
             [
              0.8888888888888888,
              "#fdca26"
             ],
             [
              1,
              "#f0f921"
             ]
            ],
            "type": "surface"
           }
          ],
          "table": [
           {
            "cells": {
             "fill": {
              "color": "#EBF0F8"
             },
             "line": {
              "color": "white"
             }
            },
            "header": {
             "fill": {
              "color": "#C8D4E3"
             },
             "line": {
              "color": "white"
             }
            },
            "type": "table"
           }
          ]
         },
         "layout": {
          "annotationdefaults": {
           "arrowcolor": "#2a3f5f",
           "arrowhead": 0,
           "arrowwidth": 1
          },
          "coloraxis": {
           "colorbar": {
            "outlinewidth": 0,
            "ticks": ""
           }
          },
          "colorscale": {
           "diverging": [
            [
             0,
             "#8e0152"
            ],
            [
             0.1,
             "#c51b7d"
            ],
            [
             0.2,
             "#de77ae"
            ],
            [
             0.3,
             "#f1b6da"
            ],
            [
             0.4,
             "#fde0ef"
            ],
            [
             0.5,
             "#f7f7f7"
            ],
            [
             0.6,
             "#e6f5d0"
            ],
            [
             0.7,
             "#b8e186"
            ],
            [
             0.8,
             "#7fbc41"
            ],
            [
             0.9,
             "#4d9221"
            ],
            [
             1,
             "#276419"
            ]
           ],
           "sequential": [
            [
             0,
             "#0d0887"
            ],
            [
             0.1111111111111111,
             "#46039f"
            ],
            [
             0.2222222222222222,
             "#7201a8"
            ],
            [
             0.3333333333333333,
             "#9c179e"
            ],
            [
             0.4444444444444444,
             "#bd3786"
            ],
            [
             0.5555555555555556,
             "#d8576b"
            ],
            [
             0.6666666666666666,
             "#ed7953"
            ],
            [
             0.7777777777777778,
             "#fb9f3a"
            ],
            [
             0.8888888888888888,
             "#fdca26"
            ],
            [
             1,
             "#f0f921"
            ]
           ],
           "sequentialminus": [
            [
             0,
             "#0d0887"
            ],
            [
             0.1111111111111111,
             "#46039f"
            ],
            [
             0.2222222222222222,
             "#7201a8"
            ],
            [
             0.3333333333333333,
             "#9c179e"
            ],
            [
             0.4444444444444444,
             "#bd3786"
            ],
            [
             0.5555555555555556,
             "#d8576b"
            ],
            [
             0.6666666666666666,
             "#ed7953"
            ],
            [
             0.7777777777777778,
             "#fb9f3a"
            ],
            [
             0.8888888888888888,
             "#fdca26"
            ],
            [
             1,
             "#f0f921"
            ]
           ]
          },
          "colorway": [
           "#636efa",
           "#EF553B",
           "#00cc96",
           "#ab63fa",
           "#FFA15A",
           "#19d3f3",
           "#FF6692",
           "#B6E880",
           "#FF97FF",
           "#FECB52"
          ],
          "font": {
           "color": "#2a3f5f"
          },
          "geo": {
           "bgcolor": "white",
           "lakecolor": "white",
           "landcolor": "#E5ECF6",
           "showlakes": true,
           "showland": true,
           "subunitcolor": "white"
          },
          "hoverlabel": {
           "align": "left"
          },
          "hovermode": "closest",
          "mapbox": {
           "style": "light"
          },
          "paper_bgcolor": "white",
          "plot_bgcolor": "#E5ECF6",
          "polar": {
           "angularaxis": {
            "gridcolor": "white",
            "linecolor": "white",
            "ticks": ""
           },
           "bgcolor": "#E5ECF6",
           "radialaxis": {
            "gridcolor": "white",
            "linecolor": "white",
            "ticks": ""
           }
          },
          "scene": {
           "xaxis": {
            "backgroundcolor": "#E5ECF6",
            "gridcolor": "white",
            "gridwidth": 2,
            "linecolor": "white",
            "showbackground": true,
            "ticks": "",
            "zerolinecolor": "white"
           },
           "yaxis": {
            "backgroundcolor": "#E5ECF6",
            "gridcolor": "white",
            "gridwidth": 2,
            "linecolor": "white",
            "showbackground": true,
            "ticks": "",
            "zerolinecolor": "white"
           },
           "zaxis": {
            "backgroundcolor": "#E5ECF6",
            "gridcolor": "white",
            "gridwidth": 2,
            "linecolor": "white",
            "showbackground": true,
            "ticks": "",
            "zerolinecolor": "white"
           }
          },
          "shapedefaults": {
           "line": {
            "color": "#2a3f5f"
           }
          },
          "ternary": {
           "aaxis": {
            "gridcolor": "white",
            "linecolor": "white",
            "ticks": ""
           },
           "baxis": {
            "gridcolor": "white",
            "linecolor": "white",
            "ticks": ""
           },
           "bgcolor": "#E5ECF6",
           "caxis": {
            "gridcolor": "white",
            "linecolor": "white",
            "ticks": ""
           }
          },
          "title": {
           "x": 0.05
          },
          "xaxis": {
           "automargin": true,
           "gridcolor": "white",
           "linecolor": "white",
           "ticks": "",
           "title": {
            "standoff": 15
           },
           "zerolinecolor": "white",
           "zerolinewidth": 2
          },
          "yaxis": {
           "automargin": true,
           "gridcolor": "white",
           "linecolor": "white",
           "ticks": "",
           "title": {
            "standoff": 15
           },
           "zerolinecolor": "white",
           "zerolinewidth": 2
          }
         }
        },
        "updatemenus": [
         {
          "buttons": [
           {
            "args": [
             null
            ],
            "label": "Play",
            "method": "animate"
           }
          ],
          "type": "buttons"
         }
        ],
        "xaxis": {
         "range": [
          2010,
          2020
         ]
        },
        "yaxis": {
         "range": [
          961,
          3178
         ]
        }
       }
      },
      "text/html": [
       "<div>\n",
       "        \n",
       "        \n",
       "            <div id=\"7597d03b-fccc-4075-833f-c43e8dbea132\" class=\"plotly-graph-div\" style=\"height:525px; width:100%;\"></div>\n",
       "            <script type=\"text/javascript\">\n",
       "                require([\"plotly\"], function(Plotly) {\n",
       "                    window.PLOTLYENV=window.PLOTLYENV || {};\n",
       "                    \n",
       "                if (document.getElementById(\"7597d03b-fccc-4075-833f-c43e8dbea132\")) {\n",
       "                    Plotly.newPlot(\n",
       "                        '7597d03b-fccc-4075-833f-c43e8dbea132',\n",
       "                        [{\"type\": \"scatter\", \"x\": [2010, 2010], \"y\": [961, 961]}],\n",
       "                        {\"template\": {\"data\": {\"bar\": [{\"error_x\": {\"color\": \"#2a3f5f\"}, \"error_y\": {\"color\": \"#2a3f5f\"}, \"marker\": {\"line\": {\"color\": \"#E5ECF6\", \"width\": 0.5}}, \"type\": \"bar\"}], \"barpolar\": [{\"marker\": {\"line\": {\"color\": \"#E5ECF6\", \"width\": 0.5}}, \"type\": \"barpolar\"}], \"carpet\": [{\"aaxis\": {\"endlinecolor\": \"#2a3f5f\", \"gridcolor\": \"white\", \"linecolor\": \"white\", \"minorgridcolor\": \"white\", \"startlinecolor\": \"#2a3f5f\"}, \"baxis\": {\"endlinecolor\": \"#2a3f5f\", \"gridcolor\": \"white\", \"linecolor\": \"white\", \"minorgridcolor\": \"white\", \"startlinecolor\": \"#2a3f5f\"}, \"type\": \"carpet\"}], \"choropleth\": [{\"colorbar\": {\"outlinewidth\": 0, \"ticks\": \"\"}, \"type\": \"choropleth\"}], \"contour\": [{\"colorbar\": {\"outlinewidth\": 0, \"ticks\": \"\"}, \"colorscale\": [[0.0, \"#0d0887\"], [0.1111111111111111, \"#46039f\"], [0.2222222222222222, \"#7201a8\"], [0.3333333333333333, \"#9c179e\"], [0.4444444444444444, \"#bd3786\"], [0.5555555555555556, \"#d8576b\"], [0.6666666666666666, \"#ed7953\"], [0.7777777777777778, \"#fb9f3a\"], [0.8888888888888888, \"#fdca26\"], [1.0, \"#f0f921\"]], \"type\": \"contour\"}], \"contourcarpet\": [{\"colorbar\": {\"outlinewidth\": 0, \"ticks\": \"\"}, \"type\": \"contourcarpet\"}], \"heatmap\": [{\"colorbar\": {\"outlinewidth\": 0, \"ticks\": \"\"}, \"colorscale\": [[0.0, \"#0d0887\"], [0.1111111111111111, \"#46039f\"], [0.2222222222222222, \"#7201a8\"], [0.3333333333333333, \"#9c179e\"], [0.4444444444444444, \"#bd3786\"], [0.5555555555555556, \"#d8576b\"], [0.6666666666666666, \"#ed7953\"], [0.7777777777777778, \"#fb9f3a\"], [0.8888888888888888, \"#fdca26\"], [1.0, \"#f0f921\"]], \"type\": \"heatmap\"}], \"heatmapgl\": [{\"colorbar\": {\"outlinewidth\": 0, \"ticks\": \"\"}, \"colorscale\": [[0.0, \"#0d0887\"], [0.1111111111111111, \"#46039f\"], [0.2222222222222222, \"#7201a8\"], [0.3333333333333333, \"#9c179e\"], [0.4444444444444444, \"#bd3786\"], [0.5555555555555556, \"#d8576b\"], [0.6666666666666666, \"#ed7953\"], [0.7777777777777778, \"#fb9f3a\"], [0.8888888888888888, \"#fdca26\"], [1.0, \"#f0f921\"]], \"type\": \"heatmapgl\"}], \"histogram\": [{\"marker\": {\"colorbar\": {\"outlinewidth\": 0, \"ticks\": \"\"}}, \"type\": \"histogram\"}], \"histogram2d\": [{\"colorbar\": {\"outlinewidth\": 0, \"ticks\": \"\"}, \"colorscale\": [[0.0, \"#0d0887\"], [0.1111111111111111, \"#46039f\"], [0.2222222222222222, \"#7201a8\"], [0.3333333333333333, \"#9c179e\"], [0.4444444444444444, \"#bd3786\"], [0.5555555555555556, \"#d8576b\"], [0.6666666666666666, \"#ed7953\"], [0.7777777777777778, \"#fb9f3a\"], [0.8888888888888888, \"#fdca26\"], [1.0, \"#f0f921\"]], \"type\": \"histogram2d\"}], \"histogram2dcontour\": [{\"colorbar\": {\"outlinewidth\": 0, \"ticks\": \"\"}, \"colorscale\": [[0.0, \"#0d0887\"], [0.1111111111111111, \"#46039f\"], [0.2222222222222222, \"#7201a8\"], [0.3333333333333333, \"#9c179e\"], [0.4444444444444444, \"#bd3786\"], [0.5555555555555556, \"#d8576b\"], [0.6666666666666666, \"#ed7953\"], [0.7777777777777778, \"#fb9f3a\"], [0.8888888888888888, \"#fdca26\"], [1.0, \"#f0f921\"]], \"type\": \"histogram2dcontour\"}], \"mesh3d\": [{\"colorbar\": {\"outlinewidth\": 0, \"ticks\": \"\"}, \"type\": \"mesh3d\"}], \"parcoords\": [{\"line\": {\"colorbar\": {\"outlinewidth\": 0, \"ticks\": \"\"}}, \"type\": \"parcoords\"}], \"pie\": [{\"automargin\": true, \"type\": \"pie\"}], \"scatter\": [{\"marker\": {\"colorbar\": {\"outlinewidth\": 0, \"ticks\": \"\"}}, \"type\": \"scatter\"}], \"scatter3d\": [{\"line\": {\"colorbar\": {\"outlinewidth\": 0, \"ticks\": \"\"}}, \"marker\": {\"colorbar\": {\"outlinewidth\": 0, \"ticks\": \"\"}}, \"type\": \"scatter3d\"}], \"scattercarpet\": [{\"marker\": {\"colorbar\": {\"outlinewidth\": 0, \"ticks\": \"\"}}, \"type\": \"scattercarpet\"}], \"scattergeo\": [{\"marker\": {\"colorbar\": {\"outlinewidth\": 0, \"ticks\": \"\"}}, \"type\": \"scattergeo\"}], \"scattergl\": [{\"marker\": {\"colorbar\": {\"outlinewidth\": 0, \"ticks\": \"\"}}, \"type\": \"scattergl\"}], \"scattermapbox\": [{\"marker\": {\"colorbar\": {\"outlinewidth\": 0, \"ticks\": \"\"}}, \"type\": \"scattermapbox\"}], \"scatterpolar\": [{\"marker\": {\"colorbar\": {\"outlinewidth\": 0, \"ticks\": \"\"}}, \"type\": \"scatterpolar\"}], \"scatterpolargl\": [{\"marker\": {\"colorbar\": {\"outlinewidth\": 0, \"ticks\": \"\"}}, \"type\": \"scatterpolargl\"}], \"scatterternary\": [{\"marker\": {\"colorbar\": {\"outlinewidth\": 0, \"ticks\": \"\"}}, \"type\": \"scatterternary\"}], \"surface\": [{\"colorbar\": {\"outlinewidth\": 0, \"ticks\": \"\"}, \"colorscale\": [[0.0, \"#0d0887\"], [0.1111111111111111, \"#46039f\"], [0.2222222222222222, \"#7201a8\"], [0.3333333333333333, \"#9c179e\"], [0.4444444444444444, \"#bd3786\"], [0.5555555555555556, \"#d8576b\"], [0.6666666666666666, \"#ed7953\"], [0.7777777777777778, \"#fb9f3a\"], [0.8888888888888888, \"#fdca26\"], [1.0, \"#f0f921\"]], \"type\": \"surface\"}], \"table\": [{\"cells\": {\"fill\": {\"color\": \"#EBF0F8\"}, \"line\": {\"color\": \"white\"}}, \"header\": {\"fill\": {\"color\": \"#C8D4E3\"}, \"line\": {\"color\": \"white\"}}, \"type\": \"table\"}]}, \"layout\": {\"annotationdefaults\": {\"arrowcolor\": \"#2a3f5f\", \"arrowhead\": 0, \"arrowwidth\": 1}, \"coloraxis\": {\"colorbar\": {\"outlinewidth\": 0, \"ticks\": \"\"}}, \"colorscale\": {\"diverging\": [[0, \"#8e0152\"], [0.1, \"#c51b7d\"], [0.2, \"#de77ae\"], [0.3, \"#f1b6da\"], [0.4, \"#fde0ef\"], [0.5, \"#f7f7f7\"], [0.6, \"#e6f5d0\"], [0.7, \"#b8e186\"], [0.8, \"#7fbc41\"], [0.9, \"#4d9221\"], [1, \"#276419\"]], \"sequential\": [[0.0, \"#0d0887\"], [0.1111111111111111, \"#46039f\"], [0.2222222222222222, \"#7201a8\"], [0.3333333333333333, \"#9c179e\"], [0.4444444444444444, \"#bd3786\"], [0.5555555555555556, \"#d8576b\"], [0.6666666666666666, \"#ed7953\"], [0.7777777777777778, \"#fb9f3a\"], [0.8888888888888888, \"#fdca26\"], [1.0, \"#f0f921\"]], \"sequentialminus\": [[0.0, \"#0d0887\"], [0.1111111111111111, \"#46039f\"], [0.2222222222222222, \"#7201a8\"], [0.3333333333333333, \"#9c179e\"], [0.4444444444444444, \"#bd3786\"], [0.5555555555555556, \"#d8576b\"], [0.6666666666666666, \"#ed7953\"], [0.7777777777777778, \"#fb9f3a\"], [0.8888888888888888, \"#fdca26\"], [1.0, \"#f0f921\"]]}, \"colorway\": [\"#636efa\", \"#EF553B\", \"#00cc96\", \"#ab63fa\", \"#FFA15A\", \"#19d3f3\", \"#FF6692\", \"#B6E880\", \"#FF97FF\", \"#FECB52\"], \"font\": {\"color\": \"#2a3f5f\"}, \"geo\": {\"bgcolor\": \"white\", \"lakecolor\": \"white\", \"landcolor\": \"#E5ECF6\", \"showlakes\": true, \"showland\": true, \"subunitcolor\": \"white\"}, \"hoverlabel\": {\"align\": \"left\"}, \"hovermode\": \"closest\", \"mapbox\": {\"style\": \"light\"}, \"paper_bgcolor\": \"white\", \"plot_bgcolor\": \"#E5ECF6\", \"polar\": {\"angularaxis\": {\"gridcolor\": \"white\", \"linecolor\": \"white\", \"ticks\": \"\"}, \"bgcolor\": \"#E5ECF6\", \"radialaxis\": {\"gridcolor\": \"white\", \"linecolor\": \"white\", \"ticks\": \"\"}}, \"scene\": {\"xaxis\": {\"backgroundcolor\": \"#E5ECF6\", \"gridcolor\": \"white\", \"gridwidth\": 2, \"linecolor\": \"white\", \"showbackground\": true, \"ticks\": \"\", \"zerolinecolor\": \"white\"}, \"yaxis\": {\"backgroundcolor\": \"#E5ECF6\", \"gridcolor\": \"white\", \"gridwidth\": 2, \"linecolor\": \"white\", \"showbackground\": true, \"ticks\": \"\", \"zerolinecolor\": \"white\"}, \"zaxis\": {\"backgroundcolor\": \"#E5ECF6\", \"gridcolor\": \"white\", \"gridwidth\": 2, \"linecolor\": \"white\", \"showbackground\": true, \"ticks\": \"\", \"zerolinecolor\": \"white\"}}, \"shapedefaults\": {\"line\": {\"color\": \"#2a3f5f\"}}, \"ternary\": {\"aaxis\": {\"gridcolor\": \"white\", \"linecolor\": \"white\", \"ticks\": \"\"}, \"baxis\": {\"gridcolor\": \"white\", \"linecolor\": \"white\", \"ticks\": \"\"}, \"bgcolor\": \"#E5ECF6\", \"caxis\": {\"gridcolor\": \"white\", \"linecolor\": \"white\", \"ticks\": \"\"}}, \"title\": {\"x\": 0.05}, \"xaxis\": {\"automargin\": true, \"gridcolor\": \"white\", \"linecolor\": \"white\", \"ticks\": \"\", \"title\": {\"standoff\": 15}, \"zerolinecolor\": \"white\", \"zerolinewidth\": 2}, \"yaxis\": {\"automargin\": true, \"gridcolor\": \"white\", \"linecolor\": \"white\", \"ticks\": \"\", \"title\": {\"standoff\": 15}, \"zerolinecolor\": \"white\", \"zerolinewidth\": 2}}}, \"updatemenus\": [{\"buttons\": [{\"args\": [null], \"label\": \"Play\", \"method\": \"animate\"}], \"type\": \"buttons\"}], \"xaxis\": {\"range\": [2010, 2020]}, \"yaxis\": {\"range\": [961, 3178]}},\n",
       "                        {\"responsive\": true}\n",
       "                    ).then(function(){\n",
       "                            Plotly.addFrames('7597d03b-fccc-4075-833f-c43e8dbea132', [{\"data\": [{\"x\": [2010], \"y\": [2083], \"type\": \"scatter\"}]}, {\"data\": [{\"x\": [2010, 2011], \"y\": [2083, 2979], \"type\": \"scatter\"}]}, {\"data\": [{\"x\": [2010, 2011, 2012], \"y\": [2083, 2979, 2890], \"type\": \"scatter\"}]}, {\"data\": [{\"x\": [2010, 2011, 2012, 2013], \"y\": [2083, 2979, 2890, 3058], \"type\": \"scatter\"}]}, {\"data\": [{\"x\": [2010, 2011, 2012, 2013, 2014], \"y\": [2083, 2979, 2890, 3058, 3178], \"type\": \"scatter\"}]}, {\"data\": [{\"x\": [2010, 2011, 2012, 2013, 2014, 2015], \"y\": [2083, 2979, 2890, 3058, 3178, 3063], \"type\": \"scatter\"}]}, {\"data\": [{\"x\": [2010, 2011, 2012, 2013, 2014, 2015, 2016], \"y\": [2083, 2979, 2890, 3058, 3178, 3063, 3148], \"type\": \"scatter\"}]}, {\"data\": [{\"x\": [2010, 2011, 2012, 2013, 2014, 2015, 2016, 2017], \"y\": [2083, 2979, 2890, 3058, 3178, 3063, 3148, 3153], \"type\": \"scatter\"}]}, {\"data\": [{\"x\": [2010, 2011, 2012, 2013, 2014, 2015, 2016, 2017, 2018], \"y\": [2083, 2979, 2890, 3058, 3178, 3063, 3148, 3153, 3090], \"type\": \"scatter\"}]}, {\"data\": [{\"x\": [2010, 2011, 2012, 2013, 2014, 2015, 2016, 2017, 2018, 2019], \"y\": [2083, 2979, 2890, 3058, 3178, 3063, 3148, 3153, 3090, 2919], \"type\": \"scatter\"}]}, {\"data\": [{\"x\": [2010, 2011, 2012, 2013, 2014, 2015, 2016, 2017, 2018, 2019, 2020], \"y\": [2083, 2979, 2890, 3058, 3178, 3063, 3148, 3153, 3090, 2919, 961], \"type\": \"scatter\"}]}]);\n",
       "                        }).then(function(){\n",
       "                            \n",
       "var gd = document.getElementById('7597d03b-fccc-4075-833f-c43e8dbea132');\n",
       "var x = new MutationObserver(function (mutations, observer) {{\n",
       "        var display = window.getComputedStyle(gd).display;\n",
       "        if (!display || display === 'none') {{\n",
       "            console.log([gd, 'removed!']);\n",
       "            Plotly.purge(gd);\n",
       "            observer.disconnect();\n",
       "        }}\n",
       "}});\n",
       "\n",
       "// Listen for the removal of the full notebook cells\n",
       "var notebookContainer = gd.closest('#notebook-container');\n",
       "if (notebookContainer) {{\n",
       "    x.observe(notebookContainer, {childList: true});\n",
       "}}\n",
       "\n",
       "// Listen for the clearing of the current output cell\n",
       "var outputEl = gd.closest('.output');\n",
       "if (outputEl) {{\n",
       "    x.observe(outputEl, {childList: true});\n",
       "}}\n",
       "\n",
       "                        })\n",
       "                };\n",
       "                });\n",
       "            </script>\n",
       "        </div>"
      ]
     },
     "metadata": {},
     "output_type": "display_data"
    }
   ],
   "source": [
    "fig=go.Figure(data=[data],layout=layout,frames=frames)\n",
    "fig.show()"
   ]
  },
  {
   "cell_type": "markdown",
   "metadata": {},
   "source": [
    "## Now consider the stakeholders involved in this scenario, and try to determine what analysis of data  will be useful for each of them."
   ]
  },
  {
   "cell_type": "markdown",
   "metadata": {},
   "source": [
    "#### Lets take the example of the hospitals here. What all data can be useful for one hospital ?\n",
    "The hospital has data records for the past 10 years. Thequestions asked can include\n",
    "- How many patients came in each year ? \n",
    "- What is the most popular reason for a patient to visit ?\n",
    "- Which insurance company is the most popular ?\n",
    "- What are the common medications/tests prescribed ? \n",
    "- What doctors/ speciality is most in demand ?\n",
    "- How many emergency cases are coming in ?\n",
    "- Whats the age group of the patients ?"
   ]
  },
  {
   "cell_type": "markdown",
   "metadata": {},
   "source": [
    "Depending on the answers to these questions \n",
    "the hospital can take decisions like:\n",
    "- What speciality of doctors need to be hired ? \n",
    "- What medicines/ medical equipment should be ordered ? \n",
    "- Which Insurance company can be a potential partner ? \n",
    "- How stringent should the emergency preparedness be ?"
   ]
  },
  {
   "cell_type": "markdown",
   "metadata": {},
   "source": [
    "### Lets look at how many hospitals do we have"
   ]
  },
  {
   "cell_type": "code",
   "execution_count": 104,
   "metadata": {},
   "outputs": [
    {
     "data": {
      "text/plain": [
       "HALLMARK HEALTH SYSTEM                               1324\n",
       "VA Boston Healthcare System  Jamaica Plain Campus    1196\n",
       "METROWEST MEDICAL CENTER                              712\n",
       "NEWTON-WELLESLEY HOSPITAL                             691\n",
       "CAMBRIDGE HEALTH ALLIANCE                             689\n",
       "                                                     ... \n",
       "HAWTHORN MEDICAL URGENT CARE CENTER                     2\n",
       "HAMPDEN COUNTY URGENT MEDICAL CARE CENTER               2\n",
       "MASHPEE FAMILY MEDICINE                                 1\n",
       "TRU MEDICAL WALK IN CENTER                              1\n",
       "FALL RIVER MEDICAL EMERGENCY WALK IN CLINIC             1\n",
       "Name: ORG_NAME, Length: 883, dtype: int64"
      ]
     },
     "execution_count": 104,
     "metadata": {},
     "output_type": "execute_result"
    }
   ],
   "source": [
    "encounter[\"ORG_NAME\"].value_counts()"
   ]
  },
  {
   "cell_type": "markdown",
   "metadata": {},
   "source": [
    "### Lets choose a random hospital. We're going with HALLMARK HEALTHCARE"
   ]
  },
  {
   "cell_type": "code",
   "execution_count": 58,
   "metadata": {},
   "outputs": [
    {
     "data": {
      "text/html": [
       "<div>\n",
       "<style scoped>\n",
       "    .dataframe tbody tr th:only-of-type {\n",
       "        vertical-align: middle;\n",
       "    }\n",
       "\n",
       "    .dataframe tbody tr th {\n",
       "        vertical-align: top;\n",
       "    }\n",
       "\n",
       "    .dataframe thead th {\n",
       "        text-align: right;\n",
       "    }\n",
       "</style>\n",
       "<table border=\"1\" class=\"dataframe\">\n",
       "  <thead>\n",
       "    <tr style=\"text-align: right;\">\n",
       "      <th></th>\n",
       "      <th>Id</th>\n",
       "      <th>START</th>\n",
       "      <th>STOP</th>\n",
       "      <th>PATIENT_NAME</th>\n",
       "      <th>AGE</th>\n",
       "      <th>CITY</th>\n",
       "      <th>DESCRIPTION</th>\n",
       "      <th>REASON</th>\n",
       "      <th>ENCOUNTERCLASS</th>\n",
       "      <th>BASE_ENCOUNTER_COST</th>\n",
       "      <th>PAYER_COVERAGE</th>\n",
       "      <th>ORG_NAME</th>\n",
       "      <th>ORG_CITY</th>\n",
       "      <th>REVENUE</th>\n",
       "      <th>PROVIDER_NAME</th>\n",
       "      <th>SPECIALITY</th>\n",
       "      <th>PAYER_NAME</th>\n",
       "      <th>YEAR</th>\n",
       "    </tr>\n",
       "  </thead>\n",
       "  <tbody>\n",
       "    <tr>\n",
       "      <th>632</th>\n",
       "      <td>0f2eccff-7741-4ff2-a13a-656cbd78394a</td>\n",
       "      <td>2010-12-17 14:19:13+00:00</td>\n",
       "      <td>2010-12-17T19:34:13Z</td>\n",
       "      <td>Lisbeth69 Hand679</td>\n",
       "      <td>37.0</td>\n",
       "      <td>Malden</td>\n",
       "      <td>Prenatal initial visit</td>\n",
       "      <td>Normal pregnancy</td>\n",
       "      <td>ambulatory</td>\n",
       "      <td>129.16</td>\n",
       "      <td>64.16</td>\n",
       "      <td>HALLMARK HEALTH SYSTEM</td>\n",
       "      <td>MELROSE</td>\n",
       "      <td>561587.35</td>\n",
       "      <td>Vern731 Powlowski563</td>\n",
       "      <td>GENERAL PRACTICE</td>\n",
       "      <td>Aetna</td>\n",
       "      <td>2010</td>\n",
       "    </tr>\n",
       "    <tr>\n",
       "      <th>633</th>\n",
       "      <td>a8f5aec6-5b20-4c6e-b79b-4adeac18f978</td>\n",
       "      <td>2011-01-14 14:19:13+00:00</td>\n",
       "      <td>2011-01-14T15:19:13Z</td>\n",
       "      <td>Lisbeth69 Hand679</td>\n",
       "      <td>37.0</td>\n",
       "      <td>Malden</td>\n",
       "      <td>Prenatal visit</td>\n",
       "      <td>Normal pregnancy</td>\n",
       "      <td>ambulatory</td>\n",
       "      <td>129.16</td>\n",
       "      <td>64.16</td>\n",
       "      <td>HALLMARK HEALTH SYSTEM</td>\n",
       "      <td>MELROSE</td>\n",
       "      <td>561587.35</td>\n",
       "      <td>Vern731 Powlowski563</td>\n",
       "      <td>GENERAL PRACTICE</td>\n",
       "      <td>Aetna</td>\n",
       "      <td>2011</td>\n",
       "    </tr>\n",
       "    <tr>\n",
       "      <th>634</th>\n",
       "      <td>1bd80074-32d8-454f-916a-4aff32595a81</td>\n",
       "      <td>2011-02-11 14:19:13+00:00</td>\n",
       "      <td>2011-02-11T15:34:13Z</td>\n",
       "      <td>Lisbeth69 Hand679</td>\n",
       "      <td>37.0</td>\n",
       "      <td>Malden</td>\n",
       "      <td>Prenatal visit</td>\n",
       "      <td>Normal pregnancy</td>\n",
       "      <td>ambulatory</td>\n",
       "      <td>129.16</td>\n",
       "      <td>64.16</td>\n",
       "      <td>HALLMARK HEALTH SYSTEM</td>\n",
       "      <td>MELROSE</td>\n",
       "      <td>561587.35</td>\n",
       "      <td>Vern731 Powlowski563</td>\n",
       "      <td>GENERAL PRACTICE</td>\n",
       "      <td>Aetna</td>\n",
       "      <td>2011</td>\n",
       "    </tr>\n",
       "    <tr>\n",
       "      <th>635</th>\n",
       "      <td>2e9c5abc-f9d1-45fa-9a98-69f99fb245d9</td>\n",
       "      <td>2011-03-11 14:19:13+00:00</td>\n",
       "      <td>2011-03-11T15:04:13Z</td>\n",
       "      <td>Lisbeth69 Hand679</td>\n",
       "      <td>37.0</td>\n",
       "      <td>Malden</td>\n",
       "      <td>Prenatal visit</td>\n",
       "      <td>Normal pregnancy</td>\n",
       "      <td>ambulatory</td>\n",
       "      <td>129.16</td>\n",
       "      <td>64.16</td>\n",
       "      <td>HALLMARK HEALTH SYSTEM</td>\n",
       "      <td>MELROSE</td>\n",
       "      <td>561587.35</td>\n",
       "      <td>Vern731 Powlowski563</td>\n",
       "      <td>GENERAL PRACTICE</td>\n",
       "      <td>Aetna</td>\n",
       "      <td>2011</td>\n",
       "    </tr>\n",
       "    <tr>\n",
       "      <th>636</th>\n",
       "      <td>61b102d3-fa48-49a8-b6bc-9214a052b6df</td>\n",
       "      <td>2011-04-08 14:19:13+00:00</td>\n",
       "      <td>2011-04-08T15:04:13Z</td>\n",
       "      <td>Lisbeth69 Hand679</td>\n",
       "      <td>37.0</td>\n",
       "      <td>Malden</td>\n",
       "      <td>Prenatal visit</td>\n",
       "      <td>Normal pregnancy</td>\n",
       "      <td>ambulatory</td>\n",
       "      <td>129.16</td>\n",
       "      <td>64.16</td>\n",
       "      <td>HALLMARK HEALTH SYSTEM</td>\n",
       "      <td>MELROSE</td>\n",
       "      <td>561587.35</td>\n",
       "      <td>Vern731 Powlowski563</td>\n",
       "      <td>GENERAL PRACTICE</td>\n",
       "      <td>Aetna</td>\n",
       "      <td>2011</td>\n",
       "    </tr>\n",
       "    <tr>\n",
       "      <th>...</th>\n",
       "      <td>...</td>\n",
       "      <td>...</td>\n",
       "      <td>...</td>\n",
       "      <td>...</td>\n",
       "      <td>...</td>\n",
       "      <td>...</td>\n",
       "      <td>...</td>\n",
       "      <td>...</td>\n",
       "      <td>...</td>\n",
       "      <td>...</td>\n",
       "      <td>...</td>\n",
       "      <td>...</td>\n",
       "      <td>...</td>\n",
       "      <td>...</td>\n",
       "      <td>...</td>\n",
       "      <td>...</td>\n",
       "      <td>...</td>\n",
       "      <td>...</td>\n",
       "    </tr>\n",
       "    <tr>\n",
       "      <th>52475</th>\n",
       "      <td>eb1b8c76-56f4-46ea-9e5f-5f0363db9858</td>\n",
       "      <td>2013-01-07 12:14:09+00:00</td>\n",
       "      <td>2013-01-07T12:29:09Z</td>\n",
       "      <td>Hubert238 Kihn564</td>\n",
       "      <td>12.0</td>\n",
       "      <td>Boston</td>\n",
       "      <td>Encounter for check up (procedure)</td>\n",
       "      <td>NaN</td>\n",
       "      <td>outpatient</td>\n",
       "      <td>129.16</td>\n",
       "      <td>0.00</td>\n",
       "      <td>HALLMARK HEALTH SYSTEM</td>\n",
       "      <td>MELROSE</td>\n",
       "      <td>561587.35</td>\n",
       "      <td>Vern731 Powlowski563</td>\n",
       "      <td>GENERAL PRACTICE</td>\n",
       "      <td>UnitedHealthcare</td>\n",
       "      <td>2013</td>\n",
       "    </tr>\n",
       "    <tr>\n",
       "      <th>52476</th>\n",
       "      <td>fbb8bdc8-f506-4c1f-b899-0da2b4859a1a</td>\n",
       "      <td>2013-01-06 12:14:09+00:00</td>\n",
       "      <td>2013-01-06T12:29:09Z</td>\n",
       "      <td>Hubert238 Kihn564</td>\n",
       "      <td>12.0</td>\n",
       "      <td>Boston</td>\n",
       "      <td>Encounter for symptom</td>\n",
       "      <td>Acute bacterial sinusitis (disorder)</td>\n",
       "      <td>ambulatory</td>\n",
       "      <td>129.16</td>\n",
       "      <td>59.16</td>\n",
       "      <td>HALLMARK HEALTH SYSTEM</td>\n",
       "      <td>MELROSE</td>\n",
       "      <td>561587.35</td>\n",
       "      <td>Vern731 Powlowski563</td>\n",
       "      <td>GENERAL PRACTICE</td>\n",
       "      <td>UnitedHealthcare</td>\n",
       "      <td>2013</td>\n",
       "    </tr>\n",
       "    <tr>\n",
       "      <th>52478</th>\n",
       "      <td>b35110b5-20b7-4ebf-84c5-62bf97ed94a3</td>\n",
       "      <td>2013-08-14 12:14:09+00:00</td>\n",
       "      <td>2013-08-14T12:29:09Z</td>\n",
       "      <td>Hubert238 Kihn564</td>\n",
       "      <td>12.0</td>\n",
       "      <td>Boston</td>\n",
       "      <td>Encounter for symptom</td>\n",
       "      <td>Viral sinusitis (disorder)</td>\n",
       "      <td>ambulatory</td>\n",
       "      <td>129.16</td>\n",
       "      <td>59.16</td>\n",
       "      <td>HALLMARK HEALTH SYSTEM</td>\n",
       "      <td>MELROSE</td>\n",
       "      <td>561587.35</td>\n",
       "      <td>Vern731 Powlowski563</td>\n",
       "      <td>GENERAL PRACTICE</td>\n",
       "      <td>UnitedHealthcare</td>\n",
       "      <td>2013</td>\n",
       "    </tr>\n",
       "    <tr>\n",
       "      <th>52479</th>\n",
       "      <td>9a384fbd-3e24-41e6-b338-330a6efdddeb</td>\n",
       "      <td>2013-12-27 12:14:09+00:00</td>\n",
       "      <td>2013-12-27T12:29:09Z</td>\n",
       "      <td>Hubert238 Kihn564</td>\n",
       "      <td>12.0</td>\n",
       "      <td>Boston</td>\n",
       "      <td>Encounter for symptom</td>\n",
       "      <td>Viral sinusitis (disorder)</td>\n",
       "      <td>ambulatory</td>\n",
       "      <td>129.16</td>\n",
       "      <td>59.16</td>\n",
       "      <td>HALLMARK HEALTH SYSTEM</td>\n",
       "      <td>MELROSE</td>\n",
       "      <td>561587.35</td>\n",
       "      <td>Vern731 Powlowski563</td>\n",
       "      <td>GENERAL PRACTICE</td>\n",
       "      <td>UnitedHealthcare</td>\n",
       "      <td>2013</td>\n",
       "    </tr>\n",
       "    <tr>\n",
       "      <th>52484</th>\n",
       "      <td>2283a706-fa4d-4e8e-b6a9-09fce989a5a8</td>\n",
       "      <td>2018-02-16 12:14:09+00:00</td>\n",
       "      <td>2018-02-16T12:29:09Z</td>\n",
       "      <td>Hubert238 Kihn564</td>\n",
       "      <td>12.0</td>\n",
       "      <td>Boston</td>\n",
       "      <td>Encounter for symptom</td>\n",
       "      <td>Viral sinusitis (disorder)</td>\n",
       "      <td>ambulatory</td>\n",
       "      <td>129.16</td>\n",
       "      <td>59.16</td>\n",
       "      <td>HALLMARK HEALTH SYSTEM</td>\n",
       "      <td>MELROSE</td>\n",
       "      <td>561587.35</td>\n",
       "      <td>Vern731 Powlowski563</td>\n",
       "      <td>GENERAL PRACTICE</td>\n",
       "      <td>UnitedHealthcare</td>\n",
       "      <td>2018</td>\n",
       "    </tr>\n",
       "  </tbody>\n",
       "</table>\n",
       "<p>1324 rows × 18 columns</p>\n",
       "</div>"
      ],
      "text/plain": [
       "                                         Id                     START  \\\n",
       "632    0f2eccff-7741-4ff2-a13a-656cbd78394a 2010-12-17 14:19:13+00:00   \n",
       "633    a8f5aec6-5b20-4c6e-b79b-4adeac18f978 2011-01-14 14:19:13+00:00   \n",
       "634    1bd80074-32d8-454f-916a-4aff32595a81 2011-02-11 14:19:13+00:00   \n",
       "635    2e9c5abc-f9d1-45fa-9a98-69f99fb245d9 2011-03-11 14:19:13+00:00   \n",
       "636    61b102d3-fa48-49a8-b6bc-9214a052b6df 2011-04-08 14:19:13+00:00   \n",
       "...                                     ...                       ...   \n",
       "52475  eb1b8c76-56f4-46ea-9e5f-5f0363db9858 2013-01-07 12:14:09+00:00   \n",
       "52476  fbb8bdc8-f506-4c1f-b899-0da2b4859a1a 2013-01-06 12:14:09+00:00   \n",
       "52478  b35110b5-20b7-4ebf-84c5-62bf97ed94a3 2013-08-14 12:14:09+00:00   \n",
       "52479  9a384fbd-3e24-41e6-b338-330a6efdddeb 2013-12-27 12:14:09+00:00   \n",
       "52484  2283a706-fa4d-4e8e-b6a9-09fce989a5a8 2018-02-16 12:14:09+00:00   \n",
       "\n",
       "                       STOP       PATIENT_NAME   AGE    CITY  \\\n",
       "632    2010-12-17T19:34:13Z  Lisbeth69 Hand679  37.0  Malden   \n",
       "633    2011-01-14T15:19:13Z  Lisbeth69 Hand679  37.0  Malden   \n",
       "634    2011-02-11T15:34:13Z  Lisbeth69 Hand679  37.0  Malden   \n",
       "635    2011-03-11T15:04:13Z  Lisbeth69 Hand679  37.0  Malden   \n",
       "636    2011-04-08T15:04:13Z  Lisbeth69 Hand679  37.0  Malden   \n",
       "...                     ...                ...   ...     ...   \n",
       "52475  2013-01-07T12:29:09Z  Hubert238 Kihn564  12.0  Boston   \n",
       "52476  2013-01-06T12:29:09Z  Hubert238 Kihn564  12.0  Boston   \n",
       "52478  2013-08-14T12:29:09Z  Hubert238 Kihn564  12.0  Boston   \n",
       "52479  2013-12-27T12:29:09Z  Hubert238 Kihn564  12.0  Boston   \n",
       "52484  2018-02-16T12:29:09Z  Hubert238 Kihn564  12.0  Boston   \n",
       "\n",
       "                              DESCRIPTION  \\\n",
       "632                Prenatal initial visit   \n",
       "633                        Prenatal visit   \n",
       "634                        Prenatal visit   \n",
       "635                        Prenatal visit   \n",
       "636                        Prenatal visit   \n",
       "...                                   ...   \n",
       "52475  Encounter for check up (procedure)   \n",
       "52476               Encounter for symptom   \n",
       "52478               Encounter for symptom   \n",
       "52479               Encounter for symptom   \n",
       "52484               Encounter for symptom   \n",
       "\n",
       "                                     REASON ENCOUNTERCLASS  \\\n",
       "632                        Normal pregnancy     ambulatory   \n",
       "633                        Normal pregnancy     ambulatory   \n",
       "634                        Normal pregnancy     ambulatory   \n",
       "635                        Normal pregnancy     ambulatory   \n",
       "636                        Normal pregnancy     ambulatory   \n",
       "...                                     ...            ...   \n",
       "52475                                   NaN     outpatient   \n",
       "52476  Acute bacterial sinusitis (disorder)     ambulatory   \n",
       "52478            Viral sinusitis (disorder)     ambulatory   \n",
       "52479            Viral sinusitis (disorder)     ambulatory   \n",
       "52484            Viral sinusitis (disorder)     ambulatory   \n",
       "\n",
       "       BASE_ENCOUNTER_COST  PAYER_COVERAGE                ORG_NAME ORG_CITY  \\\n",
       "632                 129.16           64.16  HALLMARK HEALTH SYSTEM  MELROSE   \n",
       "633                 129.16           64.16  HALLMARK HEALTH SYSTEM  MELROSE   \n",
       "634                 129.16           64.16  HALLMARK HEALTH SYSTEM  MELROSE   \n",
       "635                 129.16           64.16  HALLMARK HEALTH SYSTEM  MELROSE   \n",
       "636                 129.16           64.16  HALLMARK HEALTH SYSTEM  MELROSE   \n",
       "...                    ...             ...                     ...      ...   \n",
       "52475               129.16            0.00  HALLMARK HEALTH SYSTEM  MELROSE   \n",
       "52476               129.16           59.16  HALLMARK HEALTH SYSTEM  MELROSE   \n",
       "52478               129.16           59.16  HALLMARK HEALTH SYSTEM  MELROSE   \n",
       "52479               129.16           59.16  HALLMARK HEALTH SYSTEM  MELROSE   \n",
       "52484               129.16           59.16  HALLMARK HEALTH SYSTEM  MELROSE   \n",
       "\n",
       "         REVENUE         PROVIDER_NAME        SPECIALITY        PAYER_NAME  \\\n",
       "632    561587.35  Vern731 Powlowski563  GENERAL PRACTICE             Aetna   \n",
       "633    561587.35  Vern731 Powlowski563  GENERAL PRACTICE             Aetna   \n",
       "634    561587.35  Vern731 Powlowski563  GENERAL PRACTICE             Aetna   \n",
       "635    561587.35  Vern731 Powlowski563  GENERAL PRACTICE             Aetna   \n",
       "636    561587.35  Vern731 Powlowski563  GENERAL PRACTICE             Aetna   \n",
       "...          ...                   ...               ...               ...   \n",
       "52475  561587.35  Vern731 Powlowski563  GENERAL PRACTICE  UnitedHealthcare   \n",
       "52476  561587.35  Vern731 Powlowski563  GENERAL PRACTICE  UnitedHealthcare   \n",
       "52478  561587.35  Vern731 Powlowski563  GENERAL PRACTICE  UnitedHealthcare   \n",
       "52479  561587.35  Vern731 Powlowski563  GENERAL PRACTICE  UnitedHealthcare   \n",
       "52484  561587.35  Vern731 Powlowski563  GENERAL PRACTICE  UnitedHealthcare   \n",
       "\n",
       "       YEAR  \n",
       "632    2010  \n",
       "633    2011  \n",
       "634    2011  \n",
       "635    2011  \n",
       "636    2011  \n",
       "...     ...  \n",
       "52475  2013  \n",
       "52476  2013  \n",
       "52478  2013  \n",
       "52479  2013  \n",
       "52484  2018  \n",
       "\n",
       "[1324 rows x 18 columns]"
      ]
     },
     "execution_count": 58,
     "metadata": {},
     "output_type": "execute_result"
    }
   ],
   "source": [
    "df=encounter[encounter[\"ORG_NAME\"]==\"HALLMARK HEALTH SYSTEM\"]\n",
    "df"
   ]
  },
  {
   "cell_type": "markdown",
   "metadata": {},
   "source": [
    "#### Lets do a simple visualisation. \n",
    "We'd like to know what was the distribution of the number of cases covered by each insurance agency\n",
    "Lets create a stacked chart"
   ]
  },
  {
   "cell_type": "code",
   "execution_count": 136,
   "metadata": {},
   "outputs": [
    {
     "data": {
      "application/vnd.plotly.v1+json": {
       "config": {
        "plotlyServerURL": "https://plot.ly"
       },
       "data": [
        {
         "alignmentgroup": "True",
         "customdata": [
          [
           "Aetna"
          ],
          [
           "Anthem"
          ],
          [
           "Blue Cross Blue Shield"
          ],
          [
           "Cigna Health"
          ],
          [
           "Humana"
          ],
          [
           "Medicaid"
          ],
          [
           "Medicare"
          ],
          [
           "NO_INSURANCE"
          ],
          [
           "UnitedHealthcare"
          ],
          [
           "Aetna"
          ],
          [
           "Blue Cross Blue Shield"
          ],
          [
           "Cigna Health"
          ],
          [
           "Humana"
          ],
          [
           "Medicaid"
          ],
          [
           "Medicare"
          ],
          [
           "NO_INSURANCE"
          ],
          [
           "UnitedHealthcare"
          ],
          [
           "Aetna"
          ],
          [
           "Blue Cross Blue Shield"
          ],
          [
           "Cigna Health"
          ],
          [
           "Humana"
          ],
          [
           "Medicaid"
          ],
          [
           "Medicare"
          ],
          [
           "NO_INSURANCE"
          ],
          [
           "UnitedHealthcare"
          ],
          [
           "Aetna"
          ],
          [
           "Blue Cross Blue Shield"
          ],
          [
           "Cigna Health"
          ],
          [
           "Dual Eligible"
          ],
          [
           "Humana"
          ],
          [
           "Medicaid"
          ],
          [
           "Medicare"
          ],
          [
           "NO_INSURANCE"
          ],
          [
           "UnitedHealthcare"
          ],
          [
           "Aetna"
          ],
          [
           "Blue Cross Blue Shield"
          ],
          [
           "Cigna Health"
          ],
          [
           "Dual Eligible"
          ],
          [
           "Humana"
          ],
          [
           "Medicaid"
          ],
          [
           "Medicare"
          ],
          [
           "NO_INSURANCE"
          ],
          [
           "UnitedHealthcare"
          ],
          [
           "Aetna"
          ],
          [
           "Blue Cross Blue Shield"
          ],
          [
           "Cigna Health"
          ],
          [
           "Dual Eligible"
          ],
          [
           "Humana"
          ],
          [
           "Medicaid"
          ],
          [
           "Medicare"
          ],
          [
           "NO_INSURANCE"
          ],
          [
           "UnitedHealthcare"
          ],
          [
           "Aetna"
          ],
          [
           "Blue Cross Blue Shield"
          ],
          [
           "Cigna Health"
          ],
          [
           "Dual Eligible"
          ],
          [
           "Humana"
          ],
          [
           "Medicaid"
          ],
          [
           "Medicare"
          ],
          [
           "NO_INSURANCE"
          ],
          [
           "UnitedHealthcare"
          ],
          [
           "Aetna"
          ],
          [
           "Blue Cross Blue Shield"
          ],
          [
           "Cigna Health"
          ],
          [
           "Dual Eligible"
          ],
          [
           "Humana"
          ],
          [
           "Medicaid"
          ],
          [
           "Medicare"
          ],
          [
           "NO_INSURANCE"
          ],
          [
           "UnitedHealthcare"
          ],
          [
           "Aetna"
          ],
          [
           "Blue Cross Blue Shield"
          ],
          [
           "Cigna Health"
          ],
          [
           "Dual Eligible"
          ],
          [
           "Humana"
          ],
          [
           "Medicaid"
          ],
          [
           "Medicare"
          ],
          [
           "NO_INSURANCE"
          ],
          [
           "UnitedHealthcare"
          ],
          [
           "Aetna"
          ],
          [
           "Anthem"
          ],
          [
           "Blue Cross Blue Shield"
          ],
          [
           "Cigna Health"
          ],
          [
           "Dual Eligible"
          ],
          [
           "Humana"
          ],
          [
           "Medicaid"
          ],
          [
           "Medicare"
          ],
          [
           "NO_INSURANCE"
          ],
          [
           "UnitedHealthcare"
          ],
          [
           "Blue Cross Blue Shield"
          ],
          [
           "Cigna Health"
          ],
          [
           "Medicaid"
          ],
          [
           "Medicare"
          ],
          [
           "NO_INSURANCE"
          ],
          [
           "UnitedHealthcare"
          ]
         ],
         "hoverlabel": {
          "namelength": 0
         },
         "hovertemplate": "YEAR=%{x}<br>num_visits=%{y}<br>PAYER_NAME=%{customdata[0]}",
         "legendgroup": "",
         "marker": {
          "color": "#636efa"
         },
         "name": "",
         "offsetgroup": "",
         "orientation": "v",
         "showlegend": false,
         "textposition": "auto",
         "type": "bar",
         "x": [
          2010,
          2010,
          2010,
          2010,
          2010,
          2010,
          2010,
          2010,
          2010,
          2011,
          2011,
          2011,
          2011,
          2011,
          2011,
          2011,
          2011,
          2012,
          2012,
          2012,
          2012,
          2012,
          2012,
          2012,
          2012,
          2013,
          2013,
          2013,
          2013,
          2013,
          2013,
          2013,
          2013,
          2013,
          2014,
          2014,
          2014,
          2014,
          2014,
          2014,
          2014,
          2014,
          2014,
          2015,
          2015,
          2015,
          2015,
          2015,
          2015,
          2015,
          2015,
          2015,
          2016,
          2016,
          2016,
          2016,
          2016,
          2016,
          2016,
          2016,
          2016,
          2017,
          2017,
          2017,
          2017,
          2017,
          2017,
          2017,
          2017,
          2017,
          2018,
          2018,
          2018,
          2018,
          2018,
          2018,
          2018,
          2018,
          2018,
          2019,
          2019,
          2019,
          2019,
          2019,
          2019,
          2019,
          2019,
          2019,
          2019,
          2020,
          2020,
          2020,
          2020,
          2020,
          2020
         ],
         "xaxis": "x",
         "y": [
          4,
          1,
          3,
          2,
          4,
          15,
          12,
          14,
          8,
          15,
          73,
          2,
          4,
          31,
          6,
          16,
          10,
          10,
          86,
          4,
          13,
          37,
          12,
          15,
          3,
          18,
          20,
          3,
          3,
          12,
          28,
          13,
          13,
          15,
          13,
          6,
          6,
          2,
          13,
          44,
          10,
          25,
          17,
          3,
          5,
          2,
          2,
          10,
          38,
          9,
          21,
          14,
          6,
          12,
          1,
          1,
          5,
          38,
          14,
          26,
          11,
          11,
          5,
          19,
          1,
          7,
          53,
          13,
          21,
          23,
          6,
          5,
          22,
          1,
          4,
          34,
          4,
          35,
          15,
          3,
          1,
          7,
          21,
          4,
          1,
          31,
          7,
          36,
          8,
          5,
          12,
          14,
          2,
          13,
          1
         ],
         "yaxis": "y"
        }
       ],
       "layout": {
        "barmode": "relative",
        "legend": {
         "tracegroupgap": 0
        },
        "margin": {
         "t": 60
        },
        "template": {
         "data": {
          "bar": [
           {
            "error_x": {
             "color": "#2a3f5f"
            },
            "error_y": {
             "color": "#2a3f5f"
            },
            "marker": {
             "line": {
              "color": "#E5ECF6",
              "width": 0.5
             }
            },
            "type": "bar"
           }
          ],
          "barpolar": [
           {
            "marker": {
             "line": {
              "color": "#E5ECF6",
              "width": 0.5
             }
            },
            "type": "barpolar"
           }
          ],
          "carpet": [
           {
            "aaxis": {
             "endlinecolor": "#2a3f5f",
             "gridcolor": "white",
             "linecolor": "white",
             "minorgridcolor": "white",
             "startlinecolor": "#2a3f5f"
            },
            "baxis": {
             "endlinecolor": "#2a3f5f",
             "gridcolor": "white",
             "linecolor": "white",
             "minorgridcolor": "white",
             "startlinecolor": "#2a3f5f"
            },
            "type": "carpet"
           }
          ],
          "choropleth": [
           {
            "colorbar": {
             "outlinewidth": 0,
             "ticks": ""
            },
            "type": "choropleth"
           }
          ],
          "contour": [
           {
            "colorbar": {
             "outlinewidth": 0,
             "ticks": ""
            },
            "colorscale": [
             [
              0,
              "#0d0887"
             ],
             [
              0.1111111111111111,
              "#46039f"
             ],
             [
              0.2222222222222222,
              "#7201a8"
             ],
             [
              0.3333333333333333,
              "#9c179e"
             ],
             [
              0.4444444444444444,
              "#bd3786"
             ],
             [
              0.5555555555555556,
              "#d8576b"
             ],
             [
              0.6666666666666666,
              "#ed7953"
             ],
             [
              0.7777777777777778,
              "#fb9f3a"
             ],
             [
              0.8888888888888888,
              "#fdca26"
             ],
             [
              1,
              "#f0f921"
             ]
            ],
            "type": "contour"
           }
          ],
          "contourcarpet": [
           {
            "colorbar": {
             "outlinewidth": 0,
             "ticks": ""
            },
            "type": "contourcarpet"
           }
          ],
          "heatmap": [
           {
            "colorbar": {
             "outlinewidth": 0,
             "ticks": ""
            },
            "colorscale": [
             [
              0,
              "#0d0887"
             ],
             [
              0.1111111111111111,
              "#46039f"
             ],
             [
              0.2222222222222222,
              "#7201a8"
             ],
             [
              0.3333333333333333,
              "#9c179e"
             ],
             [
              0.4444444444444444,
              "#bd3786"
             ],
             [
              0.5555555555555556,
              "#d8576b"
             ],
             [
              0.6666666666666666,
              "#ed7953"
             ],
             [
              0.7777777777777778,
              "#fb9f3a"
             ],
             [
              0.8888888888888888,
              "#fdca26"
             ],
             [
              1,
              "#f0f921"
             ]
            ],
            "type": "heatmap"
           }
          ],
          "heatmapgl": [
           {
            "colorbar": {
             "outlinewidth": 0,
             "ticks": ""
            },
            "colorscale": [
             [
              0,
              "#0d0887"
             ],
             [
              0.1111111111111111,
              "#46039f"
             ],
             [
              0.2222222222222222,
              "#7201a8"
             ],
             [
              0.3333333333333333,
              "#9c179e"
             ],
             [
              0.4444444444444444,
              "#bd3786"
             ],
             [
              0.5555555555555556,
              "#d8576b"
             ],
             [
              0.6666666666666666,
              "#ed7953"
             ],
             [
              0.7777777777777778,
              "#fb9f3a"
             ],
             [
              0.8888888888888888,
              "#fdca26"
             ],
             [
              1,
              "#f0f921"
             ]
            ],
            "type": "heatmapgl"
           }
          ],
          "histogram": [
           {
            "marker": {
             "colorbar": {
              "outlinewidth": 0,
              "ticks": ""
             }
            },
            "type": "histogram"
           }
          ],
          "histogram2d": [
           {
            "colorbar": {
             "outlinewidth": 0,
             "ticks": ""
            },
            "colorscale": [
             [
              0,
              "#0d0887"
             ],
             [
              0.1111111111111111,
              "#46039f"
             ],
             [
              0.2222222222222222,
              "#7201a8"
             ],
             [
              0.3333333333333333,
              "#9c179e"
             ],
             [
              0.4444444444444444,
              "#bd3786"
             ],
             [
              0.5555555555555556,
              "#d8576b"
             ],
             [
              0.6666666666666666,
              "#ed7953"
             ],
             [
              0.7777777777777778,
              "#fb9f3a"
             ],
             [
              0.8888888888888888,
              "#fdca26"
             ],
             [
              1,
              "#f0f921"
             ]
            ],
            "type": "histogram2d"
           }
          ],
          "histogram2dcontour": [
           {
            "colorbar": {
             "outlinewidth": 0,
             "ticks": ""
            },
            "colorscale": [
             [
              0,
              "#0d0887"
             ],
             [
              0.1111111111111111,
              "#46039f"
             ],
             [
              0.2222222222222222,
              "#7201a8"
             ],
             [
              0.3333333333333333,
              "#9c179e"
             ],
             [
              0.4444444444444444,
              "#bd3786"
             ],
             [
              0.5555555555555556,
              "#d8576b"
             ],
             [
              0.6666666666666666,
              "#ed7953"
             ],
             [
              0.7777777777777778,
              "#fb9f3a"
             ],
             [
              0.8888888888888888,
              "#fdca26"
             ],
             [
              1,
              "#f0f921"
             ]
            ],
            "type": "histogram2dcontour"
           }
          ],
          "mesh3d": [
           {
            "colorbar": {
             "outlinewidth": 0,
             "ticks": ""
            },
            "type": "mesh3d"
           }
          ],
          "parcoords": [
           {
            "line": {
             "colorbar": {
              "outlinewidth": 0,
              "ticks": ""
             }
            },
            "type": "parcoords"
           }
          ],
          "pie": [
           {
            "automargin": true,
            "type": "pie"
           }
          ],
          "scatter": [
           {
            "marker": {
             "colorbar": {
              "outlinewidth": 0,
              "ticks": ""
             }
            },
            "type": "scatter"
           }
          ],
          "scatter3d": [
           {
            "line": {
             "colorbar": {
              "outlinewidth": 0,
              "ticks": ""
             }
            },
            "marker": {
             "colorbar": {
              "outlinewidth": 0,
              "ticks": ""
             }
            },
            "type": "scatter3d"
           }
          ],
          "scattercarpet": [
           {
            "marker": {
             "colorbar": {
              "outlinewidth": 0,
              "ticks": ""
             }
            },
            "type": "scattercarpet"
           }
          ],
          "scattergeo": [
           {
            "marker": {
             "colorbar": {
              "outlinewidth": 0,
              "ticks": ""
             }
            },
            "type": "scattergeo"
           }
          ],
          "scattergl": [
           {
            "marker": {
             "colorbar": {
              "outlinewidth": 0,
              "ticks": ""
             }
            },
            "type": "scattergl"
           }
          ],
          "scattermapbox": [
           {
            "marker": {
             "colorbar": {
              "outlinewidth": 0,
              "ticks": ""
             }
            },
            "type": "scattermapbox"
           }
          ],
          "scatterpolar": [
           {
            "marker": {
             "colorbar": {
              "outlinewidth": 0,
              "ticks": ""
             }
            },
            "type": "scatterpolar"
           }
          ],
          "scatterpolargl": [
           {
            "marker": {
             "colorbar": {
              "outlinewidth": 0,
              "ticks": ""
             }
            },
            "type": "scatterpolargl"
           }
          ],
          "scatterternary": [
           {
            "marker": {
             "colorbar": {
              "outlinewidth": 0,
              "ticks": ""
             }
            },
            "type": "scatterternary"
           }
          ],
          "surface": [
           {
            "colorbar": {
             "outlinewidth": 0,
             "ticks": ""
            },
            "colorscale": [
             [
              0,
              "#0d0887"
             ],
             [
              0.1111111111111111,
              "#46039f"
             ],
             [
              0.2222222222222222,
              "#7201a8"
             ],
             [
              0.3333333333333333,
              "#9c179e"
             ],
             [
              0.4444444444444444,
              "#bd3786"
             ],
             [
              0.5555555555555556,
              "#d8576b"
             ],
             [
              0.6666666666666666,
              "#ed7953"
             ],
             [
              0.7777777777777778,
              "#fb9f3a"
             ],
             [
              0.8888888888888888,
              "#fdca26"
             ],
             [
              1,
              "#f0f921"
             ]
            ],
            "type": "surface"
           }
          ],
          "table": [
           {
            "cells": {
             "fill": {
              "color": "#EBF0F8"
             },
             "line": {
              "color": "white"
             }
            },
            "header": {
             "fill": {
              "color": "#C8D4E3"
             },
             "line": {
              "color": "white"
             }
            },
            "type": "table"
           }
          ]
         },
         "layout": {
          "annotationdefaults": {
           "arrowcolor": "#2a3f5f",
           "arrowhead": 0,
           "arrowwidth": 1
          },
          "coloraxis": {
           "colorbar": {
            "outlinewidth": 0,
            "ticks": ""
           }
          },
          "colorscale": {
           "diverging": [
            [
             0,
             "#8e0152"
            ],
            [
             0.1,
             "#c51b7d"
            ],
            [
             0.2,
             "#de77ae"
            ],
            [
             0.3,
             "#f1b6da"
            ],
            [
             0.4,
             "#fde0ef"
            ],
            [
             0.5,
             "#f7f7f7"
            ],
            [
             0.6,
             "#e6f5d0"
            ],
            [
             0.7,
             "#b8e186"
            ],
            [
             0.8,
             "#7fbc41"
            ],
            [
             0.9,
             "#4d9221"
            ],
            [
             1,
             "#276419"
            ]
           ],
           "sequential": [
            [
             0,
             "#0d0887"
            ],
            [
             0.1111111111111111,
             "#46039f"
            ],
            [
             0.2222222222222222,
             "#7201a8"
            ],
            [
             0.3333333333333333,
             "#9c179e"
            ],
            [
             0.4444444444444444,
             "#bd3786"
            ],
            [
             0.5555555555555556,
             "#d8576b"
            ],
            [
             0.6666666666666666,
             "#ed7953"
            ],
            [
             0.7777777777777778,
             "#fb9f3a"
            ],
            [
             0.8888888888888888,
             "#fdca26"
            ],
            [
             1,
             "#f0f921"
            ]
           ],
           "sequentialminus": [
            [
             0,
             "#0d0887"
            ],
            [
             0.1111111111111111,
             "#46039f"
            ],
            [
             0.2222222222222222,
             "#7201a8"
            ],
            [
             0.3333333333333333,
             "#9c179e"
            ],
            [
             0.4444444444444444,
             "#bd3786"
            ],
            [
             0.5555555555555556,
             "#d8576b"
            ],
            [
             0.6666666666666666,
             "#ed7953"
            ],
            [
             0.7777777777777778,
             "#fb9f3a"
            ],
            [
             0.8888888888888888,
             "#fdca26"
            ],
            [
             1,
             "#f0f921"
            ]
           ]
          },
          "colorway": [
           "#636efa",
           "#EF553B",
           "#00cc96",
           "#ab63fa",
           "#FFA15A",
           "#19d3f3",
           "#FF6692",
           "#B6E880",
           "#FF97FF",
           "#FECB52"
          ],
          "font": {
           "color": "#2a3f5f"
          },
          "geo": {
           "bgcolor": "white",
           "lakecolor": "white",
           "landcolor": "#E5ECF6",
           "showlakes": true,
           "showland": true,
           "subunitcolor": "white"
          },
          "hoverlabel": {
           "align": "left"
          },
          "hovermode": "closest",
          "mapbox": {
           "style": "light"
          },
          "paper_bgcolor": "white",
          "plot_bgcolor": "#E5ECF6",
          "polar": {
           "angularaxis": {
            "gridcolor": "white",
            "linecolor": "white",
            "ticks": ""
           },
           "bgcolor": "#E5ECF6",
           "radialaxis": {
            "gridcolor": "white",
            "linecolor": "white",
            "ticks": ""
           }
          },
          "scene": {
           "xaxis": {
            "backgroundcolor": "#E5ECF6",
            "gridcolor": "white",
            "gridwidth": 2,
            "linecolor": "white",
            "showbackground": true,
            "ticks": "",
            "zerolinecolor": "white"
           },
           "yaxis": {
            "backgroundcolor": "#E5ECF6",
            "gridcolor": "white",
            "gridwidth": 2,
            "linecolor": "white",
            "showbackground": true,
            "ticks": "",
            "zerolinecolor": "white"
           },
           "zaxis": {
            "backgroundcolor": "#E5ECF6",
            "gridcolor": "white",
            "gridwidth": 2,
            "linecolor": "white",
            "showbackground": true,
            "ticks": "",
            "zerolinecolor": "white"
           }
          },
          "shapedefaults": {
           "line": {
            "color": "#2a3f5f"
           }
          },
          "ternary": {
           "aaxis": {
            "gridcolor": "white",
            "linecolor": "white",
            "ticks": ""
           },
           "baxis": {
            "gridcolor": "white",
            "linecolor": "white",
            "ticks": ""
           },
           "bgcolor": "#E5ECF6",
           "caxis": {
            "gridcolor": "white",
            "linecolor": "white",
            "ticks": ""
           }
          },
          "title": {
           "x": 0.05
          },
          "xaxis": {
           "automargin": true,
           "gridcolor": "white",
           "linecolor": "white",
           "ticks": "",
           "title": {
            "standoff": 15
           },
           "zerolinecolor": "white",
           "zerolinewidth": 2
          },
          "yaxis": {
           "automargin": true,
           "gridcolor": "white",
           "linecolor": "white",
           "ticks": "",
           "title": {
            "standoff": 15
           },
           "zerolinecolor": "white",
           "zerolinewidth": 2
          }
         }
        },
        "xaxis": {
         "anchor": "y",
         "domain": [
          0,
          1
         ],
         "title": {
          "text": "YEAR"
         }
        },
        "yaxis": {
         "anchor": "x",
         "domain": [
          0,
          1
         ],
         "title": {
          "text": "num_visits"
         }
        }
       }
      },
      "text/html": [
       "<div>\n",
       "        \n",
       "        \n",
       "            <div id=\"75a072fa-38f2-4f8a-be9a-048c3eda6132\" class=\"plotly-graph-div\" style=\"height:525px; width:100%;\"></div>\n",
       "            <script type=\"text/javascript\">\n",
       "                require([\"plotly\"], function(Plotly) {\n",
       "                    window.PLOTLYENV=window.PLOTLYENV || {};\n",
       "                    \n",
       "                if (document.getElementById(\"75a072fa-38f2-4f8a-be9a-048c3eda6132\")) {\n",
       "                    Plotly.newPlot(\n",
       "                        '75a072fa-38f2-4f8a-be9a-048c3eda6132',\n",
       "                        [{\"alignmentgroup\": \"True\", \"customdata\": [[\"Aetna\"], [\"Anthem\"], [\"Blue Cross Blue Shield\"], [\"Cigna Health\"], [\"Humana\"], [\"Medicaid\"], [\"Medicare\"], [\"NO_INSURANCE\"], [\"UnitedHealthcare\"], [\"Aetna\"], [\"Blue Cross Blue Shield\"], [\"Cigna Health\"], [\"Humana\"], [\"Medicaid\"], [\"Medicare\"], [\"NO_INSURANCE\"], [\"UnitedHealthcare\"], [\"Aetna\"], [\"Blue Cross Blue Shield\"], [\"Cigna Health\"], [\"Humana\"], [\"Medicaid\"], [\"Medicare\"], [\"NO_INSURANCE\"], [\"UnitedHealthcare\"], [\"Aetna\"], [\"Blue Cross Blue Shield\"], [\"Cigna Health\"], [\"Dual Eligible\"], [\"Humana\"], [\"Medicaid\"], [\"Medicare\"], [\"NO_INSURANCE\"], [\"UnitedHealthcare\"], [\"Aetna\"], [\"Blue Cross Blue Shield\"], [\"Cigna Health\"], [\"Dual Eligible\"], [\"Humana\"], [\"Medicaid\"], [\"Medicare\"], [\"NO_INSURANCE\"], [\"UnitedHealthcare\"], [\"Aetna\"], [\"Blue Cross Blue Shield\"], [\"Cigna Health\"], [\"Dual Eligible\"], [\"Humana\"], [\"Medicaid\"], [\"Medicare\"], [\"NO_INSURANCE\"], [\"UnitedHealthcare\"], [\"Aetna\"], [\"Blue Cross Blue Shield\"], [\"Cigna Health\"], [\"Dual Eligible\"], [\"Humana\"], [\"Medicaid\"], [\"Medicare\"], [\"NO_INSURANCE\"], [\"UnitedHealthcare\"], [\"Aetna\"], [\"Blue Cross Blue Shield\"], [\"Cigna Health\"], [\"Dual Eligible\"], [\"Humana\"], [\"Medicaid\"], [\"Medicare\"], [\"NO_INSURANCE\"], [\"UnitedHealthcare\"], [\"Aetna\"], [\"Blue Cross Blue Shield\"], [\"Cigna Health\"], [\"Dual Eligible\"], [\"Humana\"], [\"Medicaid\"], [\"Medicare\"], [\"NO_INSURANCE\"], [\"UnitedHealthcare\"], [\"Aetna\"], [\"Anthem\"], [\"Blue Cross Blue Shield\"], [\"Cigna Health\"], [\"Dual Eligible\"], [\"Humana\"], [\"Medicaid\"], [\"Medicare\"], [\"NO_INSURANCE\"], [\"UnitedHealthcare\"], [\"Blue Cross Blue Shield\"], [\"Cigna Health\"], [\"Medicaid\"], [\"Medicare\"], [\"NO_INSURANCE\"], [\"UnitedHealthcare\"]], \"hoverlabel\": {\"namelength\": 0}, \"hovertemplate\": \"YEAR=%{x}<br>num_visits=%{y}<br>PAYER_NAME=%{customdata[0]}\", \"legendgroup\": \"\", \"marker\": {\"color\": \"#636efa\"}, \"name\": \"\", \"offsetgroup\": \"\", \"orientation\": \"v\", \"showlegend\": false, \"textposition\": \"auto\", \"type\": \"bar\", \"x\": [2010, 2010, 2010, 2010, 2010, 2010, 2010, 2010, 2010, 2011, 2011, 2011, 2011, 2011, 2011, 2011, 2011, 2012, 2012, 2012, 2012, 2012, 2012, 2012, 2012, 2013, 2013, 2013, 2013, 2013, 2013, 2013, 2013, 2013, 2014, 2014, 2014, 2014, 2014, 2014, 2014, 2014, 2014, 2015, 2015, 2015, 2015, 2015, 2015, 2015, 2015, 2015, 2016, 2016, 2016, 2016, 2016, 2016, 2016, 2016, 2016, 2017, 2017, 2017, 2017, 2017, 2017, 2017, 2017, 2017, 2018, 2018, 2018, 2018, 2018, 2018, 2018, 2018, 2018, 2019, 2019, 2019, 2019, 2019, 2019, 2019, 2019, 2019, 2019, 2020, 2020, 2020, 2020, 2020, 2020], \"xaxis\": \"x\", \"y\": [4, 1, 3, 2, 4, 15, 12, 14, 8, 15, 73, 2, 4, 31, 6, 16, 10, 10, 86, 4, 13, 37, 12, 15, 3, 18, 20, 3, 3, 12, 28, 13, 13, 15, 13, 6, 6, 2, 13, 44, 10, 25, 17, 3, 5, 2, 2, 10, 38, 9, 21, 14, 6, 12, 1, 1, 5, 38, 14, 26, 11, 11, 5, 19, 1, 7, 53, 13, 21, 23, 6, 5, 22, 1, 4, 34, 4, 35, 15, 3, 1, 7, 21, 4, 1, 31, 7, 36, 8, 5, 12, 14, 2, 13, 1], \"yaxis\": \"y\"}],\n",
       "                        {\"barmode\": \"relative\", \"legend\": {\"tracegroupgap\": 0}, \"margin\": {\"t\": 60}, \"template\": {\"data\": {\"bar\": [{\"error_x\": {\"color\": \"#2a3f5f\"}, \"error_y\": {\"color\": \"#2a3f5f\"}, \"marker\": {\"line\": {\"color\": \"#E5ECF6\", \"width\": 0.5}}, \"type\": \"bar\"}], \"barpolar\": [{\"marker\": {\"line\": {\"color\": \"#E5ECF6\", \"width\": 0.5}}, \"type\": \"barpolar\"}], \"carpet\": [{\"aaxis\": {\"endlinecolor\": \"#2a3f5f\", \"gridcolor\": \"white\", \"linecolor\": \"white\", \"minorgridcolor\": \"white\", \"startlinecolor\": \"#2a3f5f\"}, \"baxis\": {\"endlinecolor\": \"#2a3f5f\", \"gridcolor\": \"white\", \"linecolor\": \"white\", \"minorgridcolor\": \"white\", \"startlinecolor\": \"#2a3f5f\"}, \"type\": \"carpet\"}], \"choropleth\": [{\"colorbar\": {\"outlinewidth\": 0, \"ticks\": \"\"}, \"type\": \"choropleth\"}], \"contour\": [{\"colorbar\": {\"outlinewidth\": 0, \"ticks\": \"\"}, \"colorscale\": [[0.0, \"#0d0887\"], [0.1111111111111111, \"#46039f\"], [0.2222222222222222, \"#7201a8\"], [0.3333333333333333, \"#9c179e\"], [0.4444444444444444, \"#bd3786\"], [0.5555555555555556, \"#d8576b\"], [0.6666666666666666, \"#ed7953\"], [0.7777777777777778, \"#fb9f3a\"], [0.8888888888888888, \"#fdca26\"], [1.0, \"#f0f921\"]], \"type\": \"contour\"}], \"contourcarpet\": [{\"colorbar\": {\"outlinewidth\": 0, \"ticks\": \"\"}, \"type\": \"contourcarpet\"}], \"heatmap\": [{\"colorbar\": {\"outlinewidth\": 0, \"ticks\": \"\"}, \"colorscale\": [[0.0, \"#0d0887\"], [0.1111111111111111, \"#46039f\"], [0.2222222222222222, \"#7201a8\"], [0.3333333333333333, \"#9c179e\"], [0.4444444444444444, \"#bd3786\"], [0.5555555555555556, \"#d8576b\"], [0.6666666666666666, \"#ed7953\"], [0.7777777777777778, \"#fb9f3a\"], [0.8888888888888888, \"#fdca26\"], [1.0, \"#f0f921\"]], \"type\": \"heatmap\"}], \"heatmapgl\": [{\"colorbar\": {\"outlinewidth\": 0, \"ticks\": \"\"}, \"colorscale\": [[0.0, \"#0d0887\"], [0.1111111111111111, \"#46039f\"], [0.2222222222222222, \"#7201a8\"], [0.3333333333333333, \"#9c179e\"], [0.4444444444444444, \"#bd3786\"], [0.5555555555555556, \"#d8576b\"], [0.6666666666666666, \"#ed7953\"], [0.7777777777777778, \"#fb9f3a\"], [0.8888888888888888, \"#fdca26\"], [1.0, \"#f0f921\"]], \"type\": \"heatmapgl\"}], \"histogram\": [{\"marker\": {\"colorbar\": {\"outlinewidth\": 0, \"ticks\": \"\"}}, \"type\": \"histogram\"}], \"histogram2d\": [{\"colorbar\": {\"outlinewidth\": 0, \"ticks\": \"\"}, \"colorscale\": [[0.0, \"#0d0887\"], [0.1111111111111111, \"#46039f\"], [0.2222222222222222, \"#7201a8\"], [0.3333333333333333, \"#9c179e\"], [0.4444444444444444, \"#bd3786\"], [0.5555555555555556, \"#d8576b\"], [0.6666666666666666, \"#ed7953\"], [0.7777777777777778, \"#fb9f3a\"], [0.8888888888888888, \"#fdca26\"], [1.0, \"#f0f921\"]], \"type\": \"histogram2d\"}], \"histogram2dcontour\": [{\"colorbar\": {\"outlinewidth\": 0, \"ticks\": \"\"}, \"colorscale\": [[0.0, \"#0d0887\"], [0.1111111111111111, \"#46039f\"], [0.2222222222222222, \"#7201a8\"], [0.3333333333333333, \"#9c179e\"], [0.4444444444444444, \"#bd3786\"], [0.5555555555555556, \"#d8576b\"], [0.6666666666666666, \"#ed7953\"], [0.7777777777777778, \"#fb9f3a\"], [0.8888888888888888, \"#fdca26\"], [1.0, \"#f0f921\"]], \"type\": \"histogram2dcontour\"}], \"mesh3d\": [{\"colorbar\": {\"outlinewidth\": 0, \"ticks\": \"\"}, \"type\": \"mesh3d\"}], \"parcoords\": [{\"line\": {\"colorbar\": {\"outlinewidth\": 0, \"ticks\": \"\"}}, \"type\": \"parcoords\"}], \"pie\": [{\"automargin\": true, \"type\": \"pie\"}], \"scatter\": [{\"marker\": {\"colorbar\": {\"outlinewidth\": 0, \"ticks\": \"\"}}, \"type\": \"scatter\"}], \"scatter3d\": [{\"line\": {\"colorbar\": {\"outlinewidth\": 0, \"ticks\": \"\"}}, \"marker\": {\"colorbar\": {\"outlinewidth\": 0, \"ticks\": \"\"}}, \"type\": \"scatter3d\"}], \"scattercarpet\": [{\"marker\": {\"colorbar\": {\"outlinewidth\": 0, \"ticks\": \"\"}}, \"type\": \"scattercarpet\"}], \"scattergeo\": [{\"marker\": {\"colorbar\": {\"outlinewidth\": 0, \"ticks\": \"\"}}, \"type\": \"scattergeo\"}], \"scattergl\": [{\"marker\": {\"colorbar\": {\"outlinewidth\": 0, \"ticks\": \"\"}}, \"type\": \"scattergl\"}], \"scattermapbox\": [{\"marker\": {\"colorbar\": {\"outlinewidth\": 0, \"ticks\": \"\"}}, \"type\": \"scattermapbox\"}], \"scatterpolar\": [{\"marker\": {\"colorbar\": {\"outlinewidth\": 0, \"ticks\": \"\"}}, \"type\": \"scatterpolar\"}], \"scatterpolargl\": [{\"marker\": {\"colorbar\": {\"outlinewidth\": 0, \"ticks\": \"\"}}, \"type\": \"scatterpolargl\"}], \"scatterternary\": [{\"marker\": {\"colorbar\": {\"outlinewidth\": 0, \"ticks\": \"\"}}, \"type\": \"scatterternary\"}], \"surface\": [{\"colorbar\": {\"outlinewidth\": 0, \"ticks\": \"\"}, \"colorscale\": [[0.0, \"#0d0887\"], [0.1111111111111111, \"#46039f\"], [0.2222222222222222, \"#7201a8\"], [0.3333333333333333, \"#9c179e\"], [0.4444444444444444, \"#bd3786\"], [0.5555555555555556, \"#d8576b\"], [0.6666666666666666, \"#ed7953\"], [0.7777777777777778, \"#fb9f3a\"], [0.8888888888888888, \"#fdca26\"], [1.0, \"#f0f921\"]], \"type\": \"surface\"}], \"table\": [{\"cells\": {\"fill\": {\"color\": \"#EBF0F8\"}, \"line\": {\"color\": \"white\"}}, \"header\": {\"fill\": {\"color\": \"#C8D4E3\"}, \"line\": {\"color\": \"white\"}}, \"type\": \"table\"}]}, \"layout\": {\"annotationdefaults\": {\"arrowcolor\": \"#2a3f5f\", \"arrowhead\": 0, \"arrowwidth\": 1}, \"coloraxis\": {\"colorbar\": {\"outlinewidth\": 0, \"ticks\": \"\"}}, \"colorscale\": {\"diverging\": [[0, \"#8e0152\"], [0.1, \"#c51b7d\"], [0.2, \"#de77ae\"], [0.3, \"#f1b6da\"], [0.4, \"#fde0ef\"], [0.5, \"#f7f7f7\"], [0.6, \"#e6f5d0\"], [0.7, \"#b8e186\"], [0.8, \"#7fbc41\"], [0.9, \"#4d9221\"], [1, \"#276419\"]], \"sequential\": [[0.0, \"#0d0887\"], [0.1111111111111111, \"#46039f\"], [0.2222222222222222, \"#7201a8\"], [0.3333333333333333, \"#9c179e\"], [0.4444444444444444, \"#bd3786\"], [0.5555555555555556, \"#d8576b\"], [0.6666666666666666, \"#ed7953\"], [0.7777777777777778, \"#fb9f3a\"], [0.8888888888888888, \"#fdca26\"], [1.0, \"#f0f921\"]], \"sequentialminus\": [[0.0, \"#0d0887\"], [0.1111111111111111, \"#46039f\"], [0.2222222222222222, \"#7201a8\"], [0.3333333333333333, \"#9c179e\"], [0.4444444444444444, \"#bd3786\"], [0.5555555555555556, \"#d8576b\"], [0.6666666666666666, \"#ed7953\"], [0.7777777777777778, \"#fb9f3a\"], [0.8888888888888888, \"#fdca26\"], [1.0, \"#f0f921\"]]}, \"colorway\": [\"#636efa\", \"#EF553B\", \"#00cc96\", \"#ab63fa\", \"#FFA15A\", \"#19d3f3\", \"#FF6692\", \"#B6E880\", \"#FF97FF\", \"#FECB52\"], \"font\": {\"color\": \"#2a3f5f\"}, \"geo\": {\"bgcolor\": \"white\", \"lakecolor\": \"white\", \"landcolor\": \"#E5ECF6\", \"showlakes\": true, \"showland\": true, \"subunitcolor\": \"white\"}, \"hoverlabel\": {\"align\": \"left\"}, \"hovermode\": \"closest\", \"mapbox\": {\"style\": \"light\"}, \"paper_bgcolor\": \"white\", \"plot_bgcolor\": \"#E5ECF6\", \"polar\": {\"angularaxis\": {\"gridcolor\": \"white\", \"linecolor\": \"white\", \"ticks\": \"\"}, \"bgcolor\": \"#E5ECF6\", \"radialaxis\": {\"gridcolor\": \"white\", \"linecolor\": \"white\", \"ticks\": \"\"}}, \"scene\": {\"xaxis\": {\"backgroundcolor\": \"#E5ECF6\", \"gridcolor\": \"white\", \"gridwidth\": 2, \"linecolor\": \"white\", \"showbackground\": true, \"ticks\": \"\", \"zerolinecolor\": \"white\"}, \"yaxis\": {\"backgroundcolor\": \"#E5ECF6\", \"gridcolor\": \"white\", \"gridwidth\": 2, \"linecolor\": \"white\", \"showbackground\": true, \"ticks\": \"\", \"zerolinecolor\": \"white\"}, \"zaxis\": {\"backgroundcolor\": \"#E5ECF6\", \"gridcolor\": \"white\", \"gridwidth\": 2, \"linecolor\": \"white\", \"showbackground\": true, \"ticks\": \"\", \"zerolinecolor\": \"white\"}}, \"shapedefaults\": {\"line\": {\"color\": \"#2a3f5f\"}}, \"ternary\": {\"aaxis\": {\"gridcolor\": \"white\", \"linecolor\": \"white\", \"ticks\": \"\"}, \"baxis\": {\"gridcolor\": \"white\", \"linecolor\": \"white\", \"ticks\": \"\"}, \"bgcolor\": \"#E5ECF6\", \"caxis\": {\"gridcolor\": \"white\", \"linecolor\": \"white\", \"ticks\": \"\"}}, \"title\": {\"x\": 0.05}, \"xaxis\": {\"automargin\": true, \"gridcolor\": \"white\", \"linecolor\": \"white\", \"ticks\": \"\", \"title\": {\"standoff\": 15}, \"zerolinecolor\": \"white\", \"zerolinewidth\": 2}, \"yaxis\": {\"automargin\": true, \"gridcolor\": \"white\", \"linecolor\": \"white\", \"ticks\": \"\", \"title\": {\"standoff\": 15}, \"zerolinecolor\": \"white\", \"zerolinewidth\": 2}}}, \"xaxis\": {\"anchor\": \"y\", \"domain\": [0.0, 1.0], \"title\": {\"text\": \"YEAR\"}}, \"yaxis\": {\"anchor\": \"x\", \"domain\": [0.0, 1.0], \"title\": {\"text\": \"num_visits\"}}},\n",
       "                        {\"responsive\": true}\n",
       "                    ).then(function(){\n",
       "                            \n",
       "var gd = document.getElementById('75a072fa-38f2-4f8a-be9a-048c3eda6132');\n",
       "var x = new MutationObserver(function (mutations, observer) {{\n",
       "        var display = window.getComputedStyle(gd).display;\n",
       "        if (!display || display === 'none') {{\n",
       "            console.log([gd, 'removed!']);\n",
       "            Plotly.purge(gd);\n",
       "            observer.disconnect();\n",
       "        }}\n",
       "}});\n",
       "\n",
       "// Listen for the removal of the full notebook cells\n",
       "var notebookContainer = gd.closest('#notebook-container');\n",
       "if (notebookContainer) {{\n",
       "    x.observe(notebookContainer, {childList: true});\n",
       "}}\n",
       "\n",
       "// Listen for the clearing of the current output cell\n",
       "var outputEl = gd.closest('.output');\n",
       "if (outputEl) {{\n",
       "    x.observe(outputEl, {childList: true});\n",
       "}}\n",
       "\n",
       "                        })\n",
       "                };\n",
       "                });\n",
       "            </script>\n",
       "        </div>"
      ]
     },
     "metadata": {},
     "output_type": "display_data"
    }
   ],
   "source": [
    "#group by year and payer name and take a count.\n",
    "payer_distribution=__________________________________\n",
    "\n",
    "# x-axis = ? y-axis=? data to be seen = ?\n",
    "\n",
    "px.bar(payer_distribution,x=___________,y=___________,hover_data=[__________],labels={\"Id\":\"num_visits\"})"
   ]
  },
  {
   "cell_type": "markdown",
   "metadata": {},
   "source": [
    "#### Now let's try to find the popular reasons for which patients visited the hospital\n",
    "We're going to use subplots for this\n",
    "We need: \n",
    "- number of rows \n",
    "- number of columns\n",
    "- and what each figure is going be (specs)"
   ]
  },
  {
   "cell_type": "code",
   "execution_count": 151,
   "metadata": {},
   "outputs": [],
   "source": [
    "cols= 1\n",
    "rows = 11\n",
    "\n",
    "specs = [[{\"type\":\"pie\"}] for i in range(rows)]\n",
    "\n",
    "column_widths=[0.9]"
   ]
  },
  {
   "cell_type": "code",
   "execution_count": 152,
   "metadata": {},
   "outputs": [],
   "source": [
    "fig = make_subplots(rows=rows,cols=cols,specs=specs,column_widths=column_widths)"
   ]
  },
  {
   "cell_type": "code",
   "execution_count": 153,
   "metadata": {},
   "outputs": [
    {
     "data": {
      "application/vnd.plotly.v1+json": {
       "config": {
        "plotlyServerURL": "https://plot.ly"
       },
       "data": [
        {
         "domain": {
          "x": [
           0,
           1
          ],
          "y": [
           0.9338842975206612,
           1
          ]
         },
         "labels": [
          "Hyperlipidemia",
          "Viral sinusitis (disorder)",
          "Sinusitis (disorder)",
          "Streptococcal sore throat (disorder)",
          "Otitis media",
          "Anemia (disorder)",
          "Drug overdose",
          "Acute viral pharyngitis (disorder)",
          "Fracture of rib",
          "Fracture subluxation of wrist",
          "Normal pregnancy"
         ],
         "textinfo": "none",
         "title": {
          "text": "2010"
         },
         "type": "pie",
         "values": [
          7,
          6,
          3,
          2,
          2,
          2,
          1,
          1,
          1,
          1,
          1
         ]
        },
        {
         "domain": {
          "x": [
           0,
           1
          ],
          "y": [
           0.8404958677685951,
           0.9066115702479339
          ]
         },
         "labels": [
          "Chronic congestive heart failure (disorder)",
          "Normal pregnancy",
          "Hyperlipidemia",
          "Viral sinusitis (disorder)",
          "Otitis media",
          "Acute bronchitis (disorder)",
          "Escherichia coli urinary tract infection",
          "Acute viral pharyngitis (disorder)",
          "Drug overdose",
          "Fetus with unknown complication",
          "Fracture of rib",
          "Blighted ovum",
          "Childhood asthma"
         ],
         "textinfo": "none",
         "title": {
          "text": "2011"
         },
         "type": "pie",
         "values": [
          57,
          24,
          8,
          7,
          3,
          3,
          1,
          1,
          1,
          1,
          1,
          1,
          1
         ]
        },
        {
         "domain": {
          "x": [
           0,
           1
          ],
          "y": [
           0.7471074380165289,
           0.8132231404958677
          ]
         },
         "labels": [
          "Chronic congestive heart failure (disorder)",
          "Normal pregnancy",
          "Viral sinusitis (disorder)",
          "Hyperlipidemia",
          "Acute bacterial sinusitis (disorder)",
          "Acute bronchitis (disorder)",
          "Streptococcal sore throat (disorder)",
          "Acute viral pharyngitis (disorder)",
          "Otitis media",
          "Impacted molars",
          "Alzheimer's disease (disorder)",
          "Chronic intractable migraine without aura",
          "Drug overdose",
          "Chronic pain",
          "Fracture of ankle",
          "Childhood asthma"
         ],
         "textinfo": "none",
         "title": {
          "text": "2012"
         },
         "type": "pie",
         "values": [
          70,
          15,
          10,
          8,
          5,
          4,
          3,
          2,
          2,
          2,
          1,
          1,
          1,
          1,
          1,
          1
         ]
        },
        {
         "domain": {
          "x": [
           0,
           1
          ],
          "y": [
           0.6537190082644628,
           0.7198347107438017
          ]
         },
         "labels": [
          "Normal pregnancy",
          "Child attention deficit disorder",
          "Hyperlipidemia",
          "Viral sinusitis (disorder)",
          "Acute viral pharyngitis (disorder)",
          "Acute bronchitis (disorder)",
          "Chronic pain",
          "Otitis media",
          "Impacted molars",
          "Acute bacterial sinusitis (disorder)",
          "Drug overdose",
          "Chronic congestive heart failure (disorder)",
          "Anemia (disorder)",
          "Concussion with no loss of consciousness",
          "Fetus with unknown complication",
          "Streptococcal sore throat (disorder)",
          "Atopic dermatitis",
          "Childhood asthma"
         ],
         "textinfo": "none",
         "title": {
          "text": "2013"
         },
         "type": "pie",
         "values": [
          26,
          9,
          8,
          5,
          4,
          3,
          3,
          2,
          2,
          2,
          2,
          2,
          1,
          1,
          1,
          1,
          1,
          1
         ]
        },
        {
         "domain": {
          "x": [
           0,
           1
          ],
          "y": [
           0.5603305785123966,
           0.6264462809917355
          ]
         },
         "labels": [
          "Normal pregnancy",
          "Child attention deficit disorder",
          "Hyperlipidemia",
          "Viral sinusitis (disorder)",
          "Acute bronchitis (disorder)",
          "Streptococcal sore throat (disorder)",
          "Acute viral pharyngitis (disorder)",
          "Impacted molars",
          "Drug overdose",
          "Childhood asthma",
          "Sinusitis (disorder)",
          "Alzheimer's disease (disorder)",
          "Otitis media",
          "Acute bacterial sinusitis (disorder)",
          "Chronic pain",
          "Fracture subluxation of wrist"
         ],
         "textinfo": "none",
         "title": {
          "text": "2014"
         },
         "type": "pie",
         "values": [
          45,
          12,
          8,
          4,
          3,
          3,
          2,
          2,
          2,
          2,
          1,
          1,
          1,
          1,
          1,
          1
         ]
        },
        {
         "domain": {
          "x": [
           0,
           1
          ],
          "y": [
           0.4669421487603306,
           0.5330578512396694
          ]
         },
         "labels": [
          "Normal pregnancy",
          "Child attention deficit disorder",
          "Hyperlipidemia",
          "Viral sinusitis (disorder)",
          "Acute bronchitis (disorder)",
          "Otitis media",
          "Chronic intractable migraine without aura",
          "Osteoarthritis of knee",
          "Drug overdose",
          "Chronic congestive heart failure (disorder)",
          "Anemia (disorder)",
          "Sinusitis (disorder)",
          "Asthma",
          "Acute bacterial sinusitis (disorder)",
          "Impacted molars",
          "Chronic pain"
         ],
         "textinfo": "none",
         "title": {
          "text": "2015"
         },
         "type": "pie",
         "values": [
          14,
          12,
          9,
          6,
          5,
          2,
          2,
          2,
          2,
          2,
          1,
          1,
          1,
          1,
          1,
          1
         ]
        },
        {
         "domain": {
          "x": [
           0,
           1
          ],
          "y": [
           0.37355371900826445,
           0.4396694214876033
          ]
         },
         "labels": [
          "Normal pregnancy",
          "Child attention deficit disorder",
          "Hyperlipidemia",
          "Acute bronchitis (disorder)",
          "Viral sinusitis (disorder)",
          "Chronic pain",
          "Chronic congestive heart failure (disorder)",
          "Fracture of forearm",
          "Acute viral pharyngitis (disorder)",
          "Injury of medial collateral ligament of knee",
          "Otitis media",
          "Acute bacterial sinusitis (disorder)",
          "Anemia (disorder)",
          "Drug overdose",
          "Streptococcal sore throat (disorder)",
          "Blighted ovum"
         ],
         "textinfo": "none",
         "title": {
          "text": "2016"
         },
         "type": "pie",
         "values": [
          21,
          11,
          9,
          3,
          3,
          2,
          2,
          1,
          1,
          1,
          1,
          1,
          1,
          1,
          1,
          1
         ]
        },
        {
         "domain": {
          "x": [
           0,
           1
          ],
          "y": [
           0.2801652892561983,
           0.34628099173553717
          ]
         },
         "labels": [
          "Normal pregnancy",
          "Child attention deficit disorder",
          "Hyperlipidemia",
          "Viral sinusitis (disorder)",
          "Acute viral pharyngitis (disorder)",
          "Acute bronchitis (disorder)",
          "Suspected lung cancer (situation)",
          "Drug overdose",
          "Non-small cell lung cancer (disorder)",
          "Alzheimer's disease (disorder)",
          "Cystitis",
          "Non-small cell carcinoma of lung  TNM stage 1 (disorder)",
          "Perennial allergic rhinitis with seasonal variation",
          "Childhood asthma"
         ],
         "textinfo": "none",
         "title": {
          "text": "2017"
         },
         "type": "pie",
         "values": [
          29,
          12,
          10,
          9,
          7,
          3,
          2,
          2,
          1,
          1,
          1,
          1,
          1,
          1
         ]
        },
        {
         "domain": {
          "x": [
           0,
           1
          ],
          "y": [
           0.18677685950413223,
           0.2528925619834711
          ]
         },
         "labels": [
          "Child attention deficit disorder",
          "Hyperlipidemia",
          "Viral sinusitis (disorder)",
          "Acute bacterial sinusitis (disorder)",
          "Normal pregnancy",
          "Acute bronchitis (disorder)",
          "Acute viral pharyngitis (disorder)",
          "Otitis media",
          "Injury of tendon of the rotator cuff of shoulder",
          "Childhood asthma",
          "Cystitis",
          "Pneumonia",
          "Drug overdose",
          "Streptococcal sore throat (disorder)",
          "Fracture of clavicle",
          "Atopic dermatitis"
         ],
         "textinfo": "none",
         "title": {
          "text": "2018"
         },
         "type": "pie",
         "values": [
          12,
          11,
          7,
          6,
          3,
          3,
          2,
          2,
          2,
          2,
          1,
          1,
          1,
          1,
          1,
          1
         ]
        },
        {
         "domain": {
          "x": [
           0,
           1
          ],
          "y": [
           0.09338842975206611,
           0.15950413223140497
          ]
         },
         "labels": [
          "Hyperlipidemia",
          "Viral sinusitis (disorder)",
          "Otitis media",
          "Normal pregnancy",
          "Child attention deficit disorder",
          "Appendicitis",
          "Acute viral pharyngitis (disorder)",
          "Fracture of rib",
          "Childhood asthma",
          "Streptococcal sore throat (disorder)",
          "Escherichia coli urinary tract infection",
          "Drug overdose",
          "Asthma",
          "Injury of tendon of the rotator cuff of shoulder",
          "Acute bronchitis (disorder)",
          "Cystitis",
          "Concussion with no loss of consciousness"
         ],
         "textinfo": "none",
         "title": {
          "text": "2019"
         },
         "type": "pie",
         "values": [
          9,
          7,
          5,
          3,
          2,
          2,
          2,
          1,
          1,
          1,
          1,
          1,
          1,
          1,
          1,
          1,
          1
         ]
        },
        {
         "domain": {
          "x": [
           0,
           1
          ],
          "y": [
           0,
           0.06611570247933884
          ]
         },
         "labels": [
          "Sinusitis (disorder)",
          "Normal pregnancy",
          "Acute viral pharyngitis (disorder)",
          "Hyperlipidemia",
          "Perennial allergic rhinitis with seasonal variation",
          "Childhood asthma",
          "Perennial allergic rhinitis",
          "Fracture subluxation of wrist",
          "Acute bronchitis (disorder)"
         ],
         "textinfo": "none",
         "title": {
          "text": "2020"
         },
         "type": "pie",
         "values": [
          5,
          4,
          3,
          2,
          2,
          2,
          1,
          1,
          1
         ]
        }
       ],
       "layout": {
        "height": 4000,
        "template": {
         "data": {
          "bar": [
           {
            "error_x": {
             "color": "#2a3f5f"
            },
            "error_y": {
             "color": "#2a3f5f"
            },
            "marker": {
             "line": {
              "color": "#E5ECF6",
              "width": 0.5
             }
            },
            "type": "bar"
           }
          ],
          "barpolar": [
           {
            "marker": {
             "line": {
              "color": "#E5ECF6",
              "width": 0.5
             }
            },
            "type": "barpolar"
           }
          ],
          "carpet": [
           {
            "aaxis": {
             "endlinecolor": "#2a3f5f",
             "gridcolor": "white",
             "linecolor": "white",
             "minorgridcolor": "white",
             "startlinecolor": "#2a3f5f"
            },
            "baxis": {
             "endlinecolor": "#2a3f5f",
             "gridcolor": "white",
             "linecolor": "white",
             "minorgridcolor": "white",
             "startlinecolor": "#2a3f5f"
            },
            "type": "carpet"
           }
          ],
          "choropleth": [
           {
            "colorbar": {
             "outlinewidth": 0,
             "ticks": ""
            },
            "type": "choropleth"
           }
          ],
          "contour": [
           {
            "colorbar": {
             "outlinewidth": 0,
             "ticks": ""
            },
            "colorscale": [
             [
              0,
              "#0d0887"
             ],
             [
              0.1111111111111111,
              "#46039f"
             ],
             [
              0.2222222222222222,
              "#7201a8"
             ],
             [
              0.3333333333333333,
              "#9c179e"
             ],
             [
              0.4444444444444444,
              "#bd3786"
             ],
             [
              0.5555555555555556,
              "#d8576b"
             ],
             [
              0.6666666666666666,
              "#ed7953"
             ],
             [
              0.7777777777777778,
              "#fb9f3a"
             ],
             [
              0.8888888888888888,
              "#fdca26"
             ],
             [
              1,
              "#f0f921"
             ]
            ],
            "type": "contour"
           }
          ],
          "contourcarpet": [
           {
            "colorbar": {
             "outlinewidth": 0,
             "ticks": ""
            },
            "type": "contourcarpet"
           }
          ],
          "heatmap": [
           {
            "colorbar": {
             "outlinewidth": 0,
             "ticks": ""
            },
            "colorscale": [
             [
              0,
              "#0d0887"
             ],
             [
              0.1111111111111111,
              "#46039f"
             ],
             [
              0.2222222222222222,
              "#7201a8"
             ],
             [
              0.3333333333333333,
              "#9c179e"
             ],
             [
              0.4444444444444444,
              "#bd3786"
             ],
             [
              0.5555555555555556,
              "#d8576b"
             ],
             [
              0.6666666666666666,
              "#ed7953"
             ],
             [
              0.7777777777777778,
              "#fb9f3a"
             ],
             [
              0.8888888888888888,
              "#fdca26"
             ],
             [
              1,
              "#f0f921"
             ]
            ],
            "type": "heatmap"
           }
          ],
          "heatmapgl": [
           {
            "colorbar": {
             "outlinewidth": 0,
             "ticks": ""
            },
            "colorscale": [
             [
              0,
              "#0d0887"
             ],
             [
              0.1111111111111111,
              "#46039f"
             ],
             [
              0.2222222222222222,
              "#7201a8"
             ],
             [
              0.3333333333333333,
              "#9c179e"
             ],
             [
              0.4444444444444444,
              "#bd3786"
             ],
             [
              0.5555555555555556,
              "#d8576b"
             ],
             [
              0.6666666666666666,
              "#ed7953"
             ],
             [
              0.7777777777777778,
              "#fb9f3a"
             ],
             [
              0.8888888888888888,
              "#fdca26"
             ],
             [
              1,
              "#f0f921"
             ]
            ],
            "type": "heatmapgl"
           }
          ],
          "histogram": [
           {
            "marker": {
             "colorbar": {
              "outlinewidth": 0,
              "ticks": ""
             }
            },
            "type": "histogram"
           }
          ],
          "histogram2d": [
           {
            "colorbar": {
             "outlinewidth": 0,
             "ticks": ""
            },
            "colorscale": [
             [
              0,
              "#0d0887"
             ],
             [
              0.1111111111111111,
              "#46039f"
             ],
             [
              0.2222222222222222,
              "#7201a8"
             ],
             [
              0.3333333333333333,
              "#9c179e"
             ],
             [
              0.4444444444444444,
              "#bd3786"
             ],
             [
              0.5555555555555556,
              "#d8576b"
             ],
             [
              0.6666666666666666,
              "#ed7953"
             ],
             [
              0.7777777777777778,
              "#fb9f3a"
             ],
             [
              0.8888888888888888,
              "#fdca26"
             ],
             [
              1,
              "#f0f921"
             ]
            ],
            "type": "histogram2d"
           }
          ],
          "histogram2dcontour": [
           {
            "colorbar": {
             "outlinewidth": 0,
             "ticks": ""
            },
            "colorscale": [
             [
              0,
              "#0d0887"
             ],
             [
              0.1111111111111111,
              "#46039f"
             ],
             [
              0.2222222222222222,
              "#7201a8"
             ],
             [
              0.3333333333333333,
              "#9c179e"
             ],
             [
              0.4444444444444444,
              "#bd3786"
             ],
             [
              0.5555555555555556,
              "#d8576b"
             ],
             [
              0.6666666666666666,
              "#ed7953"
             ],
             [
              0.7777777777777778,
              "#fb9f3a"
             ],
             [
              0.8888888888888888,
              "#fdca26"
             ],
             [
              1,
              "#f0f921"
             ]
            ],
            "type": "histogram2dcontour"
           }
          ],
          "mesh3d": [
           {
            "colorbar": {
             "outlinewidth": 0,
             "ticks": ""
            },
            "type": "mesh3d"
           }
          ],
          "parcoords": [
           {
            "line": {
             "colorbar": {
              "outlinewidth": 0,
              "ticks": ""
             }
            },
            "type": "parcoords"
           }
          ],
          "pie": [
           {
            "automargin": true,
            "type": "pie"
           }
          ],
          "scatter": [
           {
            "marker": {
             "colorbar": {
              "outlinewidth": 0,
              "ticks": ""
             }
            },
            "type": "scatter"
           }
          ],
          "scatter3d": [
           {
            "line": {
             "colorbar": {
              "outlinewidth": 0,
              "ticks": ""
             }
            },
            "marker": {
             "colorbar": {
              "outlinewidth": 0,
              "ticks": ""
             }
            },
            "type": "scatter3d"
           }
          ],
          "scattercarpet": [
           {
            "marker": {
             "colorbar": {
              "outlinewidth": 0,
              "ticks": ""
             }
            },
            "type": "scattercarpet"
           }
          ],
          "scattergeo": [
           {
            "marker": {
             "colorbar": {
              "outlinewidth": 0,
              "ticks": ""
             }
            },
            "type": "scattergeo"
           }
          ],
          "scattergl": [
           {
            "marker": {
             "colorbar": {
              "outlinewidth": 0,
              "ticks": ""
             }
            },
            "type": "scattergl"
           }
          ],
          "scattermapbox": [
           {
            "marker": {
             "colorbar": {
              "outlinewidth": 0,
              "ticks": ""
             }
            },
            "type": "scattermapbox"
           }
          ],
          "scatterpolar": [
           {
            "marker": {
             "colorbar": {
              "outlinewidth": 0,
              "ticks": ""
             }
            },
            "type": "scatterpolar"
           }
          ],
          "scatterpolargl": [
           {
            "marker": {
             "colorbar": {
              "outlinewidth": 0,
              "ticks": ""
             }
            },
            "type": "scatterpolargl"
           }
          ],
          "scatterternary": [
           {
            "marker": {
             "colorbar": {
              "outlinewidth": 0,
              "ticks": ""
             }
            },
            "type": "scatterternary"
           }
          ],
          "surface": [
           {
            "colorbar": {
             "outlinewidth": 0,
             "ticks": ""
            },
            "colorscale": [
             [
              0,
              "#0d0887"
             ],
             [
              0.1111111111111111,
              "#46039f"
             ],
             [
              0.2222222222222222,
              "#7201a8"
             ],
             [
              0.3333333333333333,
              "#9c179e"
             ],
             [
              0.4444444444444444,
              "#bd3786"
             ],
             [
              0.5555555555555556,
              "#d8576b"
             ],
             [
              0.6666666666666666,
              "#ed7953"
             ],
             [
              0.7777777777777778,
              "#fb9f3a"
             ],
             [
              0.8888888888888888,
              "#fdca26"
             ],
             [
              1,
              "#f0f921"
             ]
            ],
            "type": "surface"
           }
          ],
          "table": [
           {
            "cells": {
             "fill": {
              "color": "#EBF0F8"
             },
             "line": {
              "color": "white"
             }
            },
            "header": {
             "fill": {
              "color": "#C8D4E3"
             },
             "line": {
              "color": "white"
             }
            },
            "type": "table"
           }
          ]
         },
         "layout": {
          "annotationdefaults": {
           "arrowcolor": "#2a3f5f",
           "arrowhead": 0,
           "arrowwidth": 1
          },
          "coloraxis": {
           "colorbar": {
            "outlinewidth": 0,
            "ticks": ""
           }
          },
          "colorscale": {
           "diverging": [
            [
             0,
             "#8e0152"
            ],
            [
             0.1,
             "#c51b7d"
            ],
            [
             0.2,
             "#de77ae"
            ],
            [
             0.3,
             "#f1b6da"
            ],
            [
             0.4,
             "#fde0ef"
            ],
            [
             0.5,
             "#f7f7f7"
            ],
            [
             0.6,
             "#e6f5d0"
            ],
            [
             0.7,
             "#b8e186"
            ],
            [
             0.8,
             "#7fbc41"
            ],
            [
             0.9,
             "#4d9221"
            ],
            [
             1,
             "#276419"
            ]
           ],
           "sequential": [
            [
             0,
             "#0d0887"
            ],
            [
             0.1111111111111111,
             "#46039f"
            ],
            [
             0.2222222222222222,
             "#7201a8"
            ],
            [
             0.3333333333333333,
             "#9c179e"
            ],
            [
             0.4444444444444444,
             "#bd3786"
            ],
            [
             0.5555555555555556,
             "#d8576b"
            ],
            [
             0.6666666666666666,
             "#ed7953"
            ],
            [
             0.7777777777777778,
             "#fb9f3a"
            ],
            [
             0.8888888888888888,
             "#fdca26"
            ],
            [
             1,
             "#f0f921"
            ]
           ],
           "sequentialminus": [
            [
             0,
             "#0d0887"
            ],
            [
             0.1111111111111111,
             "#46039f"
            ],
            [
             0.2222222222222222,
             "#7201a8"
            ],
            [
             0.3333333333333333,
             "#9c179e"
            ],
            [
             0.4444444444444444,
             "#bd3786"
            ],
            [
             0.5555555555555556,
             "#d8576b"
            ],
            [
             0.6666666666666666,
             "#ed7953"
            ],
            [
             0.7777777777777778,
             "#fb9f3a"
            ],
            [
             0.8888888888888888,
             "#fdca26"
            ],
            [
             1,
             "#f0f921"
            ]
           ]
          },
          "colorway": [
           "#636efa",
           "#EF553B",
           "#00cc96",
           "#ab63fa",
           "#FFA15A",
           "#19d3f3",
           "#FF6692",
           "#B6E880",
           "#FF97FF",
           "#FECB52"
          ],
          "font": {
           "color": "#2a3f5f"
          },
          "geo": {
           "bgcolor": "white",
           "lakecolor": "white",
           "landcolor": "#E5ECF6",
           "showlakes": true,
           "showland": true,
           "subunitcolor": "white"
          },
          "hoverlabel": {
           "align": "left"
          },
          "hovermode": "closest",
          "mapbox": {
           "style": "light"
          },
          "paper_bgcolor": "white",
          "plot_bgcolor": "#E5ECF6",
          "polar": {
           "angularaxis": {
            "gridcolor": "white",
            "linecolor": "white",
            "ticks": ""
           },
           "bgcolor": "#E5ECF6",
           "radialaxis": {
            "gridcolor": "white",
            "linecolor": "white",
            "ticks": ""
           }
          },
          "scene": {
           "xaxis": {
            "backgroundcolor": "#E5ECF6",
            "gridcolor": "white",
            "gridwidth": 2,
            "linecolor": "white",
            "showbackground": true,
            "ticks": "",
            "zerolinecolor": "white"
           },
           "yaxis": {
            "backgroundcolor": "#E5ECF6",
            "gridcolor": "white",
            "gridwidth": 2,
            "linecolor": "white",
            "showbackground": true,
            "ticks": "",
            "zerolinecolor": "white"
           },
           "zaxis": {
            "backgroundcolor": "#E5ECF6",
            "gridcolor": "white",
            "gridwidth": 2,
            "linecolor": "white",
            "showbackground": true,
            "ticks": "",
            "zerolinecolor": "white"
           }
          },
          "shapedefaults": {
           "line": {
            "color": "#2a3f5f"
           }
          },
          "ternary": {
           "aaxis": {
            "gridcolor": "white",
            "linecolor": "white",
            "ticks": ""
           },
           "baxis": {
            "gridcolor": "white",
            "linecolor": "white",
            "ticks": ""
           },
           "bgcolor": "#E5ECF6",
           "caxis": {
            "gridcolor": "white",
            "linecolor": "white",
            "ticks": ""
           }
          },
          "title": {
           "x": 0.05
          },
          "xaxis": {
           "automargin": true,
           "gridcolor": "white",
           "linecolor": "white",
           "ticks": "",
           "title": {
            "standoff": 15
           },
           "zerolinecolor": "white",
           "zerolinewidth": 2
          },
          "yaxis": {
           "automargin": true,
           "gridcolor": "white",
           "linecolor": "white",
           "ticks": "",
           "title": {
            "standoff": 15
           },
           "zerolinecolor": "white",
           "zerolinewidth": 2
          }
         }
        },
        "width": 1000
       }
      },
      "text/html": [
       "<div>\n",
       "        \n",
       "        \n",
       "            <div id=\"35dadda4-e5f3-4adc-b0c7-9ce7008de8b0\" class=\"plotly-graph-div\" style=\"height:4000px; width:1000px;\"></div>\n",
       "            <script type=\"text/javascript\">\n",
       "                require([\"plotly\"], function(Plotly) {\n",
       "                    window.PLOTLYENV=window.PLOTLYENV || {};\n",
       "                    \n",
       "                if (document.getElementById(\"35dadda4-e5f3-4adc-b0c7-9ce7008de8b0\")) {\n",
       "                    Plotly.newPlot(\n",
       "                        '35dadda4-e5f3-4adc-b0c7-9ce7008de8b0',\n",
       "                        [{\"domain\": {\"x\": [0.0, 1.0], \"y\": [0.9338842975206612, 1.0]}, \"labels\": [\"Hyperlipidemia\", \"Viral sinusitis (disorder)\", \"Sinusitis (disorder)\", \"Streptococcal sore throat (disorder)\", \"Otitis media\", \"Anemia (disorder)\", \"Drug overdose\", \"Acute viral pharyngitis (disorder)\", \"Fracture of rib\", \"Fracture subluxation of wrist\", \"Normal pregnancy\"], \"textinfo\": \"none\", \"title\": {\"text\": \"2010\"}, \"type\": \"pie\", \"values\": [7, 6, 3, 2, 2, 2, 1, 1, 1, 1, 1]}, {\"domain\": {\"x\": [0.0, 1.0], \"y\": [0.8404958677685951, 0.9066115702479339]}, \"labels\": [\"Chronic congestive heart failure (disorder)\", \"Normal pregnancy\", \"Hyperlipidemia\", \"Viral sinusitis (disorder)\", \"Otitis media\", \"Acute bronchitis (disorder)\", \"Escherichia coli urinary tract infection\", \"Acute viral pharyngitis (disorder)\", \"Drug overdose\", \"Fetus with unknown complication\", \"Fracture of rib\", \"Blighted ovum\", \"Childhood asthma\"], \"textinfo\": \"none\", \"title\": {\"text\": \"2011\"}, \"type\": \"pie\", \"values\": [57, 24, 8, 7, 3, 3, 1, 1, 1, 1, 1, 1, 1]}, {\"domain\": {\"x\": [0.0, 1.0], \"y\": [0.7471074380165289, 0.8132231404958677]}, \"labels\": [\"Chronic congestive heart failure (disorder)\", \"Normal pregnancy\", \"Viral sinusitis (disorder)\", \"Hyperlipidemia\", \"Acute bacterial sinusitis (disorder)\", \"Acute bronchitis (disorder)\", \"Streptococcal sore throat (disorder)\", \"Acute viral pharyngitis (disorder)\", \"Otitis media\", \"Impacted molars\", \"Alzheimer's disease (disorder)\", \"Chronic intractable migraine without aura\", \"Drug overdose\", \"Chronic pain\", \"Fracture of ankle\", \"Childhood asthma\"], \"textinfo\": \"none\", \"title\": {\"text\": \"2012\"}, \"type\": \"pie\", \"values\": [70, 15, 10, 8, 5, 4, 3, 2, 2, 2, 1, 1, 1, 1, 1, 1]}, {\"domain\": {\"x\": [0.0, 1.0], \"y\": [0.6537190082644628, 0.7198347107438017]}, \"labels\": [\"Normal pregnancy\", \"Child attention deficit disorder\", \"Hyperlipidemia\", \"Viral sinusitis (disorder)\", \"Acute viral pharyngitis (disorder)\", \"Acute bronchitis (disorder)\", \"Chronic pain\", \"Otitis media\", \"Impacted molars\", \"Acute bacterial sinusitis (disorder)\", \"Drug overdose\", \"Chronic congestive heart failure (disorder)\", \"Anemia (disorder)\", \"Concussion with no loss of consciousness\", \"Fetus with unknown complication\", \"Streptococcal sore throat (disorder)\", \"Atopic dermatitis\", \"Childhood asthma\"], \"textinfo\": \"none\", \"title\": {\"text\": \"2013\"}, \"type\": \"pie\", \"values\": [26, 9, 8, 5, 4, 3, 3, 2, 2, 2, 2, 2, 1, 1, 1, 1, 1, 1]}, {\"domain\": {\"x\": [0.0, 1.0], \"y\": [0.5603305785123966, 0.6264462809917355]}, \"labels\": [\"Normal pregnancy\", \"Child attention deficit disorder\", \"Hyperlipidemia\", \"Viral sinusitis (disorder)\", \"Acute bronchitis (disorder)\", \"Streptococcal sore throat (disorder)\", \"Acute viral pharyngitis (disorder)\", \"Impacted molars\", \"Drug overdose\", \"Childhood asthma\", \"Sinusitis (disorder)\", \"Alzheimer's disease (disorder)\", \"Otitis media\", \"Acute bacterial sinusitis (disorder)\", \"Chronic pain\", \"Fracture subluxation of wrist\"], \"textinfo\": \"none\", \"title\": {\"text\": \"2014\"}, \"type\": \"pie\", \"values\": [45, 12, 8, 4, 3, 3, 2, 2, 2, 2, 1, 1, 1, 1, 1, 1]}, {\"domain\": {\"x\": [0.0, 1.0], \"y\": [0.4669421487603306, 0.5330578512396694]}, \"labels\": [\"Normal pregnancy\", \"Child attention deficit disorder\", \"Hyperlipidemia\", \"Viral sinusitis (disorder)\", \"Acute bronchitis (disorder)\", \"Otitis media\", \"Chronic intractable migraine without aura\", \"Osteoarthritis of knee\", \"Drug overdose\", \"Chronic congestive heart failure (disorder)\", \"Anemia (disorder)\", \"Sinusitis (disorder)\", \"Asthma\", \"Acute bacterial sinusitis (disorder)\", \"Impacted molars\", \"Chronic pain\"], \"textinfo\": \"none\", \"title\": {\"text\": \"2015\"}, \"type\": \"pie\", \"values\": [14, 12, 9, 6, 5, 2, 2, 2, 2, 2, 1, 1, 1, 1, 1, 1]}, {\"domain\": {\"x\": [0.0, 1.0], \"y\": [0.37355371900826445, 0.4396694214876033]}, \"labels\": [\"Normal pregnancy\", \"Child attention deficit disorder\", \"Hyperlipidemia\", \"Acute bronchitis (disorder)\", \"Viral sinusitis (disorder)\", \"Chronic pain\", \"Chronic congestive heart failure (disorder)\", \"Fracture of forearm\", \"Acute viral pharyngitis (disorder)\", \"Injury of medial collateral ligament of knee\", \"Otitis media\", \"Acute bacterial sinusitis (disorder)\", \"Anemia (disorder)\", \"Drug overdose\", \"Streptococcal sore throat (disorder)\", \"Blighted ovum\"], \"textinfo\": \"none\", \"title\": {\"text\": \"2016\"}, \"type\": \"pie\", \"values\": [21, 11, 9, 3, 3, 2, 2, 1, 1, 1, 1, 1, 1, 1, 1, 1]}, {\"domain\": {\"x\": [0.0, 1.0], \"y\": [0.2801652892561983, 0.34628099173553717]}, \"labels\": [\"Normal pregnancy\", \"Child attention deficit disorder\", \"Hyperlipidemia\", \"Viral sinusitis (disorder)\", \"Acute viral pharyngitis (disorder)\", \"Acute bronchitis (disorder)\", \"Suspected lung cancer (situation)\", \"Drug overdose\", \"Non-small cell lung cancer (disorder)\", \"Alzheimer's disease (disorder)\", \"Cystitis\", \"Non-small cell carcinoma of lung  TNM stage 1 (disorder)\", \"Perennial allergic rhinitis with seasonal variation\", \"Childhood asthma\"], \"textinfo\": \"none\", \"title\": {\"text\": \"2017\"}, \"type\": \"pie\", \"values\": [29, 12, 10, 9, 7, 3, 2, 2, 1, 1, 1, 1, 1, 1]}, {\"domain\": {\"x\": [0.0, 1.0], \"y\": [0.18677685950413223, 0.2528925619834711]}, \"labels\": [\"Child attention deficit disorder\", \"Hyperlipidemia\", \"Viral sinusitis (disorder)\", \"Acute bacterial sinusitis (disorder)\", \"Normal pregnancy\", \"Acute bronchitis (disorder)\", \"Acute viral pharyngitis (disorder)\", \"Otitis media\", \"Injury of tendon of the rotator cuff of shoulder\", \"Childhood asthma\", \"Cystitis\", \"Pneumonia\", \"Drug overdose\", \"Streptococcal sore throat (disorder)\", \"Fracture of clavicle\", \"Atopic dermatitis\"], \"textinfo\": \"none\", \"title\": {\"text\": \"2018\"}, \"type\": \"pie\", \"values\": [12, 11, 7, 6, 3, 3, 2, 2, 2, 2, 1, 1, 1, 1, 1, 1]}, {\"domain\": {\"x\": [0.0, 1.0], \"y\": [0.09338842975206611, 0.15950413223140497]}, \"labels\": [\"Hyperlipidemia\", \"Viral sinusitis (disorder)\", \"Otitis media\", \"Normal pregnancy\", \"Child attention deficit disorder\", \"Appendicitis\", \"Acute viral pharyngitis (disorder)\", \"Fracture of rib\", \"Childhood asthma\", \"Streptococcal sore throat (disorder)\", \"Escherichia coli urinary tract infection\", \"Drug overdose\", \"Asthma\", \"Injury of tendon of the rotator cuff of shoulder\", \"Acute bronchitis (disorder)\", \"Cystitis\", \"Concussion with no loss of consciousness\"], \"textinfo\": \"none\", \"title\": {\"text\": \"2019\"}, \"type\": \"pie\", \"values\": [9, 7, 5, 3, 2, 2, 2, 1, 1, 1, 1, 1, 1, 1, 1, 1, 1]}, {\"domain\": {\"x\": [0.0, 1.0], \"y\": [0.0, 0.06611570247933884]}, \"labels\": [\"Sinusitis (disorder)\", \"Normal pregnancy\", \"Acute viral pharyngitis (disorder)\", \"Hyperlipidemia\", \"Perennial allergic rhinitis with seasonal variation\", \"Childhood asthma\", \"Perennial allergic rhinitis\", \"Fracture subluxation of wrist\", \"Acute bronchitis (disorder)\"], \"textinfo\": \"none\", \"title\": {\"text\": \"2020\"}, \"type\": \"pie\", \"values\": [5, 4, 3, 2, 2, 2, 1, 1, 1]}],\n",
       "                        {\"height\": 4000, \"template\": {\"data\": {\"bar\": [{\"error_x\": {\"color\": \"#2a3f5f\"}, \"error_y\": {\"color\": \"#2a3f5f\"}, \"marker\": {\"line\": {\"color\": \"#E5ECF6\", \"width\": 0.5}}, \"type\": \"bar\"}], \"barpolar\": [{\"marker\": {\"line\": {\"color\": \"#E5ECF6\", \"width\": 0.5}}, \"type\": \"barpolar\"}], \"carpet\": [{\"aaxis\": {\"endlinecolor\": \"#2a3f5f\", \"gridcolor\": \"white\", \"linecolor\": \"white\", \"minorgridcolor\": \"white\", \"startlinecolor\": \"#2a3f5f\"}, \"baxis\": {\"endlinecolor\": \"#2a3f5f\", \"gridcolor\": \"white\", \"linecolor\": \"white\", \"minorgridcolor\": \"white\", \"startlinecolor\": \"#2a3f5f\"}, \"type\": \"carpet\"}], \"choropleth\": [{\"colorbar\": {\"outlinewidth\": 0, \"ticks\": \"\"}, \"type\": \"choropleth\"}], \"contour\": [{\"colorbar\": {\"outlinewidth\": 0, \"ticks\": \"\"}, \"colorscale\": [[0.0, \"#0d0887\"], [0.1111111111111111, \"#46039f\"], [0.2222222222222222, \"#7201a8\"], [0.3333333333333333, \"#9c179e\"], [0.4444444444444444, \"#bd3786\"], [0.5555555555555556, \"#d8576b\"], [0.6666666666666666, \"#ed7953\"], [0.7777777777777778, \"#fb9f3a\"], [0.8888888888888888, \"#fdca26\"], [1.0, \"#f0f921\"]], \"type\": \"contour\"}], \"contourcarpet\": [{\"colorbar\": {\"outlinewidth\": 0, \"ticks\": \"\"}, \"type\": \"contourcarpet\"}], \"heatmap\": [{\"colorbar\": {\"outlinewidth\": 0, \"ticks\": \"\"}, \"colorscale\": [[0.0, \"#0d0887\"], [0.1111111111111111, \"#46039f\"], [0.2222222222222222, \"#7201a8\"], [0.3333333333333333, \"#9c179e\"], [0.4444444444444444, \"#bd3786\"], [0.5555555555555556, \"#d8576b\"], [0.6666666666666666, \"#ed7953\"], [0.7777777777777778, \"#fb9f3a\"], [0.8888888888888888, \"#fdca26\"], [1.0, \"#f0f921\"]], \"type\": \"heatmap\"}], \"heatmapgl\": [{\"colorbar\": {\"outlinewidth\": 0, \"ticks\": \"\"}, \"colorscale\": [[0.0, \"#0d0887\"], [0.1111111111111111, \"#46039f\"], [0.2222222222222222, \"#7201a8\"], [0.3333333333333333, \"#9c179e\"], [0.4444444444444444, \"#bd3786\"], [0.5555555555555556, \"#d8576b\"], [0.6666666666666666, \"#ed7953\"], [0.7777777777777778, \"#fb9f3a\"], [0.8888888888888888, \"#fdca26\"], [1.0, \"#f0f921\"]], \"type\": \"heatmapgl\"}], \"histogram\": [{\"marker\": {\"colorbar\": {\"outlinewidth\": 0, \"ticks\": \"\"}}, \"type\": \"histogram\"}], \"histogram2d\": [{\"colorbar\": {\"outlinewidth\": 0, \"ticks\": \"\"}, \"colorscale\": [[0.0, \"#0d0887\"], [0.1111111111111111, \"#46039f\"], [0.2222222222222222, \"#7201a8\"], [0.3333333333333333, \"#9c179e\"], [0.4444444444444444, \"#bd3786\"], [0.5555555555555556, \"#d8576b\"], [0.6666666666666666, \"#ed7953\"], [0.7777777777777778, \"#fb9f3a\"], [0.8888888888888888, \"#fdca26\"], [1.0, \"#f0f921\"]], \"type\": \"histogram2d\"}], \"histogram2dcontour\": [{\"colorbar\": {\"outlinewidth\": 0, \"ticks\": \"\"}, \"colorscale\": [[0.0, \"#0d0887\"], [0.1111111111111111, \"#46039f\"], [0.2222222222222222, \"#7201a8\"], [0.3333333333333333, \"#9c179e\"], [0.4444444444444444, \"#bd3786\"], [0.5555555555555556, \"#d8576b\"], [0.6666666666666666, \"#ed7953\"], [0.7777777777777778, \"#fb9f3a\"], [0.8888888888888888, \"#fdca26\"], [1.0, \"#f0f921\"]], \"type\": \"histogram2dcontour\"}], \"mesh3d\": [{\"colorbar\": {\"outlinewidth\": 0, \"ticks\": \"\"}, \"type\": \"mesh3d\"}], \"parcoords\": [{\"line\": {\"colorbar\": {\"outlinewidth\": 0, \"ticks\": \"\"}}, \"type\": \"parcoords\"}], \"pie\": [{\"automargin\": true, \"type\": \"pie\"}], \"scatter\": [{\"marker\": {\"colorbar\": {\"outlinewidth\": 0, \"ticks\": \"\"}}, \"type\": \"scatter\"}], \"scatter3d\": [{\"line\": {\"colorbar\": {\"outlinewidth\": 0, \"ticks\": \"\"}}, \"marker\": {\"colorbar\": {\"outlinewidth\": 0, \"ticks\": \"\"}}, \"type\": \"scatter3d\"}], \"scattercarpet\": [{\"marker\": {\"colorbar\": {\"outlinewidth\": 0, \"ticks\": \"\"}}, \"type\": \"scattercarpet\"}], \"scattergeo\": [{\"marker\": {\"colorbar\": {\"outlinewidth\": 0, \"ticks\": \"\"}}, \"type\": \"scattergeo\"}], \"scattergl\": [{\"marker\": {\"colorbar\": {\"outlinewidth\": 0, \"ticks\": \"\"}}, \"type\": \"scattergl\"}], \"scattermapbox\": [{\"marker\": {\"colorbar\": {\"outlinewidth\": 0, \"ticks\": \"\"}}, \"type\": \"scattermapbox\"}], \"scatterpolar\": [{\"marker\": {\"colorbar\": {\"outlinewidth\": 0, \"ticks\": \"\"}}, \"type\": \"scatterpolar\"}], \"scatterpolargl\": [{\"marker\": {\"colorbar\": {\"outlinewidth\": 0, \"ticks\": \"\"}}, \"type\": \"scatterpolargl\"}], \"scatterternary\": [{\"marker\": {\"colorbar\": {\"outlinewidth\": 0, \"ticks\": \"\"}}, \"type\": \"scatterternary\"}], \"surface\": [{\"colorbar\": {\"outlinewidth\": 0, \"ticks\": \"\"}, \"colorscale\": [[0.0, \"#0d0887\"], [0.1111111111111111, \"#46039f\"], [0.2222222222222222, \"#7201a8\"], [0.3333333333333333, \"#9c179e\"], [0.4444444444444444, \"#bd3786\"], [0.5555555555555556, \"#d8576b\"], [0.6666666666666666, \"#ed7953\"], [0.7777777777777778, \"#fb9f3a\"], [0.8888888888888888, \"#fdca26\"], [1.0, \"#f0f921\"]], \"type\": \"surface\"}], \"table\": [{\"cells\": {\"fill\": {\"color\": \"#EBF0F8\"}, \"line\": {\"color\": \"white\"}}, \"header\": {\"fill\": {\"color\": \"#C8D4E3\"}, \"line\": {\"color\": \"white\"}}, \"type\": \"table\"}]}, \"layout\": {\"annotationdefaults\": {\"arrowcolor\": \"#2a3f5f\", \"arrowhead\": 0, \"arrowwidth\": 1}, \"coloraxis\": {\"colorbar\": {\"outlinewidth\": 0, \"ticks\": \"\"}}, \"colorscale\": {\"diverging\": [[0, \"#8e0152\"], [0.1, \"#c51b7d\"], [0.2, \"#de77ae\"], [0.3, \"#f1b6da\"], [0.4, \"#fde0ef\"], [0.5, \"#f7f7f7\"], [0.6, \"#e6f5d0\"], [0.7, \"#b8e186\"], [0.8, \"#7fbc41\"], [0.9, \"#4d9221\"], [1, \"#276419\"]], \"sequential\": [[0.0, \"#0d0887\"], [0.1111111111111111, \"#46039f\"], [0.2222222222222222, \"#7201a8\"], [0.3333333333333333, \"#9c179e\"], [0.4444444444444444, \"#bd3786\"], [0.5555555555555556, \"#d8576b\"], [0.6666666666666666, \"#ed7953\"], [0.7777777777777778, \"#fb9f3a\"], [0.8888888888888888, \"#fdca26\"], [1.0, \"#f0f921\"]], \"sequentialminus\": [[0.0, \"#0d0887\"], [0.1111111111111111, \"#46039f\"], [0.2222222222222222, \"#7201a8\"], [0.3333333333333333, \"#9c179e\"], [0.4444444444444444, \"#bd3786\"], [0.5555555555555556, \"#d8576b\"], [0.6666666666666666, \"#ed7953\"], [0.7777777777777778, \"#fb9f3a\"], [0.8888888888888888, \"#fdca26\"], [1.0, \"#f0f921\"]]}, \"colorway\": [\"#636efa\", \"#EF553B\", \"#00cc96\", \"#ab63fa\", \"#FFA15A\", \"#19d3f3\", \"#FF6692\", \"#B6E880\", \"#FF97FF\", \"#FECB52\"], \"font\": {\"color\": \"#2a3f5f\"}, \"geo\": {\"bgcolor\": \"white\", \"lakecolor\": \"white\", \"landcolor\": \"#E5ECF6\", \"showlakes\": true, \"showland\": true, \"subunitcolor\": \"white\"}, \"hoverlabel\": {\"align\": \"left\"}, \"hovermode\": \"closest\", \"mapbox\": {\"style\": \"light\"}, \"paper_bgcolor\": \"white\", \"plot_bgcolor\": \"#E5ECF6\", \"polar\": {\"angularaxis\": {\"gridcolor\": \"white\", \"linecolor\": \"white\", \"ticks\": \"\"}, \"bgcolor\": \"#E5ECF6\", \"radialaxis\": {\"gridcolor\": \"white\", \"linecolor\": \"white\", \"ticks\": \"\"}}, \"scene\": {\"xaxis\": {\"backgroundcolor\": \"#E5ECF6\", \"gridcolor\": \"white\", \"gridwidth\": 2, \"linecolor\": \"white\", \"showbackground\": true, \"ticks\": \"\", \"zerolinecolor\": \"white\"}, \"yaxis\": {\"backgroundcolor\": \"#E5ECF6\", \"gridcolor\": \"white\", \"gridwidth\": 2, \"linecolor\": \"white\", \"showbackground\": true, \"ticks\": \"\", \"zerolinecolor\": \"white\"}, \"zaxis\": {\"backgroundcolor\": \"#E5ECF6\", \"gridcolor\": \"white\", \"gridwidth\": 2, \"linecolor\": \"white\", \"showbackground\": true, \"ticks\": \"\", \"zerolinecolor\": \"white\"}}, \"shapedefaults\": {\"line\": {\"color\": \"#2a3f5f\"}}, \"ternary\": {\"aaxis\": {\"gridcolor\": \"white\", \"linecolor\": \"white\", \"ticks\": \"\"}, \"baxis\": {\"gridcolor\": \"white\", \"linecolor\": \"white\", \"ticks\": \"\"}, \"bgcolor\": \"#E5ECF6\", \"caxis\": {\"gridcolor\": \"white\", \"linecolor\": \"white\", \"ticks\": \"\"}}, \"title\": {\"x\": 0.05}, \"xaxis\": {\"automargin\": true, \"gridcolor\": \"white\", \"linecolor\": \"white\", \"ticks\": \"\", \"title\": {\"standoff\": 15}, \"zerolinecolor\": \"white\", \"zerolinewidth\": 2}, \"yaxis\": {\"automargin\": true, \"gridcolor\": \"white\", \"linecolor\": \"white\", \"ticks\": \"\", \"title\": {\"standoff\": 15}, \"zerolinecolor\": \"white\", \"zerolinewidth\": 2}}}, \"width\": 1000},\n",
       "                        {\"responsive\": true}\n",
       "                    ).then(function(){\n",
       "                            \n",
       "var gd = document.getElementById('35dadda4-e5f3-4adc-b0c7-9ce7008de8b0');\n",
       "var x = new MutationObserver(function (mutations, observer) {{\n",
       "        var display = window.getComputedStyle(gd).display;\n",
       "        if (!display || display === 'none') {{\n",
       "            console.log([gd, 'removed!']);\n",
       "            Plotly.purge(gd);\n",
       "            observer.disconnect();\n",
       "        }}\n",
       "}});\n",
       "\n",
       "// Listen for the removal of the full notebook cells\n",
       "var notebookContainer = gd.closest('#notebook-container');\n",
       "if (notebookContainer) {{\n",
       "    x.observe(notebookContainer, {childList: true});\n",
       "}}\n",
       "\n",
       "// Listen for the clearing of the current output cell\n",
       "var outputEl = gd.closest('.output');\n",
       "if (outputEl) {{\n",
       "    x.observe(outputEl, {childList: true});\n",
       "}}\n",
       "\n",
       "                        })\n",
       "                };\n",
       "                });\n",
       "            </script>\n",
       "        </div>"
      ]
     },
     "metadata": {},
     "output_type": "display_data"
    }
   ],
   "source": [
    "row=1\n",
    "# first group by year and then for each group we're going to take the value counts for the reason\n",
    "for year,group in ______________________:\n",
    "    counts=______________________\n",
    "    \n",
    "    fig.append_trace(go.Pie(title=,labels=counts._________,values=counts._________,textinfo=\"none\"),row=____,col=1)\n",
    "    row = _____________\n",
    "    \n",
    "fig.update_layout(height=4000, width=1000)\n",
    "fig.show()"
   ]
  },
  {
   "cell_type": "markdown",
   "metadata": {},
   "source": [
    "#### Now can we apply the same to find out the age distribution of the patients in every year?"
   ]
  },
  {
   "cell_type": "code",
   "execution_count": null,
   "metadata": {},
   "outputs": [],
   "source": []
  },
  {
   "cell_type": "code",
   "execution_count": 154,
   "metadata": {},
   "outputs": [
    {
     "data": {
      "application/vnd.plotly.v1+json": {
       "config": {
        "plotlyServerURL": "https://plot.ly"
       },
       "data": [
        {
         "name": "2010",
         "type": "histogram",
         "x": [
          37,
          64,
          64,
          16,
          13,
          13,
          93,
          93,
          93,
          93,
          93,
          93,
          93,
          93,
          93,
          93,
          93,
          93,
          21,
          21,
          31,
          31,
          31,
          52,
          70,
          31,
          49,
          49,
          47,
          47,
          70,
          11,
          11,
          11,
          45,
          36,
          66,
          66,
          66,
          66,
          33,
          33,
          33,
          33,
          33,
          51,
          51,
          51,
          74,
          72,
          55,
          43,
          43,
          43,
          54,
          12,
          12,
          12,
          12,
          15,
          54,
          54,
          12
         ],
         "xaxis": "x",
         "yaxis": "y"
        },
        {
         "name": "2011",
         "type": "histogram",
         "x": [
          37,
          37,
          37,
          37,
          37,
          37,
          37,
          37,
          37,
          33,
          33,
          14,
          64,
          13,
          13,
          73,
          93,
          93,
          93,
          93,
          93,
          44,
          31,
          31,
          31,
          31,
          31,
          70,
          31,
          49,
          49,
          49,
          39,
          39,
          39,
          39,
          39,
          70,
          70,
          70,
          70,
          70,
          70,
          70,
          70,
          70,
          70,
          70,
          70,
          70,
          70,
          70,
          70,
          70,
          70,
          70,
          70,
          70,
          70,
          70,
          70,
          70,
          70,
          70,
          70,
          70,
          70,
          70,
          70,
          70,
          70,
          70,
          70,
          70,
          70,
          70,
          70,
          70,
          70,
          70,
          70,
          70,
          70,
          70,
          70,
          70,
          70,
          70,
          70,
          70,
          70,
          70,
          70,
          70,
          46,
          46,
          46,
          46,
          46,
          46,
          46,
          45,
          45,
          45,
          64,
          36,
          36,
          36,
          36,
          66,
          66,
          66,
          66,
          66,
          66,
          33,
          33,
          33,
          33,
          33,
          33,
          33,
          33,
          51,
          51,
          51,
          51,
          51,
          51,
          46,
          46,
          46,
          46,
          46,
          46,
          46,
          46,
          46,
          74,
          74,
          72,
          55,
          55,
          55,
          55,
          55,
          47,
          58,
          12,
          12,
          12,
          12,
          15,
          47,
          54,
          12,
          12
         ],
         "xaxis": "x2",
         "yaxis": "y2"
        },
        {
         "name": "2012",
         "type": "histogram",
         "x": [
          37,
          37,
          37,
          37,
          33,
          33,
          23,
          23,
          23,
          23,
          64,
          34,
          16,
          16,
          73,
          73,
          93,
          93,
          93,
          93,
          93,
          93,
          93,
          93,
          93,
          93,
          93,
          31,
          31,
          31,
          31,
          31,
          70,
          31,
          31,
          49,
          39,
          39,
          39,
          39,
          39,
          39,
          39,
          39,
          39,
          39,
          39,
          39,
          39,
          39,
          39,
          39,
          39,
          39,
          39,
          25,
          47,
          70,
          70,
          70,
          70,
          70,
          70,
          70,
          70,
          70,
          70,
          70,
          70,
          70,
          70,
          70,
          70,
          70,
          70,
          70,
          70,
          70,
          70,
          70,
          70,
          70,
          70,
          70,
          70,
          70,
          70,
          70,
          70,
          70,
          70,
          70,
          70,
          70,
          70,
          70,
          70,
          70,
          70,
          70,
          70,
          70,
          70,
          70,
          70,
          70,
          70,
          70,
          70,
          70,
          70,
          70,
          70,
          70,
          70,
          70,
          70,
          70,
          70,
          70,
          70,
          70,
          70,
          70,
          70,
          70,
          70,
          17,
          17,
          17,
          46,
          46,
          46,
          46,
          36,
          36,
          36,
          36,
          36,
          36,
          36,
          36,
          36,
          36,
          36,
          66,
          66,
          66,
          66,
          66,
          48,
          66,
          66,
          66,
          33,
          33,
          33,
          33,
          33,
          51,
          51,
          51,
          51,
          51,
          46,
          46,
          46,
          46,
          74,
          72,
          72,
          55,
          55,
          47,
          47,
          58,
          12,
          12,
          12,
          12
         ],
         "xaxis": "x3",
         "yaxis": "y3"
        },
        {
         "name": "2013",
         "type": "histogram",
         "x": [
          37,
          50,
          7,
          23,
          23,
          23,
          23,
          23,
          23,
          64,
          16,
          13,
          26,
          93,
          93,
          93,
          93,
          93,
          93,
          93,
          93,
          93,
          93,
          93,
          93,
          21,
          31,
          31,
          31,
          31,
          31,
          31,
          31,
          31,
          31,
          31,
          31,
          49,
          49,
          49,
          49,
          49,
          49,
          49,
          49,
          49,
          49,
          49,
          49,
          39,
          39,
          25,
          25,
          25,
          33,
          70,
          70,
          70,
          70,
          46,
          46,
          46,
          46,
          46,
          46,
          36,
          66,
          66,
          66,
          66,
          66,
          66,
          66,
          33,
          33,
          33,
          33,
          33,
          33,
          33,
          33,
          33,
          33,
          33,
          51,
          51,
          51,
          51,
          51,
          51,
          8,
          8,
          74,
          72,
          72,
          72,
          55,
          47,
          47,
          47,
          47,
          47,
          47,
          47,
          47,
          47,
          47,
          47,
          47,
          54,
          58,
          12,
          15,
          15,
          15,
          15,
          15,
          15,
          15,
          15,
          15,
          12,
          12,
          12,
          12
         ],
         "xaxis": "x4",
         "yaxis": "y4"
        },
        {
         "name": "2014",
         "type": "histogram",
         "x": [
          37,
          37,
          37,
          37,
          37,
          37,
          37,
          37,
          37,
          37,
          37,
          37,
          37,
          37,
          37,
          37,
          61,
          7,
          7,
          7,
          23,
          23,
          23,
          64,
          16,
          16,
          16,
          26,
          93,
          93,
          93,
          93,
          93,
          93,
          93,
          93,
          93,
          28,
          44,
          44,
          31,
          31,
          31,
          31,
          31,
          31,
          31,
          31,
          31,
          31,
          31,
          31,
          52,
          31,
          31,
          31,
          31,
          31,
          31,
          31,
          31,
          49,
          49,
          49,
          39,
          39,
          39,
          39,
          39,
          39,
          39,
          39,
          39,
          39,
          39,
          39,
          33,
          46,
          64,
          36,
          36,
          36,
          36,
          36,
          36,
          36,
          36,
          36,
          36,
          36,
          66,
          66,
          66,
          66,
          66,
          66,
          66,
          66,
          33,
          33,
          33,
          33,
          33,
          33,
          33,
          51,
          51,
          46,
          8,
          8,
          74,
          72,
          72,
          55,
          55,
          55,
          47,
          43,
          43,
          54,
          12,
          12,
          15,
          15,
          15,
          15,
          15,
          15,
          15,
          15,
          15,
          15,
          15,
          15,
          54,
          22
         ],
         "xaxis": "x5",
         "yaxis": "y5"
        },
        {
         "name": "2015",
         "type": "histogram",
         "x": [
          37,
          37,
          50,
          50,
          50,
          23,
          23,
          23,
          23,
          14,
          64,
          64,
          13,
          73,
          73,
          93,
          93,
          93,
          93,
          93,
          93,
          44,
          31,
          31,
          52,
          49,
          49,
          39,
          39,
          39,
          39,
          39,
          39,
          39,
          39,
          47,
          47,
          47,
          47,
          70,
          70,
          17,
          17,
          11,
          45,
          45,
          64,
          36,
          36,
          36,
          36,
          36,
          36,
          36,
          36,
          36,
          36,
          66,
          66,
          66,
          66,
          33,
          33,
          33,
          33,
          33,
          33,
          33,
          33,
          33,
          33,
          33,
          33,
          51,
          46,
          46,
          8,
          8,
          74,
          72,
          72,
          55,
          55,
          55,
          47,
          47,
          47,
          47,
          47,
          12,
          15,
          15,
          15,
          15,
          15,
          15,
          15,
          15,
          15,
          15,
          15,
          15,
          15,
          35
         ],
         "xaxis": "x6",
         "yaxis": "y6"
        },
        {
         "name": "2016",
         "type": "histogram",
         "x": [
          37,
          37,
          37,
          37,
          50,
          23,
          23,
          23,
          23,
          23,
          23,
          64,
          13,
          73,
          73,
          93,
          93,
          93,
          93,
          93,
          21,
          44,
          31,
          31,
          31,
          31,
          31,
          31,
          31,
          31,
          31,
          52,
          70,
          70,
          70,
          49,
          39,
          39,
          39,
          39,
          39,
          39,
          39,
          47,
          47,
          17,
          17,
          46,
          46,
          46,
          46,
          46,
          46,
          46,
          46,
          46,
          45,
          64,
          36,
          66,
          66,
          66,
          66,
          66,
          66,
          66,
          33,
          33,
          33,
          33,
          33,
          33,
          33,
          33,
          46,
          46,
          46,
          46,
          46,
          46,
          46,
          46,
          46,
          46,
          46,
          46,
          74,
          74,
          74,
          74,
          72,
          55,
          47,
          47,
          47,
          47,
          47,
          54,
          54,
          54,
          54,
          54,
          15,
          15,
          15,
          15,
          15,
          15,
          15,
          15,
          15,
          15,
          15,
          54
         ],
         "xaxis": "x7",
         "yaxis": "y7"
        },
        {
         "name": "2017",
         "type": "histogram",
         "x": [
          37,
          37,
          37,
          37,
          37,
          37,
          37,
          37,
          37,
          37,
          37,
          50,
          33,
          7,
          7,
          23,
          23,
          23,
          23,
          23,
          23,
          23,
          14,
          64,
          64,
          34,
          16,
          16,
          16,
          16,
          16,
          16,
          16,
          16,
          16,
          16,
          16,
          16,
          16,
          16,
          16,
          16,
          16,
          16,
          93,
          93,
          93,
          93,
          93,
          93,
          93,
          93,
          93,
          31,
          70,
          31,
          39,
          39,
          39,
          39,
          39,
          39,
          39,
          39,
          39,
          39,
          39,
          39,
          39,
          39,
          39,
          39,
          25,
          47,
          47,
          47,
          47,
          47,
          47,
          47,
          47,
          47,
          47,
          47,
          47,
          47,
          47,
          47,
          70,
          70,
          46,
          46,
          46,
          46,
          11,
          11,
          11,
          11,
          36,
          66,
          66,
          66,
          66,
          66,
          66,
          33,
          33,
          33,
          33,
          33,
          46,
          46,
          8,
          74,
          72,
          55,
          55,
          55,
          55,
          55,
          55,
          55,
          55,
          55,
          55,
          55,
          47,
          47,
          47,
          47,
          47,
          54,
          58,
          12,
          12,
          15,
          15,
          15,
          15,
          15,
          15,
          15,
          15,
          15,
          15,
          15,
          15,
          15,
          47,
          47,
          47,
          47,
          35
         ],
         "xaxis": "x8",
         "yaxis": "y8"
        },
        {
         "name": "2018",
         "type": "histogram",
         "x": [
          37,
          37,
          37,
          37,
          3,
          3,
          50,
          14,
          14,
          64,
          34,
          34,
          34,
          16,
          16,
          16,
          16,
          16,
          16,
          16,
          16,
          16,
          16,
          16,
          16,
          16,
          16,
          16,
          16,
          16,
          16,
          93,
          93,
          93,
          31,
          3,
          3,
          3,
          52,
          52,
          52,
          52,
          52,
          52,
          52,
          52,
          31,
          31,
          31,
          39,
          39,
          39,
          39,
          39,
          39,
          39,
          39,
          39,
          25,
          47,
          47,
          47,
          47,
          33,
          17,
          17,
          46,
          46,
          64,
          36,
          36,
          66,
          66,
          66,
          66,
          66,
          66,
          66,
          33,
          4,
          4,
          46,
          46,
          8,
          8,
          74,
          72,
          55,
          55,
          55,
          55,
          55,
          55,
          55,
          55,
          55,
          55,
          55,
          55,
          55,
          47,
          47,
          47,
          47,
          47,
          47,
          47,
          58,
          58,
          12,
          12,
          15,
          15,
          15,
          15,
          15,
          15,
          15,
          15,
          15,
          15,
          15,
          15,
          35,
          22,
          12
         ],
         "xaxis": "x9",
         "yaxis": "y9"
        },
        {
         "name": "2019",
         "type": "histogram",
         "x": [
          37,
          37,
          37,
          37,
          37,
          3,
          50,
          50,
          61,
          7,
          7,
          64,
          16,
          16,
          16,
          16,
          16,
          16,
          16,
          16,
          16,
          16,
          16,
          16,
          16,
          16,
          16,
          16,
          16,
          26,
          93,
          93,
          93,
          3,
          3,
          52,
          70,
          31,
          49,
          49,
          49,
          39,
          39,
          39,
          39,
          39,
          39,
          39,
          39,
          39,
          39,
          47,
          47,
          47,
          47,
          47,
          47,
          2,
          3,
          3,
          3,
          33,
          33,
          70,
          70,
          17,
          46,
          46,
          11,
          11,
          11,
          11,
          36,
          36,
          36,
          66,
          66,
          66,
          33,
          33,
          33,
          33,
          33,
          51,
          4,
          4,
          46,
          8,
          74,
          72,
          72,
          72,
          55,
          55,
          55,
          55,
          55,
          55,
          55,
          55,
          55,
          55,
          55,
          55,
          55,
          47,
          47,
          47,
          47,
          47,
          47,
          47,
          47,
          58,
          58,
          12,
          15,
          15,
          54
         ],
         "xaxis": "x10",
         "yaxis": "y10"
        },
        {
         "name": "2020",
         "type": "histogram",
         "x": [
          37,
          3,
          3,
          7,
          14,
          16,
          16,
          16,
          16,
          16,
          16,
          16,
          93,
          3,
          52,
          39,
          39,
          39,
          47,
          47,
          47,
          47,
          47,
          47,
          47,
          3,
          3,
          3,
          70,
          17,
          46,
          46,
          46,
          36,
          36,
          36,
          36,
          33,
          33,
          51,
          46,
          8,
          8,
          55,
          55,
          55,
          47
         ],
         "xaxis": "x11",
         "yaxis": "y11"
        }
       ],
       "layout": {
        "height": 2000,
        "template": {
         "data": {
          "bar": [
           {
            "error_x": {
             "color": "#2a3f5f"
            },
            "error_y": {
             "color": "#2a3f5f"
            },
            "marker": {
             "line": {
              "color": "#E5ECF6",
              "width": 0.5
             }
            },
            "type": "bar"
           }
          ],
          "barpolar": [
           {
            "marker": {
             "line": {
              "color": "#E5ECF6",
              "width": 0.5
             }
            },
            "type": "barpolar"
           }
          ],
          "carpet": [
           {
            "aaxis": {
             "endlinecolor": "#2a3f5f",
             "gridcolor": "white",
             "linecolor": "white",
             "minorgridcolor": "white",
             "startlinecolor": "#2a3f5f"
            },
            "baxis": {
             "endlinecolor": "#2a3f5f",
             "gridcolor": "white",
             "linecolor": "white",
             "minorgridcolor": "white",
             "startlinecolor": "#2a3f5f"
            },
            "type": "carpet"
           }
          ],
          "choropleth": [
           {
            "colorbar": {
             "outlinewidth": 0,
             "ticks": ""
            },
            "type": "choropleth"
           }
          ],
          "contour": [
           {
            "colorbar": {
             "outlinewidth": 0,
             "ticks": ""
            },
            "colorscale": [
             [
              0,
              "#0d0887"
             ],
             [
              0.1111111111111111,
              "#46039f"
             ],
             [
              0.2222222222222222,
              "#7201a8"
             ],
             [
              0.3333333333333333,
              "#9c179e"
             ],
             [
              0.4444444444444444,
              "#bd3786"
             ],
             [
              0.5555555555555556,
              "#d8576b"
             ],
             [
              0.6666666666666666,
              "#ed7953"
             ],
             [
              0.7777777777777778,
              "#fb9f3a"
             ],
             [
              0.8888888888888888,
              "#fdca26"
             ],
             [
              1,
              "#f0f921"
             ]
            ],
            "type": "contour"
           }
          ],
          "contourcarpet": [
           {
            "colorbar": {
             "outlinewidth": 0,
             "ticks": ""
            },
            "type": "contourcarpet"
           }
          ],
          "heatmap": [
           {
            "colorbar": {
             "outlinewidth": 0,
             "ticks": ""
            },
            "colorscale": [
             [
              0,
              "#0d0887"
             ],
             [
              0.1111111111111111,
              "#46039f"
             ],
             [
              0.2222222222222222,
              "#7201a8"
             ],
             [
              0.3333333333333333,
              "#9c179e"
             ],
             [
              0.4444444444444444,
              "#bd3786"
             ],
             [
              0.5555555555555556,
              "#d8576b"
             ],
             [
              0.6666666666666666,
              "#ed7953"
             ],
             [
              0.7777777777777778,
              "#fb9f3a"
             ],
             [
              0.8888888888888888,
              "#fdca26"
             ],
             [
              1,
              "#f0f921"
             ]
            ],
            "type": "heatmap"
           }
          ],
          "heatmapgl": [
           {
            "colorbar": {
             "outlinewidth": 0,
             "ticks": ""
            },
            "colorscale": [
             [
              0,
              "#0d0887"
             ],
             [
              0.1111111111111111,
              "#46039f"
             ],
             [
              0.2222222222222222,
              "#7201a8"
             ],
             [
              0.3333333333333333,
              "#9c179e"
             ],
             [
              0.4444444444444444,
              "#bd3786"
             ],
             [
              0.5555555555555556,
              "#d8576b"
             ],
             [
              0.6666666666666666,
              "#ed7953"
             ],
             [
              0.7777777777777778,
              "#fb9f3a"
             ],
             [
              0.8888888888888888,
              "#fdca26"
             ],
             [
              1,
              "#f0f921"
             ]
            ],
            "type": "heatmapgl"
           }
          ],
          "histogram": [
           {
            "marker": {
             "colorbar": {
              "outlinewidth": 0,
              "ticks": ""
             }
            },
            "type": "histogram"
           }
          ],
          "histogram2d": [
           {
            "colorbar": {
             "outlinewidth": 0,
             "ticks": ""
            },
            "colorscale": [
             [
              0,
              "#0d0887"
             ],
             [
              0.1111111111111111,
              "#46039f"
             ],
             [
              0.2222222222222222,
              "#7201a8"
             ],
             [
              0.3333333333333333,
              "#9c179e"
             ],
             [
              0.4444444444444444,
              "#bd3786"
             ],
             [
              0.5555555555555556,
              "#d8576b"
             ],
             [
              0.6666666666666666,
              "#ed7953"
             ],
             [
              0.7777777777777778,
              "#fb9f3a"
             ],
             [
              0.8888888888888888,
              "#fdca26"
             ],
             [
              1,
              "#f0f921"
             ]
            ],
            "type": "histogram2d"
           }
          ],
          "histogram2dcontour": [
           {
            "colorbar": {
             "outlinewidth": 0,
             "ticks": ""
            },
            "colorscale": [
             [
              0,
              "#0d0887"
             ],
             [
              0.1111111111111111,
              "#46039f"
             ],
             [
              0.2222222222222222,
              "#7201a8"
             ],
             [
              0.3333333333333333,
              "#9c179e"
             ],
             [
              0.4444444444444444,
              "#bd3786"
             ],
             [
              0.5555555555555556,
              "#d8576b"
             ],
             [
              0.6666666666666666,
              "#ed7953"
             ],
             [
              0.7777777777777778,
              "#fb9f3a"
             ],
             [
              0.8888888888888888,
              "#fdca26"
             ],
             [
              1,
              "#f0f921"
             ]
            ],
            "type": "histogram2dcontour"
           }
          ],
          "mesh3d": [
           {
            "colorbar": {
             "outlinewidth": 0,
             "ticks": ""
            },
            "type": "mesh3d"
           }
          ],
          "parcoords": [
           {
            "line": {
             "colorbar": {
              "outlinewidth": 0,
              "ticks": ""
             }
            },
            "type": "parcoords"
           }
          ],
          "pie": [
           {
            "automargin": true,
            "type": "pie"
           }
          ],
          "scatter": [
           {
            "marker": {
             "colorbar": {
              "outlinewidth": 0,
              "ticks": ""
             }
            },
            "type": "scatter"
           }
          ],
          "scatter3d": [
           {
            "line": {
             "colorbar": {
              "outlinewidth": 0,
              "ticks": ""
             }
            },
            "marker": {
             "colorbar": {
              "outlinewidth": 0,
              "ticks": ""
             }
            },
            "type": "scatter3d"
           }
          ],
          "scattercarpet": [
           {
            "marker": {
             "colorbar": {
              "outlinewidth": 0,
              "ticks": ""
             }
            },
            "type": "scattercarpet"
           }
          ],
          "scattergeo": [
           {
            "marker": {
             "colorbar": {
              "outlinewidth": 0,
              "ticks": ""
             }
            },
            "type": "scattergeo"
           }
          ],
          "scattergl": [
           {
            "marker": {
             "colorbar": {
              "outlinewidth": 0,
              "ticks": ""
             }
            },
            "type": "scattergl"
           }
          ],
          "scattermapbox": [
           {
            "marker": {
             "colorbar": {
              "outlinewidth": 0,
              "ticks": ""
             }
            },
            "type": "scattermapbox"
           }
          ],
          "scatterpolar": [
           {
            "marker": {
             "colorbar": {
              "outlinewidth": 0,
              "ticks": ""
             }
            },
            "type": "scatterpolar"
           }
          ],
          "scatterpolargl": [
           {
            "marker": {
             "colorbar": {
              "outlinewidth": 0,
              "ticks": ""
             }
            },
            "type": "scatterpolargl"
           }
          ],
          "scatterternary": [
           {
            "marker": {
             "colorbar": {
              "outlinewidth": 0,
              "ticks": ""
             }
            },
            "type": "scatterternary"
           }
          ],
          "surface": [
           {
            "colorbar": {
             "outlinewidth": 0,
             "ticks": ""
            },
            "colorscale": [
             [
              0,
              "#0d0887"
             ],
             [
              0.1111111111111111,
              "#46039f"
             ],
             [
              0.2222222222222222,
              "#7201a8"
             ],
             [
              0.3333333333333333,
              "#9c179e"
             ],
             [
              0.4444444444444444,
              "#bd3786"
             ],
             [
              0.5555555555555556,
              "#d8576b"
             ],
             [
              0.6666666666666666,
              "#ed7953"
             ],
             [
              0.7777777777777778,
              "#fb9f3a"
             ],
             [
              0.8888888888888888,
              "#fdca26"
             ],
             [
              1,
              "#f0f921"
             ]
            ],
            "type": "surface"
           }
          ],
          "table": [
           {
            "cells": {
             "fill": {
              "color": "#EBF0F8"
             },
             "line": {
              "color": "white"
             }
            },
            "header": {
             "fill": {
              "color": "#C8D4E3"
             },
             "line": {
              "color": "white"
             }
            },
            "type": "table"
           }
          ]
         },
         "layout": {
          "annotationdefaults": {
           "arrowcolor": "#2a3f5f",
           "arrowhead": 0,
           "arrowwidth": 1
          },
          "coloraxis": {
           "colorbar": {
            "outlinewidth": 0,
            "ticks": ""
           }
          },
          "colorscale": {
           "diverging": [
            [
             0,
             "#8e0152"
            ],
            [
             0.1,
             "#c51b7d"
            ],
            [
             0.2,
             "#de77ae"
            ],
            [
             0.3,
             "#f1b6da"
            ],
            [
             0.4,
             "#fde0ef"
            ],
            [
             0.5,
             "#f7f7f7"
            ],
            [
             0.6,
             "#e6f5d0"
            ],
            [
             0.7,
             "#b8e186"
            ],
            [
             0.8,
             "#7fbc41"
            ],
            [
             0.9,
             "#4d9221"
            ],
            [
             1,
             "#276419"
            ]
           ],
           "sequential": [
            [
             0,
             "#0d0887"
            ],
            [
             0.1111111111111111,
             "#46039f"
            ],
            [
             0.2222222222222222,
             "#7201a8"
            ],
            [
             0.3333333333333333,
             "#9c179e"
            ],
            [
             0.4444444444444444,
             "#bd3786"
            ],
            [
             0.5555555555555556,
             "#d8576b"
            ],
            [
             0.6666666666666666,
             "#ed7953"
            ],
            [
             0.7777777777777778,
             "#fb9f3a"
            ],
            [
             0.8888888888888888,
             "#fdca26"
            ],
            [
             1,
             "#f0f921"
            ]
           ],
           "sequentialminus": [
            [
             0,
             "#0d0887"
            ],
            [
             0.1111111111111111,
             "#46039f"
            ],
            [
             0.2222222222222222,
             "#7201a8"
            ],
            [
             0.3333333333333333,
             "#9c179e"
            ],
            [
             0.4444444444444444,
             "#bd3786"
            ],
            [
             0.5555555555555556,
             "#d8576b"
            ],
            [
             0.6666666666666666,
             "#ed7953"
            ],
            [
             0.7777777777777778,
             "#fb9f3a"
            ],
            [
             0.8888888888888888,
             "#fdca26"
            ],
            [
             1,
             "#f0f921"
            ]
           ]
          },
          "colorway": [
           "#636efa",
           "#EF553B",
           "#00cc96",
           "#ab63fa",
           "#FFA15A",
           "#19d3f3",
           "#FF6692",
           "#B6E880",
           "#FF97FF",
           "#FECB52"
          ],
          "font": {
           "color": "#2a3f5f"
          },
          "geo": {
           "bgcolor": "white",
           "lakecolor": "white",
           "landcolor": "#E5ECF6",
           "showlakes": true,
           "showland": true,
           "subunitcolor": "white"
          },
          "hoverlabel": {
           "align": "left"
          },
          "hovermode": "closest",
          "mapbox": {
           "style": "light"
          },
          "paper_bgcolor": "white",
          "plot_bgcolor": "#E5ECF6",
          "polar": {
           "angularaxis": {
            "gridcolor": "white",
            "linecolor": "white",
            "ticks": ""
           },
           "bgcolor": "#E5ECF6",
           "radialaxis": {
            "gridcolor": "white",
            "linecolor": "white",
            "ticks": ""
           }
          },
          "scene": {
           "xaxis": {
            "backgroundcolor": "#E5ECF6",
            "gridcolor": "white",
            "gridwidth": 2,
            "linecolor": "white",
            "showbackground": true,
            "ticks": "",
            "zerolinecolor": "white"
           },
           "yaxis": {
            "backgroundcolor": "#E5ECF6",
            "gridcolor": "white",
            "gridwidth": 2,
            "linecolor": "white",
            "showbackground": true,
            "ticks": "",
            "zerolinecolor": "white"
           },
           "zaxis": {
            "backgroundcolor": "#E5ECF6",
            "gridcolor": "white",
            "gridwidth": 2,
            "linecolor": "white",
            "showbackground": true,
            "ticks": "",
            "zerolinecolor": "white"
           }
          },
          "shapedefaults": {
           "line": {
            "color": "#2a3f5f"
           }
          },
          "ternary": {
           "aaxis": {
            "gridcolor": "white",
            "linecolor": "white",
            "ticks": ""
           },
           "baxis": {
            "gridcolor": "white",
            "linecolor": "white",
            "ticks": ""
           },
           "bgcolor": "#E5ECF6",
           "caxis": {
            "gridcolor": "white",
            "linecolor": "white",
            "ticks": ""
           }
          },
          "title": {
           "x": 0.05
          },
          "xaxis": {
           "automargin": true,
           "gridcolor": "white",
           "linecolor": "white",
           "ticks": "",
           "title": {
            "standoff": 15
           },
           "zerolinecolor": "white",
           "zerolinewidth": 2
          },
          "yaxis": {
           "automargin": true,
           "gridcolor": "white",
           "linecolor": "white",
           "ticks": "",
           "title": {
            "standoff": 15
           },
           "zerolinecolor": "white",
           "zerolinewidth": 2
          }
         }
        },
        "width": 1000,
        "xaxis": {
         "anchor": "y",
         "domain": [
          0,
          1
         ]
        },
        "xaxis10": {
         "anchor": "y10",
         "domain": [
          0,
          1
         ]
        },
        "xaxis11": {
         "anchor": "y11",
         "domain": [
          0,
          1
         ]
        },
        "xaxis2": {
         "anchor": "y2",
         "domain": [
          0,
          1
         ]
        },
        "xaxis3": {
         "anchor": "y3",
         "domain": [
          0,
          1
         ]
        },
        "xaxis4": {
         "anchor": "y4",
         "domain": [
          0,
          1
         ]
        },
        "xaxis5": {
         "anchor": "y5",
         "domain": [
          0,
          1
         ]
        },
        "xaxis6": {
         "anchor": "y6",
         "domain": [
          0,
          1
         ]
        },
        "xaxis7": {
         "anchor": "y7",
         "domain": [
          0,
          1
         ]
        },
        "xaxis8": {
         "anchor": "y8",
         "domain": [
          0,
          1
         ]
        },
        "xaxis9": {
         "anchor": "y9",
         "domain": [
          0,
          1
         ]
        },
        "yaxis": {
         "anchor": "x",
         "domain": [
          0.9338842975206612,
          1
         ]
        },
        "yaxis10": {
         "anchor": "x10",
         "domain": [
          0.09338842975206611,
          0.15950413223140497
         ]
        },
        "yaxis11": {
         "anchor": "x11",
         "domain": [
          0,
          0.06611570247933884
         ]
        },
        "yaxis2": {
         "anchor": "x2",
         "domain": [
          0.8404958677685951,
          0.9066115702479339
         ]
        },
        "yaxis3": {
         "anchor": "x3",
         "domain": [
          0.7471074380165289,
          0.8132231404958677
         ]
        },
        "yaxis4": {
         "anchor": "x4",
         "domain": [
          0.6537190082644628,
          0.7198347107438017
         ]
        },
        "yaxis5": {
         "anchor": "x5",
         "domain": [
          0.5603305785123966,
          0.6264462809917355
         ]
        },
        "yaxis6": {
         "anchor": "x6",
         "domain": [
          0.4669421487603306,
          0.5330578512396694
         ]
        },
        "yaxis7": {
         "anchor": "x7",
         "domain": [
          0.37355371900826445,
          0.4396694214876033
         ]
        },
        "yaxis8": {
         "anchor": "x8",
         "domain": [
          0.2801652892561983,
          0.34628099173553717
         ]
        },
        "yaxis9": {
         "anchor": "x9",
         "domain": [
          0.18677685950413223,
          0.2528925619834711
         ]
        }
       }
      },
      "text/html": [
       "<div>\n",
       "        \n",
       "        \n",
       "            <div id=\"f1b8c678-2cd0-43bc-bc5a-548a83f3a74c\" class=\"plotly-graph-div\" style=\"height:2000px; width:1000px;\"></div>\n",
       "            <script type=\"text/javascript\">\n",
       "                require([\"plotly\"], function(Plotly) {\n",
       "                    window.PLOTLYENV=window.PLOTLYENV || {};\n",
       "                    \n",
       "                if (document.getElementById(\"f1b8c678-2cd0-43bc-bc5a-548a83f3a74c\")) {\n",
       "                    Plotly.newPlot(\n",
       "                        'f1b8c678-2cd0-43bc-bc5a-548a83f3a74c',\n",
       "                        [{\"name\": \"2010\", \"type\": \"histogram\", \"x\": [37.0, 64.0, 64.0, 16.0, 13.0, 13.0, 93.0, 93.0, 93.0, 93.0, 93.0, 93.0, 93.0, 93.0, 93.0, 93.0, 93.0, 93.0, 21.0, 21.0, 31.0, 31.0, 31.0, 52.0, 70.0, 31.0, 49.0, 49.0, 47.0, 47.0, 70.0, 11.0, 11.0, 11.0, 45.0, 36.0, 66.0, 66.0, 66.0, 66.0, 33.0, 33.0, 33.0, 33.0, 33.0, 51.0, 51.0, 51.0, 74.0, 72.0, 55.0, 43.0, 43.0, 43.0, 54.0, 12.0, 12.0, 12.0, 12.0, 15.0, 54.0, 54.0, 12.0], \"xaxis\": \"x\", \"yaxis\": \"y\"}, {\"name\": \"2011\", \"type\": \"histogram\", \"x\": [37.0, 37.0, 37.0, 37.0, 37.0, 37.0, 37.0, 37.0, 37.0, 33.0, 33.0, 14.0, 64.0, 13.0, 13.0, 73.0, 93.0, 93.0, 93.0, 93.0, 93.0, 44.0, 31.0, 31.0, 31.0, 31.0, 31.0, 70.0, 31.0, 49.0, 49.0, 49.0, 39.0, 39.0, 39.0, 39.0, 39.0, 70.0, 70.0, 70.0, 70.0, 70.0, 70.0, 70.0, 70.0, 70.0, 70.0, 70.0, 70.0, 70.0, 70.0, 70.0, 70.0, 70.0, 70.0, 70.0, 70.0, 70.0, 70.0, 70.0, 70.0, 70.0, 70.0, 70.0, 70.0, 70.0, 70.0, 70.0, 70.0, 70.0, 70.0, 70.0, 70.0, 70.0, 70.0, 70.0, 70.0, 70.0, 70.0, 70.0, 70.0, 70.0, 70.0, 70.0, 70.0, 70.0, 70.0, 70.0, 70.0, 70.0, 70.0, 70.0, 70.0, 70.0, 46.0, 46.0, 46.0, 46.0, 46.0, 46.0, 46.0, 45.0, 45.0, 45.0, 64.0, 36.0, 36.0, 36.0, 36.0, 66.0, 66.0, 66.0, 66.0, 66.0, 66.0, 33.0, 33.0, 33.0, 33.0, 33.0, 33.0, 33.0, 33.0, 51.0, 51.0, 51.0, 51.0, 51.0, 51.0, 46.0, 46.0, 46.0, 46.0, 46.0, 46.0, 46.0, 46.0, 46.0, 74.0, 74.0, 72.0, 55.0, 55.0, 55.0, 55.0, 55.0, 47.0, 58.0, 12.0, 12.0, 12.0, 12.0, 15.0, 47.0, 54.0, 12.0, 12.0], \"xaxis\": \"x2\", \"yaxis\": \"y2\"}, {\"name\": \"2012\", \"type\": \"histogram\", \"x\": [37.0, 37.0, 37.0, 37.0, 33.0, 33.0, 23.0, 23.0, 23.0, 23.0, 64.0, 34.0, 16.0, 16.0, 73.0, 73.0, 93.0, 93.0, 93.0, 93.0, 93.0, 93.0, 93.0, 93.0, 93.0, 93.0, 93.0, 31.0, 31.0, 31.0, 31.0, 31.0, 70.0, 31.0, 31.0, 49.0, 39.0, 39.0, 39.0, 39.0, 39.0, 39.0, 39.0, 39.0, 39.0, 39.0, 39.0, 39.0, 39.0, 39.0, 39.0, 39.0, 39.0, 39.0, 39.0, 25.0, 47.0, 70.0, 70.0, 70.0, 70.0, 70.0, 70.0, 70.0, 70.0, 70.0, 70.0, 70.0, 70.0, 70.0, 70.0, 70.0, 70.0, 70.0, 70.0, 70.0, 70.0, 70.0, 70.0, 70.0, 70.0, 70.0, 70.0, 70.0, 70.0, 70.0, 70.0, 70.0, 70.0, 70.0, 70.0, 70.0, 70.0, 70.0, 70.0, 70.0, 70.0, 70.0, 70.0, 70.0, 70.0, 70.0, 70.0, 70.0, 70.0, 70.0, 70.0, 70.0, 70.0, 70.0, 70.0, 70.0, 70.0, 70.0, 70.0, 70.0, 70.0, 70.0, 70.0, 70.0, 70.0, 70.0, 70.0, 70.0, 70.0, 70.0, 70.0, 17.0, 17.0, 17.0, 46.0, 46.0, 46.0, 46.0, 36.0, 36.0, 36.0, 36.0, 36.0, 36.0, 36.0, 36.0, 36.0, 36.0, 36.0, 66.0, 66.0, 66.0, 66.0, 66.0, 48.0, 66.0, 66.0, 66.0, 33.0, 33.0, 33.0, 33.0, 33.0, 51.0, 51.0, 51.0, 51.0, 51.0, 46.0, 46.0, 46.0, 46.0, 74.0, 72.0, 72.0, 55.0, 55.0, 47.0, 47.0, 58.0, 12.0, 12.0, 12.0, 12.0], \"xaxis\": \"x3\", \"yaxis\": \"y3\"}, {\"name\": \"2013\", \"type\": \"histogram\", \"x\": [37.0, 50.0, 7.0, 23.0, 23.0, 23.0, 23.0, 23.0, 23.0, 64.0, 16.0, 13.0, 26.0, 93.0, 93.0, 93.0, 93.0, 93.0, 93.0, 93.0, 93.0, 93.0, 93.0, 93.0, 93.0, 21.0, 31.0, 31.0, 31.0, 31.0, 31.0, 31.0, 31.0, 31.0, 31.0, 31.0, 31.0, 49.0, 49.0, 49.0, 49.0, 49.0, 49.0, 49.0, 49.0, 49.0, 49.0, 49.0, 49.0, 39.0, 39.0, 25.0, 25.0, 25.0, 33.0, 70.0, 70.0, 70.0, 70.0, 46.0, 46.0, 46.0, 46.0, 46.0, 46.0, 36.0, 66.0, 66.0, 66.0, 66.0, 66.0, 66.0, 66.0, 33.0, 33.0, 33.0, 33.0, 33.0, 33.0, 33.0, 33.0, 33.0, 33.0, 33.0, 51.0, 51.0, 51.0, 51.0, 51.0, 51.0, 8.0, 8.0, 74.0, 72.0, 72.0, 72.0, 55.0, 47.0, 47.0, 47.0, 47.0, 47.0, 47.0, 47.0, 47.0, 47.0, 47.0, 47.0, 47.0, 54.0, 58.0, 12.0, 15.0, 15.0, 15.0, 15.0, 15.0, 15.0, 15.0, 15.0, 15.0, 12.0, 12.0, 12.0, 12.0], \"xaxis\": \"x4\", \"yaxis\": \"y4\"}, {\"name\": \"2014\", \"type\": \"histogram\", \"x\": [37.0, 37.0, 37.0, 37.0, 37.0, 37.0, 37.0, 37.0, 37.0, 37.0, 37.0, 37.0, 37.0, 37.0, 37.0, 37.0, 61.0, 7.0, 7.0, 7.0, 23.0, 23.0, 23.0, 64.0, 16.0, 16.0, 16.0, 26.0, 93.0, 93.0, 93.0, 93.0, 93.0, 93.0, 93.0, 93.0, 93.0, 28.0, 44.0, 44.0, 31.0, 31.0, 31.0, 31.0, 31.0, 31.0, 31.0, 31.0, 31.0, 31.0, 31.0, 31.0, 52.0, 31.0, 31.0, 31.0, 31.0, 31.0, 31.0, 31.0, 31.0, 49.0, 49.0, 49.0, 39.0, 39.0, 39.0, 39.0, 39.0, 39.0, 39.0, 39.0, 39.0, 39.0, 39.0, 39.0, 33.0, 46.0, 64.0, 36.0, 36.0, 36.0, 36.0, 36.0, 36.0, 36.0, 36.0, 36.0, 36.0, 36.0, 66.0, 66.0, 66.0, 66.0, 66.0, 66.0, 66.0, 66.0, 33.0, 33.0, 33.0, 33.0, 33.0, 33.0, 33.0, 51.0, 51.0, 46.0, 8.0, 8.0, 74.0, 72.0, 72.0, 55.0, 55.0, 55.0, 47.0, 43.0, 43.0, 54.0, 12.0, 12.0, 15.0, 15.0, 15.0, 15.0, 15.0, 15.0, 15.0, 15.0, 15.0, 15.0, 15.0, 15.0, 54.0, 22.0], \"xaxis\": \"x5\", \"yaxis\": \"y5\"}, {\"name\": \"2015\", \"type\": \"histogram\", \"x\": [37.0, 37.0, 50.0, 50.0, 50.0, 23.0, 23.0, 23.0, 23.0, 14.0, 64.0, 64.0, 13.0, 73.0, 73.0, 93.0, 93.0, 93.0, 93.0, 93.0, 93.0, 44.0, 31.0, 31.0, 52.0, 49.0, 49.0, 39.0, 39.0, 39.0, 39.0, 39.0, 39.0, 39.0, 39.0, 47.0, 47.0, 47.0, 47.0, 70.0, 70.0, 17.0, 17.0, 11.0, 45.0, 45.0, 64.0, 36.0, 36.0, 36.0, 36.0, 36.0, 36.0, 36.0, 36.0, 36.0, 36.0, 66.0, 66.0, 66.0, 66.0, 33.0, 33.0, 33.0, 33.0, 33.0, 33.0, 33.0, 33.0, 33.0, 33.0, 33.0, 33.0, 51.0, 46.0, 46.0, 8.0, 8.0, 74.0, 72.0, 72.0, 55.0, 55.0, 55.0, 47.0, 47.0, 47.0, 47.0, 47.0, 12.0, 15.0, 15.0, 15.0, 15.0, 15.0, 15.0, 15.0, 15.0, 15.0, 15.0, 15.0, 15.0, 15.0, 35.0], \"xaxis\": \"x6\", \"yaxis\": \"y6\"}, {\"name\": \"2016\", \"type\": \"histogram\", \"x\": [37.0, 37.0, 37.0, 37.0, 50.0, 23.0, 23.0, 23.0, 23.0, 23.0, 23.0, 64.0, 13.0, 73.0, 73.0, 93.0, 93.0, 93.0, 93.0, 93.0, 21.0, 44.0, 31.0, 31.0, 31.0, 31.0, 31.0, 31.0, 31.0, 31.0, 31.0, 52.0, 70.0, 70.0, 70.0, 49.0, 39.0, 39.0, 39.0, 39.0, 39.0, 39.0, 39.0, 47.0, 47.0, 17.0, 17.0, 46.0, 46.0, 46.0, 46.0, 46.0, 46.0, 46.0, 46.0, 46.0, 45.0, 64.0, 36.0, 66.0, 66.0, 66.0, 66.0, 66.0, 66.0, 66.0, 33.0, 33.0, 33.0, 33.0, 33.0, 33.0, 33.0, 33.0, 46.0, 46.0, 46.0, 46.0, 46.0, 46.0, 46.0, 46.0, 46.0, 46.0, 46.0, 46.0, 74.0, 74.0, 74.0, 74.0, 72.0, 55.0, 47.0, 47.0, 47.0, 47.0, 47.0, 54.0, 54.0, 54.0, 54.0, 54.0, 15.0, 15.0, 15.0, 15.0, 15.0, 15.0, 15.0, 15.0, 15.0, 15.0, 15.0, 54.0], \"xaxis\": \"x7\", \"yaxis\": \"y7\"}, {\"name\": \"2017\", \"type\": \"histogram\", \"x\": [37.0, 37.0, 37.0, 37.0, 37.0, 37.0, 37.0, 37.0, 37.0, 37.0, 37.0, 50.0, 33.0, 7.0, 7.0, 23.0, 23.0, 23.0, 23.0, 23.0, 23.0, 23.0, 14.0, 64.0, 64.0, 34.0, 16.0, 16.0, 16.0, 16.0, 16.0, 16.0, 16.0, 16.0, 16.0, 16.0, 16.0, 16.0, 16.0, 16.0, 16.0, 16.0, 16.0, 16.0, 93.0, 93.0, 93.0, 93.0, 93.0, 93.0, 93.0, 93.0, 93.0, 31.0, 70.0, 31.0, 39.0, 39.0, 39.0, 39.0, 39.0, 39.0, 39.0, 39.0, 39.0, 39.0, 39.0, 39.0, 39.0, 39.0, 39.0, 39.0, 25.0, 47.0, 47.0, 47.0, 47.0, 47.0, 47.0, 47.0, 47.0, 47.0, 47.0, 47.0, 47.0, 47.0, 47.0, 47.0, 70.0, 70.0, 46.0, 46.0, 46.0, 46.0, 11.0, 11.0, 11.0, 11.0, 36.0, 66.0, 66.0, 66.0, 66.0, 66.0, 66.0, 33.0, 33.0, 33.0, 33.0, 33.0, 46.0, 46.0, 8.0, 74.0, 72.0, 55.0, 55.0, 55.0, 55.0, 55.0, 55.0, 55.0, 55.0, 55.0, 55.0, 55.0, 47.0, 47.0, 47.0, 47.0, 47.0, 54.0, 58.0, 12.0, 12.0, 15.0, 15.0, 15.0, 15.0, 15.0, 15.0, 15.0, 15.0, 15.0, 15.0, 15.0, 15.0, 15.0, 47.0, 47.0, 47.0, 47.0, 35.0], \"xaxis\": \"x8\", \"yaxis\": \"y8\"}, {\"name\": \"2018\", \"type\": \"histogram\", \"x\": [37.0, 37.0, 37.0, 37.0, 3.0, 3.0, 50.0, 14.0, 14.0, 64.0, 34.0, 34.0, 34.0, 16.0, 16.0, 16.0, 16.0, 16.0, 16.0, 16.0, 16.0, 16.0, 16.0, 16.0, 16.0, 16.0, 16.0, 16.0, 16.0, 16.0, 16.0, 93.0, 93.0, 93.0, 31.0, 3.0, 3.0, 3.0, 52.0, 52.0, 52.0, 52.0, 52.0, 52.0, 52.0, 52.0, 31.0, 31.0, 31.0, 39.0, 39.0, 39.0, 39.0, 39.0, 39.0, 39.0, 39.0, 39.0, 25.0, 47.0, 47.0, 47.0, 47.0, 33.0, 17.0, 17.0, 46.0, 46.0, 64.0, 36.0, 36.0, 66.0, 66.0, 66.0, 66.0, 66.0, 66.0, 66.0, 33.0, 4.0, 4.0, 46.0, 46.0, 8.0, 8.0, 74.0, 72.0, 55.0, 55.0, 55.0, 55.0, 55.0, 55.0, 55.0, 55.0, 55.0, 55.0, 55.0, 55.0, 55.0, 47.0, 47.0, 47.0, 47.0, 47.0, 47.0, 47.0, 58.0, 58.0, 12.0, 12.0, 15.0, 15.0, 15.0, 15.0, 15.0, 15.0, 15.0, 15.0, 15.0, 15.0, 15.0, 15.0, 35.0, 22.0, 12.0], \"xaxis\": \"x9\", \"yaxis\": \"y9\"}, {\"name\": \"2019\", \"type\": \"histogram\", \"x\": [37.0, 37.0, 37.0, 37.0, 37.0, 3.0, 50.0, 50.0, 61.0, 7.0, 7.0, 64.0, 16.0, 16.0, 16.0, 16.0, 16.0, 16.0, 16.0, 16.0, 16.0, 16.0, 16.0, 16.0, 16.0, 16.0, 16.0, 16.0, 16.0, 26.0, 93.0, 93.0, 93.0, 3.0, 3.0, 52.0, 70.0, 31.0, 49.0, 49.0, 49.0, 39.0, 39.0, 39.0, 39.0, 39.0, 39.0, 39.0, 39.0, 39.0, 39.0, 47.0, 47.0, 47.0, 47.0, 47.0, 47.0, 2.0, 3.0, 3.0, 3.0, 33.0, 33.0, 70.0, 70.0, 17.0, 46.0, 46.0, 11.0, 11.0, 11.0, 11.0, 36.0, 36.0, 36.0, 66.0, 66.0, 66.0, 33.0, 33.0, 33.0, 33.0, 33.0, 51.0, 4.0, 4.0, 46.0, 8.0, 74.0, 72.0, 72.0, 72.0, 55.0, 55.0, 55.0, 55.0, 55.0, 55.0, 55.0, 55.0, 55.0, 55.0, 55.0, 55.0, 55.0, 47.0, 47.0, 47.0, 47.0, 47.0, 47.0, 47.0, 47.0, 58.0, 58.0, 12.0, 15.0, 15.0, 54.0], \"xaxis\": \"x10\", \"yaxis\": \"y10\"}, {\"name\": \"2020\", \"type\": \"histogram\", \"x\": [37.0, 3.0, 3.0, 7.0, 14.0, 16.0, 16.0, 16.0, 16.0, 16.0, 16.0, 16.0, 93.0, 3.0, 52.0, 39.0, 39.0, 39.0, 47.0, 47.0, 47.0, 47.0, 47.0, 47.0, 47.0, 3.0, 3.0, 3.0, 70.0, 17.0, 46.0, 46.0, 46.0, 36.0, 36.0, 36.0, 36.0, 33.0, 33.0, 51.0, 46.0, 8.0, 8.0, 55.0, 55.0, 55.0, 47.0], \"xaxis\": \"x11\", \"yaxis\": \"y11\"}],\n",
       "                        {\"height\": 2000, \"template\": {\"data\": {\"bar\": [{\"error_x\": {\"color\": \"#2a3f5f\"}, \"error_y\": {\"color\": \"#2a3f5f\"}, \"marker\": {\"line\": {\"color\": \"#E5ECF6\", \"width\": 0.5}}, \"type\": \"bar\"}], \"barpolar\": [{\"marker\": {\"line\": {\"color\": \"#E5ECF6\", \"width\": 0.5}}, \"type\": \"barpolar\"}], \"carpet\": [{\"aaxis\": {\"endlinecolor\": \"#2a3f5f\", \"gridcolor\": \"white\", \"linecolor\": \"white\", \"minorgridcolor\": \"white\", \"startlinecolor\": \"#2a3f5f\"}, \"baxis\": {\"endlinecolor\": \"#2a3f5f\", \"gridcolor\": \"white\", \"linecolor\": \"white\", \"minorgridcolor\": \"white\", \"startlinecolor\": \"#2a3f5f\"}, \"type\": \"carpet\"}], \"choropleth\": [{\"colorbar\": {\"outlinewidth\": 0, \"ticks\": \"\"}, \"type\": \"choropleth\"}], \"contour\": [{\"colorbar\": {\"outlinewidth\": 0, \"ticks\": \"\"}, \"colorscale\": [[0.0, \"#0d0887\"], [0.1111111111111111, \"#46039f\"], [0.2222222222222222, \"#7201a8\"], [0.3333333333333333, \"#9c179e\"], [0.4444444444444444, \"#bd3786\"], [0.5555555555555556, \"#d8576b\"], [0.6666666666666666, \"#ed7953\"], [0.7777777777777778, \"#fb9f3a\"], [0.8888888888888888, \"#fdca26\"], [1.0, \"#f0f921\"]], \"type\": \"contour\"}], \"contourcarpet\": [{\"colorbar\": {\"outlinewidth\": 0, \"ticks\": \"\"}, \"type\": \"contourcarpet\"}], \"heatmap\": [{\"colorbar\": {\"outlinewidth\": 0, \"ticks\": \"\"}, \"colorscale\": [[0.0, \"#0d0887\"], [0.1111111111111111, \"#46039f\"], [0.2222222222222222, \"#7201a8\"], [0.3333333333333333, \"#9c179e\"], [0.4444444444444444, \"#bd3786\"], [0.5555555555555556, \"#d8576b\"], [0.6666666666666666, \"#ed7953\"], [0.7777777777777778, \"#fb9f3a\"], [0.8888888888888888, \"#fdca26\"], [1.0, \"#f0f921\"]], \"type\": \"heatmap\"}], \"heatmapgl\": [{\"colorbar\": {\"outlinewidth\": 0, \"ticks\": \"\"}, \"colorscale\": [[0.0, \"#0d0887\"], [0.1111111111111111, \"#46039f\"], [0.2222222222222222, \"#7201a8\"], [0.3333333333333333, \"#9c179e\"], [0.4444444444444444, \"#bd3786\"], [0.5555555555555556, \"#d8576b\"], [0.6666666666666666, \"#ed7953\"], [0.7777777777777778, \"#fb9f3a\"], [0.8888888888888888, \"#fdca26\"], [1.0, \"#f0f921\"]], \"type\": \"heatmapgl\"}], \"histogram\": [{\"marker\": {\"colorbar\": {\"outlinewidth\": 0, \"ticks\": \"\"}}, \"type\": \"histogram\"}], \"histogram2d\": [{\"colorbar\": {\"outlinewidth\": 0, \"ticks\": \"\"}, \"colorscale\": [[0.0, \"#0d0887\"], [0.1111111111111111, \"#46039f\"], [0.2222222222222222, \"#7201a8\"], [0.3333333333333333, \"#9c179e\"], [0.4444444444444444, \"#bd3786\"], [0.5555555555555556, \"#d8576b\"], [0.6666666666666666, \"#ed7953\"], [0.7777777777777778, \"#fb9f3a\"], [0.8888888888888888, \"#fdca26\"], [1.0, \"#f0f921\"]], \"type\": \"histogram2d\"}], \"histogram2dcontour\": [{\"colorbar\": {\"outlinewidth\": 0, \"ticks\": \"\"}, \"colorscale\": [[0.0, \"#0d0887\"], [0.1111111111111111, \"#46039f\"], [0.2222222222222222, \"#7201a8\"], [0.3333333333333333, \"#9c179e\"], [0.4444444444444444, \"#bd3786\"], [0.5555555555555556, \"#d8576b\"], [0.6666666666666666, \"#ed7953\"], [0.7777777777777778, \"#fb9f3a\"], [0.8888888888888888, \"#fdca26\"], [1.0, \"#f0f921\"]], \"type\": \"histogram2dcontour\"}], \"mesh3d\": [{\"colorbar\": {\"outlinewidth\": 0, \"ticks\": \"\"}, \"type\": \"mesh3d\"}], \"parcoords\": [{\"line\": {\"colorbar\": {\"outlinewidth\": 0, \"ticks\": \"\"}}, \"type\": \"parcoords\"}], \"pie\": [{\"automargin\": true, \"type\": \"pie\"}], \"scatter\": [{\"marker\": {\"colorbar\": {\"outlinewidth\": 0, \"ticks\": \"\"}}, \"type\": \"scatter\"}], \"scatter3d\": [{\"line\": {\"colorbar\": {\"outlinewidth\": 0, \"ticks\": \"\"}}, \"marker\": {\"colorbar\": {\"outlinewidth\": 0, \"ticks\": \"\"}}, \"type\": \"scatter3d\"}], \"scattercarpet\": [{\"marker\": {\"colorbar\": {\"outlinewidth\": 0, \"ticks\": \"\"}}, \"type\": \"scattercarpet\"}], \"scattergeo\": [{\"marker\": {\"colorbar\": {\"outlinewidth\": 0, \"ticks\": \"\"}}, \"type\": \"scattergeo\"}], \"scattergl\": [{\"marker\": {\"colorbar\": {\"outlinewidth\": 0, \"ticks\": \"\"}}, \"type\": \"scattergl\"}], \"scattermapbox\": [{\"marker\": {\"colorbar\": {\"outlinewidth\": 0, \"ticks\": \"\"}}, \"type\": \"scattermapbox\"}], \"scatterpolar\": [{\"marker\": {\"colorbar\": {\"outlinewidth\": 0, \"ticks\": \"\"}}, \"type\": \"scatterpolar\"}], \"scatterpolargl\": [{\"marker\": {\"colorbar\": {\"outlinewidth\": 0, \"ticks\": \"\"}}, \"type\": \"scatterpolargl\"}], \"scatterternary\": [{\"marker\": {\"colorbar\": {\"outlinewidth\": 0, \"ticks\": \"\"}}, \"type\": \"scatterternary\"}], \"surface\": [{\"colorbar\": {\"outlinewidth\": 0, \"ticks\": \"\"}, \"colorscale\": [[0.0, \"#0d0887\"], [0.1111111111111111, \"#46039f\"], [0.2222222222222222, \"#7201a8\"], [0.3333333333333333, \"#9c179e\"], [0.4444444444444444, \"#bd3786\"], [0.5555555555555556, \"#d8576b\"], [0.6666666666666666, \"#ed7953\"], [0.7777777777777778, \"#fb9f3a\"], [0.8888888888888888, \"#fdca26\"], [1.0, \"#f0f921\"]], \"type\": \"surface\"}], \"table\": [{\"cells\": {\"fill\": {\"color\": \"#EBF0F8\"}, \"line\": {\"color\": \"white\"}}, \"header\": {\"fill\": {\"color\": \"#C8D4E3\"}, \"line\": {\"color\": \"white\"}}, \"type\": \"table\"}]}, \"layout\": {\"annotationdefaults\": {\"arrowcolor\": \"#2a3f5f\", \"arrowhead\": 0, \"arrowwidth\": 1}, \"coloraxis\": {\"colorbar\": {\"outlinewidth\": 0, \"ticks\": \"\"}}, \"colorscale\": {\"diverging\": [[0, \"#8e0152\"], [0.1, \"#c51b7d\"], [0.2, \"#de77ae\"], [0.3, \"#f1b6da\"], [0.4, \"#fde0ef\"], [0.5, \"#f7f7f7\"], [0.6, \"#e6f5d0\"], [0.7, \"#b8e186\"], [0.8, \"#7fbc41\"], [0.9, \"#4d9221\"], [1, \"#276419\"]], \"sequential\": [[0.0, \"#0d0887\"], [0.1111111111111111, \"#46039f\"], [0.2222222222222222, \"#7201a8\"], [0.3333333333333333, \"#9c179e\"], [0.4444444444444444, \"#bd3786\"], [0.5555555555555556, \"#d8576b\"], [0.6666666666666666, \"#ed7953\"], [0.7777777777777778, \"#fb9f3a\"], [0.8888888888888888, \"#fdca26\"], [1.0, \"#f0f921\"]], \"sequentialminus\": [[0.0, \"#0d0887\"], [0.1111111111111111, \"#46039f\"], [0.2222222222222222, \"#7201a8\"], [0.3333333333333333, \"#9c179e\"], [0.4444444444444444, \"#bd3786\"], [0.5555555555555556, \"#d8576b\"], [0.6666666666666666, \"#ed7953\"], [0.7777777777777778, \"#fb9f3a\"], [0.8888888888888888, \"#fdca26\"], [1.0, \"#f0f921\"]]}, \"colorway\": [\"#636efa\", \"#EF553B\", \"#00cc96\", \"#ab63fa\", \"#FFA15A\", \"#19d3f3\", \"#FF6692\", \"#B6E880\", \"#FF97FF\", \"#FECB52\"], \"font\": {\"color\": \"#2a3f5f\"}, \"geo\": {\"bgcolor\": \"white\", \"lakecolor\": \"white\", \"landcolor\": \"#E5ECF6\", \"showlakes\": true, \"showland\": true, \"subunitcolor\": \"white\"}, \"hoverlabel\": {\"align\": \"left\"}, \"hovermode\": \"closest\", \"mapbox\": {\"style\": \"light\"}, \"paper_bgcolor\": \"white\", \"plot_bgcolor\": \"#E5ECF6\", \"polar\": {\"angularaxis\": {\"gridcolor\": \"white\", \"linecolor\": \"white\", \"ticks\": \"\"}, \"bgcolor\": \"#E5ECF6\", \"radialaxis\": {\"gridcolor\": \"white\", \"linecolor\": \"white\", \"ticks\": \"\"}}, \"scene\": {\"xaxis\": {\"backgroundcolor\": \"#E5ECF6\", \"gridcolor\": \"white\", \"gridwidth\": 2, \"linecolor\": \"white\", \"showbackground\": true, \"ticks\": \"\", \"zerolinecolor\": \"white\"}, \"yaxis\": {\"backgroundcolor\": \"#E5ECF6\", \"gridcolor\": \"white\", \"gridwidth\": 2, \"linecolor\": \"white\", \"showbackground\": true, \"ticks\": \"\", \"zerolinecolor\": \"white\"}, \"zaxis\": {\"backgroundcolor\": \"#E5ECF6\", \"gridcolor\": \"white\", \"gridwidth\": 2, \"linecolor\": \"white\", \"showbackground\": true, \"ticks\": \"\", \"zerolinecolor\": \"white\"}}, \"shapedefaults\": {\"line\": {\"color\": \"#2a3f5f\"}}, \"ternary\": {\"aaxis\": {\"gridcolor\": \"white\", \"linecolor\": \"white\", \"ticks\": \"\"}, \"baxis\": {\"gridcolor\": \"white\", \"linecolor\": \"white\", \"ticks\": \"\"}, \"bgcolor\": \"#E5ECF6\", \"caxis\": {\"gridcolor\": \"white\", \"linecolor\": \"white\", \"ticks\": \"\"}}, \"title\": {\"x\": 0.05}, \"xaxis\": {\"automargin\": true, \"gridcolor\": \"white\", \"linecolor\": \"white\", \"ticks\": \"\", \"title\": {\"standoff\": 15}, \"zerolinecolor\": \"white\", \"zerolinewidth\": 2}, \"yaxis\": {\"automargin\": true, \"gridcolor\": \"white\", \"linecolor\": \"white\", \"ticks\": \"\", \"title\": {\"standoff\": 15}, \"zerolinecolor\": \"white\", \"zerolinewidth\": 2}}}, \"width\": 1000, \"xaxis\": {\"anchor\": \"y\", \"domain\": [0.0, 1.0]}, \"xaxis10\": {\"anchor\": \"y10\", \"domain\": [0.0, 1.0]}, \"xaxis11\": {\"anchor\": \"y11\", \"domain\": [0.0, 1.0]}, \"xaxis2\": {\"anchor\": \"y2\", \"domain\": [0.0, 1.0]}, \"xaxis3\": {\"anchor\": \"y3\", \"domain\": [0.0, 1.0]}, \"xaxis4\": {\"anchor\": \"y4\", \"domain\": [0.0, 1.0]}, \"xaxis5\": {\"anchor\": \"y5\", \"domain\": [0.0, 1.0]}, \"xaxis6\": {\"anchor\": \"y6\", \"domain\": [0.0, 1.0]}, \"xaxis7\": {\"anchor\": \"y7\", \"domain\": [0.0, 1.0]}, \"xaxis8\": {\"anchor\": \"y8\", \"domain\": [0.0, 1.0]}, \"xaxis9\": {\"anchor\": \"y9\", \"domain\": [0.0, 1.0]}, \"yaxis\": {\"anchor\": \"x\", \"domain\": [0.9338842975206612, 1.0]}, \"yaxis10\": {\"anchor\": \"x10\", \"domain\": [0.09338842975206611, 0.15950413223140497]}, \"yaxis11\": {\"anchor\": \"x11\", \"domain\": [0.0, 0.06611570247933884]}, \"yaxis2\": {\"anchor\": \"x2\", \"domain\": [0.8404958677685951, 0.9066115702479339]}, \"yaxis3\": {\"anchor\": \"x3\", \"domain\": [0.7471074380165289, 0.8132231404958677]}, \"yaxis4\": {\"anchor\": \"x4\", \"domain\": [0.6537190082644628, 0.7198347107438017]}, \"yaxis5\": {\"anchor\": \"x5\", \"domain\": [0.5603305785123966, 0.6264462809917355]}, \"yaxis6\": {\"anchor\": \"x6\", \"domain\": [0.4669421487603306, 0.5330578512396694]}, \"yaxis7\": {\"anchor\": \"x7\", \"domain\": [0.37355371900826445, 0.4396694214876033]}, \"yaxis8\": {\"anchor\": \"x8\", \"domain\": [0.2801652892561983, 0.34628099173553717]}, \"yaxis9\": {\"anchor\": \"x9\", \"domain\": [0.18677685950413223, 0.2528925619834711]}},\n",
       "                        {\"responsive\": true}\n",
       "                    ).then(function(){\n",
       "                            \n",
       "var gd = document.getElementById('f1b8c678-2cd0-43bc-bc5a-548a83f3a74c');\n",
       "var x = new MutationObserver(function (mutations, observer) {{\n",
       "        var display = window.getComputedStyle(gd).display;\n",
       "        if (!display || display === 'none') {{\n",
       "            console.log([gd, 'removed!']);\n",
       "            Plotly.purge(gd);\n",
       "            observer.disconnect();\n",
       "        }}\n",
       "}});\n",
       "\n",
       "// Listen for the removal of the full notebook cells\n",
       "var notebookContainer = gd.closest('#notebook-container');\n",
       "if (notebookContainer) {{\n",
       "    x.observe(notebookContainer, {childList: true});\n",
       "}}\n",
       "\n",
       "// Listen for the clearing of the current output cell\n",
       "var outputEl = gd.closest('.output');\n",
       "if (outputEl) {{\n",
       "    x.observe(outputEl, {childList: true});\n",
       "}}\n",
       "\n",
       "                        })\n",
       "                };\n",
       "                });\n",
       "            </script>\n",
       "        </div>"
      ]
     },
     "metadata": {},
     "output_type": "display_data"
    }
   ],
   "source": [
    "row=1\n",
    "fig=make_subplots(___________________________)\n",
    "\n",
    "# group by year and iterate over it\n",
    "# how about using an apply function here ?\n",
    "\n",
    "for year,group in _____________________:\n",
    "    \n",
    "    fig.append_trace(go.Histogram(x=__________,name=___________),row=row,col=1)\n",
    "    row+=1\n",
    "fig.update_layout(height=2000,width=1000)\n",
    "fig.show()"
   ]
  },
  {
   "cell_type": "markdown",
   "metadata": {},
   "source": [
    "#### Practise:  Now try finding the number of visits from each city in each year (Lets just do it for 5 cities)"
   ]
  },
  {
   "cell_type": "code",
   "execution_count": 155,
   "metadata": {},
   "outputs": [
    {
     "data": {
      "application/vnd.plotly.v1+json": {
       "config": {
        "plotlyServerURL": "https://plot.ly"
       },
       "data": [
        {
         "name": "Boston",
         "type": "bar",
         "x": [
          2012,
          2011,
          2017,
          2014,
          2018,
          2013,
          2019,
          2016,
          2015,
          2010,
          2020
         ],
         "xaxis": "x",
         "y": [
          180,
          157,
          153,
          136,
          126,
          125,
          119,
          114,
          104,
          63,
          47
         ],
         "yaxis": "y"
        },
        {
         "name": "Cambridge",
         "type": "bar",
         "x": [
          2012,
          2011,
          2017,
          2014,
          2018,
          2013,
          2019,
          2016,
          2015,
          2010,
          2020
         ],
         "xaxis": "x2",
         "y": [
          180,
          157,
          153,
          136,
          126,
          125,
          119,
          114,
          104,
          63,
          47
         ],
         "yaxis": "y2"
        },
        {
         "name": "Chelsea",
         "type": "bar",
         "x": [
          2012,
          2011,
          2017,
          2014,
          2018,
          2013,
          2019,
          2016,
          2015,
          2010,
          2020
         ],
         "xaxis": "x3",
         "y": [
          180,
          157,
          153,
          136,
          126,
          125,
          119,
          114,
          104,
          63,
          47
         ],
         "yaxis": "y3"
        },
        {
         "name": "Everett",
         "type": "bar",
         "x": [
          2012,
          2011,
          2017,
          2014,
          2018,
          2013,
          2019,
          2016,
          2015,
          2010,
          2020
         ],
         "xaxis": "x4",
         "y": [
          180,
          157,
          153,
          136,
          126,
          125,
          119,
          114,
          104,
          63,
          47
         ],
         "yaxis": "y4"
        }
       ],
       "layout": {
        "height": 1000,
        "template": {
         "data": {
          "bar": [
           {
            "error_x": {
             "color": "#2a3f5f"
            },
            "error_y": {
             "color": "#2a3f5f"
            },
            "marker": {
             "line": {
              "color": "#E5ECF6",
              "width": 0.5
             }
            },
            "type": "bar"
           }
          ],
          "barpolar": [
           {
            "marker": {
             "line": {
              "color": "#E5ECF6",
              "width": 0.5
             }
            },
            "type": "barpolar"
           }
          ],
          "carpet": [
           {
            "aaxis": {
             "endlinecolor": "#2a3f5f",
             "gridcolor": "white",
             "linecolor": "white",
             "minorgridcolor": "white",
             "startlinecolor": "#2a3f5f"
            },
            "baxis": {
             "endlinecolor": "#2a3f5f",
             "gridcolor": "white",
             "linecolor": "white",
             "minorgridcolor": "white",
             "startlinecolor": "#2a3f5f"
            },
            "type": "carpet"
           }
          ],
          "choropleth": [
           {
            "colorbar": {
             "outlinewidth": 0,
             "ticks": ""
            },
            "type": "choropleth"
           }
          ],
          "contour": [
           {
            "colorbar": {
             "outlinewidth": 0,
             "ticks": ""
            },
            "colorscale": [
             [
              0,
              "#0d0887"
             ],
             [
              0.1111111111111111,
              "#46039f"
             ],
             [
              0.2222222222222222,
              "#7201a8"
             ],
             [
              0.3333333333333333,
              "#9c179e"
             ],
             [
              0.4444444444444444,
              "#bd3786"
             ],
             [
              0.5555555555555556,
              "#d8576b"
             ],
             [
              0.6666666666666666,
              "#ed7953"
             ],
             [
              0.7777777777777778,
              "#fb9f3a"
             ],
             [
              0.8888888888888888,
              "#fdca26"
             ],
             [
              1,
              "#f0f921"
             ]
            ],
            "type": "contour"
           }
          ],
          "contourcarpet": [
           {
            "colorbar": {
             "outlinewidth": 0,
             "ticks": ""
            },
            "type": "contourcarpet"
           }
          ],
          "heatmap": [
           {
            "colorbar": {
             "outlinewidth": 0,
             "ticks": ""
            },
            "colorscale": [
             [
              0,
              "#0d0887"
             ],
             [
              0.1111111111111111,
              "#46039f"
             ],
             [
              0.2222222222222222,
              "#7201a8"
             ],
             [
              0.3333333333333333,
              "#9c179e"
             ],
             [
              0.4444444444444444,
              "#bd3786"
             ],
             [
              0.5555555555555556,
              "#d8576b"
             ],
             [
              0.6666666666666666,
              "#ed7953"
             ],
             [
              0.7777777777777778,
              "#fb9f3a"
             ],
             [
              0.8888888888888888,
              "#fdca26"
             ],
             [
              1,
              "#f0f921"
             ]
            ],
            "type": "heatmap"
           }
          ],
          "heatmapgl": [
           {
            "colorbar": {
             "outlinewidth": 0,
             "ticks": ""
            },
            "colorscale": [
             [
              0,
              "#0d0887"
             ],
             [
              0.1111111111111111,
              "#46039f"
             ],
             [
              0.2222222222222222,
              "#7201a8"
             ],
             [
              0.3333333333333333,
              "#9c179e"
             ],
             [
              0.4444444444444444,
              "#bd3786"
             ],
             [
              0.5555555555555556,
              "#d8576b"
             ],
             [
              0.6666666666666666,
              "#ed7953"
             ],
             [
              0.7777777777777778,
              "#fb9f3a"
             ],
             [
              0.8888888888888888,
              "#fdca26"
             ],
             [
              1,
              "#f0f921"
             ]
            ],
            "type": "heatmapgl"
           }
          ],
          "histogram": [
           {
            "marker": {
             "colorbar": {
              "outlinewidth": 0,
              "ticks": ""
             }
            },
            "type": "histogram"
           }
          ],
          "histogram2d": [
           {
            "colorbar": {
             "outlinewidth": 0,
             "ticks": ""
            },
            "colorscale": [
             [
              0,
              "#0d0887"
             ],
             [
              0.1111111111111111,
              "#46039f"
             ],
             [
              0.2222222222222222,
              "#7201a8"
             ],
             [
              0.3333333333333333,
              "#9c179e"
             ],
             [
              0.4444444444444444,
              "#bd3786"
             ],
             [
              0.5555555555555556,
              "#d8576b"
             ],
             [
              0.6666666666666666,
              "#ed7953"
             ],
             [
              0.7777777777777778,
              "#fb9f3a"
             ],
             [
              0.8888888888888888,
              "#fdca26"
             ],
             [
              1,
              "#f0f921"
             ]
            ],
            "type": "histogram2d"
           }
          ],
          "histogram2dcontour": [
           {
            "colorbar": {
             "outlinewidth": 0,
             "ticks": ""
            },
            "colorscale": [
             [
              0,
              "#0d0887"
             ],
             [
              0.1111111111111111,
              "#46039f"
             ],
             [
              0.2222222222222222,
              "#7201a8"
             ],
             [
              0.3333333333333333,
              "#9c179e"
             ],
             [
              0.4444444444444444,
              "#bd3786"
             ],
             [
              0.5555555555555556,
              "#d8576b"
             ],
             [
              0.6666666666666666,
              "#ed7953"
             ],
             [
              0.7777777777777778,
              "#fb9f3a"
             ],
             [
              0.8888888888888888,
              "#fdca26"
             ],
             [
              1,
              "#f0f921"
             ]
            ],
            "type": "histogram2dcontour"
           }
          ],
          "mesh3d": [
           {
            "colorbar": {
             "outlinewidth": 0,
             "ticks": ""
            },
            "type": "mesh3d"
           }
          ],
          "parcoords": [
           {
            "line": {
             "colorbar": {
              "outlinewidth": 0,
              "ticks": ""
             }
            },
            "type": "parcoords"
           }
          ],
          "pie": [
           {
            "automargin": true,
            "type": "pie"
           }
          ],
          "scatter": [
           {
            "marker": {
             "colorbar": {
              "outlinewidth": 0,
              "ticks": ""
             }
            },
            "type": "scatter"
           }
          ],
          "scatter3d": [
           {
            "line": {
             "colorbar": {
              "outlinewidth": 0,
              "ticks": ""
             }
            },
            "marker": {
             "colorbar": {
              "outlinewidth": 0,
              "ticks": ""
             }
            },
            "type": "scatter3d"
           }
          ],
          "scattercarpet": [
           {
            "marker": {
             "colorbar": {
              "outlinewidth": 0,
              "ticks": ""
             }
            },
            "type": "scattercarpet"
           }
          ],
          "scattergeo": [
           {
            "marker": {
             "colorbar": {
              "outlinewidth": 0,
              "ticks": ""
             }
            },
            "type": "scattergeo"
           }
          ],
          "scattergl": [
           {
            "marker": {
             "colorbar": {
              "outlinewidth": 0,
              "ticks": ""
             }
            },
            "type": "scattergl"
           }
          ],
          "scattermapbox": [
           {
            "marker": {
             "colorbar": {
              "outlinewidth": 0,
              "ticks": ""
             }
            },
            "type": "scattermapbox"
           }
          ],
          "scatterpolar": [
           {
            "marker": {
             "colorbar": {
              "outlinewidth": 0,
              "ticks": ""
             }
            },
            "type": "scatterpolar"
           }
          ],
          "scatterpolargl": [
           {
            "marker": {
             "colorbar": {
              "outlinewidth": 0,
              "ticks": ""
             }
            },
            "type": "scatterpolargl"
           }
          ],
          "scatterternary": [
           {
            "marker": {
             "colorbar": {
              "outlinewidth": 0,
              "ticks": ""
             }
            },
            "type": "scatterternary"
           }
          ],
          "surface": [
           {
            "colorbar": {
             "outlinewidth": 0,
             "ticks": ""
            },
            "colorscale": [
             [
              0,
              "#0d0887"
             ],
             [
              0.1111111111111111,
              "#46039f"
             ],
             [
              0.2222222222222222,
              "#7201a8"
             ],
             [
              0.3333333333333333,
              "#9c179e"
             ],
             [
              0.4444444444444444,
              "#bd3786"
             ],
             [
              0.5555555555555556,
              "#d8576b"
             ],
             [
              0.6666666666666666,
              "#ed7953"
             ],
             [
              0.7777777777777778,
              "#fb9f3a"
             ],
             [
              0.8888888888888888,
              "#fdca26"
             ],
             [
              1,
              "#f0f921"
             ]
            ],
            "type": "surface"
           }
          ],
          "table": [
           {
            "cells": {
             "fill": {
              "color": "#EBF0F8"
             },
             "line": {
              "color": "white"
             }
            },
            "header": {
             "fill": {
              "color": "#C8D4E3"
             },
             "line": {
              "color": "white"
             }
            },
            "type": "table"
           }
          ]
         },
         "layout": {
          "annotationdefaults": {
           "arrowcolor": "#2a3f5f",
           "arrowhead": 0,
           "arrowwidth": 1
          },
          "coloraxis": {
           "colorbar": {
            "outlinewidth": 0,
            "ticks": ""
           }
          },
          "colorscale": {
           "diverging": [
            [
             0,
             "#8e0152"
            ],
            [
             0.1,
             "#c51b7d"
            ],
            [
             0.2,
             "#de77ae"
            ],
            [
             0.3,
             "#f1b6da"
            ],
            [
             0.4,
             "#fde0ef"
            ],
            [
             0.5,
             "#f7f7f7"
            ],
            [
             0.6,
             "#e6f5d0"
            ],
            [
             0.7,
             "#b8e186"
            ],
            [
             0.8,
             "#7fbc41"
            ],
            [
             0.9,
             "#4d9221"
            ],
            [
             1,
             "#276419"
            ]
           ],
           "sequential": [
            [
             0,
             "#0d0887"
            ],
            [
             0.1111111111111111,
             "#46039f"
            ],
            [
             0.2222222222222222,
             "#7201a8"
            ],
            [
             0.3333333333333333,
             "#9c179e"
            ],
            [
             0.4444444444444444,
             "#bd3786"
            ],
            [
             0.5555555555555556,
             "#d8576b"
            ],
            [
             0.6666666666666666,
             "#ed7953"
            ],
            [
             0.7777777777777778,
             "#fb9f3a"
            ],
            [
             0.8888888888888888,
             "#fdca26"
            ],
            [
             1,
             "#f0f921"
            ]
           ],
           "sequentialminus": [
            [
             0,
             "#0d0887"
            ],
            [
             0.1111111111111111,
             "#46039f"
            ],
            [
             0.2222222222222222,
             "#7201a8"
            ],
            [
             0.3333333333333333,
             "#9c179e"
            ],
            [
             0.4444444444444444,
             "#bd3786"
            ],
            [
             0.5555555555555556,
             "#d8576b"
            ],
            [
             0.6666666666666666,
             "#ed7953"
            ],
            [
             0.7777777777777778,
             "#fb9f3a"
            ],
            [
             0.8888888888888888,
             "#fdca26"
            ],
            [
             1,
             "#f0f921"
            ]
           ]
          },
          "colorway": [
           "#636efa",
           "#EF553B",
           "#00cc96",
           "#ab63fa",
           "#FFA15A",
           "#19d3f3",
           "#FF6692",
           "#B6E880",
           "#FF97FF",
           "#FECB52"
          ],
          "font": {
           "color": "#2a3f5f"
          },
          "geo": {
           "bgcolor": "white",
           "lakecolor": "white",
           "landcolor": "#E5ECF6",
           "showlakes": true,
           "showland": true,
           "subunitcolor": "white"
          },
          "hoverlabel": {
           "align": "left"
          },
          "hovermode": "closest",
          "mapbox": {
           "style": "light"
          },
          "paper_bgcolor": "white",
          "plot_bgcolor": "#E5ECF6",
          "polar": {
           "angularaxis": {
            "gridcolor": "white",
            "linecolor": "white",
            "ticks": ""
           },
           "bgcolor": "#E5ECF6",
           "radialaxis": {
            "gridcolor": "white",
            "linecolor": "white",
            "ticks": ""
           }
          },
          "scene": {
           "xaxis": {
            "backgroundcolor": "#E5ECF6",
            "gridcolor": "white",
            "gridwidth": 2,
            "linecolor": "white",
            "showbackground": true,
            "ticks": "",
            "zerolinecolor": "white"
           },
           "yaxis": {
            "backgroundcolor": "#E5ECF6",
            "gridcolor": "white",
            "gridwidth": 2,
            "linecolor": "white",
            "showbackground": true,
            "ticks": "",
            "zerolinecolor": "white"
           },
           "zaxis": {
            "backgroundcolor": "#E5ECF6",
            "gridcolor": "white",
            "gridwidth": 2,
            "linecolor": "white",
            "showbackground": true,
            "ticks": "",
            "zerolinecolor": "white"
           }
          },
          "shapedefaults": {
           "line": {
            "color": "#2a3f5f"
           }
          },
          "ternary": {
           "aaxis": {
            "gridcolor": "white",
            "linecolor": "white",
            "ticks": ""
           },
           "baxis": {
            "gridcolor": "white",
            "linecolor": "white",
            "ticks": ""
           },
           "bgcolor": "#E5ECF6",
           "caxis": {
            "gridcolor": "white",
            "linecolor": "white",
            "ticks": ""
           }
          },
          "title": {
           "x": 0.05
          },
          "xaxis": {
           "automargin": true,
           "gridcolor": "white",
           "linecolor": "white",
           "ticks": "",
           "title": {
            "standoff": 15
           },
           "zerolinecolor": "white",
           "zerolinewidth": 2
          },
          "yaxis": {
           "automargin": true,
           "gridcolor": "white",
           "linecolor": "white",
           "ticks": "",
           "title": {
            "standoff": 15
           },
           "zerolinecolor": "white",
           "zerolinewidth": 2
          }
         }
        },
        "width": 800,
        "xaxis": {
         "anchor": "y",
         "domain": [
          0,
          1
         ]
        },
        "xaxis2": {
         "anchor": "y2",
         "domain": [
          0,
          1
         ]
        },
        "xaxis3": {
         "anchor": "y3",
         "domain": [
          0,
          1
         ]
        },
        "xaxis4": {
         "anchor": "y4",
         "domain": [
          0,
          1
         ]
        },
        "xaxis5": {
         "anchor": "y5",
         "domain": [
          0,
          1
         ]
        },
        "yaxis": {
         "anchor": "x",
         "domain": [
          0.848,
          1
         ]
        },
        "yaxis2": {
         "anchor": "x2",
         "domain": [
          0.6359999999999999,
          0.7879999999999999
         ]
        },
        "yaxis3": {
         "anchor": "x3",
         "domain": [
          0.424,
          0.576
         ]
        },
        "yaxis4": {
         "anchor": "x4",
         "domain": [
          0.212,
          0.364
         ]
        },
        "yaxis5": {
         "anchor": "x5",
         "domain": [
          0,
          0.152
         ]
        }
       }
      },
      "text/html": [
       "<div>\n",
       "        \n",
       "        \n",
       "            <div id=\"1c230ab7-c8f8-4f0b-80cc-7067f961d8a3\" class=\"plotly-graph-div\" style=\"height:1000px; width:800px;\"></div>\n",
       "            <script type=\"text/javascript\">\n",
       "                require([\"plotly\"], function(Plotly) {\n",
       "                    window.PLOTLYENV=window.PLOTLYENV || {};\n",
       "                    \n",
       "                if (document.getElementById(\"1c230ab7-c8f8-4f0b-80cc-7067f961d8a3\")) {\n",
       "                    Plotly.newPlot(\n",
       "                        '1c230ab7-c8f8-4f0b-80cc-7067f961d8a3',\n",
       "                        [{\"name\": \"Boston\", \"type\": \"bar\", \"x\": [2012, 2011, 2017, 2014, 2018, 2013, 2019, 2016, 2015, 2010, 2020], \"xaxis\": \"x\", \"y\": [180, 157, 153, 136, 126, 125, 119, 114, 104, 63, 47], \"yaxis\": \"y\"}, {\"name\": \"Cambridge\", \"type\": \"bar\", \"x\": [2012, 2011, 2017, 2014, 2018, 2013, 2019, 2016, 2015, 2010, 2020], \"xaxis\": \"x2\", \"y\": [180, 157, 153, 136, 126, 125, 119, 114, 104, 63, 47], \"yaxis\": \"y2\"}, {\"name\": \"Chelsea\", \"type\": \"bar\", \"x\": [2012, 2011, 2017, 2014, 2018, 2013, 2019, 2016, 2015, 2010, 2020], \"xaxis\": \"x3\", \"y\": [180, 157, 153, 136, 126, 125, 119, 114, 104, 63, 47], \"yaxis\": \"y3\"}, {\"name\": \"Everett\", \"type\": \"bar\", \"x\": [2012, 2011, 2017, 2014, 2018, 2013, 2019, 2016, 2015, 2010, 2020], \"xaxis\": \"x4\", \"y\": [180, 157, 153, 136, 126, 125, 119, 114, 104, 63, 47], \"yaxis\": \"y4\"}],\n",
       "                        {\"height\": 1000, \"template\": {\"data\": {\"bar\": [{\"error_x\": {\"color\": \"#2a3f5f\"}, \"error_y\": {\"color\": \"#2a3f5f\"}, \"marker\": {\"line\": {\"color\": \"#E5ECF6\", \"width\": 0.5}}, \"type\": \"bar\"}], \"barpolar\": [{\"marker\": {\"line\": {\"color\": \"#E5ECF6\", \"width\": 0.5}}, \"type\": \"barpolar\"}], \"carpet\": [{\"aaxis\": {\"endlinecolor\": \"#2a3f5f\", \"gridcolor\": \"white\", \"linecolor\": \"white\", \"minorgridcolor\": \"white\", \"startlinecolor\": \"#2a3f5f\"}, \"baxis\": {\"endlinecolor\": \"#2a3f5f\", \"gridcolor\": \"white\", \"linecolor\": \"white\", \"minorgridcolor\": \"white\", \"startlinecolor\": \"#2a3f5f\"}, \"type\": \"carpet\"}], \"choropleth\": [{\"colorbar\": {\"outlinewidth\": 0, \"ticks\": \"\"}, \"type\": \"choropleth\"}], \"contour\": [{\"colorbar\": {\"outlinewidth\": 0, \"ticks\": \"\"}, \"colorscale\": [[0.0, \"#0d0887\"], [0.1111111111111111, \"#46039f\"], [0.2222222222222222, \"#7201a8\"], [0.3333333333333333, \"#9c179e\"], [0.4444444444444444, \"#bd3786\"], [0.5555555555555556, \"#d8576b\"], [0.6666666666666666, \"#ed7953\"], [0.7777777777777778, \"#fb9f3a\"], [0.8888888888888888, \"#fdca26\"], [1.0, \"#f0f921\"]], \"type\": \"contour\"}], \"contourcarpet\": [{\"colorbar\": {\"outlinewidth\": 0, \"ticks\": \"\"}, \"type\": \"contourcarpet\"}], \"heatmap\": [{\"colorbar\": {\"outlinewidth\": 0, \"ticks\": \"\"}, \"colorscale\": [[0.0, \"#0d0887\"], [0.1111111111111111, \"#46039f\"], [0.2222222222222222, \"#7201a8\"], [0.3333333333333333, \"#9c179e\"], [0.4444444444444444, \"#bd3786\"], [0.5555555555555556, \"#d8576b\"], [0.6666666666666666, \"#ed7953\"], [0.7777777777777778, \"#fb9f3a\"], [0.8888888888888888, \"#fdca26\"], [1.0, \"#f0f921\"]], \"type\": \"heatmap\"}], \"heatmapgl\": [{\"colorbar\": {\"outlinewidth\": 0, \"ticks\": \"\"}, \"colorscale\": [[0.0, \"#0d0887\"], [0.1111111111111111, \"#46039f\"], [0.2222222222222222, \"#7201a8\"], [0.3333333333333333, \"#9c179e\"], [0.4444444444444444, \"#bd3786\"], [0.5555555555555556, \"#d8576b\"], [0.6666666666666666, \"#ed7953\"], [0.7777777777777778, \"#fb9f3a\"], [0.8888888888888888, \"#fdca26\"], [1.0, \"#f0f921\"]], \"type\": \"heatmapgl\"}], \"histogram\": [{\"marker\": {\"colorbar\": {\"outlinewidth\": 0, \"ticks\": \"\"}}, \"type\": \"histogram\"}], \"histogram2d\": [{\"colorbar\": {\"outlinewidth\": 0, \"ticks\": \"\"}, \"colorscale\": [[0.0, \"#0d0887\"], [0.1111111111111111, \"#46039f\"], [0.2222222222222222, \"#7201a8\"], [0.3333333333333333, \"#9c179e\"], [0.4444444444444444, \"#bd3786\"], [0.5555555555555556, \"#d8576b\"], [0.6666666666666666, \"#ed7953\"], [0.7777777777777778, \"#fb9f3a\"], [0.8888888888888888, \"#fdca26\"], [1.0, \"#f0f921\"]], \"type\": \"histogram2d\"}], \"histogram2dcontour\": [{\"colorbar\": {\"outlinewidth\": 0, \"ticks\": \"\"}, \"colorscale\": [[0.0, \"#0d0887\"], [0.1111111111111111, \"#46039f\"], [0.2222222222222222, \"#7201a8\"], [0.3333333333333333, \"#9c179e\"], [0.4444444444444444, \"#bd3786\"], [0.5555555555555556, \"#d8576b\"], [0.6666666666666666, \"#ed7953\"], [0.7777777777777778, \"#fb9f3a\"], [0.8888888888888888, \"#fdca26\"], [1.0, \"#f0f921\"]], \"type\": \"histogram2dcontour\"}], \"mesh3d\": [{\"colorbar\": {\"outlinewidth\": 0, \"ticks\": \"\"}, \"type\": \"mesh3d\"}], \"parcoords\": [{\"line\": {\"colorbar\": {\"outlinewidth\": 0, \"ticks\": \"\"}}, \"type\": \"parcoords\"}], \"pie\": [{\"automargin\": true, \"type\": \"pie\"}], \"scatter\": [{\"marker\": {\"colorbar\": {\"outlinewidth\": 0, \"ticks\": \"\"}}, \"type\": \"scatter\"}], \"scatter3d\": [{\"line\": {\"colorbar\": {\"outlinewidth\": 0, \"ticks\": \"\"}}, \"marker\": {\"colorbar\": {\"outlinewidth\": 0, \"ticks\": \"\"}}, \"type\": \"scatter3d\"}], \"scattercarpet\": [{\"marker\": {\"colorbar\": {\"outlinewidth\": 0, \"ticks\": \"\"}}, \"type\": \"scattercarpet\"}], \"scattergeo\": [{\"marker\": {\"colorbar\": {\"outlinewidth\": 0, \"ticks\": \"\"}}, \"type\": \"scattergeo\"}], \"scattergl\": [{\"marker\": {\"colorbar\": {\"outlinewidth\": 0, \"ticks\": \"\"}}, \"type\": \"scattergl\"}], \"scattermapbox\": [{\"marker\": {\"colorbar\": {\"outlinewidth\": 0, \"ticks\": \"\"}}, \"type\": \"scattermapbox\"}], \"scatterpolar\": [{\"marker\": {\"colorbar\": {\"outlinewidth\": 0, \"ticks\": \"\"}}, \"type\": \"scatterpolar\"}], \"scatterpolargl\": [{\"marker\": {\"colorbar\": {\"outlinewidth\": 0, \"ticks\": \"\"}}, \"type\": \"scatterpolargl\"}], \"scatterternary\": [{\"marker\": {\"colorbar\": {\"outlinewidth\": 0, \"ticks\": \"\"}}, \"type\": \"scatterternary\"}], \"surface\": [{\"colorbar\": {\"outlinewidth\": 0, \"ticks\": \"\"}, \"colorscale\": [[0.0, \"#0d0887\"], [0.1111111111111111, \"#46039f\"], [0.2222222222222222, \"#7201a8\"], [0.3333333333333333, \"#9c179e\"], [0.4444444444444444, \"#bd3786\"], [0.5555555555555556, \"#d8576b\"], [0.6666666666666666, \"#ed7953\"], [0.7777777777777778, \"#fb9f3a\"], [0.8888888888888888, \"#fdca26\"], [1.0, \"#f0f921\"]], \"type\": \"surface\"}], \"table\": [{\"cells\": {\"fill\": {\"color\": \"#EBF0F8\"}, \"line\": {\"color\": \"white\"}}, \"header\": {\"fill\": {\"color\": \"#C8D4E3\"}, \"line\": {\"color\": \"white\"}}, \"type\": \"table\"}]}, \"layout\": {\"annotationdefaults\": {\"arrowcolor\": \"#2a3f5f\", \"arrowhead\": 0, \"arrowwidth\": 1}, \"coloraxis\": {\"colorbar\": {\"outlinewidth\": 0, \"ticks\": \"\"}}, \"colorscale\": {\"diverging\": [[0, \"#8e0152\"], [0.1, \"#c51b7d\"], [0.2, \"#de77ae\"], [0.3, \"#f1b6da\"], [0.4, \"#fde0ef\"], [0.5, \"#f7f7f7\"], [0.6, \"#e6f5d0\"], [0.7, \"#b8e186\"], [0.8, \"#7fbc41\"], [0.9, \"#4d9221\"], [1, \"#276419\"]], \"sequential\": [[0.0, \"#0d0887\"], [0.1111111111111111, \"#46039f\"], [0.2222222222222222, \"#7201a8\"], [0.3333333333333333, \"#9c179e\"], [0.4444444444444444, \"#bd3786\"], [0.5555555555555556, \"#d8576b\"], [0.6666666666666666, \"#ed7953\"], [0.7777777777777778, \"#fb9f3a\"], [0.8888888888888888, \"#fdca26\"], [1.0, \"#f0f921\"]], \"sequentialminus\": [[0.0, \"#0d0887\"], [0.1111111111111111, \"#46039f\"], [0.2222222222222222, \"#7201a8\"], [0.3333333333333333, \"#9c179e\"], [0.4444444444444444, \"#bd3786\"], [0.5555555555555556, \"#d8576b\"], [0.6666666666666666, \"#ed7953\"], [0.7777777777777778, \"#fb9f3a\"], [0.8888888888888888, \"#fdca26\"], [1.0, \"#f0f921\"]]}, \"colorway\": [\"#636efa\", \"#EF553B\", \"#00cc96\", \"#ab63fa\", \"#FFA15A\", \"#19d3f3\", \"#FF6692\", \"#B6E880\", \"#FF97FF\", \"#FECB52\"], \"font\": {\"color\": \"#2a3f5f\"}, \"geo\": {\"bgcolor\": \"white\", \"lakecolor\": \"white\", \"landcolor\": \"#E5ECF6\", \"showlakes\": true, \"showland\": true, \"subunitcolor\": \"white\"}, \"hoverlabel\": {\"align\": \"left\"}, \"hovermode\": \"closest\", \"mapbox\": {\"style\": \"light\"}, \"paper_bgcolor\": \"white\", \"plot_bgcolor\": \"#E5ECF6\", \"polar\": {\"angularaxis\": {\"gridcolor\": \"white\", \"linecolor\": \"white\", \"ticks\": \"\"}, \"bgcolor\": \"#E5ECF6\", \"radialaxis\": {\"gridcolor\": \"white\", \"linecolor\": \"white\", \"ticks\": \"\"}}, \"scene\": {\"xaxis\": {\"backgroundcolor\": \"#E5ECF6\", \"gridcolor\": \"white\", \"gridwidth\": 2, \"linecolor\": \"white\", \"showbackground\": true, \"ticks\": \"\", \"zerolinecolor\": \"white\"}, \"yaxis\": {\"backgroundcolor\": \"#E5ECF6\", \"gridcolor\": \"white\", \"gridwidth\": 2, \"linecolor\": \"white\", \"showbackground\": true, \"ticks\": \"\", \"zerolinecolor\": \"white\"}, \"zaxis\": {\"backgroundcolor\": \"#E5ECF6\", \"gridcolor\": \"white\", \"gridwidth\": 2, \"linecolor\": \"white\", \"showbackground\": true, \"ticks\": \"\", \"zerolinecolor\": \"white\"}}, \"shapedefaults\": {\"line\": {\"color\": \"#2a3f5f\"}}, \"ternary\": {\"aaxis\": {\"gridcolor\": \"white\", \"linecolor\": \"white\", \"ticks\": \"\"}, \"baxis\": {\"gridcolor\": \"white\", \"linecolor\": \"white\", \"ticks\": \"\"}, \"bgcolor\": \"#E5ECF6\", \"caxis\": {\"gridcolor\": \"white\", \"linecolor\": \"white\", \"ticks\": \"\"}}, \"title\": {\"x\": 0.05}, \"xaxis\": {\"automargin\": true, \"gridcolor\": \"white\", \"linecolor\": \"white\", \"ticks\": \"\", \"title\": {\"standoff\": 15}, \"zerolinecolor\": \"white\", \"zerolinewidth\": 2}, \"yaxis\": {\"automargin\": true, \"gridcolor\": \"white\", \"linecolor\": \"white\", \"ticks\": \"\", \"title\": {\"standoff\": 15}, \"zerolinecolor\": \"white\", \"zerolinewidth\": 2}}}, \"width\": 800, \"xaxis\": {\"anchor\": \"y\", \"domain\": [0.0, 1.0]}, \"xaxis2\": {\"anchor\": \"y2\", \"domain\": [0.0, 1.0]}, \"xaxis3\": {\"anchor\": \"y3\", \"domain\": [0.0, 1.0]}, \"xaxis4\": {\"anchor\": \"y4\", \"domain\": [0.0, 1.0]}, \"xaxis5\": {\"anchor\": \"y5\", \"domain\": [0.0, 1.0]}, \"yaxis\": {\"anchor\": \"x\", \"domain\": [0.848, 1.0]}, \"yaxis2\": {\"anchor\": \"x2\", \"domain\": [0.6359999999999999, 0.7879999999999999]}, \"yaxis3\": {\"anchor\": \"x3\", \"domain\": [0.424, 0.576]}, \"yaxis4\": {\"anchor\": \"x4\", \"domain\": [0.212, 0.364]}, \"yaxis5\": {\"anchor\": \"x5\", \"domain\": [0.0, 0.152]}},\n",
       "                        {\"responsive\": true}\n",
       "                    ).then(function(){\n",
       "                            \n",
       "var gd = document.getElementById('1c230ab7-c8f8-4f0b-80cc-7067f961d8a3');\n",
       "var x = new MutationObserver(function (mutations, observer) {{\n",
       "        var display = window.getComputedStyle(gd).display;\n",
       "        if (!display || display === 'none') {{\n",
       "            console.log([gd, 'removed!']);\n",
       "            Plotly.purge(gd);\n",
       "            observer.disconnect();\n",
       "        }}\n",
       "}});\n",
       "\n",
       "// Listen for the removal of the full notebook cells\n",
       "var notebookContainer = gd.closest('#notebook-container');\n",
       "if (notebookContainer) {{\n",
       "    x.observe(notebookContainer, {childList: true});\n",
       "}}\n",
       "\n",
       "// Listen for the clearing of the current output cell\n",
       "var outputEl = gd.closest('.output');\n",
       "if (outputEl) {{\n",
       "    x.observe(outputEl, {childList: true});\n",
       "}}\n",
       "\n",
       "                        })\n",
       "                };\n",
       "                });\n",
       "            </script>\n",
       "        </div>"
      ]
     },
     "metadata": {},
     "output_type": "display_data"
    }
   ],
   "source": [
    "\n",
    "\n",
    "\n"
   ]
  },
  {
   "cell_type": "markdown",
   "metadata": {},
   "source": [
    "### Takeaways and assignments:\n",
    "Use the same logic to analyse and create visualisations from the point of view of some other stakeholder. Think about other possibilities. Get creat"
   ]
  },
  {
   "cell_type": "code",
   "execution_count": null,
   "metadata": {},
   "outputs": [],
   "source": []
  }
 ],
 "metadata": {
  "kernelspec": {
   "display_name": "Python 3",
   "language": "python",
   "name": "python3"
  },
  "language_info": {
   "codemirror_mode": {
    "name": "ipython",
    "version": 3
   },
   "file_extension": ".py",
   "mimetype": "text/x-python",
   "name": "python",
   "nbconvert_exporter": "python",
   "pygments_lexer": "ipython3",
   "version": "3.7.0"
  }
 },
 "nbformat": 4,
 "nbformat_minor": 4
}
